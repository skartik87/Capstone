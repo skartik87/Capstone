{
 "cells": [
  {
   "cell_type": "markdown",
   "metadata": {},
   "source": [
    "# Imports"
   ]
  },
  {
   "cell_type": "code",
   "execution_count": 57,
   "metadata": {},
   "outputs": [],
   "source": [
    "from selenium import webdriver\n",
    "from selenium.webdriver.common.action_chains import ActionChains\n",
    "from selenium.webdriver.common.keys import Keys\n",
    "from selenium.webdriver.chrome.options import Options\n",
    "from selenium.webdriver.support import expected_conditions as EC\n",
    "from selenium.webdriver.common.by import By\n",
    "from selenium.webdriver.support.ui import WebDriverWait as wait\n",
    "import time,csv,re,io,sys,datetime,os,requests\n",
    "from bs4 import BeautifulSoup\n",
    "import numpy as np\n",
    "from selenium.webdriver.common.action_chains import ActionChains\n",
    "from selenium.webdriver.support.ui import WebDriverWait\n",
    "from selenium.webdriver.support import expected_conditions as EC\n",
    "import glob\n",
    "import os\n",
    "import shutil\n",
    "from selenium.common.exceptions import NoSuchElementException\n",
    "email='sowmya.kartik@praxis.ac.in'\n",
    "pswd='cognizance_1234'\n",
    "#email='skartikds2020@gmail.com'    #'shiladitya.swarnakar@praxis.ac.in'\n",
    "#pswd='chai_buddy20'"
   ]
  },
  {
   "cell_type": "code",
   "execution_count": 58,
   "metadata": {},
   "outputs": [],
   "source": [
    "option = Options()\n",
    "\n",
    "option.add_argument(\"--disable-infobars\")\n",
    "option.add_argument(\"start-maximized\")\n",
    "option.add_argument(\"--disable-extensions\")\n",
    "\n",
    "# Pass the argument 1 to allow and 2 to block notifications\n",
    "option.add_experimental_option(\"prefs\", {\"profile.default_content_setting_values.notifications\": 2 })\n",
    "driver=webdriver.Chrome(executable_path=r\"C:\\Users\\user\\Anaconda3\\Library\\usr\\bin\\chromedriver\",options=option)\n",
    "time.sleep(3)\n",
    "driver.maximize_window()\n",
    "driver.get(\"https://www.linkedin.com/login?fromSignIn=true&trk=guest_homepage-basic_nav-header-signin\")\n",
    "driver.implicitly_wait(6)\n",
    "driver.find_element_by_xpath('//*[@id=\"username\"]').send_keys(email)\n",
    "driver.find_element_by_xpath('//*[@id=\"password\"]').send_keys(pswd)\n",
    "driver.find_element_by_xpath(\"//button[@class='btn__primary--large from__button--floating']\").click()\n",
    "time.sleep(3)"
   ]
  },
  {
   "cell_type": "code",
   "execution_count": 60,
   "metadata": {},
   "outputs": [],
   "source": [
    "Li=driver.find_elements_by_xpath('//ul[@class=\"nav-settings__dropdown-options container-with-shadow \"]/li')\n",
    "driver.get(Li[0].find_element_by_css_selector('a').get_attribute(\"href\"))\n",
    "time.sleep(2)\n",
    "ele = driver.find_element_by_xpath(\"//div[@class='flex-1 mr5']\")\n",
    "driver.execute_script(\"arguments[0].scrollIntoView();\", ele)\n",
    "text_contents = [el.text for el in driver.find_elements_by_xpath(\"//ul[@class='pv-top-card--list inline-flex align-items-center']/li\")]\n",
    "name=text_contents[0]\n",
    "more=driver.find_element_by_xpath('//button[@class=\" pv-s-profile-actions__overflow-toggle artdeco-button artdeco-button--muted artdeco-button--2 artdeco-button--secondary ember-view\"]')\n",
    "driver.execute_script(\"arguments[0].click();\", more)\n",
    "time.sleep(3)\n",
    "save_pdf=more.find_elements_by_xpath('//span[@class=\"display-flex t-normal pv-s-profile-actions__label\"]')\n",
    "driver.execute_script(\"arguments[0].click();\", save_pdf[1])\n",
    "driver.find_element_by_tag_name('body').send_keys(Keys.ESCAPE)\n",
    "driver.find_element_by_xpath(\"//button[@class='artdeco-toast-item__dismiss artdeco-button artdeco-button--circle artdeco-button--muted artdeco-button--1 artdeco-button--tertiary ember-view']\").click()\n",
    "time.sleep(2)\n",
    "currentFile = glob.glob(\"C:/Users/user/Downloads/\"+\"Profile\"+\".pdf\")\n",
    "fileDestination = \"D:/LINKEDIN_DATA/NETWORKING/\"+name+\"_profile\"+\".pdf\"\n",
    "shutil.move(currentFile[0], fileDestination)\n",
    "time.sleep(2)\n",
    "driver.find_element_by_xpath('//*[@id=\"mynetwork-nav-item\"]/a').click()\n",
    "time.sleep(3)\n",
    "driver.execute_script \\\n",
    "(\"document.getElementsByClassName('mn-community-summary__entity-info')[0].click();\")"
   ]
  },
  {
   "cell_type": "code",
   "execution_count": 141,
   "metadata": {},
   "outputs": [],
   "source": [
    "driver.back()"
   ]
  },
  {
   "cell_type": "code",
   "execution_count": 142,
   "metadata": {},
   "outputs": [
    {
     "data": {
      "text/plain": [
       "{'x': 110, 'y': 0}"
      ]
     },
     "execution_count": 142,
     "metadata": {},
     "output_type": "execute_result"
    }
   ],
   "source": [
    "the_last_in_list = driver.find_elements_by_xpath('//ul[@class=\"search-results__list list-style-none \"]/li')[-1]\n",
    "the_last_in_list.location_once_scrolled_into_view"
   ]
  },
  {
   "cell_type": "code",
   "execution_count": 143,
   "metadata": {},
   "outputs": [],
   "source": [
    "links=driver.find_elements_by_xpath('//ul[@class=\"search-results__list list-style-none \"]/li')"
   ]
  },
  {
   "cell_type": "code",
   "execution_count": 147,
   "metadata": {},
   "outputs": [
    {
     "data": {
      "text/plain": [
       "[<selenium.webdriver.remote.webelement.WebElement (session=\"0d23b0c9d9558788dd66bb6bfbcf5813\", element=\"013c2a71-d5cb-4e7f-983d-56c34d123e7a\")>,\n",
       " <selenium.webdriver.remote.webelement.WebElement (session=\"0d23b0c9d9558788dd66bb6bfbcf5813\", element=\"3ea95ccb-c6df-4ce2-b34f-9084cf730714\")>,\n",
       " <selenium.webdriver.remote.webelement.WebElement (session=\"0d23b0c9d9558788dd66bb6bfbcf5813\", element=\"c81eaea2-8b35-4c19-8f62-98d71af52d2d\")>,\n",
       " <selenium.webdriver.remote.webelement.WebElement (session=\"0d23b0c9d9558788dd66bb6bfbcf5813\", element=\"2d606e0c-a0e0-450d-a024-c0b994debee9\")>,\n",
       " <selenium.webdriver.remote.webelement.WebElement (session=\"0d23b0c9d9558788dd66bb6bfbcf5813\", element=\"8c09a8f8-a408-456d-8a86-224b213981b0\")>,\n",
       " <selenium.webdriver.remote.webelement.WebElement (session=\"0d23b0c9d9558788dd66bb6bfbcf5813\", element=\"3e3f5644-6171-4127-8d50-768ac70faba0\")>]"
      ]
     },
     "execution_count": 147,
     "metadata": {},
     "output_type": "execute_result"
    }
   ],
   "source": [
    "links"
   ]
  },
  {
   "cell_type": "code",
   "execution_count": 148,
   "metadata": {
    "scrolled": true
   },
   "outputs": [
    {
     "ename": "IndexError",
     "evalue": "list index out of range",
     "output_type": "error",
     "traceback": [
      "\u001b[1;31m---------------------------------------------------------------------------\u001b[0m",
      "\u001b[1;31mIndexError\u001b[0m                                Traceback (most recent call last)",
      "\u001b[1;32m<ipython-input-148-d4c399943c82>\u001b[0m in \u001b[0;36m<module>\u001b[1;34m\u001b[0m\n\u001b[1;32m----> 1\u001b[1;33m \u001b[0mlinks\u001b[0m\u001b[1;33m[\u001b[0m\u001b[1;36m6\u001b[0m\u001b[1;33m]\u001b[0m\u001b[1;33m.\u001b[0m\u001b[0mfind_element_by_css_selector\u001b[0m\u001b[1;33m(\u001b[0m\u001b[1;34m\"a\"\u001b[0m\u001b[1;33m)\u001b[0m\u001b[1;33m.\u001b[0m\u001b[0mget_attribute\u001b[0m\u001b[1;33m(\u001b[0m\u001b[1;34m\"href\"\u001b[0m\u001b[1;33m)\u001b[0m\u001b[1;33m\u001b[0m\u001b[1;33m\u001b[0m\u001b[0m\n\u001b[0m",
      "\u001b[1;31mIndexError\u001b[0m: list index out of range"
     ]
    }
   ],
   "source": [
    "links[6].find_element_by_css_selector(\"a\").get_attribute(\"href\")"
   ]
  },
  {
   "cell_type": "markdown",
   "metadata": {},
   "source": [
    "# Selecting connections and getting their information in the form of PDF"
   ]
  },
  {
   "cell_type": "code",
   "execution_count": 162,
   "metadata": {},
   "outputs": [],
   "source": [
    "def get_profile_pdfs_of_myFrndsnetwork(name,name1):\n",
    "    div1=driver.find_element_by_xpath(\"//a[@data-control-name='topcard_view_all_connections']\")\n",
    "    driver.get(div1.get_attribute('href'))\n",
    "    time.sleep(3)\n",
    "    the_last_in_list = driver.find_elements_by_xpath('//ul[@class=\"search-results__list list-style-none \"]/li')[-1]\n",
    "    the_last_in_list.location_once_scrolled_into_view\n",
    "    time.sleep(3)\n",
    "    m=len(driver.find_elements_by_xpath('//ul[@class=\"search-results__list list-style-none \"]/li'))\n",
    "    n=0\n",
    "    while n < m: \n",
    "        time.sleep(3)\n",
    "        links=driver.find_elements_by_xpath('//ul[@class=\"search-results__list list-style-none \"]/li')\n",
    "        element=links[n].find_element_by_css_selector(\"a\").get_attribute(\"href\")\n",
    "        driver.get(element)\n",
    "        time.sleep(3)\n",
    "        text_contents2 = [el.text for el in driver.find_elements_by_xpath(\"//ul[@class='pv-top-card--list inline-flex align-items-center']/li\")]\n",
    "        name2=text_contents2[0]\n",
    "        try:\n",
    "            more=driver.find_element_by_xpath('//button[@class=\"ml2 pv-s-profile-actions__overflow-toggle artdeco-button artdeco-button--muted artdeco-button--2 artdeco-button--secondary ember-view\"]')\n",
    "        except NoSuchElementException:\n",
    "            driver.back()\n",
    "            time.sleep(4)\n",
    "            n+=1\n",
    "            continue\n",
    "        driver.execute_script(\"arguments[0].click();\", more)\n",
    "        time.sleep(3)\n",
    "        save_pdf=more.find_elements_by_xpath('//span[@class=\"display-flex t-normal pv-s-profile-actions__label\"]')\n",
    "        driver.execute_script(\"arguments[0].click();\", save_pdf[1])\n",
    "        driver.find_element_by_tag_name('body').send_keys(Keys.ESCAPE)\n",
    "        driver.find_element_by_xpath(\"//button[@class='artdeco-toast-item__dismiss artdeco-button artdeco-button--circle artdeco-button--muted artdeco-button--1 artdeco-button--tertiary ember-view']\").click()\n",
    "        time.sleep(4)\n",
    "        currentFile = glob.glob(\"C:/Users/user/Downloads/\"+\"Profile\"+\".pdf\")\n",
    "        fileDestination = \"D:/LINKEDIN_DATA/NETWORKING/\"+name+\"_\"+name1+\"_\"+name2+\".pdf\"\n",
    "        shutil.move(currentFile[0], fileDestination)\n",
    "        time.sleep(3)\n",
    "        driver.back()\n",
    "        time.sleep(4)\n",
    "        the_last_in_list = driver.find_elements_by_xpath('//ul[@class=\"search-results__list list-style-none \"]/li')[-1]\n",
    "        the_last_in_list.location_once_scrolled_into_view\n",
    "        time.sleep(3)\n",
    "        n+=1 "
   ]
  },
  {
   "cell_type": "code",
   "execution_count": 166,
   "metadata": {
    "code_folding": []
   },
   "outputs": [],
   "source": [
    "def get_profile_pdfs_of_mynetwork(name):\n",
    "    try:\n",
    "        i=0\n",
    "        while(i<4):\n",
    "            time.sleep(3)\n",
    "            the_last_in_list = driver.find_elements_by_xpath('//div[@class=\"mn-connections__search-container t-14 t-black--light t-normal ember-view\"]')[-1]\n",
    "            the_last_in_list.location_once_scrolled_into_view\n",
    "            i+=1\n",
    "        time.sleep(4)\n",
    "        l=len(driver.find_elements_by_xpath('//div[@class=\"mn-connection-card__details\"]'))\n",
    "        j=0\n",
    "        while j < l: \n",
    "            time.sleep(3)\n",
    "            links=driver.find_elements_by_xpath('//div[@class=\"mn-connection-card__details\"]')\n",
    "            element=links[j].find_element_by_tag_name('a')\n",
    "            driver.execute_script(\"arguments[0].click();\", element)\n",
    "            time.sleep(3)\n",
    "            text_contents1 = [el.text for el in driver.find_elements_by_xpath(\"//ul[@class='pv-top-card--list inline-flex align-items-center']/li\")]\n",
    "            name1=text_contents1[0]\n",
    "            try:\n",
    "                more=driver.find_element_by_xpath('//button[@class=\"ml2 pv-s-profile-actions__overflow-toggle artdeco-button artdeco-button--muted artdeco-button--2 artdeco-button--secondary ember-view\"]')\n",
    "            except NoSuchElementException:\n",
    "                driver.find_element_by_xpath('//*[@id=\"mynetwork-nav-item\"]/a').click()\n",
    "                j+=1\n",
    "                continue\n",
    "            driver.execute_script(\"arguments[0].click();\", more)\n",
    "            time.sleep(3)\n",
    "            save_pdf=more.find_elements_by_xpath('//span[@class=\"display-flex t-normal pv-s-profile-actions__label\"]')\n",
    "            driver.execute_script(\"arguments[0].click();\", save_pdf[1])\n",
    "            driver.find_element_by_tag_name('body').send_keys(Keys.ESCAPE)\n",
    "            driver.find_element_by_xpath(\"//button[@class='artdeco-toast-item__dismiss artdeco-button artdeco-button--circle artdeco-button--muted artdeco-button--1 artdeco-button--tertiary ember-view']\").click()\n",
    "            time.sleep(4)\n",
    "            currentFile = glob.glob(\"C:/Users/user/Downloads/\"+\"Profile\"+\".pdf\")\n",
    "            fileDestination = \"D:/LINKEDIN_DATA/NETWORKING/\"+name+\"_\"+name1+\".pdf\"\n",
    "            shutil.move(currentFile[0], fileDestination)\n",
    "            time.sleep(3)\n",
    "            try:\n",
    "                get_profile_pdfs_of_myFrndsnetwork(name,name1)\n",
    "            except NoSuchElementException:\n",
    "                continue\n",
    "            time.sleep(3)\n",
    "            driver.find_element_by_xpath('//*[@id=\"mynetwork-nav-item\"]/a').click()\n",
    "            time.sleep(4)\n",
    "            driver.execute_script \\\n",
    "            (\"document.getElementsByClassName('mn-community-summary__entity-info')[0].click();\")\n",
    "            i=0\n",
    "            while(i<4):\n",
    "                time.sleep(3)\n",
    "                the_last_in_list = driver.find_elements_by_xpath('//div[@class=\"mn-connections__search-container t-14 t-black--light t-normal ember-view\"]')[-1]\n",
    "                the_last_in_list.location_once_scrolled_into_view\n",
    "                i+=1\n",
    "            j+=1\n",
    "            time.sleep(4)\n",
    "    except Exception as e:\n",
    "        print(str(e))\n",
    "        print('Error on line {}'.format(sys.exc_info()[-1].tb_lineno), type(e).__name__, e)"
   ]
  },
  {
   "cell_type": "code",
   "execution_count": 167,
   "metadata": {},
   "outputs": [
    {
     "name": "stdout",
     "output_type": "stream",
     "text": [
      "list index out of range\n",
      "Error on line 37 IndexError list index out of range\n"
     ]
    }
   ],
   "source": [
    "get_profile_pdfs_of_mynetwork(name)"
   ]
  }
 ],
 "metadata": {
  "kernelspec": {
   "display_name": "Python 3",
   "language": "python",
   "name": "python3"
  },
  "language_info": {
   "codemirror_mode": {
    "name": "ipython",
    "version": 3
   },
   "file_extension": ".py",
   "mimetype": "text/x-python",
   "name": "python",
   "nbconvert_exporter": "python",
   "pygments_lexer": "ipython3",
   "version": "3.7.3"
  },
  "toc": {
   "base_numbering": 1,
   "nav_menu": {},
   "number_sections": true,
   "sideBar": true,
   "skip_h1_title": false,
   "title_cell": "Table of Contents",
   "title_sidebar": "Contents",
   "toc_cell": false,
   "toc_position": {},
   "toc_section_display": true,
   "toc_window_display": false
  }
 },
 "nbformat": 4,
 "nbformat_minor": 4
}
