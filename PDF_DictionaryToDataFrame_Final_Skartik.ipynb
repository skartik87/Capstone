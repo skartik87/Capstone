{
 "cells": [
  {
   "cell_type": "code",
   "execution_count": 1,
   "metadata": {},
   "outputs": [
    {
     "name": "stdout",
     "output_type": "stream",
     "text": [
      "Collecting slate3k\n",
      "  Downloading slate3k-0.5.3-py2.py3-none-any.whl (7.9 kB)\n",
      "Collecting pdfminer3k\n",
      "  Downloading pdfminer3k-1.3.1.tar.gz (4.1 MB)\n",
      "Requirement already satisfied: pytest>=2.0 in c:\\users\\user\\anaconda3\\lib\\site-packages (from pdfminer3k->slate3k) (4.3.1)\n",
      "Requirement already satisfied: ply>=3.4 in c:\\users\\user\\anaconda3\\lib\\site-packages (from pdfminer3k->slate3k) (3.11)\n",
      "Requirement already satisfied: py>=1.5.0 in c:\\users\\user\\anaconda3\\lib\\site-packages (from pytest>=2.0->pdfminer3k->slate3k) (1.8.0)\n",
      "Requirement already satisfied: six>=1.10.0 in c:\\users\\user\\anaconda3\\lib\\site-packages (from pytest>=2.0->pdfminer3k->slate3k) (1.12.0)\n",
      "Requirement already satisfied: setuptools in c:\\users\\user\\anaconda3\\lib\\site-packages (from pytest>=2.0->pdfminer3k->slate3k) (46.0.0)\n",
      "Requirement already satisfied: attrs>=17.4.0 in c:\\users\\user\\anaconda3\\lib\\site-packages (from pytest>=2.0->pdfminer3k->slate3k) (19.1.0)\n",
      "Requirement already satisfied: atomicwrites>=1.0 in c:\\users\\user\\anaconda3\\lib\\site-packages (from pytest>=2.0->pdfminer3k->slate3k) (1.3.0)\n",
      "Requirement already satisfied: pluggy>=0.7 in c:\\users\\user\\anaconda3\\lib\\site-packages (from pytest>=2.0->pdfminer3k->slate3k) (0.9.0)\n",
      "Requirement already satisfied: more-itertools>=4.0.0 in c:\\users\\user\\anaconda3\\lib\\site-packages (from pytest>=2.0->pdfminer3k->slate3k) (6.0.0)\n",
      "Requirement already satisfied: colorama in c:\\users\\user\\anaconda3\\lib\\site-packages (from pytest>=2.0->pdfminer3k->slate3k) (0.4.1)\n",
      "Building wheels for collected packages: pdfminer3k\n",
      "  Building wheel for pdfminer3k (setup.py): started\n",
      "  Building wheel for pdfminer3k (setup.py): finished with status 'done'\n",
      "  Created wheel for pdfminer3k: filename=pdfminer3k-1.3.1-py3-none-any.whl size=105361 sha256=8d61dbb410377054b3ee64554a62654df0b19d44e1bf8f29eb9172855ae0d7b9\n",
      "  Stored in directory: c:\\users\\user\\appdata\\local\\pip\\cache\\wheels\\a0\\01\\8f\\91cc04fb57e65aac816dce1bf6d01d6769e103820967a31ba4\n",
      "Successfully built pdfminer3k\n",
      "Installing collected packages: pdfminer3k, slate3k\n",
      "Successfully installed pdfminer3k-1.3.1 slate3k-0.5.3\n"
     ]
    }
   ],
   "source": [
    "!pip install slate3k"
   ]
  },
  {
   "cell_type": "code",
   "execution_count": 255,
   "metadata": {},
   "outputs": [],
   "source": [
    "import re\n",
    "import pandas as pd\n",
    "import numpy as np"
   ]
  },
  {
   "cell_type": "code",
   "execution_count": 381,
   "metadata": {},
   "outputs": [],
   "source": [
    "import slate3k as slate\n",
    "import numpy as np\n",
    "import pandas as pd\n",
    "import glob\n",
    "import warnings\n",
    "import logging\n",
    "logging.getLogger().setLevel(logging.ERROR)\n",
    "#pd.set_option('display.max_colwidth', -1)"
   ]
  },
  {
   "cell_type": "code",
   "execution_count": 385,
   "metadata": {},
   "outputs": [],
   "source": [
    "DATA=pd.DataFrame(columns=['Contact','Top Skills','Languages', \\\n",
    "          'Certifications','Honors-Awards','Publications','Summary','Experience','Education','URL'])"
   ]
  },
  {
   "cell_type": "code",
   "execution_count": 383,
   "metadata": {},
   "outputs": [],
   "source": [
    "keywords=['Contact','Top Skills','Languages', \\\n",
    "          'Certifications','Honors-Awards','Publications','Summary','Experience','Education']"
   ]
  },
  {
   "cell_type": "code",
   "execution_count": null,
   "metadata": {},
   "outputs": [],
   "source": [
    "#D:/LINKEDIN_DATA/TEST/Koduvayur A. Ramyanetwork_1.pdf\n",
    "#D:/LINKEDIN_DATA/NETWORKING/"
   ]
  },
  {
   "cell_type": "code",
   "execution_count": 386,
   "metadata": {},
   "outputs": [],
   "source": [
    "pdf_dir = \"D:/LINKEDIN_DATA/NETWORKING/\"\n",
    "pdf_files = glob.glob(\"%s/*.pdf\" % pdf_dir)\n",
    "for file in pdf_files:\n",
    "    with open(file,'rb') as f:\n",
    "        extracted_text = slate.PDF(f)\n",
    "        lst=list(extracted_text)\n",
    "        listToStr = ' '.join(map(str, lst))     \n",
    "    LIST=re.split('\\n\\n',listToStr)\n",
    "    y,index=[],[]\n",
    "    for i in range(len(keywords)):\n",
    "        if keywords[i] in LIST:\n",
    "            a=LIST.index(keywords[i])\n",
    "            index.append(a)\n",
    "            y.append(LIST[a])\n",
    "        else:\n",
    "             continue\n",
    "    DICTIONARY={}\n",
    "    i=0\n",
    "    while i < len(index):\n",
    "        if i==len(index)-1:\n",
    "            DICTIONARY[LIST[index[i]]]=LIST[index[i]+1:]\n",
    "        else:  \n",
    "            DICTIONARY[LIST[index[i]]]=LIST[index[i]+1:index[i+1]]\n",
    "        i=i+1\n",
    "    try:\n",
    "        Temp=DICTIONARY['Contact']\n",
    "    except:\n",
    "        continue\n",
    "    j=0\n",
    "    while j < len(Temp):\n",
    "        if 'linkedin' in Temp[j]:\n",
    "            if '\\n' in Temp[j]:\n",
    "                L=Temp[j].split('(')\n",
    "                URL=L[0].replace('\\n','')\n",
    "            else:\n",
    "                URL=Temp[j]\n",
    "        j+=1\n",
    "    DICTIONARY['URL']=URL\n",
    "    DATA=DATA.append(DICTIONARY,ignore_index=True)"
   ]
  },
  {
   "cell_type": "code",
   "execution_count": 388,
   "metadata": {},
   "outputs": [
    {
     "data": {
      "text/plain": [
       "(390, 10)"
      ]
     },
     "execution_count": 388,
     "metadata": {},
     "output_type": "execute_result"
    }
   ],
   "source": [
    "DATA.shape"
   ]
  },
  {
   "cell_type": "code",
   "execution_count": 389,
   "metadata": {},
   "outputs": [],
   "source": [
    "DATA.to_excel('D:/LINKEDIN_DATA/Excel/SowmyaKartikData.xlsx')"
   ]
  },
  {
   "cell_type": "code",
   "execution_count": 390,
   "metadata": {},
   "outputs": [
    {
     "data": {
      "text/plain": [
       "['Accenture',\n",
       " '3 years 7 months',\n",
       " 'Associate Manager',\n",
       " 'September 2016\\xa0-\\xa0Present\\xa0(3 years 7 months)\\nBengaluru Area, India',\n",
       " 'Associate Manager',\n",
       " 'September 2016\\xa0-\\xa0Present\\xa0(3 years 7 months)\\nBengaluru Area, India',\n",
       " 'CGI',\n",
       " '9 years 1 month',\n",
       " 'Lead Analyst',\n",
       " 'September 2007\\xa0-\\xa0September 2016\\xa0(9 years 1 month)',\n",
       " 'Senior Software Engineer',\n",
       " 'September 2007\\xa0-\\xa0October 2013\\xa0(6 years 2 months)']"
      ]
     },
     "execution_count": 390,
     "metadata": {},
     "output_type": "execute_result"
    }
   ],
   "source": [
    "DICTIONARY['Experience']"
   ]
  },
  {
   "cell_type": "code",
   "execution_count": 392,
   "metadata": {},
   "outputs": [
    {
     "data": {
      "text/plain": [
       "['Indian Institute of Management, Calcutta',\n",
       " 'EPGBM,\\xa0Business, Management, Marketing, and Related Support',\n",
       " 'Services\\xa0·\\xa0(2018\\xa0-\\xa02019)',\n",
       " 'Sikkim Manipal University',\n",
       " 'Master of Business Administration (MBA),\\xa0PM\\xa0·\\xa0(2009\\xa0-\\xa02011)',\n",
       " 'Visvesvaraya Technological University',\n",
       " 'Bachelor of Engineering (BE),\\xa0Computer Science\\xa0·\\xa0(2003\\xa0-\\xa02007)',\n",
       " 'Page 1 of 1',\n",
       " '\\xa0\\n\\xa0\\n\\xa0\\n\\x0c']"
      ]
     },
     "execution_count": 392,
     "metadata": {},
     "output_type": "execute_result"
    }
   ],
   "source": [
    "DICTIONARY['Education']"
   ]
  },
  {
   "cell_type": "code",
   "execution_count": 391,
   "metadata": {},
   "outputs": [
    {
     "data": {
      "text/plain": [
       "'www.linkedin.com/in/shilpa-b-s-a76a825'"
      ]
     },
     "execution_count": 391,
     "metadata": {},
     "output_type": "execute_result"
    }
   ],
   "source": [
    "DICTIONARY['URL']"
   ]
  }
 ],
 "metadata": {
  "kernelspec": {
   "display_name": "Python 3",
   "language": "python",
   "name": "python3"
  },
  "language_info": {
   "codemirror_mode": {
    "name": "ipython",
    "version": 3
   },
   "file_extension": ".py",
   "mimetype": "text/x-python",
   "name": "python",
   "nbconvert_exporter": "python",
   "pygments_lexer": "ipython3",
   "version": "3.7.3"
  }
 },
 "nbformat": 4,
 "nbformat_minor": 2
}
