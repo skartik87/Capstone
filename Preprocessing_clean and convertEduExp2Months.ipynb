{
 "cells": [
  {
   "cell_type": "code",
   "execution_count": 846,
   "metadata": {},
   "outputs": [
    {
     "name": "stderr",
     "output_type": "stream",
     "text": [
      "[nltk_data] Downloading package punkt to\n",
      "[nltk_data]     C:\\Users\\user\\AppData\\Roaming\\nltk_data...\n",
      "[nltk_data]   Package punkt is already up-to-date!\n"
     ]
    },
    {
     "data": {
      "text/plain": [
       "True"
      ]
     },
     "execution_count": 846,
     "metadata": {},
     "output_type": "execute_result"
    }
   ],
   "source": [
    "import pandas as pd\n",
    "import re\n",
    "from functools import reduce\n",
    "import sys\n",
    "import csv\n",
    "import glob\n",
    "import os\n",
    "from gensim.summarization.summarizer import summarize\n",
    "import nltk\n",
    "nltk.download('punkt')"
   ]
  },
  {
   "cell_type": "code",
   "execution_count": 157,
   "metadata": {},
   "outputs": [
    {
     "data": {
      "text/plain": [
       "['karu_profiles.xlsx',\n",
       " 'seethu_profiles.xlsx',\n",
       " 'seethu_profiles_1.xlsx',\n",
       " 'sowmi_profiles.xlsx']"
      ]
     },
     "execution_count": 157,
     "metadata": {},
     "output_type": "execute_result"
    }
   ],
   "source": [
    "path=r\"D:\\LINKEDIN_DATA\\data\\excel\"\n",
    "files = os.listdir(path)\n",
    "files"
   ]
  },
  {
   "cell_type": "code",
   "execution_count": 158,
   "metadata": {},
   "outputs": [
    {
     "data": {
      "text/plain": [
       "['karu_profiles.xlsx',\n",
       " 'seethu_profiles.xlsx',\n",
       " 'seethu_profiles_1.xlsx',\n",
       " 'sowmi_profiles.xlsx']"
      ]
     },
     "execution_count": 158,
     "metadata": {},
     "output_type": "execute_result"
    }
   ],
   "source": [
    "files_xlsx = [f for f in files if f[-4:] == 'xlsx']\n",
    "files_xlsx"
   ]
  },
  {
   "cell_type": "code",
   "execution_count": 159,
   "metadata": {},
   "outputs": [],
   "source": [
    "df_rec = pd.DataFrame()"
   ]
  },
  {
   "cell_type": "code",
   "execution_count": 160,
   "metadata": {},
   "outputs": [
    {
     "data": {
      "text/plain": [
       "(1095, 9)"
      ]
     },
     "execution_count": 160,
     "metadata": {},
     "output_type": "execute_result"
    }
   ],
   "source": [
    "for f in files_xlsx:\n",
    "    data = pd.read_excel(path+'/'+f)\n",
    "    df_rec = df_rec.append(data,ignore_index=True)\n",
    "df_rec.shape"
   ]
  },
  {
   "cell_type": "code",
   "execution_count": 161,
   "metadata": {},
   "outputs": [
    {
     "data": {
      "text/plain": [
       "(1095, 9)"
      ]
     },
     "execution_count": 161,
     "metadata": {},
     "output_type": "execute_result"
    }
   ],
   "source": [
    "df_1=pd.concat(g for _, g in df_rec.groupby(\"URL\") if len(g) ==1)\n",
    "df_1.shape"
   ]
  },
  {
   "cell_type": "code",
   "execution_count": 162,
   "metadata": {},
   "outputs": [
    {
     "data": {
      "text/plain": [
       "(1041, 9)"
      ]
     },
     "execution_count": 162,
     "metadata": {},
     "output_type": "execute_result"
    }
   ],
   "source": [
    "df_1=pd.concat(g for _, g in df_rec.groupby(\"Experience_1\") if len(g) ==1)\n",
    "df_1.shape"
   ]
  },
  {
   "cell_type": "code",
   "execution_count": 163,
   "metadata": {},
   "outputs": [
    {
     "data": {
      "text/plain": [
       "Unnamed: 0      0\n",
       "Name            0\n",
       "Summary         0\n",
       "Experience_1    0\n",
       "Experience_2    0\n",
       "Education_1     0\n",
       "Education_2     0\n",
       "Skills          0\n",
       "URL             0\n",
       "dtype: int64"
      ]
     },
     "execution_count": 163,
     "metadata": {},
     "output_type": "execute_result"
    }
   ],
   "source": [
    "df_1.isna().sum()"
   ]
  },
  {
   "cell_type": "code",
   "execution_count": 164,
   "metadata": {},
   "outputs": [],
   "source": [
    "df_1['Domain']=''"
   ]
  },
  {
   "cell_type": "code",
   "execution_count": 165,
   "metadata": {},
   "outputs": [],
   "source": [
    "df_2=pd.read_excel('D:\\LINKEDIN_DATA\\APRIL_13_2020_EXCELDATA\\correctdata.xlsx')"
   ]
  },
  {
   "cell_type": "code",
   "execution_count": 166,
   "metadata": {},
   "outputs": [],
   "source": [
    "df=df_2.append(df_1)"
   ]
  },
  {
   "cell_type": "code",
   "execution_count": 167,
   "metadata": {},
   "outputs": [
    {
     "data": {
      "text/plain": [
       "Int64Index([   0,    1,    2,    3,    4,    5,    6,    7,    8,    9,\n",
       "            ...\n",
       "             986,  624,  280,  402,  104,  580,  809, 1004,  954, 1002],\n",
       "           dtype='int64', length=5869)"
      ]
     },
     "execution_count": 167,
     "metadata": {},
     "output_type": "execute_result"
    }
   ],
   "source": [
    "df.index"
   ]
  },
  {
   "cell_type": "code",
   "execution_count": 168,
   "metadata": {},
   "outputs": [
    {
     "data": {
      "text/plain": [
       "(5869, 11)"
      ]
     },
     "execution_count": 168,
     "metadata": {},
     "output_type": "execute_result"
    }
   ],
   "source": [
    "df.shape"
   ]
  },
  {
   "cell_type": "code",
   "execution_count": 169,
   "metadata": {},
   "outputs": [],
   "source": [
    "df.drop(['Unnamed: 0'],inplace=True,axis=1)"
   ]
  },
  {
   "cell_type": "code",
   "execution_count": 170,
   "metadata": {},
   "outputs": [],
   "source": [
    "df.drop(['Unnamed: 0.1'],inplace=True,axis=1)"
   ]
  },
  {
   "cell_type": "code",
   "execution_count": 171,
   "metadata": {},
   "outputs": [
    {
     "data": {
      "text/plain": [
       "Domain          2644\n",
       "Education_1     6   \n",
       "Education_2     33  \n",
       "Experience_1    0   \n",
       "Experience_2    0   \n",
       "Name            0   \n",
       "Skills          0   \n",
       "Summary         0   \n",
       "URL             0   \n",
       "dtype: int64"
      ]
     },
     "execution_count": 171,
     "metadata": {},
     "output_type": "execute_result"
    }
   ],
   "source": [
    "df.isna().sum()"
   ]
  },
  {
   "cell_type": "code",
   "execution_count": 172,
   "metadata": {},
   "outputs": [],
   "source": [
    "def expconv2months(x):\n",
    "    try:\n",
    "        a=x.split('\\n')\n",
    "        if 'Total Duration' in a:\n",
    "            t1=a.index('Total Duration')\n",
    "        else:\n",
    "            t1=a.index('Employment Duration')\n",
    "        dur1=a[t1+1]\n",
    "        z1=dur1.split(' ')\n",
    "        n1,n2=0,0\n",
    "        n1=[int(z1[z1.index(s)-1])*12 for s in z1 if any(xs in s for xs in ['yrs','yr'])]\n",
    "        n2=[int(z1[z1.index(s)-1]) for s in z1 if any(xs in s for xs in ['mos','mo'])]\n",
    "        return sum(n1+n2)\n",
    "    except:\n",
    "        return 0"
   ]
  },
  {
   "cell_type": "code",
   "execution_count": 173,
   "metadata": {},
   "outputs": [],
   "source": [
    "def designation(x):\n",
    "    try:\n",
    "        a=x.split('\\n')  \n",
    "    except:\n",
    "        res='Not Specified'\n",
    "        return res\n",
    "    else:\n",
    "        if a:\n",
    "            if 'Title' in a:\n",
    "                t=a.index('Title')\n",
    "                res=a[t+1]\n",
    "            else:\n",
    "                res=a[0]\n",
    "        return res"
   ]
  },
  {
   "cell_type": "code",
   "execution_count": 174,
   "metadata": {},
   "outputs": [],
   "source": [
    "def educonv2months(x):\n",
    "    try:\n",
    "        N=re.findall(r'\\d{4} – \\d{4}',x)\n",
    "        M=N[0].split('–')\n",
    "        a=int(M[0])\n",
    "        b=int(M[1])  \n",
    "        res=b-a\n",
    "        return res\n",
    "    except:\n",
    "        return 0"
   ]
  },
  {
   "cell_type": "code",
   "execution_count": 175,
   "metadata": {},
   "outputs": [],
   "source": [
    "def Total(x,y):\n",
    "    sum=x+y\n",
    "    return sum"
   ]
  },
  {
   "cell_type": "code",
   "execution_count": 176,
   "metadata": {},
   "outputs": [],
   "source": [
    "def current_organization(x):\n",
    "    try:\n",
    "        a=x.split('\\n')  \n",
    "    except:\n",
    "        res='Not Specified'\n",
    "        return res\n",
    "    else:\n",
    "        if a:\n",
    "            if 'Company Name' in a:\n",
    "                t=a.index('Company Name')\n",
    "                res=a[t+1]\n",
    "            else:\n",
    "                res='Not Specified'\n",
    "                return res\n",
    "        return res"
   ]
  },
  {
   "cell_type": "code",
   "execution_count": 177,
   "metadata": {},
   "outputs": [],
   "source": [
    "df['Designation_1']=df.apply(lambda row:designation(row['Experience_1']) if row['Experience_1']!='Company Name' else\\\n",
    "                             lambda row:designation(row['Experience_2']),axis=1)\n",
    "df['Designation_2']=df.apply(lambda row:designation(row['Experience_2']),axis=1)\n",
    "df['Current_Organization']=df.apply(lambda row:current_organization(row['Experience_1']) if row['Experience_1']!='Company Name' else\\\n",
    "                                    lambda row:current_organization(row['Experience_2']),axis=1)\n",
    "df['ExpDurationInMonths_1']=df.apply(lambda row:expconv2months(row['Experience_1']),axis=1)\n",
    "df['ExpDurationInMonths_2']=df.apply(lambda row:expconv2months(row['Experience_2']),axis=1)\n",
    "df['EduDurationInMonths_1']=df.apply(lambda row:educonv2months(row['Education_1']),axis=1)\n",
    "df['EduDurationInMonths_2']=df.apply(lambda row:educonv2months(row['Education_2']),axis=1)"
   ]
  },
  {
   "cell_type": "code",
   "execution_count": 178,
   "metadata": {},
   "outputs": [],
   "source": [
    "final_df=pd.DataFrame(columns=['Name','Summary','Skills','Experience_1','Current_Organization','Designation_1','ExpDurationInMonths_1','Experience_2',\\\n",
    "                            'Designation_2','ExpDurationInMonths_2','Education_1','EduDurationInMonths_1', 'Education_2',\\\n",
    "                            'EduDurationInMonths_2','Total_Exp','Total_Edu', 'URL','Domain'])\n",
    "DATA=final_df.append(df)\n",
    "DATA=DATA.reindex(final_df.columns, axis=1)"
   ]
  },
  {
   "cell_type": "code",
   "execution_count": 179,
   "metadata": {},
   "outputs": [],
   "source": [
    "DATA['ExpDurationInMonths_1']=DATA['ExpDurationInMonths_1'].astype(\"Float32\").astype(\"Int32\")\n",
    "DATA['ExpDurationInMonths_2']=DATA['ExpDurationInMonths_2'].astype(\"Float32\").astype(\"Int32\")\n",
    "DATA['EduDurationInMonths_1']=DATA['EduDurationInMonths_1'].astype(\"Float32\").astype(\"Int32\")\n",
    "DATA['EduDurationInMonths_2']=DATA['EduDurationInMonths_2'].astype(\"Float32\").astype(\"Int32\")\n",
    "DATA['Total_Exp']=DATA.apply(lambda row:Total(row['ExpDurationInMonths_1'],row['ExpDurationInMonths_2']),axis=1)\n",
    "DATA['Total_Edu']=DATA.apply(lambda row:Total(row['EduDurationInMonths_1'],row['EduDurationInMonths_2']),axis=1)\n",
    "DATA['Total_Exp']=DATA['Total_Exp'].astype(\"Float32\").astype(\"Int32\")\n",
    "DATA['Total_Edu']=DATA['Total_Edu'].astype(\"Float32\").astype(\"Int32\")"
   ]
  },
  {
   "cell_type": "code",
   "execution_count": 180,
   "metadata": {},
   "outputs": [],
   "source": [
    "#DATA[DATA['Name']=='Aniruddha Khekale']"
   ]
  },
  {
   "cell_type": "code",
   "execution_count": 181,
   "metadata": {},
   "outputs": [],
   "source": [
    "#pd.set_option(\"display.max_rows\", None, \"display.max_columns\", None)"
   ]
  },
  {
   "cell_type": "code",
   "execution_count": null,
   "metadata": {},
   "outputs": [],
   "source": [
    "DATA['New Summary']=''"
   ]
  },
  {
   "cell_type": "code",
   "execution_count": null,
   "metadata": {},
   "outputs": [],
   "source": [
    "#Function to clean text from Summary section\n",
    "def clean_text(text):\n",
    "    for ch in ['\\n','!','•','*','\\uf072','\\uf03d','\\uf0d8','\\uf076','\\uf095\\uf020','\\uf076','\\uf0d8','➢','●','{','}','\\uf0d8','_______________________________________ ','\\uf0dc','•','♦','✪','\\uf0a4','●','►','\\uf02a','•','⇛','\\uf0a7','●','~The Entrepreneur👨\\u200d💼','\\uf0b2','✪','__________________________________________________________________','■','►']:\n",
    "        if ch in text:\n",
    "            text = text.replace(ch,\" \")\n",
    "    return text"
   ]
  },
  {
   "cell_type": "code",
   "execution_count": null,
   "metadata": {},
   "outputs": [],
   "source": [
    "DATA['New Summary']=DATA.apply(lambda row:clean_text(row['Summary']),axis=1)"
   ]
  },
  {
   "cell_type": "code",
   "execution_count": null,
   "metadata": {},
   "outputs": [],
   "source": [
    "#Function to remove unicode characters from Summary section\n",
    "def remove_unicode(text):\n",
    "    New_text=re.sub(r'[^\\x00-\\x7f]',r' ',text)\n",
    "    return New_text"
   ]
  },
  {
   "cell_type": "code",
   "execution_count": null,
   "metadata": {},
   "outputs": [],
   "source": [
    "DATA['Latest_Summary']=''"
   ]
  },
  {
   "cell_type": "code",
   "execution_count": null,
   "metadata": {},
   "outputs": [],
   "source": [
    "DATA['Latest_Summary']=DATA.apply(lambda row:remove_unicode(row['New Summary']),axis=1)"
   ]
  },
  {
   "cell_type": "code",
   "execution_count": 677,
   "metadata": {},
   "outputs": [],
   "source": [
    "#Remove some more characters\n",
    "def remove_chars(text):\n",
    "    for ch in ['-->','#','-','------------------------------------------------------','~','- >','____','//','>','=================================','________________________']:\n",
    "        if ch in text:\n",
    "            text = text.replace(ch,\" \")\n",
    "    return text"
   ]
  },
  {
   "cell_type": "code",
   "execution_count": 676,
   "metadata": {},
   "outputs": [],
   "source": [
    "DATA['Summary_Final']=''"
   ]
  },
  {
   "cell_type": "code",
   "execution_count": 678,
   "metadata": {},
   "outputs": [],
   "source": [
    "DATA['Summary_Final']=DATA.apply(lambda row:remove_chars(row['Latest_Summary']),axis=1)"
   ]
  },
  {
   "cell_type": "code",
   "execution_count": 682,
   "metadata": {},
   "outputs": [],
   "source": [
    "#Replace 'see more with 'click on more to see more'\n",
    "def replace_text(text):\n",
    "    New_text=text.replace('. see more',\"Click on more to see more\")\n",
    "    return New_text"
   ]
  },
  {
   "cell_type": "code",
   "execution_count": 683,
   "metadata": {},
   "outputs": [],
   "source": [
    "DATA['Summary_Final']=DATA.apply(lambda row:replace_text(row['Summary_Final']),axis=1)"
   ]
  },
  {
   "cell_type": "code",
   "execution_count": 716,
   "metadata": {},
   "outputs": [],
   "source": [
    "#Remove Multiple white spaces\n",
    "DATA['Summary_Final']=(DATA['Summary_Final'].str.split()).str.join(' ')"
   ]
  },
  {
   "cell_type": "code",
   "execution_count": 690,
   "metadata": {},
   "outputs": [],
   "source": [
    "#Capitalize the first letter of Summary section in all rows\n",
    "DATA['Summary_Final']= DATA['Summary_Final'].str.capitalize()"
   ]
  },
  {
   "cell_type": "code",
   "execution_count": null,
   "metadata": {},
   "outputs": [],
   "source": [
    "#Ensure text in Summary ends with a fullstop\n",
    "#DATA['Summary'].iloc[7][:-1]+'.'"
   ]
  },
  {
   "cell_type": "code",
   "execution_count": 705,
   "metadata": {},
   "outputs": [],
   "source": [
    "#Replace 'i.e' with space\n",
    "def replace_ie(text):\n",
    "    New_text=text.replace('i.e.',\" \")\n",
    "    return New_text"
   ]
  },
  {
   "cell_type": "code",
   "execution_count": 706,
   "metadata": {},
   "outputs": [],
   "source": [
    "DATA['Summary_Final']=DATA.apply(lambda row:replace_ie(row['Summary_Final']),axis=1)"
   ]
  },
  {
   "cell_type": "code",
   "execution_count": 722,
   "metadata": {},
   "outputs": [],
   "source": [
    "#Capitalize first letter of every senetnce\n",
    "def cap(text):\n",
    "    New_text='.'.join(map(lambda s: s.strip().capitalize(), text.split('.')))\n",
    "    return New_text"
   ]
  },
  {
   "cell_type": "code",
   "execution_count": 723,
   "metadata": {},
   "outputs": [],
   "source": [
    "DATA['Summary_Final']=DATA.apply(lambda row:cap(row['Summary_Final']),axis=1)"
   ]
  },
  {
   "cell_type": "code",
   "execution_count": 712,
   "metadata": {},
   "outputs": [],
   "source": [
    "#Replace Multiple full stops with single full stop\n",
    "def mulstops(text):\n",
    "    text_replaced = re.sub(r'\\.+', \".\", text)\n",
    "    return text_replaced"
   ]
  },
  {
   "cell_type": "code",
   "execution_count": 713,
   "metadata": {},
   "outputs": [],
   "source": [
    "DATA['Summary_Final']=DATA.apply(lambda row:mulstops(row['Summary_Final']),axis=1)"
   ]
  },
  {
   "cell_type": "code",
   "execution_count": 772,
   "metadata": {},
   "outputs": [],
   "source": [
    "#DATA.drop(['New Summary','Latest_Summary'],axis=1,inplace=True)"
   ]
  },
  {
   "cell_type": "code",
   "execution_count": 773,
   "metadata": {},
   "outputs": [
    {
     "data": {
      "text/plain": [
       "Index(['Name', 'Summary', 'Skills', 'Experience_1', 'Current_Organization',\n",
       "       'Designation_1', 'ExpDurationInMonths_1', 'Experience_2',\n",
       "       'Designation_2', 'ExpDurationInMonths_2', 'Education_1',\n",
       "       'EduDurationInMonths_1', 'Education_2', 'EduDurationInMonths_2',\n",
       "       'Total_Exp', 'Total_Edu', 'URL', 'Domain', 'Summary_Final'],\n",
       "      dtype='object')"
      ]
     },
     "execution_count": 773,
     "metadata": {},
     "output_type": "execute_result"
    }
   ],
   "source": [
    "DATA.columns"
   ]
  },
  {
   "cell_type": "code",
   "execution_count": 779,
   "metadata": {},
   "outputs": [],
   "source": [
    "DATA['Summarized_Text']=''"
   ]
  },
  {
   "cell_type": "code",
   "execution_count": 861,
   "metadata": {},
   "outputs": [],
   "source": [
    "#Function for text summarization up to 150 words if number of sentences in Summary is > 10\n",
    "def summ(text):\n",
    "    from nltk.tokenize import sent_tokenize\n",
    "    from gensim.summarization import summarize\n",
    "    sen=text\n",
    "    #res = len(re.findall(r'\\w+',sen)) \n",
    "    number_of_sentences = len(sent_tokenize(sen))\n",
    "    if number_of_sentences > 10:\n",
    "        new_text=summarize(sen,word_count=150)\n",
    "        return new_text\n",
    "    else:\n",
    "        return sen"
   ]
  },
  {
   "cell_type": "code",
   "execution_count": 862,
   "metadata": {},
   "outputs": [
    {
     "name": "stderr",
     "output_type": "stream",
     "text": [
      "WARNING:gensim.summarization.summarizer:Input text is expected to have at least 10 sentences.\n",
      "WARNING:gensim.summarization.summarizer:Input corpus is expected to have at least 10 documents.\n",
      "WARNING:gensim.summarization.summarizer:Input text is expected to have at least 10 sentences.\n",
      "WARNING:gensim.summarization.summarizer:Input corpus is expected to have at least 10 documents.\n"
     ]
    }
   ],
   "source": [
    "from gensim.summarization import summarize\n",
    "DATA['Summarized_Text']=DATA.apply(lambda row:summ(row['Summary']),axis=1)"
   ]
  },
  {
   "cell_type": "code",
   "execution_count": 872,
   "metadata": {},
   "outputs": [],
   "source": [
    "DATA['Summarized_Text']=DATA.apply(lambda row:clean_text(row['Summarized_Text']),axis=1)\n",
    "DATA['Summarized_Text']=DATA.apply(lambda row:remove_unicode(row['Summarized_Text']),axis=1)\n",
    "DATA['Summarized_Text']=DATA.apply(lambda row:remove_chars(row['Summarized_Text']),axis=1)\n",
    "DATA['Summarized_Text']=DATA.apply(lambda row:replace_text(row['Summarized_Text']),axis=1)\n",
    "DATA['Summarized_Text']=(DATA['Summarized_Text'].str.split()).str.join(' ')\n",
    "DATA['Summarized_Text']= DATA['Summarized_Text'].str.capitalize()\n",
    "DATA['Summarized_Text']=DATA.apply(lambda row:replace_ie(row['Summarized_Text']),axis=1)\n",
    "DATA['Summarized_Text']=DATA.apply(lambda row:cap(row['Summarized_Text']),axis=1)\n",
    "DATA['Summarized_Text']=DATA.apply(lambda row:mulstops(row['Summarized_Text']),axis=1)"
   ]
  },
  {
   "cell_type": "code",
   "execution_count": 874,
   "metadata": {},
   "outputs": [
    {
     "data": {
      "text/plain": [
       "'Having had many years in purchasing, warehousing, logistics, staff management and operational leadership roles with continued success in meeting business/operational goals, i believe i can make a valuable contribution to your organisation s future projects and initiatives.What i bring to this position is a combination of team leadership, strategic planning, and business development skills that i have leveraged to meet and exceed expectations.I have analysed core operational/business functions and implemented the most appropriate solutions to drive continual business growth.I have demonstrated proficiency in all core office and warehouse administration and operational functions, including document preparation, finance, hr, oh & s, and internal/external stakeholder communications.I have experience on the use all microsoft office products, and implementation and key user operation and management of sap b1/sap erp, wintergrate/eclipse, stamina and epicor v7/v9.In previous positions, i have increased operational performance and motivated teams to meet employer/company objectives.'"
      ]
     },
     "execution_count": 874,
     "metadata": {},
     "output_type": "execute_result"
    }
   ],
   "source": [
    "DATA['Summarized_Text'].iloc[11]"
   ]
  },
  {
   "cell_type": "code",
   "execution_count": 877,
   "metadata": {},
   "outputs": [
    {
     "data": {
      "text/plain": [
       "(5857, 20)"
      ]
     },
     "execution_count": 877,
     "metadata": {},
     "output_type": "execute_result"
    }
   ],
   "source": [
    "DATA.shape"
   ]
  },
  {
   "cell_type": "code",
   "execution_count": 878,
   "metadata": {},
   "outputs": [
    {
     "data": {
      "text/plain": [
       "Name                     0   \n",
       "Summary                  0   \n",
       "Skills                   0   \n",
       "Experience_1             0   \n",
       "Current_Organization     0   \n",
       "Designation_1            0   \n",
       "ExpDurationInMonths_1    0   \n",
       "Experience_2             0   \n",
       "Designation_2            0   \n",
       "ExpDurationInMonths_2    0   \n",
       "Education_1              6   \n",
       "EduDurationInMonths_1    0   \n",
       "Education_2              33  \n",
       "EduDurationInMonths_2    0   \n",
       "Total_Exp                0   \n",
       "Total_Edu                0   \n",
       "URL                      0   \n",
       "Domain                   2639\n",
       "Summary_Final            0   \n",
       "Summarized_Text          0   \n",
       "dtype: int64"
      ]
     },
     "execution_count": 878,
     "metadata": {},
     "output_type": "execute_result"
    }
   ],
   "source": [
    "DATA.isna().sum()"
   ]
  },
  {
   "cell_type": "code",
   "execution_count": 879,
   "metadata": {},
   "outputs": [],
   "source": [
    "DATA.to_excel(r'E:\\CAPSTONE\\FILES TO BE UPLOADED\\DatsetUsedForTraining.xlsx')"
   ]
  },
  {
   "cell_type": "code",
   "execution_count": 751,
   "metadata": {},
   "outputs": [],
   "source": [
    "#DATA['Summary_Final'].to_excel(r'C:\\Users\\user\\Desktop\\Written\\text5.xlsx')"
   ]
  },
  {
   "cell_type": "code",
   "execution_count": 679,
   "metadata": {},
   "outputs": [],
   "source": [
    "#DATA[['Summary','Summary_Final']].to_excel(r'C:\\Users\\user\\Desktop\\Written\\text3.xlsx')"
   ]
  },
  {
   "cell_type": "code",
   "execution_count": 185,
   "metadata": {},
   "outputs": [],
   "source": [
    "#pd.set_option('display.max_colwidth', -1)"
   ]
  },
  {
   "cell_type": "code",
   "execution_count": null,
   "metadata": {},
   "outputs": [],
   "source": [
    "#DATA['Latest_Summary'].iloc[3071]"
   ]
  },
  {
   "cell_type": "code",
   "execution_count": null,
   "metadata": {},
   "outputs": [],
   "source": [
    "#DATA[DATA['Summary']==0]\n",
    "#DATA.drop(DATA.index[[391,756]],inplace=True)"
   ]
  },
  {
   "cell_type": "code",
   "execution_count": 515,
   "metadata": {},
   "outputs": [],
   "source": [
    "#DATA[['Summary','New Summary']].to_excel(r'C:\\Users\\user\\Desktop\\Written\\text.xlsx')"
   ]
  },
  {
   "cell_type": "code",
   "execution_count": 537,
   "metadata": {},
   "outputs": [],
   "source": [
    "#DATA['New Summary'].iloc[3308]=DATA['New Summary'].iloc[2816].replace(' o ',' ')"
   ]
  }
 ],
 "metadata": {
  "kernelspec": {
   "display_name": "Python 3",
   "language": "python",
   "name": "python3"
  },
  "language_info": {
   "codemirror_mode": {
    "name": "ipython",
    "version": 3
   },
   "file_extension": ".py",
   "mimetype": "text/x-python",
   "name": "python",
   "nbconvert_exporter": "python",
   "pygments_lexer": "ipython3",
   "version": "3.7.3"
  }
 },
 "nbformat": 4,
 "nbformat_minor": 2
}
