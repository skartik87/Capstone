{
 "cells": [
  {
   "cell_type": "code",
   "execution_count": 1,
   "metadata": {},
   "outputs": [],
   "source": [
    "import pandas as pd\n",
    "import re\n",
    "from functools import reduce\n",
    "import sys\n",
    "import csv\n",
    "import glob\n",
    "import os"
   ]
  },
  {
   "cell_type": "code",
   "execution_count": 116,
   "metadata": {},
   "outputs": [],
   "source": [
    "path =r'D:\\LINKEDIN_DATA\\Excel\\March_Extracts(MFHRO)'\n",
    "files = os.listdir(path)"
   ]
  },
  {
   "cell_type": "code",
   "execution_count": 117,
   "metadata": {},
   "outputs": [],
   "source": [
    "files_xlsx = [f for f in files if f[-4:] == 'xlsx']"
   ]
  },
  {
   "cell_type": "code",
   "execution_count": 118,
   "metadata": {},
   "outputs": [],
   "source": [
    "df_rec = pd.DataFrame()"
   ]
  },
  {
   "cell_type": "code",
   "execution_count": 119,
   "metadata": {},
   "outputs": [
    {
     "data": {
      "text/plain": [
       "(8141, 10)"
      ]
     },
     "execution_count": 119,
     "metadata": {},
     "output_type": "execute_result"
    }
   ],
   "source": [
    "for f in files_xlsx:\n",
    "    data = pd.read_excel(path+'/'+f)\n",
    "    df_rec = df_rec.append(data,ignore_index=True)\n",
    "df_rec.shape"
   ]
  },
  {
   "cell_type": "code",
   "execution_count": 120,
   "metadata": {},
   "outputs": [
    {
     "data": {
      "text/plain": [
       "(5233, 10)"
      ]
     },
     "execution_count": 120,
     "metadata": {},
     "output_type": "execute_result"
    }
   ],
   "source": [
    "URL_unique=pd.concat(g for _, g in df_rec.groupby(\"URL\") if len(g)==1)\n",
    "URL_unique.shape"
   ]
  },
  {
   "cell_type": "code",
   "execution_count": 121,
   "metadata": {},
   "outputs": [
    {
     "data": {
      "text/plain": [
       "(3974, 10)"
      ]
     },
     "execution_count": 121,
     "metadata": {},
     "output_type": "execute_result"
    }
   ],
   "source": [
    "EXP_unique=pd.concat(g for _, g in URL_unique.groupby(\"Experience_1\") if len(g)==1)\n",
    "EXP_unique.shape"
   ]
  },
  {
   "cell_type": "code",
   "execution_count": 123,
   "metadata": {},
   "outputs": [
    {
     "data": {
      "text/plain": [
       "(2908, 10)"
      ]
     },
     "execution_count": 123,
     "metadata": {},
     "output_type": "execute_result"
    }
   ],
   "source": [
    "URL_dup=pd.concat(g for _, g in df_rec.groupby(\"URL\") if len(g)>1)\n",
    "URL_dup.shape"
   ]
  },
  {
   "cell_type": "code",
   "execution_count": 124,
   "metadata": {},
   "outputs": [],
   "source": [
    "URL_dupfirst=URL_dup.groupby('URL').nth(0)\n",
    "URL_dupfirst=URL_dupfirst.reset_index()"
   ]
  },
  {
   "cell_type": "code",
   "execution_count": 129,
   "metadata": {},
   "outputs": [
    {
     "data": {
      "text/plain": [
       "(1270, 10)"
      ]
     },
     "execution_count": 129,
     "metadata": {},
     "output_type": "execute_result"
    }
   ],
   "source": [
    "URL_dupfirst.shape"
   ]
  },
  {
   "cell_type": "code",
   "execution_count": 130,
   "metadata": {},
   "outputs": [
    {
     "data": {
      "text/plain": [
       "(950, 10)"
      ]
     },
     "execution_count": 130,
     "metadata": {},
     "output_type": "execute_result"
    }
   ],
   "source": [
    "EXP_dupunique=pd.concat(g for _, g in URL_dupfirst.groupby(\"Experience_1\") if len(g)==1)\n",
    "EXP_dupunique.shape"
   ]
  },
  {
   "cell_type": "code",
   "execution_count": 133,
   "metadata": {},
   "outputs": [],
   "source": [
    "CorrectDf=EXP_dupunique.append(EXP_unique)"
   ]
  },
  {
   "cell_type": "code",
   "execution_count": 134,
   "metadata": {},
   "outputs": [
    {
     "data": {
      "text/plain": [
       "(4924, 10)"
      ]
     },
     "execution_count": 134,
     "metadata": {},
     "output_type": "execute_result"
    }
   ],
   "source": [
    "CorrectDf.shape"
   ]
  },
  {
   "cell_type": "code",
   "execution_count": 155,
   "metadata": {},
   "outputs": [],
   "source": [
    "test=pd.concat(g for _, g in CorrectDf.groupby(\"Experience_1\") if len(g)==1)"
   ]
  },
  {
   "cell_type": "code",
   "execution_count": 159,
   "metadata": {},
   "outputs": [
    {
     "data": {
      "text/plain": [
       "(4828, 10)"
      ]
     },
     "execution_count": 159,
     "metadata": {},
     "output_type": "execute_result"
    }
   ],
   "source": [
    "test.shape"
   ]
  },
  {
   "cell_type": "code",
   "execution_count": 164,
   "metadata": {
    "collapsed": true
   },
   "outputs": [
    {
     "data": {
      "text/html": [
       "<div>\n",
       "<style scoped>\n",
       "    .dataframe tbody tr th:only-of-type {\n",
       "        vertical-align: middle;\n",
       "    }\n",
       "\n",
       "    .dataframe tbody tr th {\n",
       "        vertical-align: top;\n",
       "    }\n",
       "\n",
       "    .dataframe thead th {\n",
       "        text-align: right;\n",
       "    }\n",
       "</style>\n",
       "<table border=\"1\" class=\"dataframe\">\n",
       "  <thead>\n",
       "    <tr style=\"text-align: right;\">\n",
       "      <th></th>\n",
       "      <th>Domain</th>\n",
       "      <th>Education_1</th>\n",
       "      <th>Education_2</th>\n",
       "      <th>Experience_1</th>\n",
       "      <th>Experience_2</th>\n",
       "      <th>Name</th>\n",
       "      <th>Skills</th>\n",
       "      <th>Summary</th>\n",
       "      <th>URL</th>\n",
       "      <th>Unnamed: 0</th>\n",
       "    </tr>\n",
       "  </thead>\n",
       "  <tbody>\n",
       "    <tr>\n",
       "      <th>120</th>\n",
       "      <td>NaN</td>\n",
       "      <td>NaN</td>\n",
       "      <td>NaN</td>\n",
       "      <td>Assistant Manager\\nCompany Name\\nTripppluxx Travels India Pvt Ltd\\nDates Employed\\nSep 2017 – Present\\nEmployment Duration\\n2 yrs 7 mos\\nLocation\\nGurgaon, India</td>\n",
       "      <td>Sr. HR Executive\\nCompany Name\\nWudstay Travels Pvt. Ltd\\nDates Employed\\nSep 2015 – Sep 2017\\nEmployment Duration\\n2 yrs 1 mo\\nLocation\\nGurgaon, India\\nInitiated HR processes as per the organisation capabilities and standard practices.\\n\\nSpecialised at innovating and inducing measures to ensure high employee satisfaction.\\n\\nFormulated and implemented strategies for effective employee engagement.\\n\\nSupporting business through strategical human resource practices.\\n\\nHandling Talent Management.\\n…\\nsee more</td>\n",
       "      <td>Anupama Singh</td>\n",
       "      <td>['Human Resources', 'Recruiting', 'Personnel Management']</td>\n",
       "      <td>HR Professional with experience into HR Operations, Talent Acquisition, HR Compliance and HR Generalist Activities</td>\n",
       "      <td>https://www.linkedin.com/in/anupama-singh-02465a58/?originalSubdomain=in</td>\n",
       "      <td>0</td>\n",
       "    </tr>\n",
       "    <tr>\n",
       "      <th>3459</th>\n",
       "      <td>HR</td>\n",
       "      <td>NaN</td>\n",
       "      <td>NaN</td>\n",
       "      <td>Company Name\\nIBM\\nTotal Duration\\n15 yrs\\nTitle\\nDirector of HR for UK &amp; Ireland\\nDates Employed\\nJan 2014 – Present\\nEmployment Duration\\n6 yrs 3 mos\\nLocation\\nLondon, United Kingdom\\nAnne was appointed into the role of HR Director for UKI in January 2014, on her return from IBM India where she was HR Leader for the Global Mobility team. Anne leads a large UK and Ireland based team of HR professional covering all aspects of Talent management. Her skills span a wide breadth of HR disciplines.\\nTitle\\nWorldwide Global Mobility Leader\\nDates Employed\\nFeb 2007 – Jan 2014\\nEmployment Duration\\n7 yrs\\nLocation\\nIndia\\nAnne is a seasoned IBMer and during her career she has worked in a number of overseas roles including India where she led the Global Mobility Team.\\nTitle\\nPensions Trust Services Leader\\nDates Employed\\n2012 – 2014\\nEmployment Duration\\n2 yrs\\nLocation\\nPortsmouth, United Kingdom\\nTitle\\nHR Shared Services Centre Support Transformation Lead\\nDates Employed\\n2009 – 2011\\nEmployment Duration\\n2 yrs\\nTitle\\nHR Business Development Consultant\\nDates Employed\\n2005 – 2009\\nEmployment Duration\\n4 yrs\\nLocation\\nUnited Kingdom</td>\n",
       "      <td>Title\\nDirector of HR for UK &amp; Ireland\\nDates Employed\\nJan 2014 – Present\\nEmployment Duration\\n6 yrs 3 mos\\nLocation\\nLondon, United Kingdom\\nAnne was appointed into the role of HR Director for UKI in January 2014, on her return from IBM India where she was HR Leader for the Global Mobility team. Anne leads a large UK and Ireland based team of HR professional covering all aspects of Talent management. Her skills span a wide breadth of HR disciplines.</td>\n",
       "      <td>Anne Conroy</td>\n",
       "      <td>['Human Resources', 'Leadership', 'Talent Management']</td>\n",
       "      <td>HR Director, responsible for leading a team of HR Professionals across multiple HR functions in the UK and Ireland.</td>\n",
       "      <td>https://www.linkedin.com/in/anne-conroy-b90a5058/?originalSubdomain=uk</td>\n",
       "      <td>0</td>\n",
       "    </tr>\n",
       "    <tr>\n",
       "      <th>1245</th>\n",
       "      <td>Finance</td>\n",
       "      <td>NaN</td>\n",
       "      <td>NaN</td>\n",
       "      <td>Company Name\\nIndian Institute of Finance\\nTotal Duration\\n32 yrs 7 mos\\nTitle\\nQuaterly Journal of Finance\\nDates Employed\\nSep 1987 – Present\\nEmployment Duration\\n32 yrs 7 mos\\nLocation\\nGreater Noida\\nThe primary aim of the Journal is to promote research by disseminating the results of studies in Finance, Accounting and related areas. The Journal is intended to provide scholars a major form orm for interdisciplinary study of various aspects of Finance. The Jounal is cornucopia of latest information and it publisehs research articles, abstract of doctoral dissertations, an extensive bibliography, book reviews, annotated listing, contents of current periodicals from over 150 international journals, important statistics on the Indian and world economy, details about forthcoming seminars &amp; conference, placements.\\n\\nThe Journal is published four times in a year in March, June, September and December.\\n…\\nsee more\\nTitle\\nFinance India\\nDates Employed\\n2004 – 2006\\nEmployment Duration\\n2 yrs</td>\n",
       "      <td>Title\\nQuaterly Journal of Finance\\nDates Employed\\nSep 1987 – Present\\nEmployment Duration\\n32 yrs 7 mos\\nLocation\\nGreater Noida\\nThe primary aim of the Journal is to promote research by disseminating the results of studies in Finance, Accounting and related areas. The Journal is intended to provide scholars a major form orm for interdisciplinary study of various aspects of Finance. The Jounal is cornucopia of latest information and it publisehs research articles, abstract of doctoral dissertations, an extensive bibliography, book reviews, annotated listing, contents of current periodicals from over 150 international journals, important statistics on the Indian and world economy, details about forthcoming seminars &amp; conference, placements.\\n\\nThe Journal is published four times in a year in March, June, September and December.\\n…\\nsee more</td>\n",
       "      <td>Finance India</td>\n",
       "      <td>['Finance', 'Research', 'Business Strategy']</td>\n",
       "      <td>Finance India is the official publication of Indian Institute of Finance (www.iif.edu), published since 1987 regularly. the primary aim of the journal is to promote research by disseminating the results of such research in Finance, Accounting and related areas. The Journal is intended to provide scholars a major platform for interdiciplinary study of va... see more</td>\n",
       "      <td>https://www.linkedin.com/in/finance-india-92517411a/?originalSubdomain=in</td>\n",
       "      <td>56</td>\n",
       "    </tr>\n",
       "    <tr>\n",
       "      <th>5079</th>\n",
       "      <td>Marketing</td>\n",
       "      <td>NaN</td>\n",
       "      <td>NaN</td>\n",
       "      <td>Company Name\\nU.S. Bank\\nTotal Duration\\n18 yrs 11 mos\\nTitle\\nVice President Marketing\\nDates Employed\\nMar 2015 – Present\\nEmployment Duration\\n5 yrs 1 mo\\nResponsible for the coordination and collaboration of corporate marketing resources with the Corporate Payment Systems business line to develop successful programs for revenue growth, while ensuring brand consistency across channels. Also responsible for the development and execution of customer-facing lead generation websites and social media platforms for all of Corporate Payment Systems.\\n\\n• Provide marketing support for the Corporate Payment Systems (B2B) group;\\n• Ensure effective roll out and implementation of brand standards;\\n• Communicate corporate compliance and risk-mitigation policies to improve understanding and adherence to policy;\\n• Manage social media content strategy and implementation, including product and channel specific storytelling through an editorial calendar;\\n• Optimize web content, including keywords and phrases, to improve search engine positioning.\\n…\\nsee more\\nTitle\\nVice President Marketing\\nDates Employed\\nOct 2013 – Mar 2015\\nEmployment Duration\\n1 yr 6 mos\\nResponsible for strategy and execution of marketing plans focused on Corporate Payment Systems bankcard products (payables, travel and healthcare), that addressed customer lifecycle – consideration through acquisition, including: product positioning, web, social, communications, presentations, white papers, webinars, videos and collateral.\\n\\n• Directed the strategy and execution of multi-dimensional marketing campaigns;\\n• Developed branding and marketing strategy for new product offerings;\\n• Supported and promoted intra-bank cross-sell and referral programs;\\n• Managed thought-leadership campaigns through original and curated content marketing;\\n• Led conference strategy development for industry tradeshows, seminars and webinars in addition to topic development for speaker presentations.\\n…\\nsee more\\nTitle\\nVice President Marketing\\nDates Employed\\nMay 2008 – Oct 2013\\nEmployment Duration\\n5 yrs 6 mos\\nResponsible for directing marketing efforts for Corporate Payment Systems payables and travel program business lines, including strategic program planning and marketing.\\nTitle\\nVice President Marketing Services\\nDates Employed\\nFeb 2006 – May 2008\\nEmployment Duration\\n2 yrs 4 mos\\nResponsible for managing the marketing shared services team for Corporate Payment Systems, including Request for Proposal (RFP), Technology Marketing and Interactive Marketing groups, to ensure proper level of marketing support for RFPs, client communications, collateral, training and operational guides and websites.\\nTitle\\nAssociate Vice President for Development\\nDates Employed\\nJun 2003 – Feb 2006\\nEmployment Duration\\n2 yrs 9 mos\\nResponsible for leading the intelligence initiatives required to identify new market and product opportunities, and communicate the implications for Corporate Payment Systems by analyzing key areas such as industry trends, market potential and competitive capabilities.\\nShow 1 more role</td>\n",
       "      <td>Title\\nVice President Marketing\\nDates Employed\\nMar 2015 – Present\\nEmployment Duration\\n5 yrs 1 mo\\nResponsible for the coordination and collaboration of corporate marketing resources with the Corporate Payment Systems business line to develop successful programs for revenue growth, while ensuring brand consistency across channels. Also responsible for the development and execution of customer-facing lead generation websites and social media platforms for all of Corporate Payment Systems.\\n\\n• Provide marketing support for the Corporate Payment Systems (B2B) group;\\n• Ensure effective roll out and implementation of brand standards;\\n• Communicate corporate compliance and risk-mitigation policies to improve understanding and adherence to policy;\\n• Manage social media content strategy and implementation, including product and channel specific storytelling through an editorial calendar;\\n• Optimize web content, including keywords and phrases, to improve search engine positioning.\\n…\\nsee more</td>\n",
       "      <td>Bobbi Arens</td>\n",
       "      <td>['Banking', 'Credit Cards', 'Payments']</td>\n",
       "      <td>Versatile marketing strategist with over 15 years of progressive career growth. Experienced at analyzing market trends and customer needs to develop highly-effective and targeted marketing and communication campaigns. Skilled at collaborating with multiple stakeholders and functional groups to develop go-to-market plans that align with... see more</td>\n",
       "      <td>https://www.linkedin.com/in/bobbi-arens/</td>\n",
       "      <td>155</td>\n",
       "    </tr>\n",
       "    <tr>\n",
       "      <th>184</th>\n",
       "      <td>NaN</td>\n",
       "      <td>NaN</td>\n",
       "      <td>NaN</td>\n",
       "      <td>GENERAL MANAGER\\nCompany Name\\nHyderabad</td>\n",
       "      <td>Company Name\\nG4S\\nTotal Duration\\n13 yrs 3 mos\\nTitle\\nGeneral Manager\\nDates Employed\\nJan 2007 – Present\\nEmployment Duration\\n13 yrs 3 mos\\nHEAD OF THE DEPARTMENT FOR FINANCE, HR, PAYROLL AND COMMERCIAL\\nTitle\\nGM-FINANCE\\nDates Employed\\nJan 2007 – Present\\nEmployment Duration\\n13 yrs 3 mos\\nFINANCE AND ACCOUNTS HEAD OF THE DEPARTMENT</td>\n",
       "      <td>AJAYKUMAR GM-FINANCE AND ACCOUNTS</td>\n",
       "      <td>[]</td>\n",
       "      <td>BASICALLY I AM MBA FINANCE GOLD MEDALIST WITH 95% FROM ANDHRA UNIVERSITY CAMPUS. I AM PROFESSIONALLY QUALIFIED IN ICMAI AND ICSI FINAL WITH MY 21 YEARS FUNCTIONAL JOB EXPERIENCE WITH NATIONAL AND INTERNATIONAL COMPANIES.</td>\n",
       "      <td>https://www.linkedin.com/in/ajaykumar-gm-finance-and-accounts-019887bb/?originalSubdomain=in</td>\n",
       "      <td>0</td>\n",
       "    </tr>\n",
       "    <tr>\n",
       "      <th>2507</th>\n",
       "      <td>NaN</td>\n",
       "      <td>NaN</td>\n",
       "      <td>NaN</td>\n",
       "      <td>Senior Director, Talent Acquisition, Asia Pacific\\nCompany Name\\nVisa\\nDates Employed\\nFeb 2019 – Present\\nEmployment Duration\\n1 yr 3 mos\\nLocation\\nSingapore</td>\n",
       "      <td>Senior Director, Recruitment, APAC\\nCompany Name\\nHilton\\nDates Employed\\nSep 2015 – Jan 2019\\nEmployment Duration\\n3 yrs 5 mos\\nLocation\\nSingapore</td>\n",
       "      <td>Evelyn W.</td>\n",
       "      <td>['Talent Acquisition', 'Recruiting', 'Talent Management']</td>\n",
       "      <td>I am most interested to connect with great talent who is keen to pursue their career in the Fintech industry. I am highly experienced and seasonal Talent Acquisition Leader with over 20 years of recruiting experience gained both in-house and in search agencies. As a leader, I truly believed in managing teams with our heart. Part of my success story is leading high performing teams in Talent Acquisition function across APAC.</td>\n",
       "      <td>https://www.linkedin.com/in/evelynwoo/?originalSubdomain=sg</td>\n",
       "      <td>154</td>\n",
       "    </tr>\n",
       "  </tbody>\n",
       "</table>\n",
       "</div>"
      ],
      "text/plain": [
       "         Domain Education_1 Education_2  \\\n",
       "120   NaN        NaN         NaN          \n",
       "3459  HR         NaN         NaN          \n",
       "1245  Finance    NaN         NaN          \n",
       "5079  Marketing  NaN         NaN          \n",
       "184   NaN        NaN         NaN          \n",
       "2507  NaN        NaN         NaN          \n",
       "\n",
       "                                                                                                                                                                                                                                                                                                                                                                                                                                                                                                                                                                                                                                                                                                                                                                                                                                                                                                                                                                                                                                                                                                                                                                                                                                                                                                                                                                                                                                                                                                                                                                                                                                                                                                                                                                                                                                                                                                                                                                                                                                                                                                                                                                                                                                                                                                                                                                                                                                                                                                                                                                                                                                                                                                                                                                                                                                                                                                                                                                                                                                                                                                                                                                                                                     Experience_1  \\\n",
       "120   Assistant Manager\\nCompany Name\\nTripppluxx Travels India Pvt Ltd\\nDates Employed\\nSep 2017 – Present\\nEmployment Duration\\n2 yrs 7 mos\\nLocation\\nGurgaon, India                                                                                                                                                                                                                                                                                                                                                                                                                                                                                                                                                                                                                                                                                                                                                                                                                                                                                                                                                                                                                                                                                                                                                                                                                                                                                                                                                                                                                                                                                                                                                                                                                                                                                                                                                                                                                                                                                                                                                                                                                                                                                                                                                                                                                                                                                                                                                                                                                                                                                                                                                                                                                                                                                                                                                                                                                                                                                                                                                                                                                                                             \n",
       "3459  Company Name\\nIBM\\nTotal Duration\\n15 yrs\\nTitle\\nDirector of HR for UK & Ireland\\nDates Employed\\nJan 2014 – Present\\nEmployment Duration\\n6 yrs 3 mos\\nLocation\\nLondon, United Kingdom\\nAnne was appointed into the role of HR Director for UKI in January 2014, on her return from IBM India where she was HR Leader for the Global Mobility team. Anne leads a large UK and Ireland based team of HR professional covering all aspects of Talent management. Her skills span a wide breadth of HR disciplines.\\nTitle\\nWorldwide Global Mobility Leader\\nDates Employed\\nFeb 2007 – Jan 2014\\nEmployment Duration\\n7 yrs\\nLocation\\nIndia\\nAnne is a seasoned IBMer and during her career she has worked in a number of overseas roles including India where she led the Global Mobility Team.\\nTitle\\nPensions Trust Services Leader\\nDates Employed\\n2012 – 2014\\nEmployment Duration\\n2 yrs\\nLocation\\nPortsmouth, United Kingdom\\nTitle\\nHR Shared Services Centre Support Transformation Lead\\nDates Employed\\n2009 – 2011\\nEmployment Duration\\n2 yrs\\nTitle\\nHR Business Development Consultant\\nDates Employed\\n2005 – 2009\\nEmployment Duration\\n4 yrs\\nLocation\\nUnited Kingdom                                                                                                                                                                                                                                                                                                                                                                                                                                                                                                                                                                                                                                                                                                                                                                                                                                                                                                                                                                                                                                                                                                                                                                                                                                                                                                                                                                                                                                                                                                                                                                                                                                                                                                                                                                                                                                                                                                                                                                                                                                \n",
       "1245  Company Name\\nIndian Institute of Finance\\nTotal Duration\\n32 yrs 7 mos\\nTitle\\nQuaterly Journal of Finance\\nDates Employed\\nSep 1987 – Present\\nEmployment Duration\\n32 yrs 7 mos\\nLocation\\nGreater Noida\\nThe primary aim of the Journal is to promote research by disseminating the results of studies in Finance, Accounting and related areas. The Journal is intended to provide scholars a major form orm for interdisciplinary study of various aspects of Finance. The Jounal is cornucopia of latest information and it publisehs research articles, abstract of doctoral dissertations, an extensive bibliography, book reviews, annotated listing, contents of current periodicals from over 150 international journals, important statistics on the Indian and world economy, details about forthcoming seminars & conference, placements.\\n\\nThe Journal is published four times in a year in March, June, September and December.\\n…\\nsee more\\nTitle\\nFinance India\\nDates Employed\\n2004 – 2006\\nEmployment Duration\\n2 yrs                                                                                                                                                                                                                                                                                                                                                                                                                                                                                                                                                                                                                                                                                                                                                                                                                                                                                                                                                                                                                                                                                                                                                                                                                                                                                                                                                                                                                                                                                                                                                                                                                                                                                                                                                                                                                                                                                                                                                                                                                                                                                                                                                                                 \n",
       "5079  Company Name\\nU.S. Bank\\nTotal Duration\\n18 yrs 11 mos\\nTitle\\nVice President Marketing\\nDates Employed\\nMar 2015 – Present\\nEmployment Duration\\n5 yrs 1 mo\\nResponsible for the coordination and collaboration of corporate marketing resources with the Corporate Payment Systems business line to develop successful programs for revenue growth, while ensuring brand consistency across channels. Also responsible for the development and execution of customer-facing lead generation websites and social media platforms for all of Corporate Payment Systems.\\n\\n• Provide marketing support for the Corporate Payment Systems (B2B) group;\\n• Ensure effective roll out and implementation of brand standards;\\n• Communicate corporate compliance and risk-mitigation policies to improve understanding and adherence to policy;\\n• Manage social media content strategy and implementation, including product and channel specific storytelling through an editorial calendar;\\n• Optimize web content, including keywords and phrases, to improve search engine positioning.\\n…\\nsee more\\nTitle\\nVice President Marketing\\nDates Employed\\nOct 2013 – Mar 2015\\nEmployment Duration\\n1 yr 6 mos\\nResponsible for strategy and execution of marketing plans focused on Corporate Payment Systems bankcard products (payables, travel and healthcare), that addressed customer lifecycle – consideration through acquisition, including: product positioning, web, social, communications, presentations, white papers, webinars, videos and collateral.\\n\\n• Directed the strategy and execution of multi-dimensional marketing campaigns;\\n• Developed branding and marketing strategy for new product offerings;\\n• Supported and promoted intra-bank cross-sell and referral programs;\\n• Managed thought-leadership campaigns through original and curated content marketing;\\n• Led conference strategy development for industry tradeshows, seminars and webinars in addition to topic development for speaker presentations.\\n…\\nsee more\\nTitle\\nVice President Marketing\\nDates Employed\\nMay 2008 – Oct 2013\\nEmployment Duration\\n5 yrs 6 mos\\nResponsible for directing marketing efforts for Corporate Payment Systems payables and travel program business lines, including strategic program planning and marketing.\\nTitle\\nVice President Marketing Services\\nDates Employed\\nFeb 2006 – May 2008\\nEmployment Duration\\n2 yrs 4 mos\\nResponsible for managing the marketing shared services team for Corporate Payment Systems, including Request for Proposal (RFP), Technology Marketing and Interactive Marketing groups, to ensure proper level of marketing support for RFPs, client communications, collateral, training and operational guides and websites.\\nTitle\\nAssociate Vice President for Development\\nDates Employed\\nJun 2003 – Feb 2006\\nEmployment Duration\\n2 yrs 9 mos\\nResponsible for leading the intelligence initiatives required to identify new market and product opportunities, and communicate the implications for Corporate Payment Systems by analyzing key areas such as industry trends, market potential and competitive capabilities.\\nShow 1 more role   \n",
       "184   GENERAL MANAGER\\nCompany Name\\nHyderabad                                                                                                                                                                                                                                                                                                                                                                                                                                                                                                                                                                                                                                                                                                                                                                                                                                                                                                                                                                                                                                                                                                                                                                                                                                                                                                                                                                                                                                                                                                                                                                                                                                                                                                                                                                                                                                                                                                                                                                                                                                                                                                                                                                                                                                                                                                                                                                                                                                                                                                                                                                                                                                                                                                                                                                                                                                                                                                                                                                                                                                                                                                                                                                                      \n",
       "2507  Senior Director, Talent Acquisition, Asia Pacific\\nCompany Name\\nVisa\\nDates Employed\\nFeb 2019 – Present\\nEmployment Duration\\n1 yr 3 mos\\nLocation\\nSingapore                                                                                                                                                                                                                                                                                                                                                                                                                                                                                                                                                                                                                                                                                                                                                                                                                                                                                                                                                                                                                                                                                                                                                                                                                                                                                                                                                                                                                                                                                                                                                                                                                                                                                                                                                                                                                                                                                                                                                                                                                                                                                                                                                                                                                                                                                                                                                                                                                                                                                                                                                                                                                                                                                                                                                                                                                                                                                                                                                                                                                                                               \n",
       "\n",
       "                                                                                                                                                                                                                                                                                                                                                                                                                                                                                                                                                                                                                                                                                                                                                                                                                                                                                                                                                                                                                                         Experience_2  \\\n",
       "120   Sr. HR Executive\\nCompany Name\\nWudstay Travels Pvt. Ltd\\nDates Employed\\nSep 2015 – Sep 2017\\nEmployment Duration\\n2 yrs 1 mo\\nLocation\\nGurgaon, India\\nInitiated HR processes as per the organisation capabilities and standard practices.\\n\\nSpecialised at innovating and inducing measures to ensure high employee satisfaction.\\n\\nFormulated and implemented strategies for effective employee engagement.\\n\\nSupporting business through strategical human resource practices.\\n\\nHandling Talent Management.\\n…\\nsee more                                                                                                                                                                                                                                                                                                                                                                                                                                                                                                               \n",
       "3459  Title\\nDirector of HR for UK & Ireland\\nDates Employed\\nJan 2014 – Present\\nEmployment Duration\\n6 yrs 3 mos\\nLocation\\nLondon, United Kingdom\\nAnne was appointed into the role of HR Director for UKI in January 2014, on her return from IBM India where she was HR Leader for the Global Mobility team. Anne leads a large UK and Ireland based team of HR professional covering all aspects of Talent management. Her skills span a wide breadth of HR disciplines.                                                                                                                                                                                                                                                                                                                                                                                                                                                                                                                                                                          \n",
       "1245  Title\\nQuaterly Journal of Finance\\nDates Employed\\nSep 1987 – Present\\nEmployment Duration\\n32 yrs 7 mos\\nLocation\\nGreater Noida\\nThe primary aim of the Journal is to promote research by disseminating the results of studies in Finance, Accounting and related areas. The Journal is intended to provide scholars a major form orm for interdisciplinary study of various aspects of Finance. The Jounal is cornucopia of latest information and it publisehs research articles, abstract of doctoral dissertations, an extensive bibliography, book reviews, annotated listing, contents of current periodicals from over 150 international journals, important statistics on the Indian and world economy, details about forthcoming seminars & conference, placements.\\n\\nThe Journal is published four times in a year in March, June, September and December.\\n…\\nsee more                                                                                                                                                             \n",
       "5079  Title\\nVice President Marketing\\nDates Employed\\nMar 2015 – Present\\nEmployment Duration\\n5 yrs 1 mo\\nResponsible for the coordination and collaboration of corporate marketing resources with the Corporate Payment Systems business line to develop successful programs for revenue growth, while ensuring brand consistency across channels. Also responsible for the development and execution of customer-facing lead generation websites and social media platforms for all of Corporate Payment Systems.\\n\\n• Provide marketing support for the Corporate Payment Systems (B2B) group;\\n• Ensure effective roll out and implementation of brand standards;\\n• Communicate corporate compliance and risk-mitigation policies to improve understanding and adherence to policy;\\n• Manage social media content strategy and implementation, including product and channel specific storytelling through an editorial calendar;\\n• Optimize web content, including keywords and phrases, to improve search engine positioning.\\n…\\nsee more   \n",
       "184   Company Name\\nG4S\\nTotal Duration\\n13 yrs 3 mos\\nTitle\\nGeneral Manager\\nDates Employed\\nJan 2007 – Present\\nEmployment Duration\\n13 yrs 3 mos\\nHEAD OF THE DEPARTMENT FOR FINANCE, HR, PAYROLL AND COMMERCIAL\\nTitle\\nGM-FINANCE\\nDates Employed\\nJan 2007 – Present\\nEmployment Duration\\n13 yrs 3 mos\\nFINANCE AND ACCOUNTS HEAD OF THE DEPARTMENT                                                                                                                                                                                                                                                                                                                                                                                                                                                                                                                                                                                                                                                                                             \n",
       "2507  Senior Director, Recruitment, APAC\\nCompany Name\\nHilton\\nDates Employed\\nSep 2015 – Jan 2019\\nEmployment Duration\\n3 yrs 5 mos\\nLocation\\nSingapore                                                                                                                                                                                                                                                                                                                                                                                                                                                                                                                                                                                                                                                                                                                                                                                                                                                                                              \n",
       "\n",
       "                                   Name  \\\n",
       "120   Anupama Singh                       \n",
       "3459  Anne Conroy                         \n",
       "1245  Finance India                       \n",
       "5079  Bobbi Arens                         \n",
       "184   AJAYKUMAR GM-FINANCE AND ACCOUNTS   \n",
       "2507  Evelyn W.                           \n",
       "\n",
       "                                                         Skills  \\\n",
       "120   ['Human Resources', 'Recruiting', 'Personnel Management']   \n",
       "3459  ['Human Resources', 'Leadership', 'Talent Management']      \n",
       "1245  ['Finance', 'Research', 'Business Strategy']                \n",
       "5079  ['Banking', 'Credit Cards', 'Payments']                     \n",
       "184   []                                                          \n",
       "2507  ['Talent Acquisition', 'Recruiting', 'Talent Management']   \n",
       "\n",
       "                                                                                                                                                                                                                                                                                                                                                                                                                                          Summary  \\\n",
       "120   HR Professional with experience into HR Operations, Talent Acquisition, HR Compliance and HR Generalist Activities                                                                                                                                                                                                                                                                                                                            \n",
       "3459  HR Director, responsible for leading a team of HR Professionals across multiple HR functions in the UK and Ireland.                                                                                                                                                                                                                                                                                                                           \n",
       "1245  Finance India is the official publication of Indian Institute of Finance (www.iif.edu), published since 1987 regularly. the primary aim of the journal is to promote research by disseminating the results of such research in Finance, Accounting and related areas. The Journal is intended to provide scholars a major platform for interdiciplinary study of va... see more                                                               \n",
       "5079  Versatile marketing strategist with over 15 years of progressive career growth. Experienced at analyzing market trends and customer needs to develop highly-effective and targeted marketing and communication campaigns. Skilled at collaborating with multiple stakeholders and functional groups to develop go-to-market plans that align with... see more                                                                                 \n",
       "184   BASICALLY I AM MBA FINANCE GOLD MEDALIST WITH 95% FROM ANDHRA UNIVERSITY CAMPUS. I AM PROFESSIONALLY QUALIFIED IN ICMAI AND ICSI FINAL WITH MY 21 YEARS FUNCTIONAL JOB EXPERIENCE WITH NATIONAL AND INTERNATIONAL COMPANIES.                                                                                                                                                                                                                  \n",
       "2507  I am most interested to connect with great talent who is keen to pursue their career in the Fintech industry. I am highly experienced and seasonal Talent Acquisition Leader with over 20 years of recruiting experience gained both in-house and in search agencies. As a leader, I truly believed in managing teams with our heart. Part of my success story is leading high performing teams in Talent Acquisition function across APAC.   \n",
       "\n",
       "                                                                                               URL  \\\n",
       "120   https://www.linkedin.com/in/anupama-singh-02465a58/?originalSubdomain=in                       \n",
       "3459  https://www.linkedin.com/in/anne-conroy-b90a5058/?originalSubdomain=uk                         \n",
       "1245  https://www.linkedin.com/in/finance-india-92517411a/?originalSubdomain=in                      \n",
       "5079  https://www.linkedin.com/in/bobbi-arens/                                                       \n",
       "184   https://www.linkedin.com/in/ajaykumar-gm-finance-and-accounts-019887bb/?originalSubdomain=in   \n",
       "2507  https://www.linkedin.com/in/evelynwoo/?originalSubdomain=sg                                    \n",
       "\n",
       "      Unnamed: 0  \n",
       "120   0           \n",
       "3459  0           \n",
       "1245  56          \n",
       "5079  155         \n",
       "184   0           \n",
       "2507  154         "
      ]
     },
     "execution_count": 164,
     "metadata": {},
     "output_type": "execute_result"
    }
   ],
   "source": [
    "test[test['Education_1'].isna()]"
   ]
  },
  {
   "cell_type": "code",
   "execution_count": 168,
   "metadata": {},
   "outputs": [],
   "source": [
    "A=pd.concat(g for _, g in URL_unique.groupby(\"Experience_1\") if len(g)>1)\n",
    "B=pd.concat(g for _, g in URL_dupfirst.groupby(\"Experience_1\") if len(g)>1)\n",
    "C=pd.concat(g for _, g in CorrectDf.groupby(\"Experience_1\") if len(g)>1)"
   ]
  },
  {
   "cell_type": "code",
   "execution_count": 172,
   "metadata": {},
   "outputs": [],
   "source": [
    "M=A['URL'].to_list()\n",
    "N=B['URL'].to_list()\n",
    "O=C['URL'].to_list()"
   ]
  },
  {
   "cell_type": "code",
   "execution_count": 179,
   "metadata": {},
   "outputs": [
    {
     "data": {
      "text/plain": [
       "'https://www.linkedin.com/in/neelam-venkatray-73a50445/?originalSubdomain=in'"
      ]
     },
     "execution_count": 179,
     "metadata": {},
     "output_type": "execute_result"
    }
   ],
   "source": [
    "N[0]"
   ]
  },
  {
   "cell_type": "code",
   "execution_count": 184,
   "metadata": {},
   "outputs": [],
   "source": [
    "T=list(set(M))"
   ]
  },
  {
   "cell_type": "code",
   "execution_count": 187,
   "metadata": {},
   "outputs": [
    {
     "data": {
      "text/plain": [
       "1662"
      ]
     },
     "execution_count": 187,
     "metadata": {},
     "output_type": "execute_result"
    }
   ],
   "source": [
    "len(T)"
   ]
  },
  {
   "cell_type": "code",
   "execution_count": 188,
   "metadata": {},
   "outputs": [],
   "source": [
    "S=pd.DataFrame(T)"
   ]
  },
  {
   "cell_type": "code",
   "execution_count": 189,
   "metadata": {},
   "outputs": [],
   "source": [
    "S.to_excel(r\"D:\\LINKEDIN_DATA\\APRIL_13_2020_EXCELDATA\\URL.xlsx\")\n",
    "#This was split in to WronglyScrapedURL_1,WronglyScrapedURL_2 and WronglyScrapedURL_3 for running the selenium code in different machines"
   ]
  },
  {
   "cell_type": "code",
   "execution_count": 80,
   "metadata": {},
   "outputs": [],
   "source": [
    "M=dwrng['URL'].to_list()"
   ]
  },
  {
   "cell_type": "code",
   "execution_count": 87,
   "metadata": {},
   "outputs": [
    {
     "data": {
      "text/plain": [
       "1248"
      ]
     },
     "execution_count": 87,
     "metadata": {},
     "output_type": "execute_result"
    }
   ],
   "source": [
    "len(M)"
   ]
  },
  {
   "cell_type": "code",
   "execution_count": 82,
   "metadata": {},
   "outputs": [],
   "source": [
    "nan=df[df['Experience_1'].isna()]"
   ]
  },
  {
   "cell_type": "code",
   "execution_count": 84,
   "metadata": {},
   "outputs": [
    {
     "data": {
      "text/plain": [
       "(11, 10)"
      ]
     },
     "execution_count": 84,
     "metadata": {},
     "output_type": "execute_result"
    }
   ],
   "source": [
    "nan.shape"
   ]
  },
  {
   "cell_type": "code",
   "execution_count": 68,
   "metadata": {},
   "outputs": [],
   "source": [
    "pd.set_option('display.max_colwidth', -1)"
   ]
  },
  {
   "cell_type": "code",
   "execution_count": 20,
   "metadata": {},
   "outputs": [],
   "source": [
    "df.drop(['Unnamed: 0'],inplace=True,axis=1)"
   ]
  },
  {
   "cell_type": "code",
   "execution_count": 26,
   "metadata": {},
   "outputs": [
    {
     "data": {
      "text/html": [
       "<div>\n",
       "<style scoped>\n",
       "    .dataframe tbody tr th:only-of-type {\n",
       "        vertical-align: middle;\n",
       "    }\n",
       "\n",
       "    .dataframe tbody tr th {\n",
       "        vertical-align: top;\n",
       "    }\n",
       "\n",
       "    .dataframe thead th {\n",
       "        text-align: right;\n",
       "    }\n",
       "</style>\n",
       "<table border=\"1\" class=\"dataframe\">\n",
       "  <thead>\n",
       "    <tr style=\"text-align: right;\">\n",
       "      <th></th>\n",
       "      <th>Domain</th>\n",
       "      <th>Education_1</th>\n",
       "      <th>Education_2</th>\n",
       "      <th>Experience_1</th>\n",
       "      <th>Experience_2</th>\n",
       "      <th>Name</th>\n",
       "      <th>Skills</th>\n",
       "      <th>Summary</th>\n",
       "      <th>URL</th>\n",
       "    </tr>\n",
       "  </thead>\n",
       "  <tbody>\n",
       "    <tr>\n",
       "      <th>6927</th>\n",
       "      <td>NaN</td>\n",
       "      <td>Cukurova University\\nDegree Name\\nMaster of Sc...</td>\n",
       "      <td>Cukurova University\\nDegree Name\\nBachelor of ...</td>\n",
       "      <td>Company Name\\nDaimler India Commercial Vehicle...</td>\n",
       "      <td>Title\\nHead Of Logistics\\nDates Employed\\nFeb ...</td>\n",
       "      <td>Örsan Öncül</td>\n",
       "      <td>['Logistics Management', 'Plant Maintenance', ...</td>\n",
       "      <td>A versatile executive with 20 years of experie...</td>\n",
       "      <td>https://www.linkedin.com/in/%C3%B6rsan-%C3%B6n...</td>\n",
       "    </tr>\n",
       "    <tr>\n",
       "      <th>3870</th>\n",
       "      <td>NaN</td>\n",
       "      <td>Indian Institute of Social Welfare and Busines...</td>\n",
       "      <td>Scottish Church College\\nDegree Name\\nClass 12...</td>\n",
       "      <td>Performance, C&amp;B, Engagement and Rewards\\nComp...</td>\n",
       "      <td>Associate Director Human Resources\\nCompany Na...</td>\n",
       "      <td>Vivek Kumar Varma</td>\n",
       "      <td>['Employee Engagement', 'Performance Managemen...</td>\n",
       "      <td>Profile Summary\\nA vibrant performance-driven ...</td>\n",
       "      <td>https://www.linkedin.com/in/1981vivek/?origina...</td>\n",
       "    </tr>\n",
       "    <tr>\n",
       "      <th>7739</th>\n",
       "      <td>NaN</td>\n",
       "      <td>Sagar Institute of Research Technology &amp; Scien...</td>\n",
       "      <td>Lady Shri Ram College For Women\\nDegree Name\\n...</td>\n",
       "      <td>Company Name\\nGramin Healthcare\\nTotal Duratio...</td>\n",
       "      <td>Title\\nHealth Informatics Specialist\\nDates Em...</td>\n",
       "      <td>Arijit Ganguly</td>\n",
       "      <td>['Rooms Division', 'Hospitality Industry', 'Bu...</td>\n",
       "      <td>Director of Operations with 16 years of experi...</td>\n",
       "      <td>https://www.linkedin.com/in/311082/?originalSu...</td>\n",
       "    </tr>\n",
       "    <tr>\n",
       "      <th>6547</th>\n",
       "      <td>NaN</td>\n",
       "      <td>Swinburne University of Technology\\nDegree Nam...</td>\n",
       "      <td>HiLogic Institute.\\nDegree Name\\nProject Manag...</td>\n",
       "      <td>Company Name\\nToyota Motor Corporation Austral...</td>\n",
       "      <td>Title\\nProject Leader\\nDates Employed\\nOct 201...</td>\n",
       "      <td>Abdillatif Fiqi</td>\n",
       "      <td>['Project Management', 'Automotive', 'Continuo...</td>\n",
       "      <td>A well-established tertiary qualified Mechanic...</td>\n",
       "      <td>https://www.linkedin.com/in/a-fiqi/?originalSu...</td>\n",
       "    </tr>\n",
       "    <tr>\n",
       "      <th>1606</th>\n",
       "      <td>NaN</td>\n",
       "      <td>Indian Institute of Management, Ahmedabad\\nDeg...</td>\n",
       "      <td>College of Business Studies (CBS), Delhi Unive...</td>\n",
       "      <td>Associate Director - Finance\\nCompany Name\\nCl...</td>\n",
       "      <td>Company Name\\nd.light\\nTotal Duration\\n2 yrs 1...</td>\n",
       "      <td>Vishesh Gupta</td>\n",
       "      <td>['Financial Modeling', 'Business Strategy', 'C...</td>\n",
       "      <td>A finance professional, currently working with...</td>\n",
       "      <td>https://www.linkedin.com/in/a10visheshg/?origi...</td>\n",
       "    </tr>\n",
       "  </tbody>\n",
       "</table>\n",
       "</div>"
      ],
      "text/plain": [
       "     Domain                                        Education_1  \\\n",
       "6927    NaN  Cukurova University\\nDegree Name\\nMaster of Sc...   \n",
       "3870    NaN  Indian Institute of Social Welfare and Busines...   \n",
       "7739    NaN  Sagar Institute of Research Technology & Scien...   \n",
       "6547    NaN  Swinburne University of Technology\\nDegree Nam...   \n",
       "1606    NaN  Indian Institute of Management, Ahmedabad\\nDeg...   \n",
       "\n",
       "                                            Education_2  \\\n",
       "6927  Cukurova University\\nDegree Name\\nBachelor of ...   \n",
       "3870  Scottish Church College\\nDegree Name\\nClass 12...   \n",
       "7739  Lady Shri Ram College For Women\\nDegree Name\\n...   \n",
       "6547  HiLogic Institute.\\nDegree Name\\nProject Manag...   \n",
       "1606  College of Business Studies (CBS), Delhi Unive...   \n",
       "\n",
       "                                           Experience_1  \\\n",
       "6927  Company Name\\nDaimler India Commercial Vehicle...   \n",
       "3870  Performance, C&B, Engagement and Rewards\\nComp...   \n",
       "7739  Company Name\\nGramin Healthcare\\nTotal Duratio...   \n",
       "6547  Company Name\\nToyota Motor Corporation Austral...   \n",
       "1606  Associate Director - Finance\\nCompany Name\\nCl...   \n",
       "\n",
       "                                           Experience_2               Name  \\\n",
       "6927  Title\\nHead Of Logistics\\nDates Employed\\nFeb ...        Örsan Öncül   \n",
       "3870  Associate Director Human Resources\\nCompany Na...  Vivek Kumar Varma   \n",
       "7739  Title\\nHealth Informatics Specialist\\nDates Em...     Arijit Ganguly   \n",
       "6547  Title\\nProject Leader\\nDates Employed\\nOct 201...    Abdillatif Fiqi   \n",
       "1606  Company Name\\nd.light\\nTotal Duration\\n2 yrs 1...      Vishesh Gupta   \n",
       "\n",
       "                                                 Skills  \\\n",
       "6927  ['Logistics Management', 'Plant Maintenance', ...   \n",
       "3870  ['Employee Engagement', 'Performance Managemen...   \n",
       "7739  ['Rooms Division', 'Hospitality Industry', 'Bu...   \n",
       "6547  ['Project Management', 'Automotive', 'Continuo...   \n",
       "1606  ['Financial Modeling', 'Business Strategy', 'C...   \n",
       "\n",
       "                                                Summary  \\\n",
       "6927  A versatile executive with 20 years of experie...   \n",
       "3870  Profile Summary\\nA vibrant performance-driven ...   \n",
       "7739  Director of Operations with 16 years of experi...   \n",
       "6547  A well-established tertiary qualified Mechanic...   \n",
       "1606  A finance professional, currently working with...   \n",
       "\n",
       "                                                    URL  \n",
       "6927  https://www.linkedin.com/in/%C3%B6rsan-%C3%B6n...  \n",
       "3870  https://www.linkedin.com/in/1981vivek/?origina...  \n",
       "7739  https://www.linkedin.com/in/311082/?originalSu...  \n",
       "6547  https://www.linkedin.com/in/a-fiqi/?originalSu...  \n",
       "1606  https://www.linkedin.com/in/a10visheshg/?origi...  "
      ]
     },
     "execution_count": 26,
     "metadata": {},
     "output_type": "execute_result"
    }
   ],
   "source": [
    "df.head()"
   ]
  },
  {
   "cell_type": "code",
   "execution_count": 22,
   "metadata": {},
   "outputs": [],
   "source": [
    "M=df['Experience_1'].to_list()"
   ]
  },
  {
   "cell_type": "code",
   "execution_count": 28,
   "metadata": {},
   "outputs": [],
   "source": [
    "pd.set_option('display.max_colwidth', -1)"
   ]
  },
  {
   "cell_type": "code",
   "execution_count": 34,
   "metadata": {},
   "outputs": [
    {
     "data": {
      "text/html": [
       "<div>\n",
       "<style scoped>\n",
       "    .dataframe tbody tr th:only-of-type {\n",
       "        vertical-align: middle;\n",
       "    }\n",
       "\n",
       "    .dataframe tbody tr th {\n",
       "        vertical-align: top;\n",
       "    }\n",
       "\n",
       "    .dataframe thead th {\n",
       "        text-align: right;\n",
       "    }\n",
       "</style>\n",
       "<table border=\"1\" class=\"dataframe\">\n",
       "  <thead>\n",
       "    <tr style=\"text-align: right;\">\n",
       "      <th></th>\n",
       "      <th>Domain</th>\n",
       "      <th>Education_1</th>\n",
       "      <th>Education_2</th>\n",
       "      <th>Experience_1</th>\n",
       "      <th>Experience_2</th>\n",
       "      <th>Name</th>\n",
       "      <th>Skills</th>\n",
       "      <th>Summary</th>\n",
       "      <th>URL</th>\n",
       "    </tr>\n",
       "  </thead>\n",
       "  <tbody>\n",
       "    <tr>\n",
       "      <th>3870</th>\n",
       "      <td>NaN</td>\n",
       "      <td>Indian Institute of Social Welfare and Business Management\\nDegree Name\\nMasters in HRM\\nField Of Study\\nHuman Resources Management/Personnel Administration, General</td>\n",
       "      <td>Scottish Church College\\nDegree Name\\nClass 12\\nField Of Study\\nScience\\nDates attended or expected graduation\\n1996 – 1998</td>\n",
       "      <td>Performance, C&amp;B, Engagement and Rewards\\nCompany Name\\nPwC SDC Kolkata Full-time\\nDates Employed\\nJun 2018 – Present\\nEmployment Duration\\n1 yr 10 mos\\nLocation\\nKolkata Area, India\\nBusiness HC at PricewaterhouseCoopers - Service Delivery Center (PwC SDC)</td>\n",
       "      <td>Associate Director Human Resources\\nCompany Name\\nTCG Digital\\nDates Employed\\nMar 2015 – Mar 2018\\nEmployment Duration\\n3 yrs 1 mo\\nLocation\\nKolkata Area, India</td>\n",
       "      <td>Vivek Kumar Varma</td>\n",
       "      <td>['Employee Engagement', 'Performance Management', 'Employee Relations']</td>\n",
       "      <td>Profile Summary\\nA vibrant performance-driven HR professional with rich experience of more than 13.5 years in devising and effectuating HR, policies, systems and practices; ensuring smooth running as well as enhancement of global centralized H... see more</td>\n",
       "      <td>https://www.linkedin.com/in/1981vivek/?originalSubdomain=in</td>\n",
       "    </tr>\n",
       "  </tbody>\n",
       "</table>\n",
       "</div>"
      ],
      "text/plain": [
       "     Domain  \\\n",
       "3870  NaN     \n",
       "\n",
       "                                                                                                                                                                Education_1  \\\n",
       "3870  Indian Institute of Social Welfare and Business Management\\nDegree Name\\nMasters in HRM\\nField Of Study\\nHuman Resources Management/Personnel Administration, General   \n",
       "\n",
       "                                                                                                                      Education_2  \\\n",
       "3870  Scottish Church College\\nDegree Name\\nClass 12\\nField Of Study\\nScience\\nDates attended or expected graduation\\n1996 – 1998   \n",
       "\n",
       "                                                                                                                                                                                                                                                           Experience_1  \\\n",
       "3870  Performance, C&B, Engagement and Rewards\\nCompany Name\\nPwC SDC Kolkata Full-time\\nDates Employed\\nJun 2018 – Present\\nEmployment Duration\\n1 yr 10 mos\\nLocation\\nKolkata Area, India\\nBusiness HC at PricewaterhouseCoopers - Service Delivery Center (PwC SDC)   \n",
       "\n",
       "                                                                                                                                                            Experience_2  \\\n",
       "3870  Associate Director Human Resources\\nCompany Name\\nTCG Digital\\nDates Employed\\nMar 2015 – Mar 2018\\nEmployment Duration\\n3 yrs 1 mo\\nLocation\\nKolkata Area, India   \n",
       "\n",
       "                   Name  \\\n",
       "3870  Vivek Kumar Varma   \n",
       "\n",
       "                                                                       Skills  \\\n",
       "3870  ['Employee Engagement', 'Performance Management', 'Employee Relations']   \n",
       "\n",
       "                                                                                                                                                                                                                                                              Summary  \\\n",
       "3870  Profile Summary\\nA vibrant performance-driven HR professional with rich experience of more than 13.5 years in devising and effectuating HR, policies, systems and practices; ensuring smooth running as well as enhancement of global centralized H... see more   \n",
       "\n",
       "                                                              URL  \n",
       "3870  https://www.linkedin.com/in/1981vivek/?originalSubdomain=in  "
      ]
     },
     "execution_count": 34,
     "metadata": {},
     "output_type": "execute_result"
    }
   ],
   "source": [
    "df[df['Name']=='Vivek Kumar Varma']"
   ]
  },
  {
   "cell_type": "code",
   "execution_count": 32,
   "metadata": {},
   "outputs": [
    {
     "data": {
      "text/plain": [
       "Domain          Marketing                                                                                                                                                                                                                                                                                                                                                                                                                                                                                                                                                                                                                                                                                                                                                                                           \n",
       "Education_1     Indian Institute of Management, Bangalore                                                                                                                                                                                                                                                                                                                                                                                                                                                                                                                                                                                                                                                                                                                                                           \n",
       "Education_2     Sri Bhagawan Mahaveer Jain College                                                                                                                                                                                                                                                                                                                                                                                                                                                                                                                                                                                                                                                                                                                                                                  \n",
       "Experience_1    Head of Marketing, India\\nCompany Name\\nAkamai Technologies\\nDates Employed\\n2017 – Present\\nEmployment Duration\\n3 yrs\\nLocation\\nBengaluru Area, India                                                                                                                                                                                                                                                                                                                                                                                                                                                                                                                                                                                                                                            \n",
       "Experience_2    Advisor & Mentor\\nCompany Name\\nAirbus BizLab - Aerospace Accelerator\\nDates Employed\\n2017 – Present\\nEmployment Duration\\n3 yrs\\nLocation\\nBengaluru Area, India\\nAirbus BizLab is a global aerospace accelerator, where startups and Airbus intrapreneurs speed up the transformation of innovative ideas into valuable businesses.\\n\\n• Advisor for startups of the cohort on their GTM strategies\\n• Deliver strategic workshops and learning sessions to accelerate product time-to-market and GTM models\\n• Mentor leadership teams to build scalable solutions\\n• Connect startups to relevant industry partners and customers\\n• Ideate to enable close deals, faster\\n• Work with the BizLab leadership team to execute on global and regional priorities for the accelerator\\n…\\nsee more\n",
       "Name            Roopesh Balakrishna                                                                                                                                                                                                                                                                                                                                                                                                                                                                                                                                                                                                                                                                                                                                                                                 \n",
       "Skills          ['Start-ups', 'Sales', 'Integrated Marketing']                                                                                                                                                                                                                                                                                                                                                                                                                                                                                                                                                                                                                                                                                                                                                      \n",
       "Summary         Marketing, Sales and Advertising professional with over 13 years in building foundational GTM strategies for enterprises and leading startups. Currently heading Marketing for India and Sub-continent at Akamai Technologies.\\n... see more                                                                                                                                                                                                                                                                                                                                                                                                                                                                                                                                                        \n",
       "URL             https://www.linkedin.com/in/roopeshbalakrishna/?originalSubdomain=in                                                                                                                                                                                                                                                                                                                                                                                                                                                                                                                                                                                                                                                                                                                                \n",
       "Name: 4640, dtype: object"
      ]
     },
     "execution_count": 32,
     "metadata": {},
     "output_type": "execute_result"
    }
   ],
   "source": [
    "df.iloc[3870]"
   ]
  },
  {
   "cell_type": "code",
   "execution_count": null,
   "metadata": {},
   "outputs": [],
   "source": [
    "def expconv2months(x):\n",
    "    try:\n",
    "        a=x.split('\\n')\n",
    "        if 'Total Duration' in a:\n",
    "            t1=a.index('Total Duration')\n",
    "        else:\n",
    "            t1=a.index('Employment Duration')\n",
    "        dur1=a[t1+1]\n",
    "        z1=dur1.split(' ')\n",
    "        n1,n2=0,0\n",
    "        n1=[int(z1[z1.index(s)-1])*12 for s in z1 if any(xs in s for xs in ['yrs','yr'])]\n",
    "        n2=[int(z1[z1.index(s)-1]) for s in z1 if any(xs in s for xs in ['mos','mo'])]\n",
    "        return sum(n1+n2)\n",
    "    except:\n",
    "        return 0"
   ]
  }
 ],
 "metadata": {
  "kernelspec": {
   "display_name": "Python 3",
   "language": "python",
   "name": "python3"
  },
  "language_info": {
   "codemirror_mode": {
    "name": "ipython",
    "version": 3
   },
   "file_extension": ".py",
   "mimetype": "text/x-python",
   "name": "python",
   "nbconvert_exporter": "python",
   "pygments_lexer": "ipython3",
   "version": "3.7.3"
  }
 },
 "nbformat": 4,
 "nbformat_minor": 2
}
