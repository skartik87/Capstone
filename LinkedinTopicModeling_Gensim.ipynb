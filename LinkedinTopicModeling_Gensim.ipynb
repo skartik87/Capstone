{
  "nbformat": 4,
  "nbformat_minor": 0,
  "metadata": {
    "colab": {
      "name": "Skartik_Linkedin Gensim.ipynb",
      "provenance": [],
      "collapsed_sections": [],
      "toc_visible": true
    },
    "kernelspec": {
      "name": "python3",
      "display_name": "Python 3"
    }
  },
  "cells": [
    {
      "cell_type": "code",
      "metadata": {
        "id": "xTAhf503tgiS",
        "colab_type": "code",
        "outputId": "0c914e21-11e0-4348-f219-198dd7ba29c9",
        "colab": {
          "base_uri": "https://localhost:8080/",
          "height": 72
        }
      },
      "source": [
        "import pandas as pd\n",
        "import nltk; nltk.download('stopwords')"
      ],
      "execution_count": 1,
      "outputs": [
        {
          "output_type": "stream",
          "text": [
            "[nltk_data] Downloading package stopwords to /root/nltk_data...\n",
            "[nltk_data]   Unzipping corpora/stopwords.zip.\n"
          ],
          "name": "stdout"
        },
        {
          "output_type": "execute_result",
          "data": {
            "text/plain": [
              "True"
            ]
          },
          "metadata": {
            "tags": []
          },
          "execution_count": 1
        }
      ]
    },
    {
      "cell_type": "code",
      "metadata": {
        "id": "YltvdS1M3jTu",
        "colab_type": "code",
        "colab": {}
      },
      "source": [
        "# NLTK Stop words\n",
        "from nltk.corpus import stopwords\n",
        "stop_words = stopwords.words('english')\n",
        "stop_words.extend(['from', 'subject', 're', 'edu', 'use'])"
      ],
      "execution_count": 0,
      "outputs": []
    },
    {
      "cell_type": "code",
      "metadata": {
        "id": "Rlj1A2p_3EPM",
        "colab_type": "code",
        "outputId": "e7162ead-fdef-4150-8d7d-9a55f7997bcc",
        "colab": {
          "base_uri": "https://localhost:8080/",
          "height": 674
        }
      },
      "source": [
        "!pip install pyLDAvis"
      ],
      "execution_count": 3,
      "outputs": [
        {
          "output_type": "stream",
          "text": [
            "Collecting pyLDAvis\n",
            "\u001b[?25l  Downloading https://files.pythonhosted.org/packages/a5/3a/af82e070a8a96e13217c8f362f9a73e82d61ac8fff3a2561946a97f96266/pyLDAvis-2.1.2.tar.gz (1.6MB)\n",
            "\u001b[K     |████████████████████████████████| 1.6MB 2.8MB/s \n",
            "\u001b[?25hRequirement already satisfied: wheel>=0.23.0 in /usr/local/lib/python3.6/dist-packages (from pyLDAvis) (0.34.2)\n",
            "Requirement already satisfied: numpy>=1.9.2 in /usr/local/lib/python3.6/dist-packages (from pyLDAvis) (1.18.1)\n",
            "Requirement already satisfied: scipy>=0.18.0 in /usr/local/lib/python3.6/dist-packages (from pyLDAvis) (1.4.1)\n",
            "Requirement already satisfied: pandas>=0.17.0 in /usr/local/lib/python3.6/dist-packages (from pyLDAvis) (0.25.3)\n",
            "Requirement already satisfied: joblib>=0.8.4 in /usr/local/lib/python3.6/dist-packages (from pyLDAvis) (0.14.1)\n",
            "Requirement already satisfied: jinja2>=2.7.2 in /usr/local/lib/python3.6/dist-packages (from pyLDAvis) (2.11.1)\n",
            "Requirement already satisfied: numexpr in /usr/local/lib/python3.6/dist-packages (from pyLDAvis) (2.7.1)\n",
            "Requirement already satisfied: pytest in /usr/local/lib/python3.6/dist-packages (from pyLDAvis) (3.6.4)\n",
            "Requirement already satisfied: future in /usr/local/lib/python3.6/dist-packages (from pyLDAvis) (0.16.0)\n",
            "Collecting funcy\n",
            "\u001b[?25l  Downloading https://files.pythonhosted.org/packages/ce/4b/6ffa76544e46614123de31574ad95758c421aae391a1764921b8a81e1eae/funcy-1.14.tar.gz (548kB)\n",
            "\u001b[K     |████████████████████████████████| 552kB 21.7MB/s \n",
            "\u001b[?25hRequirement already satisfied: python-dateutil>=2.6.1 in /usr/local/lib/python3.6/dist-packages (from pandas>=0.17.0->pyLDAvis) (2.8.1)\n",
            "Requirement already satisfied: pytz>=2017.2 in /usr/local/lib/python3.6/dist-packages (from pandas>=0.17.0->pyLDAvis) (2018.9)\n",
            "Requirement already satisfied: MarkupSafe>=0.23 in /usr/local/lib/python3.6/dist-packages (from jinja2>=2.7.2->pyLDAvis) (1.1.1)\n",
            "Requirement already satisfied: py>=1.5.0 in /usr/local/lib/python3.6/dist-packages (from pytest->pyLDAvis) (1.8.1)\n",
            "Requirement already satisfied: pluggy<0.8,>=0.5 in /usr/local/lib/python3.6/dist-packages (from pytest->pyLDAvis) (0.7.1)\n",
            "Requirement already satisfied: attrs>=17.4.0 in /usr/local/lib/python3.6/dist-packages (from pytest->pyLDAvis) (19.3.0)\n",
            "Requirement already satisfied: setuptools in /usr/local/lib/python3.6/dist-packages (from pytest->pyLDAvis) (45.2.0)\n",
            "Requirement already satisfied: six>=1.10.0 in /usr/local/lib/python3.6/dist-packages (from pytest->pyLDAvis) (1.12.0)\n",
            "Requirement already satisfied: atomicwrites>=1.0 in /usr/local/lib/python3.6/dist-packages (from pytest->pyLDAvis) (1.3.0)\n",
            "Requirement already satisfied: more-itertools>=4.0.0 in /usr/local/lib/python3.6/dist-packages (from pytest->pyLDAvis) (8.2.0)\n",
            "Building wheels for collected packages: pyLDAvis, funcy\n",
            "  Building wheel for pyLDAvis (setup.py) ... \u001b[?25l\u001b[?25hdone\n",
            "  Created wheel for pyLDAvis: filename=pyLDAvis-2.1.2-py2.py3-none-any.whl size=97711 sha256=e5c4483bde4a6ea28ac0136a9907037e00e49f1f2c0c73b3f5e7817002535453\n",
            "  Stored in directory: /root/.cache/pip/wheels/98/71/24/513a99e58bb6b8465bae4d2d5e9dba8f0bef8179e3051ac414\n",
            "  Building wheel for funcy (setup.py) ... \u001b[?25l\u001b[?25hdone\n",
            "  Created wheel for funcy: filename=funcy-1.14-py2.py3-none-any.whl size=32042 sha256=cc8ec60df2ed32114e48584c4b47870a3a4c9e780f1e28ece429f6bb4e97a173\n",
            "  Stored in directory: /root/.cache/pip/wheels/20/5a/d8/1d875df03deae6f178dfdf70238cca33f948ef8a6f5209f2eb\n",
            "Successfully built pyLDAvis funcy\n",
            "Installing collected packages: funcy, pyLDAvis\n",
            "Successfully installed funcy-1.14 pyLDAvis-2.1.2\n"
          ],
          "name": "stdout"
        }
      ]
    },
    {
      "cell_type": "code",
      "metadata": {
        "id": "T8RwLLD526rm",
        "colab_type": "code",
        "colab": {}
      },
      "source": [
        "import re\n",
        "import numpy as np\n",
        "import pandas as pd\n",
        "from pprint import pprint\n",
        "\n",
        "# Gensim\n",
        "import gensim\n",
        "import gensim.corpora as corpora\n",
        "from gensim.utils import simple_preprocess\n",
        "from gensim.models import CoherenceModel\n",
        "\n",
        "# spacy for lemmatization\n",
        "import spacy\n",
        "\n",
        "# Plotting tools\n",
        "import pyLDAvis\n",
        "import pyLDAvis.gensim  # don't skip this\n",
        "import matplotlib.pyplot as plt\n",
        "%matplotlib inline\n",
        "\n",
        "# Enable logging for gensim - optional\n",
        "import logging\n",
        "logging.basicConfig(format='%(asctime)s : %(levelname)s : %(message)s', level=logging.ERROR)\n",
        "\n",
        "import warnings\n",
        "warnings.filterwarnings(\"ignore\",category=DeprecationWarning)"
      ],
      "execution_count": 0,
      "outputs": []
    },
    {
      "cell_type": "code",
      "metadata": {
        "id": "zMm-MFBZ0pG5",
        "colab_type": "code",
        "colab": {}
      },
      "source": [
        "df1=pd.read_excel('/content/ShiladithData_March182020.xlsx')\n",
        "df2=pd.read_excel('/content/SkartikData_March182020.xlsx')"
      ],
      "execution_count": 0,
      "outputs": []
    },
    {
      "cell_type": "code",
      "metadata": {
        "id": "lHHAzz0500aJ",
        "colab_type": "code",
        "outputId": "e4c16efa-8c21-484b-c2e6-b17cebed42d2",
        "colab": {
          "base_uri": "https://localhost:8080/",
          "height": 202
        }
      },
      "source": [
        "df2.head(1)"
      ],
      "execution_count": 6,
      "outputs": [
        {
          "output_type": "execute_result",
          "data": {
            "text/html": [
              "<div>\n",
              "<style scoped>\n",
              "    .dataframe tbody tr th:only-of-type {\n",
              "        vertical-align: middle;\n",
              "    }\n",
              "\n",
              "    .dataframe tbody tr th {\n",
              "        vertical-align: top;\n",
              "    }\n",
              "\n",
              "    .dataframe thead th {\n",
              "        text-align: right;\n",
              "    }\n",
              "</style>\n",
              "<table border=\"1\" class=\"dataframe\">\n",
              "  <thead>\n",
              "    <tr style=\"text-align: right;\">\n",
              "      <th></th>\n",
              "      <th>Unnamed: 0</th>\n",
              "      <th>Contact</th>\n",
              "      <th>Top Skills</th>\n",
              "      <th>Languages</th>\n",
              "      <th>Certifications</th>\n",
              "      <th>Honors-Awards</th>\n",
              "      <th>Publications</th>\n",
              "      <th>Summary</th>\n",
              "      <th>Experience</th>\n",
              "      <th>Education</th>\n",
              "      <th>Designation_1</th>\n",
              "      <th>ExpDurationInMonths_1</th>\n",
              "      <th>Experience_Summary_1</th>\n",
              "      <th>Designation_2</th>\n",
              "      <th>ExpDurationInMonths_2</th>\n",
              "      <th>Experience_Summary_2</th>\n",
              "      <th>Education_1</th>\n",
              "      <th>EduDurationInMonths_1</th>\n",
              "      <th>Education_2</th>\n",
              "      <th>EduDurationInMonths_2</th>\n",
              "      <th>URL</th>\n",
              "    </tr>\n",
              "  </thead>\n",
              "  <tbody>\n",
              "    <tr>\n",
              "      <th>0</th>\n",
              "      <td>0</td>\n",
              "      <td>['www.linkedin.com/in/srihari-j\\n(LinkedIn)', ...</td>\n",
              "      <td>['Machine Learning', 'Deep Learning', 'Angular...</td>\n",
              "      <td>NaN</td>\n",
              "      <td>['Sequence Models', 'Convolutional Neural Netw...</td>\n",
              "      <td>['Wackiest Idea Award', 'Winner - Programming ...</td>\n",
              "      <td>NaN</td>\n",
              "      <td>['A versatile, self-driven and passionate indi...</td>\n",
              "      <td>['Arizona State University', '5 months', 'Teac...</td>\n",
              "      <td>['Arizona State University', 'Master of Scienc...</td>\n",
              "      <td>Teaching Assistant</td>\n",
              "      <td>5.0</td>\n",
              "      <td>['Teaching Assistant for CSE205 - Object-Orien...</td>\n",
              "      <td>Research Assistant</td>\n",
              "      <td>4.0</td>\n",
              "      <td>['Developing automated memory allocation and p...</td>\n",
              "      <td>Master of Science - MS,Computer Science·(2019-...</td>\n",
              "      <td>24.0</td>\n",
              "      <td>Bachelor of Technology,Information Technology·...</td>\n",
              "      <td>48.0</td>\n",
              "      <td>www.linkedin.com/in/srihari-j</td>\n",
              "    </tr>\n",
              "  </tbody>\n",
              "</table>\n",
              "</div>"
            ],
            "text/plain": [
              "   Unnamed: 0  ...                            URL\n",
              "0           0  ...  www.linkedin.com/in/srihari-j\n",
              "\n",
              "[1 rows x 21 columns]"
            ]
          },
          "metadata": {
            "tags": []
          },
          "execution_count": 6
        }
      ]
    },
    {
      "cell_type": "code",
      "metadata": {
        "id": "ASLgrAzy1CUQ",
        "colab_type": "code",
        "outputId": "b1e038c8-9329-4276-d821-9fdf4d9dd74b",
        "colab": {
          "base_uri": "https://localhost:8080/",
          "height": 35
        }
      },
      "source": [
        "df1.shape"
      ],
      "execution_count": 7,
      "outputs": [
        {
          "output_type": "execute_result",
          "data": {
            "text/plain": [
              "(374, 21)"
            ]
          },
          "metadata": {
            "tags": []
          },
          "execution_count": 7
        }
      ]
    },
    {
      "cell_type": "code",
      "metadata": {
        "id": "bNEnskjh1Ef2",
        "colab_type": "code",
        "outputId": "f0f39abe-33a9-4e5b-d1c6-f7c27e22c075",
        "colab": {
          "base_uri": "https://localhost:8080/",
          "height": 35
        }
      },
      "source": [
        "df2.shape"
      ],
      "execution_count": 8,
      "outputs": [
        {
          "output_type": "execute_result",
          "data": {
            "text/plain": [
              "(390, 21)"
            ]
          },
          "metadata": {
            "tags": []
          },
          "execution_count": 8
        }
      ]
    },
    {
      "cell_type": "code",
      "metadata": {
        "id": "nmuzn30X08Oy",
        "colab_type": "code",
        "colab": {}
      },
      "source": [
        "df_final = pd.concat([df1, df2],ignore_index=True)"
      ],
      "execution_count": 0,
      "outputs": []
    },
    {
      "cell_type": "code",
      "metadata": {
        "id": "S2B9nylb1Bfu",
        "colab_type": "code",
        "outputId": "ce7a7d58-6c3e-4f23-e6f0-b864e839ddc2",
        "colab": {
          "base_uri": "https://localhost:8080/",
          "height": 35
        }
      },
      "source": [
        "df_final.shape"
      ],
      "execution_count": 10,
      "outputs": [
        {
          "output_type": "execute_result",
          "data": {
            "text/plain": [
              "(764, 21)"
            ]
          },
          "metadata": {
            "tags": []
          },
          "execution_count": 10
        }
      ]
    },
    {
      "cell_type": "code",
      "metadata": {
        "id": "mRs1hCKb1Kao",
        "colab_type": "code",
        "outputId": "f962455f-36de-4686-897a-5217609fc5da",
        "colab": {
          "base_uri": "https://localhost:8080/",
          "height": 35
        }
      },
      "source": [
        "len(df_final['URL'])"
      ],
      "execution_count": 11,
      "outputs": [
        {
          "output_type": "execute_result",
          "data": {
            "text/plain": [
              "764"
            ]
          },
          "metadata": {
            "tags": []
          },
          "execution_count": 11
        }
      ]
    },
    {
      "cell_type": "code",
      "metadata": {
        "id": "_ZmjXGAd1RyX",
        "colab_type": "code",
        "colab": {}
      },
      "source": [
        "df_dup = df_final.drop_duplicates('URL', keep='last')"
      ],
      "execution_count": 0,
      "outputs": []
    },
    {
      "cell_type": "code",
      "metadata": {
        "id": "r8Pt3UCy1w1o",
        "colab_type": "code",
        "outputId": "b43d28b4-fe28-4eb5-b051-9c19660b742c",
        "colab": {
          "base_uri": "https://localhost:8080/",
          "height": 35
        }
      },
      "source": [
        "df_dup.shape"
      ],
      "execution_count": 13,
      "outputs": [
        {
          "output_type": "execute_result",
          "data": {
            "text/plain": [
              "(748, 21)"
            ]
          },
          "metadata": {
            "tags": []
          },
          "execution_count": 13
        }
      ]
    },
    {
      "cell_type": "code",
      "metadata": {
        "id": "XkoaA58812A7",
        "colab_type": "code",
        "outputId": "74daecde-4213-4f7b-bb66-8c2c9fd8b953",
        "colab": {
          "base_uri": "https://localhost:8080/",
          "height": 528
        }
      },
      "source": [
        "!python3 -m spacy download en"
      ],
      "execution_count": 14,
      "outputs": [
        {
          "output_type": "stream",
          "text": [
            "Requirement already satisfied: en_core_web_sm==2.2.5 from https://github.com/explosion/spacy-models/releases/download/en_core_web_sm-2.2.5/en_core_web_sm-2.2.5.tar.gz#egg=en_core_web_sm==2.2.5 in /usr/local/lib/python3.6/dist-packages (2.2.5)\n",
            "Requirement already satisfied: spacy>=2.2.2 in /usr/local/lib/python3.6/dist-packages (from en_core_web_sm==2.2.5) (2.2.3)\n",
            "Requirement already satisfied: setuptools in /usr/local/lib/python3.6/dist-packages (from spacy>=2.2.2->en_core_web_sm==2.2.5) (45.2.0)\n",
            "Requirement already satisfied: plac<1.2.0,>=0.9.6 in /usr/local/lib/python3.6/dist-packages (from spacy>=2.2.2->en_core_web_sm==2.2.5) (1.1.3)\n",
            "Requirement already satisfied: requests<3.0.0,>=2.13.0 in /usr/local/lib/python3.6/dist-packages (from spacy>=2.2.2->en_core_web_sm==2.2.5) (2.21.0)\n",
            "Requirement already satisfied: murmurhash<1.1.0,>=0.28.0 in /usr/local/lib/python3.6/dist-packages (from spacy>=2.2.2->en_core_web_sm==2.2.5) (1.0.2)\n",
            "Requirement already satisfied: wasabi<1.1.0,>=0.4.0 in /usr/local/lib/python3.6/dist-packages (from spacy>=2.2.2->en_core_web_sm==2.2.5) (0.6.0)\n",
            "Requirement already satisfied: catalogue<1.1.0,>=0.0.7 in /usr/local/lib/python3.6/dist-packages (from spacy>=2.2.2->en_core_web_sm==2.2.5) (1.0.0)\n",
            "Requirement already satisfied: blis<0.5.0,>=0.4.0 in /usr/local/lib/python3.6/dist-packages (from spacy>=2.2.2->en_core_web_sm==2.2.5) (0.4.1)\n",
            "Requirement already satisfied: cymem<2.1.0,>=2.0.2 in /usr/local/lib/python3.6/dist-packages (from spacy>=2.2.2->en_core_web_sm==2.2.5) (2.0.3)\n",
            "Requirement already satisfied: srsly<1.1.0,>=0.1.0 in /usr/local/lib/python3.6/dist-packages (from spacy>=2.2.2->en_core_web_sm==2.2.5) (1.0.2)\n",
            "Requirement already satisfied: numpy>=1.15.0 in /usr/local/lib/python3.6/dist-packages (from spacy>=2.2.2->en_core_web_sm==2.2.5) (1.18.1)\n",
            "Requirement already satisfied: preshed<3.1.0,>=3.0.2 in /usr/local/lib/python3.6/dist-packages (from spacy>=2.2.2->en_core_web_sm==2.2.5) (3.0.2)\n",
            "Requirement already satisfied: thinc<7.4.0,>=7.3.0 in /usr/local/lib/python3.6/dist-packages (from spacy>=2.2.2->en_core_web_sm==2.2.5) (7.3.1)\n",
            "Requirement already satisfied: chardet<3.1.0,>=3.0.2 in /usr/local/lib/python3.6/dist-packages (from requests<3.0.0,>=2.13.0->spacy>=2.2.2->en_core_web_sm==2.2.5) (3.0.4)\n",
            "Requirement already satisfied: urllib3<1.25,>=1.21.1 in /usr/local/lib/python3.6/dist-packages (from requests<3.0.0,>=2.13.0->spacy>=2.2.2->en_core_web_sm==2.2.5) (1.24.3)\n",
            "Requirement already satisfied: certifi>=2017.4.17 in /usr/local/lib/python3.6/dist-packages (from requests<3.0.0,>=2.13.0->spacy>=2.2.2->en_core_web_sm==2.2.5) (2019.11.28)\n",
            "Requirement already satisfied: idna<2.9,>=2.5 in /usr/local/lib/python3.6/dist-packages (from requests<3.0.0,>=2.13.0->spacy>=2.2.2->en_core_web_sm==2.2.5) (2.8)\n",
            "Requirement already satisfied: importlib-metadata>=0.20; python_version < \"3.8\" in /usr/local/lib/python3.6/dist-packages (from catalogue<1.1.0,>=0.0.7->spacy>=2.2.2->en_core_web_sm==2.2.5) (1.5.0)\n",
            "Requirement already satisfied: tqdm<5.0.0,>=4.10.0 in /usr/local/lib/python3.6/dist-packages (from thinc<7.4.0,>=7.3.0->spacy>=2.2.2->en_core_web_sm==2.2.5) (4.28.1)\n",
            "Requirement already satisfied: zipp>=0.5 in /usr/local/lib/python3.6/dist-packages (from importlib-metadata>=0.20; python_version < \"3.8\"->catalogue<1.1.0,>=0.0.7->spacy>=2.2.2->en_core_web_sm==2.2.5) (3.1.0)\n",
            "\u001b[38;5;2m✔ Download and installation successful\u001b[0m\n",
            "You can now load the model via spacy.load('en_core_web_sm')\n",
            "\u001b[38;5;2m✔ Linking successful\u001b[0m\n",
            "/usr/local/lib/python3.6/dist-packages/en_core_web_sm -->\n",
            "/usr/local/lib/python3.6/dist-packages/spacy/data/en\n",
            "You can now load the model via spacy.load('en')\n"
          ],
          "name": "stdout"
        }
      ]
    },
    {
      "cell_type": "code",
      "metadata": {
        "id": "Zj-_fQ-P2wKf",
        "colab_type": "code",
        "outputId": "ee5f4100-bf99-4d0f-dcf2-5f1c3c40829e",
        "colab": {
          "base_uri": "https://localhost:8080/",
          "height": 145
        }
      },
      "source": [
        "df_dup.columns"
      ],
      "execution_count": 15,
      "outputs": [
        {
          "output_type": "execute_result",
          "data": {
            "text/plain": [
              "Index(['Unnamed: 0', 'Contact', 'Top Skills', 'Languages', 'Certifications',\n",
              "       'Honors-Awards', 'Publications', 'Summary', 'Experience', 'Education',\n",
              "       'Designation_1', 'ExpDurationInMonths_1', 'Experience_Summary_1',\n",
              "       'Designation_2', 'ExpDurationInMonths_2', 'Experience_Summary_2',\n",
              "       'Education_1', 'EduDurationInMonths_1', 'Education_2',\n",
              "       'EduDurationInMonths_2', 'URL'],\n",
              "      dtype='object')"
            ]
          },
          "metadata": {
            "tags": []
          },
          "execution_count": 15
        }
      ]
    },
    {
      "cell_type": "code",
      "metadata": {
        "id": "QEl_7B2hyxLx",
        "colab_type": "code",
        "colab": {}
      },
      "source": [
        "#del df_dup['test']"
      ],
      "execution_count": 0,
      "outputs": []
    },
    {
      "cell_type": "code",
      "metadata": {
        "id": "Th8nFvyUlqM_",
        "colab_type": "code",
        "outputId": "7ad8ad29-95f8-40c8-ff03-aa8129628938",
        "colab": {
          "base_uri": "https://localhost:8080/",
          "height": 145
        }
      },
      "source": [
        "df_dup.columns"
      ],
      "execution_count": 18,
      "outputs": [
        {
          "output_type": "execute_result",
          "data": {
            "text/plain": [
              "Index(['Unnamed: 0', 'Contact', 'Top Skills', 'Languages', 'Certifications',\n",
              "       'Honors-Awards', 'Publications', 'Summary', 'Experience', 'Education',\n",
              "       'Designation_1', 'ExpDurationInMonths_1', 'Experience_Summary_1',\n",
              "       'Designation_2', 'ExpDurationInMonths_2', 'Experience_Summary_2',\n",
              "       'Education_1', 'EduDurationInMonths_1', 'Education_2',\n",
              "       'EduDurationInMonths_2', 'URL'],\n",
              "      dtype='object')"
            ]
          },
          "metadata": {
            "tags": []
          },
          "execution_count": 18
        }
      ]
    },
    {
      "cell_type": "code",
      "metadata": {
        "id": "yJHfaAXjqAiE",
        "colab_type": "code",
        "colab": {}
      },
      "source": [
        "df2 = df_dup.assign(ColumnA = df_dup[\"Summary\"].astype(str) + ', ' + \\\n",
        "  df_dup[\"Experience_Summary_1\"].astype(str) + ', ' +df_dup['Experience_Summary_2'].astype(str))"
      ],
      "execution_count": 0,
      "outputs": []
    },
    {
      "cell_type": "code",
      "metadata": {
        "id": "S2FTEIvRqqqL",
        "colab_type": "code",
        "outputId": "f54bd9ac-1954-47d0-dfa6-151650216d2e",
        "colab": {
          "base_uri": "https://localhost:8080/",
          "height": 55
        }
      },
      "source": [
        "df2['ColumnA'][1]"
      ],
      "execution_count": 20,
      "outputs": [
        {
          "output_type": "execute_result",
          "data": {
            "text/plain": [
              "\"['Top Skills', 'Entrepreneurship', 'Seed Capital', 'Trading', 'Languages', 'English', 'Vivek is extremely passionate about financial markets and educating\\\\npeople on various aspects of finance, necessary for inclusive\\\\ndevelopment in society. ', 'He started his career as analyst and went on to build one of the\\\\nlargest financial market trading firms in India. He loves technology\\\\nand uses the same to its full potential in building his business\\\\nenterprises. Currently he is full time involved in elearnmarkets.com\\\\nand stockedge which are truly revolutionizing the way financial\\\\nmarket is approached in India, particularly by youngsters. '], ['Empowering the individual retail investors, particularly first-timers like', 'millennials with right learning, accurate data and effective analytics for', 'independent financial decisions.', 'Over 1 million downloads and active user base of 200,000 with a rating of 4.7', '(highest rated finance app in India, in this category) speaks a lot about our', 'dedication and effort.  ', 'Elearnmarkets'], ['Co founder of elearnmarkets.com, a dedicated BFSI elearning market place', 'in India with over 100+ practical oriented courses by industry experts. I has', 'collaboration with Industry leaders like NSE, MCX, NCDEX, ICICI DIRECT', 'etc and offers joint programs with them on online mode with lots of interactive', 'learning tools. Currently has over 80000 users in the portal. ', 'Page 1 of 3', 'Fincubation.com']\""
            ]
          },
          "metadata": {
            "tags": []
          },
          "execution_count": 20
        }
      ]
    },
    {
      "cell_type": "code",
      "metadata": {
        "id": "Cs39cM27stMc",
        "colab_type": "code",
        "colab": {}
      },
      "source": [
        "data = df2.ColumnA.values\n",
        "data = [re.sub('\\S*@\\S*\\s?', '', sent) for sent in data]"
      ],
      "execution_count": 0,
      "outputs": []
    },
    {
      "cell_type": "code",
      "metadata": {
        "id": "bUO8_zvnsxeC",
        "colab_type": "code",
        "colab": {}
      },
      "source": [
        "def b(text):\n",
        "    for ch in ['\\\\n','.',\"\\'\",'\\\\s','[]','[]','[',']','-','\"','=>',':','\\\\uf','=','(',')','\\\\xa0','•','&','.',',',\"'\"]:\n",
        "        if ch in text:\n",
        "            text = text.replace(ch,\" \")\n",
        "    return text"
      ],
      "execution_count": 0,
      "outputs": []
    },
    {
      "cell_type": "code",
      "metadata": {
        "id": "fBvgfMD65Qjr",
        "colab_type": "code",
        "colab": {}
      },
      "source": [
        "data = [b(sent) for sent in data]"
      ],
      "execution_count": 0,
      "outputs": []
    },
    {
      "cell_type": "code",
      "metadata": {
        "id": "oosspUjJzp2e",
        "colab_type": "code",
        "colab": {
          "base_uri": "https://localhost:8080/",
          "height": 35
        },
        "outputId": "2d7bbc28-04ec-4639-d2f4-4fa0180250bc"
      },
      "source": [
        "type(data)"
      ],
      "execution_count": 43,
      "outputs": [
        {
          "output_type": "execute_result",
          "data": {
            "text/plain": [
              "list"
            ]
          },
          "metadata": {
            "tags": []
          },
          "execution_count": 43
        }
      ]
    },
    {
      "cell_type": "markdown",
      "metadata": {
        "id": "c0NP9XfLz7Qy",
        "colab_type": "text"
      },
      "source": [
        "# **Tokenize words and Clean-up text**"
      ]
    },
    {
      "cell_type": "code",
      "metadata": {
        "id": "2UxM3mOfzraW",
        "colab_type": "code",
        "colab": {}
      },
      "source": [
        "def sent_to_words(sentences):\n",
        "    for sentence in sentences:\n",
        "        yield(gensim.utils.simple_preprocess(str(sentence), deacc=True))  # deacc=True removes punctuations"
      ],
      "execution_count": 0,
      "outputs": []
    },
    {
      "cell_type": "code",
      "metadata": {
        "id": "IIrl5ELB0SIe",
        "colab_type": "code",
        "colab": {}
      },
      "source": [
        "data_orig = list(sent_to_words(data))"
      ],
      "execution_count": 0,
      "outputs": []
    },
    {
      "cell_type": "code",
      "metadata": {
        "id": "GKuWE9IT0YqW",
        "colab_type": "code",
        "colab": {
          "base_uri": "https://localhost:8080/",
          "height": 35
        },
        "outputId": "2085d818-7d64-467e-8770-08932d001310"
      },
      "source": [
        "data_orig[:1]"
      ],
      "execution_count": 127,
      "outputs": [
        {
          "output_type": "execute_result",
          "data": {
            "text/plain": [
              "[['nan', 'keventer', 'agro', 'nan']]"
            ]
          },
          "metadata": {
            "tags": []
          },
          "execution_count": 127
        }
      ]
    },
    {
      "cell_type": "code",
      "metadata": {
        "id": "tR0IK0eSGsIH",
        "colab_type": "code",
        "colab": {
          "base_uri": "https://localhost:8080/",
          "height": 35
        },
        "outputId": "a15c5dda-60ee-4846-9765-bb160044f48f"
      },
      "source": [
        "len(data_orig)"
      ],
      "execution_count": 128,
      "outputs": [
        {
          "output_type": "execute_result",
          "data": {
            "text/plain": [
              "748"
            ]
          },
          "metadata": {
            "tags": []
          },
          "execution_count": 128
        }
      ]
    },
    {
      "cell_type": "code",
      "metadata": {
        "id": "Xn9gaAvAAc0-",
        "colab_type": "code",
        "colab": {}
      },
      "source": [
        "data_words=data_orig"
      ],
      "execution_count": 0,
      "outputs": []
    },
    {
      "cell_type": "code",
      "metadata": {
        "id": "dUJTXCDTEU_E",
        "colab_type": "code",
        "colab": {}
      },
      "source": [
        "i=0\n",
        "while i < len(data_words):\n",
        "    try:\n",
        "      data_words[i].remove('nan')\n",
        "    except:\n",
        "      i+=1\n",
        "      continue\n",
        "    i+=1"
      ],
      "execution_count": 0,
      "outputs": []
    },
    {
      "cell_type": "code",
      "metadata": {
        "id": "qpksI2ywGmVx",
        "colab_type": "code",
        "colab": {
          "base_uri": "https://localhost:8080/",
          "height": 35
        },
        "outputId": "344c5b79-c2ad-4061-cc51-1c1912e400bc"
      },
      "source": [
        "data_words[:1]"
      ],
      "execution_count": 134,
      "outputs": [
        {
          "output_type": "execute_result",
          "data": {
            "text/plain": [
              "[['keventer', 'agro']]"
            ]
          },
          "metadata": {
            "tags": []
          },
          "execution_count": 134
        }
      ]
    },
    {
      "cell_type": "code",
      "metadata": {
        "id": "BvFXHdf2Guu7",
        "colab_type": "code",
        "colab": {
          "base_uri": "https://localhost:8080/",
          "height": 35
        },
        "outputId": "1fb7f727-c597-4df4-d8d6-bb161676f5fa"
      },
      "source": [
        "len(test)"
      ],
      "execution_count": 135,
      "outputs": [
        {
          "output_type": "execute_result",
          "data": {
            "text/plain": [
              "748"
            ]
          },
          "metadata": {
            "tags": []
          },
          "execution_count": 135
        }
      ]
    },
    {
      "cell_type": "markdown",
      "metadata": {
        "id": "OxLHf2Td0m7d",
        "colab_type": "text"
      },
      "source": [
        "# **Creating Bigram and Trigram Models**"
      ]
    },
    {
      "cell_type": "code",
      "metadata": {
        "id": "SZyUkm1I0hfh",
        "colab_type": "code",
        "colab": {
          "base_uri": "https://localhost:8080/",
          "height": 92
        },
        "outputId": "643dfed4-9c6a-4453-a522-a2d6dbd5fd15"
      },
      "source": [
        "# Build the bigram and trigram models\n",
        "bigram = gensim.models.Phrases(data_words, min_count=5, threshold=100) # higher threshold fewer phrases.\n",
        "trigram = gensim.models.Phrases(bigram[data_words], threshold=100)  \n",
        "\n",
        "# Faster way to get a sentence clubbed as a trigram/bigram\n",
        "bigram_mod = gensim.models.phrases.Phraser(bigram)\n",
        "trigram_mod = gensim.models.phrases.Phraser(trigram)\n",
        "\n",
        "# See trigram example\n",
        "print(trigram_mod[bigram_mod[data_words[1]]])"
      ],
      "execution_count": 136,
      "outputs": [
        {
          "output_type": "stream",
          "text": [
            "/usr/local/lib/python3.6/dist-packages/gensim/models/phrases.py:598: UserWarning: For a faster implementation, use the gensim.models.phrases.Phraser class\n",
            "  warnings.warn(\"For a faster implementation, use the gensim.models.phrases.Phraser class\")\n"
          ],
          "name": "stderr"
        },
        {
          "output_type": "stream",
          "text": [
            "['top', 'skills', 'seed', 'capital', 'trading', 'languages_english', 'vivek', 'is', 'extremely', 'passionate_about', 'financial', 'markets', 'and', 'educating', 'people', 'on', 'various', 'aspects', 'of', 'finance', 'necessary', 'for', 'inclusive', 'development', 'in', 'society', 'he', 'started', 'his', 'career', 'as', 'analyst', 'and', 'went', 'on', 'to', 'build', 'one', 'of', 'the', 'largest', 'financial', 'market', 'trading', 'firms', 'in', 'india', 'he', 'loves', 'technology', 'and', 'uses', 'the', 'same', 'to', 'its', 'full', 'potential', 'in', 'building', 'his', 'business', 'enterprises', 'currently', 'he', 'is', 'full', 'time', 'involved', 'in', 'elearnmarkets', 'com', 'and', 'stockedge', 'which', 'are', 'truly', 'revolutionizing', 'the', 'way', 'financial', 'market', 'is', 'approached', 'in', 'india', 'particularly', 'by', 'youngsters', 'empowering', 'the', 'individual', 'retail', 'investors', 'particularly', 'first', 'timers', 'like', 'millennials', 'with', 'right', 'learning', 'accurate', 'data', 'and', 'effective', 'analytics', 'for', 'independent', 'financial', 'decisions', 'over', 'million', 'downloads', 'and', 'active', 'user', 'base', 'of', 'with', 'rating', 'of', 'highest', 'rated', 'finance', 'app', 'in', 'india', 'in', 'this', 'category', 'speaks', 'lot', 'about', 'our', 'dedication', 'and', 'effort', 'elearnmarkets', 'co', 'founder', 'of', 'elearnmarkets', 'com', 'dedicated', 'bfsi', 'elearning', 'market', 'place', 'in', 'india', 'with', 'over', 'practical', 'oriented', 'courses', 'by', 'industry', 'experts', 'has', 'collaboration', 'with', 'industry', 'leaders', 'like', 'nse', 'mcx', 'ncdex', 'icici', 'direct', 'etc', 'and', 'offers', 'joint', 'programs', 'with', 'them', 'on', 'online', 'mode', 'with', 'lots', 'of', 'interactive', 'learning', 'tools', 'currently', 'has', 'over', 'users', 'in', 'the', 'portal', 'page', 'of', 'fincubation', 'com']\n"
          ],
          "name": "stdout"
        }
      ]
    },
    {
      "cell_type": "markdown",
      "metadata": {
        "id": "YIUCuDZq245I",
        "colab_type": "text"
      },
      "source": [
        "# **Remove Stopwords, Make Bigrams and Lemmatize**"
      ]
    },
    {
      "cell_type": "code",
      "metadata": {
        "id": "Al9L9toO21d5",
        "colab_type": "code",
        "colab": {}
      },
      "source": [
        "# Define functions for stopwords, bigrams, trigrams and lemmatization\n",
        "def remove_stopwords(texts):\n",
        "    return [[word for word in simple_preprocess(str(doc)) if word not in stop_words] for doc in texts]\n",
        "\n",
        "def make_bigrams(texts):\n",
        "    return [bigram_mod[doc] for doc in texts]\n",
        "\n",
        "def make_trigrams(texts):\n",
        "    return [trigram_mod[bigram_mod[doc]] for doc in texts]\n",
        "\n",
        "def lemmatization(texts, allowed_postags=['NOUN', 'ADJ', 'VERB', 'ADV']):\n",
        "    \"\"\"https://spacy.io/api/annotation\"\"\"\n",
        "    texts_out = []\n",
        "    for sent in texts:\n",
        "        doc = nlp(\" \".join(sent)) \n",
        "        texts_out.append([token.lemma_ for token in doc if token.pos_ in allowed_postags])\n",
        "    return texts_out"
      ],
      "execution_count": 0,
      "outputs": []
    },
    {
      "cell_type": "markdown",
      "metadata": {
        "id": "TWZdzFA942hL",
        "colab_type": "text"
      },
      "source": [
        "# **Call functions in order**"
      ]
    },
    {
      "cell_type": "code",
      "metadata": {
        "id": "LZAlFgss4y8Z",
        "colab_type": "code",
        "colab": {
          "base_uri": "https://localhost:8080/",
          "height": 55
        },
        "outputId": "158734ce-716d-42cd-8078-03447b02d88f"
      },
      "source": [
        "# Remove Stop Words\n",
        "data_words_nostops = remove_stopwords(data_words)\n",
        "\n",
        "# Form Bigrams\n",
        "data_words_bigrams = make_bigrams(data_words_nostops)\n",
        "\n",
        "# Initialize spacy 'en' model, keeping only tagger component (for efficiency)\n",
        "# python3 -m spacy download en\n",
        "nlp = spacy.load('en', disable=['parser', 'ner'])\n",
        "\n",
        "# Do lemmatization keeping only noun, adj, vb, adv\n",
        "data_lemmatized_orig = lemmatization(data_words_bigrams, allowed_postags=['NOUN', 'ADJ', 'VERB', 'ADV'])\n",
        "\n",
        "print(data_lemmatized_orig[:2])"
      ],
      "execution_count": 150,
      "outputs": [
        {
          "output_type": "stream",
          "text": [
            "[[], ['top', 'skill', 'seed', 'capital', 'trading', 'extremely', 'passionate', 'financial', 'market', 'educate', 'people', 'various', 'aspect', 'finance', 'necessary', 'society', 'start', 'career', 'analyst', 'go', 'build', 'large', 'financial', 'market', 'trading', 'firm', 'love', 'technology', 'use', 'full', 'potential', 'building', 'business', 'enterprise', 'currently', 'full', 'time', 'involve', 'elearnmarket', 'com', 'truly', 'revolutionize', 'way', 'financial', 'market', 'approach', 'particularly', 'youngster', 'empower', 'individual', 'retail', 'investor', 'particularly', 'first', 'timer', 'millennial', 'right', 'learn', 'accurate', 'datum', 'effective', 'analytic', 'independent', 'financial', 'decision', 'download', 'active', 'user', 'base', 'rate', 'high', 'rate', 'finance', 'category', 'speak', 'effort', 'elearnmarket', 'founder', 'elearnmarket', 'com', 'dedicate', 'elearne', 'market', 'place', 'orient', 'course', 'industry', 'expert', 'collaboration', 'industry', 'leader', 'icici', 'direct', 'offer', 'joint', 'program', 'online', 'mode', 'lot', 'interactive', 'learning', 'tool', 'currently', 'user', 'portal', 'page', 'fincubation', 'com']]\n"
          ],
          "name": "stdout"
        }
      ]
    },
    {
      "cell_type": "code",
      "metadata": {
        "id": "VNl-C2JVHlgj",
        "colab_type": "code",
        "colab": {}
      },
      "source": [
        "data_lemmatized=[x for x in data_lemmatized_orig if x]"
      ],
      "execution_count": 0,
      "outputs": []
    },
    {
      "cell_type": "markdown",
      "metadata": {
        "id": "kCWfAuR6HRDw",
        "colab_type": "text"
      },
      "source": [
        "# **Create the Dictionary and Corpus needed for Topic Modeling**"
      ]
    },
    {
      "cell_type": "markdown",
      "metadata": {
        "id": "QKTr3SwKHXZz",
        "colab_type": "text"
      },
      "source": [
        "The two main inputs to the LDA topic model are the dictionary(id2word) and the corpus. Let’s create them"
      ]
    },
    {
      "cell_type": "code",
      "metadata": {
        "id": "pzfkCrAp58y1",
        "colab_type": "code",
        "colab": {
          "base_uri": "https://localhost:8080/",
          "height": 55
        },
        "outputId": "4a0dcba5-63c1-4125-ea84-275e010327e7"
      },
      "source": [
        "# Create Dictionary\n",
        "id2word = corpora.Dictionary(data_lemmatized)\n",
        "\n",
        "# Create Corpus\n",
        "texts = data_lemmatized\n",
        "\n",
        "# Term Document Frequency\n",
        "corpus = [id2word.doc2bow(text) for text in texts]\n",
        "\n",
        "# View\n",
        "print(corpus[:1])"
      ],
      "execution_count": 154,
      "outputs": [
        {
          "output_type": "stream",
          "text": [
            "[[(0, 1), (1, 1), (2, 1), (3, 1), (4, 1), (5, 1), (6, 1), (7, 1), (8, 1), (9, 1), (10, 1), (11, 1), (12, 1), (13, 1), (14, 3), (15, 1), (16, 2), (17, 1), (18, 1), (19, 1), (20, 1), (21, 1), (22, 1), (23, 1), (24, 1), (25, 1), (26, 3), (27, 1), (28, 1), (29, 1), (30, 1), (31, 2), (32, 4), (33, 1), (34, 1), (35, 1), (36, 1), (37, 2), (38, 1), (39, 1), (40, 1), (41, 1), (42, 1), (43, 2), (44, 1), (45, 1), (46, 1), (47, 1), (48, 1), (49, 1), (50, 1), (51, 1), (52, 1), (53, 1), (54, 4), (55, 1), (56, 1), (57, 1), (58, 1), (59, 1), (60, 1), (61, 1), (62, 2), (63, 1), (64, 1), (65, 1), (66, 1), (67, 1), (68, 1), (69, 2), (70, 1), (71, 1), (72, 1), (73, 1), (74, 1), (75, 1), (76, 1), (77, 1), (78, 1), (79, 1), (80, 1), (81, 1), (82, 1), (83, 2), (84, 1), (85, 1), (86, 2), (87, 1), (88, 1), (89, 1)]]\n"
          ],
          "name": "stdout"
        }
      ]
    },
    {
      "cell_type": "code",
      "metadata": {
        "id": "DVxaoS9mIooq",
        "colab_type": "code",
        "colab": {
          "base_uri": "https://localhost:8080/",
          "height": 35
        },
        "outputId": "a8507d93-0cc3-41cf-f9bb-1234a5884281"
      },
      "source": [
        "id2word[83]"
      ],
      "execution_count": 158,
      "outputs": [
        {
          "output_type": "execute_result",
          "data": {
            "text/plain": [
              "'trading'"
            ]
          },
          "metadata": {
            "tags": []
          },
          "execution_count": 158
        }
      ]
    },
    {
      "cell_type": "code",
      "metadata": {
        "id": "casXYWOpI1GB",
        "colab_type": "code",
        "colab": {
          "base_uri": "https://localhost:8080/",
          "height": 1654
        },
        "outputId": "7d869df9-6d75-4d69-aa60-9891bd3f78f1"
      },
      "source": [
        "# Human readable format of corpus (term-frequency)\n",
        "[[(id2word[id], freq) for id, freq in cp] for cp in corpus[:1]]"
      ],
      "execution_count": 159,
      "outputs": [
        {
          "output_type": "execute_result",
          "data": {
            "text/plain": [
              "[[('accurate', 1),\n",
              "  ('active', 1),\n",
              "  ('analyst', 1),\n",
              "  ('analytic', 1),\n",
              "  ('approach', 1),\n",
              "  ('aspect', 1),\n",
              "  ('base', 1),\n",
              "  ('build', 1),\n",
              "  ('building', 1),\n",
              "  ('business', 1),\n",
              "  ('capital', 1),\n",
              "  ('career', 1),\n",
              "  ('category', 1),\n",
              "  ('collaboration', 1),\n",
              "  ('com', 3),\n",
              "  ('course', 1),\n",
              "  ('currently', 2),\n",
              "  ('datum', 1),\n",
              "  ('decision', 1),\n",
              "  ('dedicate', 1),\n",
              "  ('direct', 1),\n",
              "  ('download', 1),\n",
              "  ('educate', 1),\n",
              "  ('effective', 1),\n",
              "  ('effort', 1),\n",
              "  ('elearne', 1),\n",
              "  ('elearnmarket', 3),\n",
              "  ('empower', 1),\n",
              "  ('enterprise', 1),\n",
              "  ('expert', 1),\n",
              "  ('extremely', 1),\n",
              "  ('finance', 2),\n",
              "  ('financial', 4),\n",
              "  ('fincubation', 1),\n",
              "  ('firm', 1),\n",
              "  ('first', 1),\n",
              "  ('founder', 1),\n",
              "  ('full', 2),\n",
              "  ('go', 1),\n",
              "  ('high', 1),\n",
              "  ('icici', 1),\n",
              "  ('independent', 1),\n",
              "  ('individual', 1),\n",
              "  ('industry', 2),\n",
              "  ('interactive', 1),\n",
              "  ('investor', 1),\n",
              "  ('involve', 1),\n",
              "  ('joint', 1),\n",
              "  ('large', 1),\n",
              "  ('leader', 1),\n",
              "  ('learn', 1),\n",
              "  ('learning', 1),\n",
              "  ('lot', 1),\n",
              "  ('love', 1),\n",
              "  ('market', 4),\n",
              "  ('millennial', 1),\n",
              "  ('mode', 1),\n",
              "  ('necessary', 1),\n",
              "  ('offer', 1),\n",
              "  ('online', 1),\n",
              "  ('orient', 1),\n",
              "  ('page', 1),\n",
              "  ('particularly', 2),\n",
              "  ('passionate', 1),\n",
              "  ('people', 1),\n",
              "  ('place', 1),\n",
              "  ('portal', 1),\n",
              "  ('potential', 1),\n",
              "  ('program', 1),\n",
              "  ('rate', 2),\n",
              "  ('retail', 1),\n",
              "  ('revolutionize', 1),\n",
              "  ('right', 1),\n",
              "  ('seed', 1),\n",
              "  ('skill', 1),\n",
              "  ('society', 1),\n",
              "  ('speak', 1),\n",
              "  ('start', 1),\n",
              "  ('technology', 1),\n",
              "  ('time', 1),\n",
              "  ('timer', 1),\n",
              "  ('tool', 1),\n",
              "  ('top', 1),\n",
              "  ('trading', 2),\n",
              "  ('truly', 1),\n",
              "  ('use', 1),\n",
              "  ('user', 2),\n",
              "  ('various', 1),\n",
              "  ('way', 1),\n",
              "  ('youngster', 1)]]"
            ]
          },
          "metadata": {
            "tags": []
          },
          "execution_count": 159
        }
      ]
    },
    {
      "cell_type": "markdown",
      "metadata": {
        "id": "jWh7XtxXI9X4",
        "colab_type": "text"
      },
      "source": [
        "# **Building the Topic Model**"
      ]
    },
    {
      "cell_type": "code",
      "metadata": {
        "id": "XyqIThonI61p",
        "colab_type": "code",
        "colab": {}
      },
      "source": [
        "# Build LDA model\n",
        "lda_model = gensim.models.ldamodel.LdaModel(corpus=corpus,\n",
        "                                           id2word=id2word,\n",
        "                                           num_topics=20, \n",
        "                                           random_state=100,\n",
        "                                           update_every=1,\n",
        "                                           chunksize=100,\n",
        "                                           passes=10,\n",
        "                                           alpha='auto',\n",
        "                                           per_word_topics=True)"
      ],
      "execution_count": 0,
      "outputs": []
    },
    {
      "cell_type": "markdown",
      "metadata": {
        "id": "sak8pbQFJf30",
        "colab_type": "text"
      },
      "source": [
        "# **View the topics in LDA model**"
      ]
    },
    {
      "cell_type": "markdown",
      "metadata": {
        "id": "efUGubqnJqC0",
        "colab_type": "text"
      },
      "source": [
        "The above LDA model is built with 20 different topics where each topic is a combination of keywords and each keyword contributes a certain weightage to the topic.You can see the keywords for each topic and the weightage(importance) of each keyword using lda_model.print_topics() as shown next."
      ]
    },
    {
      "cell_type": "code",
      "metadata": {
        "id": "BIA5vwUqJh3t",
        "colab_type": "code",
        "colab": {
          "base_uri": "https://localhost:8080/",
          "height": 1472
        },
        "outputId": "6fd1f1f7-7d4b-4901-e75a-a424a19251d6"
      },
      "source": [
        "# Print the Keyword in the 10 topics\n",
        "pprint(lda_model.print_topics())\n",
        "doc_lda = lda_model[corpus]"
      ],
      "execution_count": 161,
      "outputs": [
        {
          "output_type": "stream",
          "text": [
            "[(0,\n",
            "  '0.037*\"resume\" + 0.029*\"human\" + 0.025*\"receive\" + 0.020*\"serve\" + '\n",
            "  '0.018*\"single\" + 0.017*\"lab\" + 0.013*\"chief\" + 0.012*\"mobility\" + '\n",
            "  '0.011*\"cell\" + 0.011*\"experiment\"'),\n",
            " (1,\n",
            "  '0.040*\"business\" + 0.030*\"management\" + 0.026*\"experience\" + 0.020*\"team\" + '\n",
            "  '0.017*\"client\" + 0.016*\"year\" + 0.016*\"service\" + 0.016*\"manage\" + '\n",
            "  '0.012*\"strategy\" + 0.011*\"work\"'),\n",
            " (2,\n",
            "  '0.028*\"base\" + 0.022*\"com\" + 0.020*\"child\" + 0.019*\"early\" + '\n",
            "  '0.018*\"technology\" + 0.015*\"learn\" + 0.014*\"science\" + 0.014*\"assessment\" + '\n",
            "  '0.014*\"interest\" + 0.014*\"http\"'),\n",
            " (3,\n",
            "  '0.019*\"recruitment\" + 0.016*\"design\" + 0.015*\"requirement\" + '\n",
            "  '0.014*\"different\" + 0.014*\"project\" + 0.014*\"work\" + 0.014*\"candidate\" + '\n",
            "  '0.013*\"team\" + 0.013*\"page\" + 0.013*\"time\"'),\n",
            " (4,\n",
            "  '0.036*\"work\" + 0.021*\"also\" + 0.019*\"policy\" + 0.019*\"role\" + '\n",
            "  '0.018*\"various\" + 0.017*\"government\" + 0.016*\"international\" + '\n",
            "  '0.016*\"include\" + 0.014*\"member\" + 0.013*\"part\"'),\n",
            " (5,\n",
            "  '0.067*\"technology\" + 0.033*\"engineering\" + 0.027*\"engineer\" + 0.027*\"work\" '\n",
            "  '+ 0.023*\"years_month\" + 0.019*\"student\" + 0.019*\"software\" + 0.017*\"madra\" '\n",
            "  '+ 0.015*\"tech\" + 0.015*\"pursue\"'),\n",
            " (6,\n",
            "  '0.038*\"datum\" + 0.034*\"design\" + 0.027*\"experience\" + 0.026*\"product\" + '\n",
            "  '0.023*\"tool\" + 0.020*\"use\" + 0.020*\"technology\" + 0.018*\"develop\" + '\n",
            "  '0.017*\"application\" + 0.016*\"automation\"'),\n",
            " (7,\n",
            "  '0.044*\"marketing\" + 0.022*\"brand\" + 0.019*\"sector\" + 0.016*\"family\" + '\n",
            "  '0.016*\"public\" + 0.015*\"health\" + 0.015*\"digital\" + 0.014*\"fund\" + '\n",
            "  '0.014*\"medium\" + 0.013*\"content\"'),\n",
            " (8,\n",
            "  '0.054*\"test\" + 0.049*\"testing\" + 0.022*\"script\" + 0.020*\"system\" + '\n",
            "  '0.019*\"use\" + 0.016*\"modeling\" + 0.016*\"create\" + 0.013*\"hadoop\" + '\n",
            "  '0.012*\"feature\" + 0.012*\"manual\"'),\n",
            " (9,\n",
            "  '0.025*\"food\" + 0.018*\"specialist\" + 0.016*\"sustainable\" + 0.016*\"woman\" + '\n",
            "  '0.014*\"country\" + 0.013*\"suitable\" + 0.013*\"explore\" + 0.013*\"community\" + '\n",
            "  '0.013*\"career\" + 0.013*\"novel\"'),\n",
            " (10,\n",
            "  '0.022*\"technology\" + 0.020*\"company\" + 0.019*\"lead\" + 0.015*\"global\" + '\n",
            "  '0.014*\"startup\" + 0.013*\"world\" + 0.012*\"help\" + 0.012*\"people\" + '\n",
            "  '0.011*\"leadership\" + 0.011*\"leader\"'),\n",
            " (11,\n",
            "  '0.048*\"employee\" + 0.039*\"hire\" + 0.032*\"interview\" + 0.028*\"job\" + '\n",
            "  '0.024*\"staffing\" + 0.018*\"process\" + 0.017*\"end\" + 0.017*\"position\" + '\n",
            "  '0.016*\"talent\" + 0.015*\"law\"'),\n",
            " (12,\n",
            "  '0.040*\"management\" + 0.028*\"professional\" + 0.026*\"strong\" + 0.026*\"work\" + '\n",
            "  '0.025*\"marketing\" + 0.024*\"focus\" + 0.023*\"experienced\" + 0.022*\"market\" + '\n",
            "  '0.020*\"program\" + 0.019*\"information\"'),\n",
            " (13,\n",
            "  '0.111*\"datum\" + 0.056*\"science\" + 0.039*\"analytic\" + 0.035*\"use\" + '\n",
            "  '0.030*\"analysis\" + 0.024*\"model\" + 0.023*\"data\" + 0.017*\"algorithm\" + '\n",
            "  '0.016*\"statistical\" + 0.015*\"optimization\"'),\n",
            " (14,\n",
            "  '0.066*\"sale\" + 0.038*\"month\" + 0.024*\"order\" + 0.021*\"increase\" + '\n",
            "  '0.017*\"region\" + 0.017*\"negotiation\" + 0.016*\"demonstrated_history\" + '\n",
            "  '0.014*\"channel\" + 0.013*\"letter\" + 0.012*\"transfer\"'),\n",
            " (15,\n",
            "  '0.044*\"product\" + 0.032*\"ai\" + 0.032*\"mentor\" + 0.024*\"analytic\" + '\n",
            "  '0.020*\"risk\" + 0.019*\"bank\" + 0.016*\"responsible\" + 0.016*\"enterprise\" + '\n",
            "  '0.016*\"serve\" + 0.016*\"practice\"'),\n",
            " (16,\n",
            "  '0.053*\"project\" + 0.020*\"screening\" + 0.017*\"plant\" + 0.016*\"full\" + '\n",
            "  '0.016*\"draft\" + 0.015*\"oracle\" + 0.014*\"coordinate\" + 0.012*\"cognizant\" + '\n",
            "  '0.011*\"type\" + 0.010*\"well_verse\"'),\n",
            " (17,\n",
            "  '0.055*\"research\" + 0.035*\"student\" + 0.017*\"review\" + 0.016*\"framework\" + '\n",
            "  '0.015*\"course\" + 0.014*\"technique\" + 0.014*\"system\" + 0.013*\"write\" + '\n",
            "  '0.012*\"work\" + 0.012*\"task\"'),\n",
            " (18,\n",
            "  '0.046*\"banking\" + 0.041*\"system\" + 0.016*\"study\" + 0.016*\"pipeline\" + '\n",
            "  '0.015*\"text\" + 0.012*\"show\" + 0.012*\"analysis\" + 0.011*\"fluid\" + '\n",
            "  '0.009*\"research\" + 0.008*\"flow\"'),\n",
            " (19,\n",
            "  '0.021*\"utility\" + 0.020*\"supervise\" + 0.019*\"catalyst\" + 0.014*\"foundation\" '\n",
            "  '+ 0.013*\"determination\" + 0.013*\"agenda\" + 0.013*\"batch\" + 0.011*\"ever\" + '\n",
            "  '0.011*\"subsidiary\" + 0.009*\"outstanding\"')]\n"
          ],
          "name": "stdout"
        }
      ]
    },
    {
      "cell_type": "markdown",
      "metadata": {
        "id": "5lm_SN6rLSkV",
        "colab_type": "text"
      },
      "source": [
        "Topic 0 is represented as \n",
        "(0,\n",
        "  '0.037*\"resume\" + 0.029*\"human\" + 0.025*\"receive\" + 0.020*\"serve\" + '\n",
        "  '0.018*\"single\" + 0.017*\"lab\" + 0.013*\"chief\" + 0.012*\"mobility\" + '\n",
        "  '0.011*\"cell\" + 0.011*\"experiment\"'),\n",
        "It means the top 10 keywords that contribute to this topic are: resume,human etc and the weight of resume on Topic 0 is 0.037\n",
        "The weights reflect how important a keyword is to that topic.\n",
        "Looking at these keywords, we need to guess what this topic could be.\n",
        "Likewise we you go through the remaining topic keywords and judge what the topic is"
      ]
    },
    {
      "cell_type": "markdown",
      "metadata": {
        "id": "8THcx4hkMGrW",
        "colab_type": "text"
      },
      "source": [
        "# **Compute Model Perplexity and Coherence Score**"
      ]
    },
    {
      "cell_type": "markdown",
      "metadata": {
        "id": "VQNNEmA-MI8y",
        "colab_type": "text"
      },
      "source": [
        "Model perplexity and topic coherence provide a convenient measure to judge how good a given topic model is."
      ]
    },
    {
      "cell_type": "code",
      "metadata": {
        "id": "fEjK7GmbKxai",
        "colab_type": "code",
        "colab": {
          "base_uri": "https://localhost:8080/",
          "height": 90
        },
        "outputId": "e4c0b6ed-0e4d-4bc4-d55e-05268053959f"
      },
      "source": [
        "# Compute Perplexity\n",
        "print('\\nPerplexity: ', lda_model.log_perplexity(corpus))  # a measure of how good the model is. lower the better.\n",
        "\n",
        "# Compute Coherence Score\n",
        "coherence_model_lda = CoherenceModel(model=lda_model, texts=data_lemmatized, dictionary=id2word, coherence='c_v')\n",
        "coherence_lda = coherence_model_lda.get_coherence()\n",
        "print('\\nCoherence Score: ', coherence_lda)\n",
        "#We have got a low coherence score. \n",
        "#We can try to adjust your parameters alpha = .1, beta = .01 or .001, seed = 123 or get better data"
      ],
      "execution_count": 162,
      "outputs": [
        {
          "output_type": "stream",
          "text": [
            "\n",
            "Perplexity:  -7.652943371086192\n",
            "\n",
            "Coherence Score:  0.3947378205683595\n"
          ],
          "name": "stdout"
        }
      ]
    },
    {
      "cell_type": "markdown",
      "metadata": {
        "id": "pHHXyDXCM8wS",
        "colab_type": "text"
      },
      "source": [
        "# **Visualize the topics-keywords**"
      ]
    },
    {
      "cell_type": "markdown",
      "metadata": {
        "id": "6jeHa9x-NHGi",
        "colab_type": "text"
      },
      "source": [
        "Now that the LDA model is built, the next step is to examine the produced topics and the associated keywords"
      ]
    },
    {
      "cell_type": "code",
      "metadata": {
        "id": "7gA2finyM6Fx",
        "colab_type": "code",
        "colab": {
          "base_uri": "https://localhost:8080/",
          "height": 1026
        },
        "outputId": "bf0c0035-c043-4d99-8ef6-8e0a514850b3"
      },
      "source": [
        "# Visualize the topics\n",
        "pyLDAvis.enable_notebook()\n",
        "vis = pyLDAvis.gensim.prepare(lda_model, corpus, id2word)\n",
        "vis"
      ],
      "execution_count": 163,
      "outputs": [
        {
          "output_type": "stream",
          "text": [
            "/usr/local/lib/python3.6/dist-packages/pyLDAvis/_prepare.py:257: FutureWarning: Sorting because non-concatenation axis is not aligned. A future version\n",
            "of pandas will change to not sort by default.\n",
            "\n",
            "To accept the future behavior, pass 'sort=False'.\n",
            "\n",
            "To retain the current behavior and silence the warning, pass 'sort=True'.\n",
            "\n",
            "  return pd.concat([default_term_info] + list(topic_dfs))\n"
          ],
          "name": "stderr"
        },
        {
          "output_type": "execute_result",
          "data": {
            "text/html": [
              "\n",
              "<link rel=\"stylesheet\" type=\"text/css\" href=\"https://cdn.rawgit.com/bmabey/pyLDAvis/files/ldavis.v1.0.0.css\">\n",
              "\n",
              "\n",
              "<div id=\"ldavis_el1211398114799066089918417234\"></div>\n",
              "<script type=\"text/javascript\">\n",
              "\n",
              "var ldavis_el1211398114799066089918417234_data = {\"mdsDat\": {\"x\": [0.2948108061239236, 0.22864637286349163, 0.14402135339355518, 0.17514324803724746, 0.07397520869780072, 0.15339018746192196, 0.050094804209218274, -0.04020315984289578, 0.03127558712995354, -0.047763109065467615, -0.04905804313381318, -0.042355330261260454, -0.14731635728262246, -0.07877926848088408, -0.1349464278508317, -0.11780385935888744, -0.040143855363887294, -0.1363084970994551, -0.14708710473068268, -0.16959255544642482], \"y\": [0.030751463588664065, -0.08921739733192455, 0.17514015635045296, -0.20219991733320375, 0.09539277312489876, 0.07255427678939852, 0.18169395756355475, -0.10550126321211817, -0.23416940431350985, 0.07052084185434762, -0.011566266846083214, -0.030971538374348764, -0.054445190367912816, 0.09037582931739742, -0.01368915261132771, -0.07533923672859788, 0.018189691899729098, 0.04546859892497425, 0.017259418291091573, 0.01975235941451794], \"topics\": [1, 2, 3, 4, 5, 6, 7, 8, 9, 10, 11, 12, 13, 14, 15, 16, 17, 18, 19, 20], \"cluster\": [1, 1, 1, 1, 1, 1, 1, 1, 1, 1, 1, 1, 1, 1, 1, 1, 1, 1, 1, 1], \"Freq\": [25.39455795288086, 11.791391372680664, 8.855008125305176, 6.788202285766602, 6.4329609870910645, 6.2214508056640625, 4.627519607543945, 3.8436763286590576, 3.8197762966156006, 2.7730467319488525, 2.614375591278076, 2.533395290374756, 2.2735347747802734, 2.23355770111084, 1.9369570016860962, 1.887771725654602, 1.8795373439788818, 1.8270643949508667, 1.4837477207183838, 0.782470703125]}, \"tinfo\": {\"Category\": [\"Default\", \"Default\", \"Default\", \"Default\", \"Default\", \"Default\", \"Default\", \"Default\", \"Default\", \"Default\", \"Default\", \"Default\", \"Default\", \"Default\", \"Default\", \"Default\", \"Default\", \"Default\", \"Default\", \"Default\", \"Default\", \"Default\", \"Default\", \"Default\", \"Default\", \"Default\", \"Default\", \"Default\", \"Default\", \"Default\", \"Topic1\", \"Topic1\", \"Topic1\", \"Topic1\", \"Topic1\", \"Topic1\", \"Topic1\", \"Topic1\", \"Topic1\", \"Topic1\", \"Topic1\", \"Topic1\", \"Topic1\", \"Topic1\", \"Topic1\", \"Topic1\", \"Topic1\", \"Topic1\", \"Topic1\", \"Topic1\", \"Topic1\", \"Topic1\", \"Topic1\", \"Topic1\", \"Topic1\", \"Topic1\", \"Topic1\", \"Topic1\", \"Topic1\", \"Topic1\", \"Topic1\", \"Topic1\", \"Topic1\", \"Topic1\", \"Topic1\", \"Topic1\", \"Topic1\", \"Topic1\", \"Topic1\", \"Topic1\", \"Topic1\", \"Topic1\", \"Topic1\", \"Topic1\", \"Topic1\", \"Topic1\", \"Topic1\", \"Topic1\", \"Topic1\", \"Topic1\", \"Topic1\", \"Topic1\", \"Topic1\", \"Topic1\", \"Topic1\", \"Topic1\", \"Topic1\", \"Topic1\", \"Topic1\", \"Topic1\", \"Topic1\", \"Topic1\", \"Topic1\", \"Topic1\", \"Topic1\", \"Topic1\", \"Topic1\", \"Topic1\", \"Topic1\", \"Topic1\", \"Topic2\", \"Topic2\", \"Topic2\", \"Topic2\", \"Topic2\", \"Topic2\", \"Topic2\", \"Topic2\", \"Topic2\", \"Topic2\", \"Topic2\", \"Topic2\", \"Topic2\", \"Topic2\", \"Topic2\", \"Topic2\", \"Topic2\", \"Topic2\", \"Topic2\", \"Topic2\", \"Topic2\", \"Topic2\", \"Topic2\", \"Topic2\", \"Topic2\", \"Topic2\", \"Topic2\", \"Topic2\", \"Topic2\", \"Topic2\", \"Topic2\", \"Topic2\", \"Topic2\", \"Topic2\", \"Topic2\", \"Topic2\", \"Topic2\", \"Topic2\", \"Topic2\", \"Topic2\", \"Topic2\", \"Topic2\", \"Topic2\", \"Topic2\", \"Topic2\", \"Topic2\", \"Topic2\", \"Topic2\", \"Topic2\", \"Topic2\", \"Topic2\", \"Topic2\", \"Topic2\", \"Topic2\", \"Topic2\", \"Topic2\", \"Topic2\", \"Topic2\", \"Topic2\", \"Topic3\", \"Topic3\", \"Topic3\", \"Topic3\", \"Topic3\", \"Topic3\", \"Topic3\", \"Topic3\", \"Topic3\", \"Topic3\", \"Topic3\", \"Topic3\", \"Topic3\", \"Topic3\", \"Topic3\", \"Topic3\", \"Topic3\", \"Topic3\", \"Topic3\", \"Topic3\", \"Topic3\", \"Topic3\", \"Topic3\", \"Topic3\", \"Topic3\", \"Topic3\", \"Topic3\", \"Topic3\", \"Topic3\", \"Topic3\", \"Topic3\", \"Topic3\", \"Topic3\", \"Topic3\", \"Topic3\", \"Topic3\", \"Topic3\", \"Topic3\", \"Topic3\", \"Topic3\", \"Topic3\", \"Topic3\", \"Topic3\", \"Topic3\", \"Topic3\", \"Topic3\", \"Topic3\", \"Topic3\", \"Topic3\", \"Topic3\", \"Topic3\", \"Topic3\", \"Topic3\", \"Topic3\", \"Topic3\", \"Topic3\", \"Topic3\", \"Topic3\", \"Topic3\", \"Topic3\", \"Topic3\", \"Topic3\", \"Topic3\", \"Topic4\", \"Topic4\", \"Topic4\", \"Topic4\", \"Topic4\", \"Topic4\", \"Topic4\", \"Topic4\", \"Topic4\", \"Topic4\", \"Topic4\", \"Topic4\", \"Topic4\", \"Topic4\", \"Topic4\", \"Topic4\", \"Topic4\", \"Topic4\", \"Topic4\", \"Topic4\", \"Topic4\", \"Topic4\", \"Topic4\", \"Topic4\", \"Topic4\", \"Topic4\", \"Topic4\", \"Topic4\", \"Topic4\", \"Topic4\", \"Topic4\", \"Topic4\", \"Topic4\", \"Topic4\", \"Topic4\", \"Topic4\", \"Topic4\", \"Topic4\", \"Topic4\", \"Topic4\", \"Topic4\", \"Topic4\", \"Topic4\", \"Topic4\", \"Topic4\", \"Topic4\", \"Topic4\", \"Topic4\", \"Topic4\", \"Topic4\", \"Topic4\", \"Topic4\", \"Topic4\", \"Topic4\", \"Topic4\", \"Topic4\", \"Topic4\", \"Topic4\", \"Topic4\", \"Topic4\", \"Topic4\", \"Topic4\", \"Topic4\", \"Topic5\", \"Topic5\", \"Topic5\", \"Topic5\", \"Topic5\", \"Topic5\", \"Topic5\", \"Topic5\", \"Topic5\", \"Topic5\", \"Topic5\", \"Topic5\", \"Topic5\", \"Topic5\", \"Topic5\", \"Topic5\", \"Topic5\", \"Topic5\", \"Topic5\", \"Topic5\", \"Topic5\", \"Topic5\", \"Topic5\", \"Topic5\", \"Topic5\", \"Topic5\", \"Topic5\", \"Topic5\", \"Topic5\", \"Topic5\", \"Topic5\", \"Topic5\", \"Topic5\", \"Topic5\", \"Topic5\", \"Topic5\", \"Topic5\", \"Topic5\", \"Topic5\", \"Topic5\", \"Topic5\", \"Topic5\", \"Topic5\", \"Topic5\", \"Topic5\", \"Topic5\", \"Topic5\", \"Topic5\", \"Topic5\", \"Topic5\", \"Topic5\", \"Topic5\", \"Topic5\", \"Topic5\", \"Topic5\", \"Topic6\", \"Topic6\", \"Topic6\", \"Topic6\", \"Topic6\", \"Topic6\", \"Topic6\", \"Topic6\", \"Topic6\", \"Topic6\", \"Topic6\", \"Topic6\", \"Topic6\", \"Topic6\", \"Topic6\", \"Topic6\", \"Topic6\", \"Topic6\", \"Topic6\", \"Topic6\", \"Topic6\", \"Topic6\", \"Topic6\", \"Topic6\", \"Topic6\", \"Topic6\", \"Topic6\", \"Topic6\", \"Topic6\", \"Topic6\", \"Topic6\", \"Topic6\", \"Topic6\", \"Topic6\", \"Topic6\", \"Topic6\", \"Topic6\", \"Topic6\", \"Topic6\", \"Topic6\", \"Topic6\", \"Topic6\", \"Topic6\", \"Topic6\", \"Topic6\", \"Topic6\", \"Topic6\", \"Topic6\", \"Topic6\", \"Topic6\", \"Topic6\", \"Topic6\", \"Topic6\", \"Topic6\", \"Topic6\", \"Topic6\", \"Topic6\", \"Topic6\", \"Topic6\", \"Topic6\", \"Topic6\", \"Topic6\", \"Topic7\", \"Topic7\", \"Topic7\", \"Topic7\", \"Topic7\", \"Topic7\", \"Topic7\", \"Topic7\", \"Topic7\", \"Topic7\", \"Topic7\", \"Topic7\", \"Topic7\", \"Topic7\", \"Topic7\", \"Topic7\", \"Topic7\", \"Topic7\", \"Topic7\", \"Topic7\", \"Topic7\", \"Topic7\", \"Topic7\", \"Topic7\", \"Topic7\", \"Topic7\", \"Topic7\", \"Topic7\", \"Topic7\", \"Topic7\", \"Topic7\", \"Topic7\", \"Topic7\", \"Topic7\", \"Topic7\", \"Topic7\", \"Topic7\", \"Topic7\", \"Topic7\", \"Topic7\", \"Topic7\", \"Topic7\", \"Topic7\", \"Topic7\", \"Topic7\", \"Topic7\", \"Topic7\", \"Topic7\", \"Topic7\", \"Topic7\", \"Topic7\", \"Topic7\", \"Topic7\", \"Topic7\", \"Topic8\", \"Topic8\", \"Topic8\", \"Topic8\", \"Topic8\", \"Topic8\", \"Topic8\", \"Topic8\", \"Topic8\", \"Topic8\", \"Topic8\", \"Topic8\", \"Topic8\", \"Topic8\", \"Topic8\", \"Topic8\", \"Topic8\", \"Topic8\", \"Topic8\", \"Topic8\", \"Topic8\", \"Topic8\", \"Topic8\", \"Topic8\", \"Topic8\", \"Topic8\", \"Topic8\", \"Topic8\", \"Topic8\", \"Topic8\", \"Topic8\", \"Topic8\", \"Topic8\", \"Topic8\", \"Topic8\", \"Topic8\", \"Topic8\", \"Topic8\", \"Topic8\", \"Topic8\", \"Topic8\", \"Topic8\", \"Topic8\", \"Topic8\", \"Topic8\", \"Topic8\", \"Topic8\", \"Topic8\", \"Topic8\", \"Topic8\", \"Topic8\", \"Topic8\", \"Topic9\", \"Topic9\", \"Topic9\", \"Topic9\", \"Topic9\", \"Topic9\", \"Topic9\", \"Topic9\", \"Topic9\", \"Topic9\", \"Topic9\", \"Topic9\", \"Topic9\", \"Topic9\", \"Topic9\", \"Topic9\", \"Topic9\", \"Topic9\", \"Topic9\", \"Topic9\", \"Topic9\", \"Topic9\", \"Topic9\", \"Topic9\", \"Topic9\", \"Topic9\", \"Topic9\", \"Topic9\", \"Topic9\", \"Topic9\", \"Topic9\", \"Topic9\", \"Topic9\", \"Topic9\", \"Topic9\", \"Topic9\", \"Topic9\", \"Topic9\", \"Topic9\", \"Topic9\", \"Topic9\", \"Topic9\", \"Topic9\", \"Topic9\", \"Topic9\", \"Topic9\", \"Topic9\", \"Topic9\", \"Topic9\", \"Topic9\", \"Topic9\", \"Topic9\", \"Topic10\", \"Topic10\", \"Topic10\", \"Topic10\", \"Topic10\", \"Topic10\", \"Topic10\", \"Topic10\", \"Topic10\", \"Topic10\", \"Topic10\", \"Topic10\", \"Topic10\", \"Topic10\", \"Topic10\", \"Topic10\", \"Topic10\", \"Topic10\", \"Topic10\", \"Topic10\", \"Topic10\", \"Topic10\", \"Topic10\", \"Topic10\", \"Topic10\", \"Topic10\", \"Topic10\", \"Topic10\", \"Topic10\", \"Topic10\", \"Topic10\", \"Topic10\", \"Topic10\", \"Topic10\", \"Topic10\", \"Topic10\", \"Topic10\", \"Topic10\", \"Topic10\", \"Topic10\", \"Topic10\", \"Topic10\", \"Topic10\", \"Topic10\", \"Topic10\", \"Topic10\", \"Topic10\", \"Topic10\", \"Topic11\", \"Topic11\", \"Topic11\", \"Topic11\", \"Topic11\", \"Topic11\", \"Topic11\", \"Topic11\", \"Topic11\", \"Topic11\", \"Topic11\", \"Topic11\", \"Topic11\", \"Topic11\", \"Topic11\", \"Topic11\", \"Topic11\", \"Topic11\", \"Topic11\", \"Topic11\", \"Topic11\", \"Topic11\", \"Topic11\", \"Topic11\", \"Topic11\", \"Topic11\", \"Topic11\", \"Topic11\", \"Topic11\", \"Topic11\", \"Topic11\", \"Topic11\", \"Topic11\", \"Topic11\", \"Topic11\", \"Topic11\", \"Topic11\", \"Topic11\", \"Topic11\", \"Topic11\", \"Topic11\", \"Topic11\", \"Topic11\", \"Topic11\", \"Topic11\", \"Topic11\", \"Topic11\", \"Topic11\", \"Topic11\", \"Topic11\", \"Topic11\", \"Topic11\", \"Topic12\", \"Topic12\", \"Topic12\", \"Topic12\", \"Topic12\", \"Topic12\", \"Topic12\", \"Topic12\", \"Topic12\", \"Topic12\", \"Topic12\", \"Topic12\", \"Topic12\", \"Topic12\", \"Topic12\", \"Topic12\", \"Topic12\", \"Topic12\", \"Topic12\", \"Topic12\", \"Topic12\", \"Topic12\", \"Topic12\", \"Topic12\", \"Topic12\", \"Topic12\", \"Topic12\", \"Topic12\", \"Topic12\", \"Topic12\", \"Topic12\", \"Topic12\", \"Topic12\", \"Topic12\", \"Topic12\", \"Topic12\", \"Topic12\", \"Topic12\", \"Topic12\", \"Topic12\", \"Topic12\", \"Topic12\", \"Topic12\", \"Topic12\", \"Topic12\", \"Topic12\", \"Topic12\", \"Topic12\", \"Topic12\", \"Topic12\", \"Topic13\", \"Topic13\", \"Topic13\", \"Topic13\", \"Topic13\", \"Topic13\", \"Topic13\", \"Topic13\", \"Topic13\", \"Topic13\", \"Topic13\", \"Topic13\", \"Topic13\", \"Topic13\", \"Topic13\", \"Topic13\", \"Topic13\", \"Topic13\", \"Topic13\", \"Topic13\", \"Topic13\", \"Topic13\", \"Topic13\", \"Topic13\", \"Topic13\", \"Topic13\", \"Topic13\", \"Topic13\", \"Topic13\", \"Topic13\", \"Topic13\", \"Topic13\", \"Topic13\", \"Topic13\", \"Topic13\", \"Topic13\", \"Topic13\", \"Topic13\", \"Topic13\", \"Topic13\", \"Topic13\", \"Topic13\", \"Topic13\", \"Topic14\", \"Topic14\", \"Topic14\", \"Topic14\", \"Topic14\", \"Topic14\", \"Topic14\", \"Topic14\", \"Topic14\", \"Topic14\", \"Topic14\", \"Topic14\", \"Topic14\", \"Topic14\", \"Topic14\", \"Topic14\", \"Topic14\", \"Topic14\", \"Topic14\", \"Topic14\", \"Topic14\", \"Topic14\", \"Topic14\", \"Topic14\", \"Topic14\", \"Topic14\", \"Topic14\", \"Topic14\", \"Topic14\", \"Topic14\", \"Topic14\", \"Topic14\", \"Topic14\", \"Topic14\", \"Topic14\", \"Topic14\", \"Topic14\", \"Topic14\", \"Topic14\", \"Topic14\", \"Topic14\", \"Topic14\", \"Topic14\", \"Topic14\", \"Topic14\", \"Topic14\", \"Topic14\", \"Topic14\", \"Topic15\", \"Topic15\", \"Topic15\", \"Topic15\", \"Topic15\", \"Topic15\", \"Topic15\", \"Topic15\", \"Topic15\", \"Topic15\", \"Topic15\", \"Topic15\", \"Topic15\", \"Topic15\", \"Topic15\", \"Topic15\", \"Topic15\", \"Topic15\", \"Topic15\", \"Topic15\", \"Topic15\", \"Topic15\", \"Topic15\", \"Topic15\", \"Topic15\", \"Topic15\", \"Topic15\", \"Topic15\", \"Topic15\", \"Topic15\", \"Topic15\", \"Topic15\", \"Topic15\", \"Topic15\", \"Topic15\", \"Topic15\", \"Topic15\", \"Topic15\", \"Topic15\", \"Topic15\", \"Topic15\", \"Topic15\", \"Topic16\", \"Topic16\", \"Topic16\", \"Topic16\", \"Topic16\", \"Topic16\", \"Topic16\", \"Topic16\", \"Topic16\", \"Topic16\", \"Topic16\", \"Topic16\", \"Topic16\", \"Topic16\", \"Topic16\", \"Topic16\", \"Topic16\", \"Topic16\", \"Topic16\", \"Topic16\", \"Topic16\", \"Topic16\", \"Topic16\", \"Topic16\", \"Topic16\", \"Topic16\", \"Topic16\", \"Topic16\", \"Topic16\", \"Topic16\", \"Topic16\", \"Topic16\", \"Topic16\", \"Topic16\", \"Topic16\", \"Topic16\", \"Topic16\", \"Topic16\", \"Topic16\", \"Topic16\", \"Topic16\", \"Topic16\", \"Topic16\", \"Topic16\", \"Topic16\", \"Topic16\", \"Topic16\", \"Topic17\", \"Topic17\", \"Topic17\", \"Topic17\", \"Topic17\", \"Topic17\", \"Topic17\", \"Topic17\", \"Topic17\", \"Topic17\", \"Topic17\", \"Topic17\", \"Topic17\", \"Topic17\", \"Topic17\", \"Topic17\", \"Topic17\", \"Topic17\", \"Topic17\", \"Topic17\", \"Topic17\", \"Topic17\", \"Topic17\", \"Topic17\", \"Topic17\", \"Topic17\", \"Topic17\", \"Topic17\", \"Topic17\", \"Topic17\", \"Topic17\", \"Topic17\", \"Topic17\", \"Topic17\", \"Topic17\", \"Topic17\", \"Topic17\", \"Topic17\", \"Topic17\", \"Topic17\", \"Topic17\", \"Topic17\", \"Topic17\", \"Topic17\", \"Topic17\", \"Topic17\", \"Topic17\", \"Topic17\", \"Topic18\", \"Topic18\", \"Topic18\", \"Topic18\", \"Topic18\", \"Topic18\", \"Topic18\", \"Topic18\", \"Topic18\", \"Topic18\", \"Topic18\", \"Topic18\", \"Topic18\", \"Topic18\", \"Topic18\", \"Topic18\", \"Topic18\", \"Topic18\", \"Topic18\", \"Topic18\", \"Topic18\", \"Topic18\", \"Topic18\", \"Topic18\", \"Topic18\", \"Topic18\", \"Topic18\", \"Topic18\", \"Topic18\", \"Topic18\", \"Topic18\", \"Topic18\", \"Topic18\", \"Topic18\", \"Topic18\", \"Topic18\", \"Topic18\", \"Topic18\", \"Topic18\", \"Topic18\", \"Topic18\", \"Topic18\", \"Topic18\", \"Topic18\", \"Topic19\", \"Topic19\", \"Topic19\", \"Topic19\", \"Topic19\", \"Topic19\", \"Topic19\", \"Topic19\", \"Topic19\", \"Topic19\", \"Topic19\", \"Topic19\", \"Topic19\", \"Topic19\", \"Topic19\", \"Topic19\", \"Topic19\", \"Topic19\", \"Topic19\", \"Topic19\", \"Topic19\", \"Topic19\", \"Topic19\", \"Topic19\", \"Topic19\", \"Topic19\", \"Topic19\", \"Topic19\", \"Topic19\", \"Topic19\", \"Topic19\", \"Topic19\", \"Topic19\", \"Topic19\", \"Topic19\", \"Topic19\", \"Topic19\", \"Topic19\", \"Topic19\", \"Topic19\", \"Topic19\", \"Topic20\", \"Topic20\", \"Topic20\", \"Topic20\", \"Topic20\", \"Topic20\", \"Topic20\", \"Topic20\", \"Topic20\", \"Topic20\", \"Topic20\", \"Topic20\", \"Topic20\", \"Topic20\", \"Topic20\", \"Topic20\", \"Topic20\", \"Topic20\", \"Topic20\", \"Topic20\", \"Topic20\", \"Topic20\", \"Topic20\", \"Topic20\", \"Topic20\", \"Topic20\", \"Topic20\", \"Topic20\", \"Topic20\", \"Topic20\", \"Topic20\", \"Topic20\", \"Topic20\", \"Topic20\", \"Topic20\", \"Topic20\", \"Topic20\", \"Topic20\", \"Topic20\"], \"Freq\": [356.0, 516.0, 343.0, 337.0, 190.0, 589.0, 258.0, 209.0, 575.0, 182.0, 481.0, 231.0, 155.0, 143.0, 189.0, 263.0, 148.0, 209.0, 219.0, 142.0, 213.0, 288.0, 348.0, 136.0, 79.0, 96.0, 136.0, 74.0, 142.0, 186.0, 49.91988754272461, 46.17589569091797, 43.18995666503906, 41.38739776611328, 40.9757194519043, 35.397796630859375, 34.11599349975586, 32.129638671875, 64.46126556396484, 32.78377914428711, 30.337352752685547, 29.54159164428711, 28.138893127441406, 27.14488983154297, 26.654539108276367, 25.963565826416016, 23.320966720581055, 24.293746948242188, 22.774538040161133, 21.866037368774414, 21.445449829101562, 21.007221221923828, 39.183841705322266, 123.45598602294922, 18.827590942382812, 18.354887008666992, 17.651941299438477, 17.35228729248047, 16.96630096435547, 16.714380264282227, 75.8622817993164, 31.96702003479004, 517.2763671875, 100.13394165039062, 74.28146362304688, 142.57254028320312, 42.60932159423828, 32.7491340637207, 215.94679260253906, 199.4027557373047, 89.93080139160156, 41.902252197265625, 383.29168701171875, 203.8007049560547, 67.10387420654297, 260.4585876464844, 62.889408111572266, 92.63814544677734, 328.82257080078125, 149.08204650878906, 114.53760528564453, 121.83404541015625, 137.0843048095703, 204.29188537597656, 137.8900909423828, 111.54724884033203, 85.06067657470703, 75.21033477783203, 119.55644226074219, 147.10874938964844, 83.15471649169922, 145.9875946044922, 79.66932678222656, 147.20799255371094, 95.11627197265625, 95.1488265991211, 101.0864028930664, 89.30616760253906, 85.60873413085938, 86.64141845703125, 83.40217590332031, 43.56499099731445, 41.29629135131836, 38.78025817871094, 36.5343132019043, 30.268814086914062, 30.137439727783203, 27.2750186920166, 27.07632827758789, 115.19969940185547, 24.238475799560547, 23.917903900146484, 23.661571502685547, 19.98447036743164, 19.72612953186035, 19.72117042541504, 19.706298828125, 18.90643310546875, 39.95695114135742, 18.78134536743164, 18.32469940185547, 17.99563217163086, 17.636695861816406, 17.597341537475586, 16.96906089782715, 17.216514587402344, 85.55209350585938, 15.586623191833496, 15.40890884399414, 14.451436996459961, 24.078325271606445, 89.53668975830078, 39.512359619140625, 75.50025177001953, 35.819786071777344, 61.51152801513672, 33.24055099487305, 34.83909606933594, 60.405906677246094, 26.1981143951416, 30.342031478881836, 38.86922836303711, 54.96567153930664, 96.8128890991211, 67.6383285522461, 51.15813064575195, 76.7423095703125, 43.0814323425293, 83.97823333740234, 79.87755584716797, 46.12843322753906, 83.91570281982422, 38.43573760986328, 54.80146026611328, 43.2181282043457, 43.45186233520508, 44.303314208984375, 38.1717643737793, 36.55355453491211, 64.90631866455078, 48.25856018066406, 37.952720642089844, 31.14318084716797, 19.881893157958984, 18.576007843017578, 17.838844299316406, 16.130468368530273, 15.918585777282715, 15.002913475036621, 14.279182434082031, 12.522099494934082, 11.957901954650879, 11.545299530029297, 11.364524841308594, 11.101506233215332, 10.757311820983887, 10.718149185180664, 10.522334098815918, 10.42310905456543, 10.369869232177734, 30.710723876953125, 9.983163833618164, 9.954257011413574, 9.844176292419434, 9.726393699645996, 9.319806098937988, 8.900365829467773, 8.832740783691406, 8.744952201843262, 58.95172119140625, 28.68779182434082, 15.752299308776855, 22.085500717163086, 67.96280670166016, 26.981914520263672, 31.74781608581543, 17.741371154785156, 33.096256256103516, 49.04624557495117, 23.49590492248535, 26.84925651550293, 88.56499481201172, 46.89690399169922, 22.506336212158203, 21.456172943115234, 53.072853088378906, 53.66650390625, 83.08773803710938, 49.91476821899414, 100.58744049072266, 44.94940948486328, 30.954811096191406, 32.50173568725586, 38.96841812133789, 40.781959533691406, 30.371572494506836, 44.602420806884766, 28.29802703857422, 33.67698669433594, 29.392637252807617, 29.795610427856445, 29.14682388305664, 53.953155517578125, 35.077392578125, 28.235450744628906, 24.806360244750977, 20.11640739440918, 29.290557861328125, 16.46935272216797, 15.967453956604004, 14.605774879455566, 14.317801475524902, 10.604055404663086, 10.433771133422852, 10.345051765441895, 10.08344554901123, 10.266712188720703, 9.712048530578613, 9.68661117553711, 9.612554550170898, 9.108819007873535, 8.94556999206543, 8.871782302856445, 8.539045333862305, 8.5009765625, 8.324492454528809, 7.931643962860107, 7.505683898925781, 7.32453727722168, 7.144374370574951, 7.0228681564331055, 7.011877536773682, 17.936660766601562, 25.722084045410156, 39.405418395996094, 31.418418884277344, 77.51608276367188, 19.33983039855957, 24.017105102539062, 20.749357223510742, 13.384391784667969, 116.02440643310547, 58.771785736083984, 14.871009826660156, 131.6577606201172, 18.729291915893555, 40.69757080078125, 88.0382080078125, 69.70641326904297, 35.95285415649414, 37.25047302246094, 35.261932373046875, 61.10221862792969, 94.40953063964844, 69.5887222290039, 42.698646545410156, 25.675994873046875, 28.865028381347656, 43.410255432128906, 33.58266830444336, 47.169681549072266, 35.500038146972656, 30.2464599609375, 28.366079330444336, 24.981727600097656, 27.849992752075195, 30.439756393432617, 23.720848083496094, 23.121992111206055, 21.12383460998535, 20.404830932617188, 19.59130096435547, 24.646181106567383, 17.27645492553711, 16.693525314331055, 13.951445579528809, 13.526705741882324, 12.944543838500977, 29.035755157470703, 53.203765869140625, 12.645681381225586, 12.069799423217773, 12.671704292297363, 11.05542278289795, 10.967229843139648, 10.432034492492676, 10.398580551147461, 10.076116561889648, 9.899001121520996, 9.077356338500977, 9.062867164611816, 8.74539852142334, 8.709098815917969, 25.771154403686523, 8.555780410766602, 36.09049987792969, 61.57481384277344, 22.632448196411133, 32.60127258300781, 15.604644775390625, 56.50809097290039, 24.776660919189453, 20.11126136779785, 19.506303787231445, 38.70205307006836, 43.503509521484375, 60.9298210144043, 69.54554748535156, 45.13157653808594, 27.928974151611328, 31.563358306884766, 57.074771881103516, 117.91574096679688, 29.7246150970459, 51.89170837402344, 35.846126556396484, 25.30438995361328, 27.33327293395996, 29.341846466064453, 23.36712646484375, 73.34976196289062, 24.456241607666016, 19.736608505249023, 16.494050979614258, 15.315681457519531, 14.118110656738281, 13.657604217529297, 12.859603881835938, 53.10653305053711, 11.843250274658203, 11.418620109558105, 11.13622760772705, 10.948019027709961, 10.552180290222168, 9.236557006835938, 9.472880363464355, 8.972063064575195, 8.795330047607422, 8.382556915283203, 8.331300735473633, 8.27180290222168, 7.948118686676025, 7.87445068359375, 7.821527004241943, 7.631041049957275, 7.318389415740967, 7.215348720550537, 7.079873085021973, 59.39849090576172, 6.9490132331848145, 15.998385429382324, 25.887367248535156, 20.992525100708008, 16.652912139892578, 30.92780113220215, 81.87279510498047, 48.9379997253418, 76.99219512939453, 68.88876342773438, 17.796649932861328, 88.39693450927734, 15.847321510314941, 18.127262115478516, 79.11180114746094, 126.10008239746094, 61.90602111816406, 53.68034744262695, 17.321090698242188, 55.75670623779297, 80.55010986328125, 26.42212677001953, 30.056217193603516, 51.689022064208984, 29.277000427246094, 24.362329483032227, 31.963603973388672, 24.27781867980957, 32.969913482666016, 23.33509063720703, 18.67214584350586, 20.5733585357666, 19.568538665771484, 37.23149490356445, 28.45050811767578, 26.276132583618164, 18.92255973815918, 17.654579162597656, 16.866451263427734, 15.083691596984863, 14.317304611206055, 17.186479568481445, 12.144505500793457, 12.106871604919434, 11.086954116821289, 10.617919921875, 9.707149505615234, 8.722795486450195, 8.36365795135498, 7.879958629608154, 7.783551216125488, 7.545101642608643, 7.040450096130371, 6.771630764007568, 13.805925369262695, 6.48906946182251, 6.436776161193848, 6.288498878479004, 6.238417148590088, 5.660892486572266, 5.611354827880859, 5.585888385772705, 5.567729949951172, 35.7094612121582, 32.8141975402832, 28.285133361816406, 36.332366943359375, 52.68600082397461, 16.684667587280273, 32.71839141845703, 11.775665283203125, 104.12934112548828, 35.02821350097656, 30.035139083862305, 44.313079833984375, 20.814620971679688, 14.640473365783691, 27.12603187561035, 17.046594619750977, 19.132566452026367, 14.845231056213379, 12.123489379882812, 24.245197296142578, 23.61980438232422, 20.33041763305664, 14.186999320983887, 14.221601486206055, 28.4829158782959, 23.1474666595459, 23.020862579345703, 16.51136589050293, 16.19565200805664, 15.26660442352295, 14.753318786621094, 14.708200454711914, 14.223978042602539, 11.5952787399292, 11.3880615234375, 10.339773178100586, 10.240659713745117, 9.990141868591309, 9.945331573486328, 9.770401000976562, 9.10146713256836, 8.999958992004395, 8.18751049041748, 7.972658157348633, 7.575671195983887, 7.568480491638184, 7.497359752655029, 7.340683460235596, 7.2950897216796875, 7.220778465270996, 6.874871730804443, 6.5869245529174805, 6.384878158569336, 6.290648460388184, 67.81929016113281, 30.573305130004883, 106.7744369506836, 32.73732376098633, 14.225276947021484, 15.202346801757812, 11.186796188354492, 27.43745994567871, 25.227388381958008, 10.84140396118164, 9.164161682128906, 14.946228981018066, 15.279428482055664, 27.12592315673828, 22.851591110229492, 16.821590423583984, 12.810154914855957, 23.469778060913086, 13.288408279418945, 12.512467384338379, 16.614276885986328, 12.266119003295898, 33.10154724121094, 31.41948699951172, 29.7799015045166, 22.059900283813477, 21.81318473815918, 15.837007522583008, 15.487844467163086, 13.381404876708984, 10.283133506774902, 9.92574691772461, 7.4332990646362305, 6.405862808227539, 6.166457176208496, 5.836614608764648, 5.770238399505615, 5.6826653480529785, 5.597571849822998, 5.570935249328613, 5.174440860748291, 5.020127296447754, 4.961787700653076, 4.509665012359619, 4.456973075866699, 4.371908664703369, 4.215612411499023, 4.214543342590332, 4.201550483703613, 4.060478210449219, 3.8534674644470215, 3.7284975051879883, 108.69906616210938, 19.482337951660156, 215.48104858398438, 29.706159591674805, 15.543126106262207, 44.29564666748047, 74.99021911621094, 58.6831169128418, 11.898893356323242, 45.629215240478516, 67.32120513916016, 12.057677268981934, 24.481910705566406, 19.15569305419922, 14.238029479980469, 28.81072425842285, 10.659006118774414, 13.69472885131836, 19.069429397583008, 10.226365089416504, 16.47754669189453, 10.239090919494629, 44.82820129394531, 33.634010314941406, 21.129945755004883, 66.79753875732422, 14.142857551574707, 12.401188850402832, 11.18792724609375, 11.05197525024414, 10.703263282775879, 10.572196006774902, 10.082712173461914, 9.034873962402344, 8.942540168762207, 8.62977123260498, 8.351937294006348, 7.588195323944092, 7.473773956298828, 7.208811283111572, 6.871324062347412, 6.685606956481934, 6.48086404800415, 6.445035934448242, 6.013401985168457, 5.775375843048096, 5.669843673706055, 5.511917591094971, 5.477048873901367, 5.475083351135254, 5.475083351135254, 5.4095072746276855, 54.34904098510742, 39.861690521240234, 13.96010684967041, 18.602157592773438, 10.428704261779785, 24.33180046081543, 22.39779281616211, 10.24280834197998, 24.556074142456055, 19.61846351623535, 11.84084415435791, 19.791227340698242, 24.976085662841797, 10.30385971069336, 13.154991149902344, 15.558361053466797, 10.289427757263184, 9.052844047546387, 24.99027442932129, 17.880083084106445, 15.391674995422363, 25.81659698486328, 12.063745498657227, 12.062054634094238, 8.883537292480469, 8.865811347961426, 7.858212471008301, 7.4679107666015625, 7.26211404800415, 7.017853260040283, 6.444767951965332, 6.169425010681152, 6.007081508636475, 5.8386430740356445, 5.619577407836914, 5.367065906524658, 5.324258804321289, 5.201926231384277, 5.090295791625977, 4.88332986831665, 9.17987060546875, 4.681445598602295, 4.656324863433838, 4.647732257843018, 4.642792224884033, 4.601627826690674, 4.422370433807373, 4.417429447174072, 14.843056678771973, 28.714683532714844, 18.093671798706055, 12.771289825439453, 37.11601257324219, 6.756697177886963, 18.086977005004883, 20.436933517456055, 10.508084297180176, 15.533082008361816, 9.36767578125, 8.63945198059082, 10.941840171813965, 18.80864906311035, 14.062603950500488, 23.56243324279785, 9.109049797058105, 12.659831047058105, 15.235798835754395, 9.302511215209961, 8.169628143310547, 8.5140962600708, 29.297908782958984, 18.726654052734375, 12.794661521911621, 12.49613094329834, 12.034322738647461, 10.054593086242676, 7.750214099884033, 6.198458194732666, 6.139052391052246, 6.0628557205200195, 5.854198932647705, 5.659496784210205, 5.506083965301514, 5.352872848510742, 5.225225448608398, 4.872241973876953, 4.361034393310547, 4.332147598266602, 4.047028064727783, 4.045312404632568, 3.9912109375, 3.914462089538574, 3.887840986251831, 3.7404046058654785, 3.6084961891174316, 3.5763726234436035, 21.266029357910156, 3.540926694869995, 3.540926694869995, 3.497433662414551, 14.581486701965332, 18.598283767700195, 11.51210880279541, 42.800228118896484, 19.33513069152832, 34.38804244995117, 85.93302154541016, 23.987598419189453, 12.07003402709961, 23.820362091064453, 5.149598121643066, 16.501739501953125, 34.32360076904297, 8.640363693237305, 12.743646621704102, 13.855378150939941, 9.312499046325684, 7.969843864440918, 7.884689807891846, 5.987227439880371, 53.305171966552734, 18.37540626525879, 17.07478141784668, 13.781716346740723, 12.781763076782227, 8.317296028137207, 8.248432159423828, 8.179131507873535, 8.163878440856934, 7.795278549194336, 7.446377754211426, 7.395912170410156, 7.225973129272461, 7.217331886291504, 7.089522361755371, 6.986560344696045, 6.815174102783203, 6.605976581573486, 6.573105335235596, 6.539236068725586, 6.514995574951172, 6.490394592285156, 6.193147659301758, 5.97733736038208, 5.791077136993408, 5.7713847160339355, 5.749507904052734, 5.676217555999756, 5.646615982055664, 5.408613681793213, 7.9553022384643555, 46.781585693359375, 18.958818435668945, 8.705402374267578, 7.552271842956543, 9.468731880187988, 13.77117919921875, 8.204034805297852, 10.064252853393555, 7.051458835601807, 7.290066242218018, 6.999283790588379, 6.675899505615234, 19.217500686645508, 14.393654823303223, 11.630805015563965, 10.984729766845703, 10.442584037780762, 10.380967140197754, 10.31090259552002, 10.165640830993652, 9.266572952270508, 8.747578620910645, 8.678805351257324, 8.314088821411133, 7.781397342681885, 7.067643642425537, 6.342345237731934, 5.380745887756348, 4.66237735748291, 4.491313934326172, 4.402612209320068, 4.3611836433410645, 3.791656017303467, 42.6169319152832, 3.7091448307037354, 3.6235411167144775, 3.531890869140625, 3.339803695678711, 3.269251823425293, 3.269251823425293, 3.180551052093506, 3.1403939723968506, 10.094542503356934, 27.563461303710938, 19.53589630126953, 23.328948974609375, 17.883377075195312, 13.719873428344727, 75.18590545654297, 12.439393043518066, 7.310214519500732, 10.622520446777344, 15.467870712280273, 11.189120292663574, 9.401542663574219, 9.952467918395996, 9.819477081298828, 10.914443969726562, 10.440630912780762, 8.98843765258789, 19.75027847290039, 15.237092018127441, 11.898809432983398, 10.012510299682617, 9.579202651977539, 9.005212783813477, 8.275480270385742, 8.043335914611816, 7.413790702819824, 7.370172023773193, 6.948798656463623, 6.762816905975342, 6.762816905975342, 6.620067119598389, 6.6054253578186035, 6.32682466506958, 6.101774215698242, 5.997013092041016, 5.855146408081055, 5.855146408081055, 5.386902809143066, 4.953661918640137, 4.578458786010742, 4.520420074462891, 4.520420074462891, 4.520420551300049, 4.520420074462891, 4.483061790466309, 4.436591625213623, 4.329726219177246, 15.1083345413208, 16.559730529785156, 15.49364185333252, 10.759440422058105, 52.1896858215332, 13.387479782104492, 5.528519153594971, 7.667367458343506, 9.331098556518555, 7.279065132141113, 6.658995628356934, 6.0933427810668945, 20.981975555419922, 15.273022651672363, 12.601605415344238, 11.420299530029297, 8.58584976196289, 8.437783241271973, 6.904390335083008, 6.875718116760254, 6.620080471038818, 6.596161842346191, 6.42165994644165, 6.412038326263428, 6.331051349639893, 6.255457878112793, 6.210154056549072, 5.413161754608154, 5.358320236206055, 5.187498092651367, 4.809960842132568, 4.271453380584717, 4.271453380584717, 4.271453380584717, 4.271453857421875, 4.271453380584717, 4.271453380584717, 4.271452903747559, 4.271452903747559, 4.212158203125, 8.30136775970459, 3.828004837036133, 46.53471755981445, 51.250328063964844, 9.573616981506348, 11.768533706665039, 9.069880485534668, 5.7834153175354, 5.5954484939575195, 5.369746685028076, 7.871932506561279, 10.437105178833008, 19.391101837158203, 18.320829391479492, 15.253807067871094, 7.961207866668701, 6.751893043518066, 7.359327793121338, 6.987582683563232, 30.450674057006836, 30.183664321899414, 14.025192260742188, 11.82177448272705, 11.760553359985352, 9.659605026245117, 7.686468124389648, 6.584598541259766, 6.570202350616455, 6.451901912689209, 5.750842571258545, 5.714645862579346, 5.248995780944824, 5.248995780944824, 5.060821056365967, 5.010176658630371, 4.806136608123779, 4.5799736976623535, 4.325082778930664, 4.109614849090576, 4.101557731628418, 4.065918445587158, 3.980786085128784, 3.941563844680786, 3.8573672771453857, 3.822014331817627, 3.6139018535614014, 3.14825177192688, 3.148251533508301, 3.0473155975341797, 17.781152725219727, 9.336224555969238, 10.278328895568848, 15.038097381591797, 18.560792922973633, 12.49290943145752, 41.5302619934082, 14.870206832885742, 15.204850196838379, 23.05591583251953, 15.595757484436035, 5.279086589813232, 11.746349334716797, 10.296274185180664, 9.936933517456055, 6.889070510864258, 6.778738021850586, 5.325297832489014, 17.014312744140625, 14.849721908569336, 12.465392112731934, 11.787430763244629, 10.400839805603027, 10.294013977050781, 9.253371238708496, 9.107122421264648, 8.626425743103027, 7.769726276397705, 7.709053993225098, 7.386323928833008, 7.29272985458374, 6.8154401779174805, 6.786107540130615, 11.942512512207031, 6.549854755401611, 5.700003623962402, 5.6286091804504395, 5.101032257080078, 4.72084379196167, 9.870932579040527, 4.083428859710693, 4.046230316162109, 4.012784957885742, 3.8612148761749268, 3.637533664703369, 3.566310405731201, 3.550915002822876, 3.550915002822876, 22.697052001953125, 7.688360691070557, 14.921777725219727, 9.120068550109863, 12.299448013305664, 12.937013626098633, 12.27436351776123, 5.777659893035889, 12.132935523986816, 9.47546672821045, 7.484482765197754, 6.7425150871276855, 7.675487518310547, 6.935495376586914, 28.026735305786133, 19.09166717529297, 13.150720596313477, 12.432210922241211, 9.895465850830078, 9.340166091918945, 8.312193870544434, 8.06789493560791, 7.4337286949157715, 7.177437782287598, 6.303910255432129, 5.855471611022949, 5.472611427307129, 5.188744068145752, 5.162407875061035, 5.099916458129883, 4.7203850746154785, 4.682151794433594, 4.543319225311279, 4.537648677825928, 3.9655261039733887, 3.8031251430511475, 3.6892874240875244, 3.3983309268951416, 3.273158550262451, 3.204996347427368, 3.1620967388153076, 3.059417963027954, 3.048266649246216, 3.028935432434082, 3.0289359092712402, 21.729961395263672, 8.550963401794434, 6.740301609039307, 14.972067832946777, 7.329860687255859, 6.574105739593506, 6.429311752319336, 5.920576095581055, 4.902273654937744, 4.04392147064209, 8.364246368408203, 7.756866455078125, 7.391737461090088, 5.4356889724731445, 5.160394668579102, 5.088688850402832, 4.418203830718994, 4.259111404418945, 3.7037322521209717, 3.5832080841064453, 3.490339994430542, 3.021555185317993, 2.849797010421753, 2.815620183944702, 2.7458584308624268, 2.6604158878326416, 2.626946210861206, 2.5796468257904053, 2.5319719314575195, 2.3205296993255615, 2.1349868774414062, 2.0916757583618164, 1.9486665725708008, 1.9486665725708008, 1.9178247451782227, 1.8813488483428955, 1.8769574165344238, 1.8285709619522095, 1.8285709619522095, 1.7643839120864868, 3.5631515979766846, 3.349330186843872, 2.4053025245666504, 4.961174488067627, 2.6677188873291016, 3.193082332611084, 3.06060528755188, 2.5284957885742188, 2.729015827178955], \"Term\": [\"datum\", \"management\", \"technology\", \"project\", \"sale\", \"business\", \"product\", \"marketing\", \"work\", \"research\", \"experience\", \"design\", \"analytic\", \"science\", \"use\", \"service\", \"system\", \"professional\", \"process\", \"base\", \"strategy\", \"development\", \"team\", \"software\", \"test\", \"student\", \"analysis\", \"hire\", \"focus\", \"program\", \"function\", \"analytical\", \"warehouse\", \"define\", \"ability\", \"deep\", \"objective\", \"partnership\", \"consulting\", \"core\", \"improvement\", \"leverage\", \"excellent\", \"exposure\", \"commercial\", \"think\", \"metric\", \"architect\", \"permanent\", \"wipro\", \"aspect\", \"specific\", \"insurance\", \"operation\", \"critical\", \"problem_solving\", \"classification\", \"passion\", \"manufacture\", \"close\", \"strategic\", \"intelligence\", \"business\", \"high\", \"set\", \"drive\", \"highly\", \"legal\", \"client\", \"manage\", \"good\", \"resource\", \"management\", \"service\", \"deliver\", \"team\", \"relationship\", \"delivery\", \"experience\", \"strategy\", \"provide\", \"customer\", \"solution\", \"year\", \"process\", \"new\", \"support\", \"performance\", \"include\", \"development\", \"end\", \"project\", \"level\", \"work\", \"sale\", \"develop\", \"page\", \"program\", \"skill\", \"lead\", \"candidate\", \"document\", \"search\", \"functional\", \"exist\", \"record\", \"stakeholder\", \"meeting\", \"require\", \"recruitment\", \"facilitate\", \"travel\", \"overall\", \"organize\", \"equipment\", \"basis\", \"site\", \"effectively\", \"web\", \"benefit\", \"try\", \"mid\", \"concept\", \"back\", \"host\", \"engine\", \"different\", \"format\", \"survey\", \"selection\", \"meet\", \"requirement\", \"detail\", \"time\", \"integration\", \"source\", \"target\", \"offer\", \"plan\", \"internal\", \"present\", \"material\", \"report\", \"design\", \"software\", \"responsible\", \"page\", \"need\", \"project\", \"team\", \"application\", \"work\", \"training\", \"development\", \"various\", \"client\", \"year\", \"product\", \"provide\", \"startup\", \"enable\", \"become\", \"success\", \"advisor\", \"entrepreneurial\", \"incubator\", \"mission\", \"unique\", \"bit\", \"found\", \"own\", \"accelerate\", \"geography\", \"age\", \"worldwide\", \"spend\", \"ground\", \"expand\", \"draw\", \"funding\", \"always\", \"ready\", \"empower\", \"corporation\", \"pioneer\", \"continue\", \"could\", \"lot\", \"fintech\", \"world\", \"believe\", \"recognize\", \"investor\", \"global\", \"grow\", \"life\", \"globally\", \"transformation\", \"leader\", \"today\", \"indian\", \"company\", \"make\", \"entrepreneur\", \"range\", \"people\", \"help\", \"lead\", \"leadership\", \"technology\", \"focus\", \"start\", \"organization\", \"build\", \"industry\", \"large\", \"year\", \"learn\", \"program\", \"corporate\", \"also\", \"new\", \"automation\", \"infrastructure\", \"sql\", \"file\", \"scalable\", \"control\", \"forecasting\", \"migration\", \"distribute\", \"specification\", \"behavioral\", \"enthusiast\", \"extract\", \"server\", \"hardware\", \"compute\", \"rich\", \"income\", \"reporting\", \"extensively\", \"card\", \"comprehensive\", \"method\", \"recovery\", \"packaging\", \"mis\", \"validate\", \"tracking\", \"package\", \"fix\", \"available\", \"agile\", \"cloud\", \"structure\", \"tool\", \"forecast\", \"certify\", \"generate\", \"gather\", \"design\", \"application\", \"deploy\", \"datum\", \"code\", \"financial\", \"product\", \"use\", \"platform\", \"data\", \"involve\", \"develop\", \"experience\", \"technology\", \"analysis\", \"big\", \"engineering\", \"development\", \"base\", \"work\", \"process\", \"various\", \"project\", \"also\", \"standard\", \"several\", \"chemical\", \"outcome\", \"smart\", \"varied\", \"limited\", \"list\", \"visit\", \"campus\", \"affair\", \"writing\", \"reward\", \"state\", \"international\", \"institution\", \"transportation\", \"programme\", \"college\", \"competition\", \"front\", \"faculty\", \"battery\", \"certificate\", \"ethic\", \"respect\", \"scholar\", \"say\", \"call\", \"district\", \"non\", \"policy\", \"academic\", \"care\", \"conference\", \"government\", \"economic\", \"publication\", \"check\", \"school\", \"part\", \"role\", \"also\", \"member\", \"education\", \"write\", \"various\", \"work\", \"office\", \"include\", \"area\", \"first\", \"issue\", \"year\", \"company\", \"experienced\", \"website\", \"relevant\", \"industry_skille\", \"security\", \"networking\", \"store\", \"oversee\", \"consultant\", \"monthly\", \"holder\", \"price\", \"return\", \"proposal\", \"placement\", \"secondary\", \"deliverable\", \"welfare\", \"teacher\", \"contribution\", \"desire\", \"lead_generation\", \"designer\", \"hunt\", \"print\", \"discussion\", \"competitor\", \"dataset\", \"information\", \"representative\", \"form\", \"methodology\", \"department\", \"director\", \"prepare\", \"strong\", \"communication\", \"focus\", \"market\", \"documentation\", \"professional\", \"launch\", \"specialtie\", \"marketing\", \"management\", \"program\", \"research\", \"skille\", \"service\", \"work\", \"activity\", \"plan\", \"technology\", \"industry\", \"global\", \"development\", \"report\", \"business\", \"company\", \"social\", \"create\", \"strategy\", \"family\", \"private\", \"news\", \"produce\", \"national\", \"video\", \"cover\", \"invest\", \"speaker\", \"political\", \"bioinformatic\", \"parliamentary\", \"advertising\", \"philanthropy\", \"official\", \"ad\", \"reputation\", \"onsite\", \"desk\", \"nominate\", \"forum\", \"city\", \"hit\", \"recently\", \"dairy\", \"turn\", \"european\", \"index\", \"journalist\", \"speeche\", \"health\", \"fund\", \"campaign\", \"public\", \"brand\", \"equity\", \"medium\", \"special\", \"marketing\", \"digital\", \"content\", \"sector\", \"community\", \"background\", \"investment\", \"view\", \"online\", \"know\", \"advisory\", \"lead\", \"strategy\", \"include\", \"portfolio\", \"year\", \"course\", \"task\", \"guide\", \"question\", \"java\", \"update\", \"module\", \"scientific\", \"section\", \"intern\", \"regard\", \"topic\", \"thesis\", \"condition\", \"embed\", \"optimal\", \"assess\", \"dedicated\", \"journal\", \"walk\", \"attendance\", \"educational\", \"confidence\", \"phd\", \"sleep\", \"grade\", \"workflow\", \"title\", \"blog\", \"invite\", \"student\", \"framework\", \"research\", \"review\", \"researcher\", \"society\", \"paper\", \"technique\", \"write\", \"choice\", \"industrial\", \"evaluation\", \"assessment\", \"system\", \"skill\", \"technical\", \"teach\", \"work\", \"complete\", \"scientist\", \"project\", \"look\", \"algorithm\", \"statistical\", \"optimization\", \"programming\", \"machine_learning\", \"component\", \"statistic\", \"deployment\", \"stake\", \"prediction\", \"incline\", \"azure\", \"allocate\", \"mathematic\", \"tree\", \"late\", \"confident\", \"rating\", \"aw\", \"traffic\", \"automotive\", \"scheduling\", \"scikit\", \"decision_maker\", \"theoretical\", \"facility\", \"measure\", \"calculate\", \"count\", \"vector\", \"science\", \"mining\", \"datum\", \"scientist\", \"insight\", \"data\", \"analytic\", \"analysis\", \"advanced\", \"model\", \"use\", \"regression\", \"problem\", \"computer\", \"decision\", \"skill\", \"demand\", \"big\", \"customer\", \"solve\", \"work\", \"impact\", \"interview\", \"staffing\", \"law\", \"employee\", \"exit\", \"recruiter\", \"referral\", \"grievance\", \"compensation\", \"lawyer\", \"private_limite\", \"tax\", \"payroll\", \"exempt\", \"induction\", \"salary\", \"aspire\", \"tie\", \"sport\", \"description\", \"wizsprint\", \"statutory\", \"audit\", \"recruiting\", \"audits\", \"posting\", \"outreach\", \"formality\", \"boarding\", \"brief\", \"hire\", \"job\", \"compliance\", \"staff\", \"handling\", \"position\", \"talent\", \"vendor\", \"end\", \"handle\", \"assist\", \"corporate\", \"process\", \"connect\", \"activity\", \"company\", \"conduct\", \"level\", \"early\", \"http\", \"iot\", \"child\", \"www\", \"carbon\", \"liaison\", \"seed\", \"incorporate\", \"mechanism\", \"federal\", \"elearne\", \"ngo\", \"sustain\", \"stack\", \"route\", \"principal\", \"relaso\", \"consider\", \"loading\", \"trading\", \"fuel\", \"grant\", \"formation\", \"robotic\", \"adaptive\", \"mode\", \"https_www\", \"figure\", \"answer\", \"commerce\", \"com\", \"assessment\", \"writer\", \"base\", \"independent\", \"interest\", \"learn\", \"visualization\", \"material\", \"fortune\", \"logistic\", \"expert\", \"science\", \"government\", \"technology\", \"emerge\", \"currently\", \"solution\", \"approach\", \"power\", \"domain\", \"years_month\", \"pursue\", \"polymer\", \"would\", \"bachelor\", \"assistance\", \"subject\", \"post_graduate\", \"fundamental\", \"evolution\", \"translational\", \"measurement\", \"computational\", \"air\", \"affect\", \"determine\", \"physics\", \"experimental\", \"chair\", \"anywhere\", \"alternate\", \"optic\", \"politic\", \"mechanic\", \"nanomaterial\", \"classical\", \"madra\", \"occasional\", \"spirit\", \"laboratory\", \"spring\", \"graduate\", \"degree\", \"engineering\", \"tech\", \"engineer\", \"technology\", \"student\", \"associate\", \"software\", \"protein\", \"currently\", \"work\", \"energy\", \"focus\", \"professional\", \"strong\", \"expertise\", \"science\", \"developer\", \"banking\", \"pipeline\", \"text\", \"show\", \"fluid\", \"solar\", \"heat\", \"predict\", \"electrochemical\", \"effect\", \"hybrid\", \"speech\", \"microservice\", \"chain\", \"expect\", \"slag\", \"device\", \"surge\", \"feed\", \"mathematical\", \"anchor\", \"rheology\", \"autosys\", \"drop\", \"crop\", \"fracture\", \"wave\", \"signal\", \"time_serie\", \"dream\", \"environmental\", \"system\", \"study\", \"cash\", \"attention\", \"flow\", \"analysis\", \"know\", \"research\", \"phase\", \"also\", \"field\", \"model\", \"negotiation\", \"letter\", \"low\", \"long\", \"rank\", \"second\", \"loan\", \"hub\", \"stock\", \"customer_satisfaction\", \"geographical\", \"period\", \"purchase\", \"strengthen\", \"almost\", \"supply\", \"hierarchical\", \"premier\", \"subscription\", \"rule\", \"incentive\", \"month\", \"peacekeeping\", \"patient\", \"african\", \"oyo\", \"statically\", \"default\", \"justice\", \"svm\", \"addition\", \"order\", \"region\", \"increase\", \"demonstrated_history\", \"transfer\", \"sale\", \"achievement\", \"vehicle\", \"cluster\", \"channel\", \"rate\", \"skille\", \"portfolio\", \"top\", \"market\", \"new\", \"growth\", \"screening\", \"draft\", \"cognizant\", \"well_verse\", \"negotiate\", \"conveyor\", \"shipping\", \"construction\", \"net\", \"billing\", \"specialization\", \"creo\", \"chute\", \"pay\", \"availability\", \"manpower\", \"norm\", \"submission\", \"reference\", \"qualification\", \"paperwork\", \"designate\", \"breakdown\", \"assembly\", \"crush\", \"temporary\", \"hopper\", \"installation\", \"quote\", \"procure\", \"oracle\", \"plant\", \"full\", \"type\", \"project\", \"coordinate\", \"structural\", \"release\", \"phase\", \"schedule\", \"recruit\", \"documentation\", \"script\", \"modeling\", \"hadoop\", \"manual\", \"qlikview\", \"query\", \"selenium\", \"bug\", \"designing\", \"holistic\", \"hive\", \"chapter\", \"scripting\", \"functionality\", \"original\", \"configure\", \"simulate\", \"maintenance\", \"creativity\", \"escape\", \"yantrajaal\", \"psingularity\", \"printer\", \"cucumber\", \"ly\", \"storyline\", \"captivate\", \"replication\", \"defect\", \"ceremony\", \"testing\", \"test\", \"dashboard\", \"feature\", \"driver\", \"root\", \"spark\", \"behavior\", \"release\", \"view\", \"system\", \"use\", \"create\", \"hand\", \"regression\", \"user\", \"perform\", \"ai\", \"mentor\", \"officer\", \"certification\", \"distribution\", \"agent\", \"watch\", \"devop\", \"previously\", \"regulatory\", \"captive\", \"border\", \"pdlc\", \"meter\", \"sme\", \"promotion\", \"scorecard\", \"scheme\", \"workplace\", \"context\", \"bag\", \"rinalytic\", \"gartner\", \"professionally\", \"privacy\", \"finserv\", \"branding\", \"exclusive\", \"pwc\", \"diagnostic\", \"bank\", \"electronic\", \"sell\", \"serve\", \"risk\", \"credit\", \"product\", \"practice\", \"enterprise\", \"analytic\", \"responsible\", \"next\", \"strategy\", \"sale\", \"development\", \"position\", \"business\", \"implement\", \"specialist\", \"woman\", \"suitable\", \"secure\", \"oil\", \"diversity\", \"btech\", \"advocacy\", \"primarily\", \"demonstrate\", \"interested\", \"agricultural\", \"safety\", \"editor\", \"orientation\", \"novel\", \"german\", \"modern\", \"indeed\", \"farmer\", \"poverty\", \"inclusion\", \"integral\", \"versatile\", \"nanostructure\", \"milestone\", \"village\", \"cathode\", \"compass\", \"stray\", \"food\", \"rural\", \"sustainable\", \"batch\", \"explore\", \"country\", \"community\", \"hour\", \"career\", \"potential\", \"achievement\", \"engage\", \"challenge\", \"production\", \"resume\", \"receive\", \"single\", \"lab\", \"chief\", \"mobility\", \"experiment\", \"force\", \"fellow\", \"university\", \"clinical\", \"organisational\", \"approval\", \"link\", \"glass\", \"vaccine\", \"presently\", \"soap\", \"attract\", \"hr\", \"animal\", \"man\", \"committee\", \"reform\", \"iso\", \"crack\", \"yet\", \"cricket\", \"interior\", \"crisis\", \"advice\", \"human\", \"cell\", \"game\", \"serve\", \"author\", \"stage\", \"certify\", \"interest\", \"organizational\", \"system\", \"utility\", \"supervise\", \"catalyst\", \"foundation\", \"determination\", \"agenda\", \"ever\", \"subsidiary\", \"outstanding\", \"conglomerate\", \"spread\", \"focused\", \"chance\", \"consensus\", \"adept\", \"livelihood\", \"bridge\", \"facet\", \"operating\", \"tube\", \"cent\", \"navigate\", \"crave\", \"result_oriented\", \"blend\", \"extended\", \"dsp\", \"reactor\", \"coating\", \"telangana\", \"quantum\", \"surface\", \"reality\", \"batch\", \"wide_range\", \"profitability\", \"self\", \"cold\", \"sustainable\"], \"Total\": [356.0, 516.0, 343.0, 337.0, 190.0, 589.0, 258.0, 209.0, 575.0, 182.0, 481.0, 231.0, 155.0, 143.0, 189.0, 263.0, 148.0, 209.0, 219.0, 142.0, 213.0, 288.0, 348.0, 136.0, 79.0, 96.0, 136.0, 74.0, 142.0, 186.0, 50.71305465698242, 46.96906280517578, 43.983123779296875, 42.18058395385742, 41.76888656616211, 36.19096374511719, 34.909793853759766, 32.92900085449219, 66.07101440429688, 33.605567932128906, 31.130521774291992, 30.33502769470215, 28.93206214904785, 27.938682556152344, 27.44791603088379, 26.761825561523438, 24.1141357421875, 25.12849235534668, 23.567707061767578, 22.65920639038086, 22.246013641357422, 21.800390243530273, 40.72175216674805, 128.39706420898438, 19.620759963989258, 19.148056030273438, 18.445110321044922, 18.147985458374023, 17.759469985961914, 17.50755500793457, 81.10736846923828, 33.76179885864258, 589.8788452148438, 108.7772445678711, 80.18379211425781, 160.1329345703125, 45.669898986816406, 34.87002944946289, 260.1462707519531, 239.5246124267578, 102.51677703857422, 45.53752136230469, 516.7562255859375, 263.4877624511719, 76.6876449584961, 348.76763916015625, 72.09392547607422, 112.03410339355469, 481.6010437011719, 213.18577575683594, 157.67503356933594, 172.53994750976562, 206.5849609375, 348.7081298828125, 219.28514099121094, 166.0121612548828, 118.03396606445312, 99.6957778930664, 201.2269744873047, 288.31341552734375, 120.17741394042969, 337.4659729003906, 121.8119888305664, 575.8009033203125, 190.23745727539062, 197.4136962890625, 242.1728057861328, 186.94476318359375, 154.0701446533203, 224.44931030273438, 84.19673919677734, 44.35908889770508, 42.090423583984375, 39.57435607910156, 37.334720611572266, 31.062911987304688, 30.93153953552246, 28.069116592407227, 27.870426177978516, 118.91400146484375, 25.032573699951172, 24.713037490844727, 24.455669403076172, 20.778568267822266, 20.520227432250977, 20.515268325805664, 20.500423431396484, 19.700532913208008, 41.64264678955078, 19.575443267822266, 19.11880111694336, 18.789730072021484, 18.43079376220703, 18.39143943786621, 17.763158798217773, 18.03102684020996, 89.72276306152344, 16.38072967529297, 16.203006744384766, 15.245599746704102, 26.29018211364746, 108.25436401367188, 44.81476974487305, 112.65702819824219, 45.7065544128418, 92.5986557006836, 41.661529541015625, 45.63541793823242, 96.5085678100586, 31.07513999938965, 38.69878005981445, 55.154117584228516, 96.33507537841797, 231.626953125, 136.8106689453125, 89.8375015258789, 242.1728057861328, 82.37287139892578, 337.4659729003906, 348.76763916015625, 106.87659454345703, 575.8009033203125, 71.79118347167969, 288.31341552734375, 159.61203002929688, 260.1462707519531, 348.7081298828125, 258.4026184082031, 157.67503356933594, 65.69915008544922, 49.10235595703125, 38.74558639526367, 31.943401336669922, 20.67470932006836, 19.368824005126953, 18.63166046142578, 16.923295974731445, 16.71282958984375, 15.795724868774414, 15.071993827819824, 13.314910888671875, 12.750713348388672, 12.34327507019043, 12.157336235046387, 11.894317626953125, 11.550870895385742, 11.510961532592773, 11.315145492553711, 11.215920448303223, 11.162684440612793, 33.069095611572266, 10.776032447814941, 10.747068405151367, 10.636987686157227, 10.519205093383789, 10.112617492675781, 9.693177223205566, 9.6255521774292, 9.537763595581055, 65.48170471191406, 31.649248123168945, 17.368989944458008, 25.584413528442383, 96.8076171875, 33.7988395690918, 40.852481842041016, 21.818897247314453, 47.813602447509766, 79.43667602539062, 32.39576721191406, 38.67428207397461, 194.41432189941406, 84.73747253417969, 31.150474548339844, 29.551237106323242, 109.82212829589844, 114.39463806152344, 224.44931030273438, 109.83328247070312, 343.86981201171875, 142.6312255859375, 68.4500503540039, 77.80615234375, 132.47926330566406, 149.9142608642578, 80.764892578125, 348.7081298828125, 83.63814544677734, 186.94476318359375, 109.67744445800781, 142.26560974121094, 166.0121612548828, 54.75059127807617, 35.87482833862305, 29.032886505126953, 25.603796005249023, 20.913856506347656, 30.64524269104004, 17.266788482666016, 16.764890670776367, 15.404985427856445, 15.115252494812012, 11.401488304138184, 11.23120403289795, 11.142484664916992, 10.880878448486328, 11.080365180969238, 10.509481430053711, 10.484044075012207, 10.409987449645996, 9.906261444091797, 9.743002891540527, 9.669215202331543, 9.33885669708252, 9.298409461975098, 9.121949195861816, 8.729077339172363, 8.303116798400879, 8.121969223022461, 7.941805839538574, 7.8202996253967285, 7.809309005737305, 20.33730697631836, 29.39231300354004, 46.63166046142578, 37.95164489746094, 104.96597290039062, 23.66316032409668, 31.282398223876953, 26.492862701416016, 16.046539306640625, 231.626953125, 106.87659454345703, 18.667537689208984, 356.3931579589844, 26.064598083496094, 82.90167236328125, 258.4026184082031, 189.94140625, 72.28768920898438, 82.30440521240234, 76.7059555053711, 197.4136962890625, 481.6010437011719, 343.86981201171875, 136.48252868652344, 57.7445068359375, 83.8446044921875, 288.31341552734375, 142.32073974609375, 575.8009033203125, 219.28514099121094, 159.61203002929688, 337.4659729003906, 142.26560974121094, 28.640167236328125, 31.307098388671875, 24.511014938354492, 23.912158966064453, 21.914031982421875, 21.194997787475586, 20.381467819213867, 25.64603042602539, 18.066720962524414, 17.483692169189453, 14.741608619689941, 14.316868782043457, 13.73470687866211, 30.820035934448242, 56.502174377441406, 13.435844421386719, 12.859962463378906, 13.56386661529541, 11.845585823059082, 11.757393836975098, 11.222197532653809, 11.188758850097656, 10.866279602050781, 10.689164161682129, 9.86751937866211, 9.85303020477295, 9.535561561584473, 9.499261856079102, 28.134572982788086, 9.345943450927734, 39.59919357299805, 68.85061645507812, 25.272912979125977, 37.1846923828125, 17.452606201171875, 71.33026885986328, 31.362552642822266, 24.694395065307617, 23.836252212524414, 54.626708984375, 63.90664291381836, 108.22534942626953, 142.26560974121094, 79.8144302368164, 41.275901794433594, 57.53329086303711, 159.61203002929688, 575.8009033203125, 53.61033630371094, 201.2269744873047, 115.02527618408203, 47.768821716308594, 71.9819107055664, 348.7081298828125, 194.41432189941406, 74.14408874511719, 25.25055503845215, 20.530921936035156, 17.28836441040039, 16.10999298095703, 14.912420272827148, 14.451913833618164, 13.653913497924805, 56.59757614135742, 12.637560844421387, 12.212929725646973, 11.930537223815918, 11.742328643798828, 11.346489906311035, 10.030866622924805, 10.311158180236816, 9.766372680664062, 9.589639663696289, 9.17686653137207, 9.1256103515625, 9.066112518310547, 8.74242877960205, 8.668760299682617, 8.615837097167969, 8.425350189208984, 8.112725257873535, 8.00965690612793, 7.874181270599365, 66.15022277832031, 7.743998050689697, 17.9814395904541, 30.48826026916504, 24.98013687133789, 19.752147674560547, 43.07776641845703, 141.70849609375, 77.38230895996094, 142.6312255859375, 135.4488983154297, 24.648677825927734, 209.8817138671875, 21.533227920532227, 26.10970115661621, 209.29757690429688, 516.7562255859375, 186.94476318359375, 182.22706604003906, 27.474510192871094, 263.4877624511719, 575.8009033203125, 64.30107879638672, 96.5085678100586, 343.86981201171875, 149.9142608642578, 96.8076171875, 288.31341552734375, 96.33507537841797, 589.8788452148438, 194.41432189941406, 42.51052474975586, 145.82786560058594, 213.18577575683594, 38.02291488647461, 29.241931915283203, 27.067556381225586, 19.7139835357666, 18.446002960205078, 17.657875061035156, 15.875110626220703, 15.108723640441895, 18.152366638183594, 12.935924530029297, 12.898290634155273, 11.878373146057129, 11.40933895111084, 10.498568534851074, 9.514214515686035, 9.15507698059082, 8.671378135681152, 8.574970245361328, 8.33652114868164, 7.8318681716918945, 7.56304931640625, 15.46605396270752, 7.280488014221191, 7.228194236755371, 7.080309867858887, 7.029835224151611, 6.452310562133789, 6.402772903442383, 6.3773064613342285, 6.359148025512695, 41.37034225463867, 39.21847915649414, 37.845558166503906, 51.86130905151367, 80.59153747558594, 21.95827293395996, 49.439674377441406, 14.744512557983398, 209.29757690429688, 55.8968391418457, 46.790687561035156, 82.05929565429688, 33.83927536010742, 21.242074966430664, 58.706241607666016, 28.241456985473633, 34.795345306396484, 30.090715408325195, 16.349573135375977, 224.44931030273438, 213.18577575683594, 201.2269744873047, 41.08931350708008, 348.7081298828125, 29.275249481201172, 23.939773559570312, 23.813169479370117, 17.303672790527344, 16.987958908081055, 16.058908462524414, 15.545622825622559, 15.500504493713379, 15.016282081604004, 12.388601303100586, 12.180365562438965, 11.13207721710205, 11.032964706420898, 10.782445907592773, 10.737635612487793, 10.562705993652344, 9.893771171569824, 9.79226303100586, 8.979814529418945, 8.764962196350098, 8.367975234985352, 8.360784530639648, 8.289664268493652, 8.132987022399902, 8.087393760681152, 8.013264656066895, 7.667174816131592, 7.379227638244629, 7.177181243896484, 7.082974433898926, 96.18923950195312, 42.192298889160156, 182.22706604003906, 48.43979263305664, 18.38961410522461, 19.9753360748291, 13.848240852355957, 54.29368209838867, 57.53329086303711, 14.985105514526367, 11.542217254638672, 31.44123077392578, 36.761573791503906, 148.5721435546875, 154.0701446533203, 64.39212799072266, 30.170562744140625, 575.8009033203125, 49.06024932861328, 42.971771240234375, 337.4659729003906, 45.685150146484375, 33.90251159667969, 32.220252990722656, 30.580669403076172, 22.860668182373047, 22.61395263671875, 16.637775421142578, 16.288610458374023, 14.182169914245605, 11.083898544311523, 10.72651195526123, 8.234064102172852, 7.206626892089844, 6.967221736907959, 6.637378692626953, 6.57100248336792, 6.483429431915283, 6.398336887359619, 6.371699333190918, 5.975204944610596, 5.820891380310059, 5.762552261352539, 5.310434341430664, 5.257737159729004, 5.172672748565674, 5.016376495361328, 5.015307903289795, 5.002314567565918, 4.861242294311523, 4.654231548309326, 4.529261589050293, 143.0016632080078, 25.132488250732422, 356.3931579589844, 42.971771240234375, 22.353443145751953, 82.30440521240234, 155.26162719726562, 136.48252868652344, 18.803560256958008, 112.84241485595703, 189.94140625, 19.581796646118164, 57.98710250854492, 40.32126235961914, 29.975406646728516, 154.0701446533203, 23.51750946044922, 57.7445068359375, 172.53994750976562, 27.747350692749023, 575.8009033203125, 68.74191284179688, 45.686607360839844, 34.43979263305664, 21.935731887817383, 70.37297058105469, 14.948639869689941, 13.206971168518066, 11.9937105178833, 11.857757568359375, 11.50904655456543, 11.378026008605957, 10.888494491577148, 9.840656280517578, 9.748322486877441, 9.435553550720215, 9.157719612121582, 8.394224166870117, 8.279557228088379, 8.014593124389648, 7.677105903625488, 7.49138879776001, 7.286645889282227, 7.250858306884766, 6.819183826446533, 6.581158638000488, 6.475625514984131, 6.317699432373047, 6.282830715179443, 6.280865669250488, 6.280865669250488, 6.21528959274292, 74.94813537597656, 58.96193313598633, 21.543075561523438, 33.5661506652832, 15.208427429199219, 49.5179443359375, 48.66646957397461, 19.76474952697754, 120.17741394042969, 92.2349624633789, 29.22638511657715, 109.67744445800781, 219.28514099121094, 22.757038116455078, 64.30107879638672, 194.41432189941406, 43.507503509521484, 121.8119888305664, 25.787900924682617, 18.677709579467773, 16.189300537109375, 27.162334442138672, 12.861370086669922, 12.859679222106934, 9.681161880493164, 9.663435935974121, 8.655837059020996, 8.265535354614258, 8.059738159179688, 7.815476894378662, 7.242391586303711, 6.967048645019531, 6.804705619812012, 6.636266708374023, 6.417201042175293, 6.164689540863037, 6.121882438659668, 5.999549865722656, 5.8879194259643555, 5.680953502655029, 10.719524383544922, 5.479069232940674, 5.453948497772217, 5.4453558921813965, 5.440415859222412, 5.399251461029053, 5.219994068145752, 5.215053081512451, 22.837446212768555, 60.96875, 36.761573791503906, 24.291418075561523, 142.32073974609375, 9.986066818237305, 53.767704010009766, 83.63814544677734, 24.944005966186523, 55.154117584228516, 20.027057647705078, 19.587148666381836, 35.5391731262207, 143.0016632080078, 71.33026885986328, 343.86981201171875, 23.702733993530273, 92.72994232177734, 206.5849609375, 50.82994842529297, 20.31357765197754, 93.56263732910156, 30.096435546875, 19.525102615356445, 13.593108177185059, 13.294577598571777, 12.832769393920898, 10.853039741516113, 8.548661231994629, 6.996903896331787, 6.937498569488525, 6.861301422119141, 6.652644634246826, 6.457942485809326, 6.304529666900635, 6.1513190269470215, 6.0236711502075195, 5.670688629150391, 5.159480094909668, 5.130593299865723, 4.8454742431640625, 4.843758583068848, 4.789657115936279, 4.712907791137695, 4.686286926269531, 4.5388503074646, 4.406942367553711, 4.374818325042725, 26.047794342041016, 4.339372634887695, 4.339372634887695, 4.295880317687988, 18.477840423583984, 26.536483764648438, 16.684457778930664, 83.8446044921875, 36.542579650878906, 87.1087417602539, 343.86981201171875, 96.18923950195312, 32.21232986450195, 136.8106689453125, 7.966969013214111, 92.72994232177734, 575.8009033203125, 25.98981475830078, 142.6312255859375, 209.8817138671875, 141.70849609375, 76.61478424072266, 143.0016632080078, 45.12526321411133, 54.10055160522461, 19.17078971862793, 17.87016487121582, 14.577098846435547, 13.57714557647705, 9.112679481506348, 9.043814659118652, 8.97451400756836, 8.959261894226074, 8.59066104888916, 8.24176025390625, 8.191295623779297, 8.021354675292969, 8.012713432312012, 7.884904861450195, 7.781942367553711, 7.610556125640869, 7.4013590812683105, 7.368487358093262, 7.334618091583252, 7.310377597808838, 7.285776615142822, 6.988529682159424, 6.772719383239746, 6.586459159851074, 6.566766738891602, 6.5448899269104, 6.471599578857422, 6.44199800491333, 6.203995704650879, 9.818202018737793, 148.5721435546875, 39.209747314453125, 12.724111557006836, 11.293225288391113, 25.610166549682617, 136.48252868652344, 30.090715408325195, 182.22706604003906, 28.200206756591797, 142.26560974121094, 47.3748779296875, 112.84241485595703, 20.014467239379883, 15.190620422363281, 12.427770614624023, 11.781695365905762, 11.23954963684082, 11.177932739257812, 11.107868194580078, 10.962606430053711, 10.063538551330566, 9.544544219970703, 9.475770950317383, 9.111054420471191, 8.578362464904785, 7.864607810974121, 7.139309406280518, 6.177710056304932, 5.459341526031494, 5.288278102874756, 5.199576377868652, 5.158150672912598, 4.588620185852051, 51.714813232421875, 4.506109237670898, 4.420505523681641, 4.328855037689209, 4.136768817901611, 4.066216945648193, 4.066216945648193, 3.977515697479248, 3.937358856201172, 12.739447593688965, 36.42988586425781, 26.222320556640625, 35.77598190307617, 27.784048080444336, 22.8740234375, 190.23745727539062, 20.67971420288086, 10.634140968322754, 18.160518646240234, 33.71829605102539, 32.71479797363281, 27.474510192871094, 41.08931350708008, 56.196590423583984, 135.4488983154297, 166.0121612548828, 75.33094024658203, 20.554576873779297, 16.04138946533203, 12.703106880187988, 10.816808700561523, 10.383581161499023, 9.809510231018066, 9.07978343963623, 8.847633361816406, 8.218088150024414, 8.174469947814941, 7.753095626831055, 7.567113876342773, 7.567113876342773, 7.42436408996582, 7.409722328186035, 7.131121635437012, 6.906071186065674, 6.801310062408447, 6.659443378448486, 6.659443378448486, 6.191199779510498, 5.757958889007568, 5.382755756378174, 5.324717044830322, 5.324717044830322, 5.3247175216674805, 5.324717044830322, 5.28735876083374, 5.240888595581055, 5.134023189544678, 22.96571922302246, 26.366596221923828, 34.386470794677734, 21.134523391723633, 337.4659729003906, 36.809200286865234, 7.891475677490234, 16.3099308013916, 28.200206756591797, 18.80197525024414, 35.28729248046875, 24.648677825927734, 21.78823471069336, 16.07928466796875, 13.407866477966309, 12.22655963897705, 9.392117500305176, 9.251178741455078, 7.710649490356445, 7.681977272033691, 7.426339626312256, 7.402421474456787, 7.227919101715088, 7.218297958374023, 7.13731050491333, 7.061717510223389, 7.01641321182251, 6.219420909881592, 6.164579391479492, 5.993757247924805, 5.616219997406006, 5.077712535858154, 5.077712535858154, 5.077712535858154, 5.0777130126953125, 5.077712535858154, 5.077712535858154, 5.077712059020996, 5.077712059020996, 5.018418312072754, 9.897747039794922, 4.63426399230957, 68.72930908203125, 79.14105224609375, 13.334696769714355, 18.905559539794922, 14.612905502319336, 8.607965469360352, 8.177629470825195, 7.746750831604004, 16.3099308013916, 28.241456985473633, 148.5721435546875, 189.94140625, 145.82786560058594, 41.44417190551758, 19.581796646118164, 35.820777893066406, 44.58913803100586, 31.249229431152344, 30.982219696044922, 14.823746681213379, 12.620344161987305, 12.559107780456543, 10.458159446716309, 8.48502254486084, 7.383153438568115, 7.368757247924805, 7.250456809997559, 6.5493974685668945, 6.513200759887695, 6.047550678253174, 6.047550678253174, 5.859379768371582, 5.808732032775879, 5.604691982269287, 5.378528594970703, 5.123637676239014, 4.908169746398926, 4.900112628936768, 4.864473342895508, 4.779340744018555, 4.740118503570557, 4.655921936035156, 4.620569229125977, 4.41245698928833, 3.9468066692352295, 3.9468064308166504, 3.8557944297790527, 29.281959533691406, 14.792887687683105, 16.7305908203125, 30.769357681274414, 47.88731002807617, 28.96605110168457, 258.4026184082031, 54.626461029052734, 65.75428009033203, 155.26162719726562, 89.8375015258789, 8.573158264160156, 213.18577575683594, 190.23745727539062, 288.31341552734375, 49.5179443359375, 589.8788452148438, 62.77091979980469, 17.8131103515625, 15.648521423339844, 13.264189720153809, 12.586228370666504, 11.199637413024902, 11.092811584472656, 10.052168846130371, 9.905920028686523, 9.425223350524902, 8.568524360656738, 8.507851600646973, 8.185121536254883, 8.091526985168457, 7.6142377853393555, 7.584906101226807, 13.371049880981445, 7.348652362823486, 6.498801231384277, 6.4274067878723145, 5.899829864501953, 5.519641399383545, 11.738053321838379, 4.882226467132568, 4.845027923583984, 4.811582565307617, 4.660012722015381, 4.436331272125244, 4.365108013153076, 4.349712371826172, 4.349712371826172, 28.095191955566406, 10.386327743530273, 23.48160743713379, 14.849563598632812, 25.015804290771484, 37.01346969604492, 33.83927536010742, 9.646918296813965, 53.87133026123047, 33.26922607421875, 20.67971420288086, 17.905658721923828, 53.62589645385742, 28.090656280517578, 28.827301025390625, 19.89223289489746, 13.951285362243652, 13.232775688171387, 10.696030616760254, 10.140730857849121, 9.11275863647461, 8.868459701538086, 8.234293937683105, 7.978002548217773, 7.104475021362305, 6.656036376953125, 6.273176193237305, 5.989308834075928, 5.962972640991211, 5.900481224060059, 5.520949840545654, 5.4827165603637695, 5.343883991241455, 5.3382134437561035, 4.7660908699035645, 4.603690147399902, 4.489862442016602, 4.1988959312438965, 4.073723316192627, 4.005560874938965, 3.9626615047454834, 3.859982490539551, 3.8488311767578125, 3.8294999599456787, 3.829500436782837, 30.79538917541504, 11.923662185668945, 9.48663330078125, 30.769357681274414, 16.283369064331055, 15.504291534423828, 31.282398223876953, 53.767704010009766, 29.521045684814453, 148.5721435546875, 9.173694610595703, 8.566314697265625, 8.201186180114746, 6.2451372146606445, 5.969842910766602, 5.898137092590332, 5.227652072906494, 5.068559646606445, 4.513180732727051, 4.392656326293945, 4.299788475036621, 3.8310036659240723, 3.659245252609253, 3.6250686645507812, 3.555306911468506, 3.4698641300201416, 3.436394691467285, 3.3890950679779053, 3.3414201736450195, 3.1299781799316406, 2.9444351196289062, 2.9011240005493164, 2.758114814758301, 2.758114814758301, 2.7272729873657227, 2.6907973289489746, 2.686405658721924, 2.638019323348999, 2.638019323348999, 2.5738322734832764, 5.54823112487793, 5.291452407836914, 4.015509128570557, 14.849563598632812, 5.884917259216309, 9.326271057128906, 11.870920181274414, 8.483460426330566, 23.48160743713379], \"loglift\": [30.0, 29.0, 28.0, 27.0, 26.0, 25.0, 24.0, 23.0, 22.0, 21.0, 20.0, 19.0, 18.0, 17.0, 16.0, 15.0, 14.0, 13.0, 12.0, 11.0, 10.0, 9.0, 8.0, 7.0, 6.0, 5.0, 4.0, 3.0, 2.0, 1.0, 1.3549000024795532, 1.353600025177002, 1.3523999452590942, 1.351699948310852, 1.3515000343322754, 1.3485000133514404, 1.347599983215332, 1.3460999727249146, 1.3459999561309814, 1.345900058746338, 1.3447999954223633, 1.344099998474121, 1.3428000211715698, 1.3417999744415283, 1.3413000106811523, 1.340399980545044, 1.3372000455856323, 1.336899995803833, 1.336400032043457, 1.3350000381469727, 1.3339999914169312, 1.3336000442504883, 1.3321000337600708, 1.3314000368118286, 1.3293999433517456, 1.3282999992370605, 1.32669997215271, 1.3257999420166016, 1.3249000310897827, 1.3243000507354736, 1.3037999868392944, 1.315999984741211, 1.239300012588501, 1.2877999544143677, 1.2941999435424805, 1.2545000314712524, 1.301300048828125, 1.3078999519348145, 1.184399962425232, 1.1872999668121338, 1.2395999431610107, 1.2874000072479248, 1.0719000101089478, 1.113800048828125, 1.2371000051498413, 1.0786999464035034, 1.2339999675750732, 1.1805000305175781, 0.9890000224113464, 1.0130000114440918, 1.0509999990463257, 1.0226999521255493, 0.9605000019073486, 0.8359000086784363, 0.9067000150680542, 0.9729999899864197, 1.0429999828338623, 1.0887999534606934, 0.8500000238418579, 0.6977999806404114, 1.0024000406265259, 0.5327000021934509, 0.9459999799728394, 0.0066999997943639755, 0.6775000095367432, 0.6407999992370605, 0.4970000088214874, 0.6319000124931335, 0.7829999923706055, 0.4187999963760376, 2.1282999515533447, 2.1196999549865723, 2.118799924850464, 2.117500066757202, 2.1161000728607178, 2.1119000911712646, 2.111799955368042, 2.109100103378296, 2.1089000701904297, 2.106100082397461, 2.105600118637085, 2.10509991645813, 2.10479998588562, 2.09879994392395, 2.098299980163574, 2.098299980163574, 2.098299980163574, 2.0966999530792236, 2.0964999198913574, 2.096400022506714, 2.095400094985962, 2.094599962234497, 2.0938000679016113, 2.0936999320983887, 2.092099905014038, 2.091599941253662, 2.0901999473571777, 2.088099956512451, 2.0875000953674316, 2.0843000411987305, 2.0499000549316406, 1.9479999542236328, 2.011899948120117, 1.7375999689102173, 1.8940999507904053, 1.7288000583648682, 1.9119999408721924, 1.867900013923645, 1.6692999601364136, 1.9671000242233276, 1.8945000171661377, 1.7878999710083008, 1.57669997215271, 1.2654999494552612, 1.43340003490448, 1.5746999979019165, 0.9886000156402588, 1.4895999431610107, 0.7469000220298767, 0.6639000177383423, 1.2976000308990479, 0.211899995803833, 1.5130000114440918, 0.47749999165534973, 0.8313000202178955, 0.3481999933719635, 0.07460000365972519, 0.22540000081062317, 0.6759999990463257, 2.4119999408721924, 2.406899929046631, 2.4035000801086426, 2.3987998962402344, 2.3850998878479004, 2.3824000358581543, 2.38070011138916, 2.376199960708618, 2.375499963760376, 2.3726999759674072, 2.3701999187469482, 2.362799882888794, 2.359999895095825, 2.3573999404907227, 2.356800079345703, 2.3552000522613525, 2.3529999256134033, 2.352799892425537, 2.3515000343322754, 2.3508999347686768, 2.3505001068115234, 2.3501999378204346, 2.3478000164031982, 2.347599983215332, 2.3466999530792236, 2.3457999229431152, 2.3424999713897705, 2.338900089263916, 2.338200092315674, 2.337399959564209, 2.3190999031066895, 2.325900077819824, 2.3264999389648438, 2.277100086212158, 2.0703999996185303, 2.198899984359741, 2.171999931335449, 2.2172999382019043, 2.056299924850464, 1.9420000314712524, 2.1029999256134033, 2.059299945831299, 1.6378999948501587, 1.8325999975204468, 2.0992000102996826, 2.104099988937378, 1.6970000267028809, 1.6672999858856201, 1.430400013923645, 1.6354999542236328, 1.1950000524520874, 1.2695000171661377, 1.6305999755859375, 1.551300048828125, 1.2005000114440918, 1.1224000453948975, 1.4462000131607056, 0.3677000105381012, 1.340499997138977, 0.7102000117301941, 1.1073999404907227, 0.8608999848365784, 0.684499979019165, 2.675299882888794, 2.6675000190734863, 2.662100076675415, 2.6582999229431152, 2.651099920272827, 2.6447999477386475, 2.642699956893921, 2.641200065612793, 2.636699914932251, 2.6357998847961426, 2.617500066757202, 2.616300106048584, 2.6157000064849854, 2.6138999462127686, 2.6136999130249023, 2.6110999584198, 2.6108999252319336, 2.610300064086914, 2.606100082397461, 2.604599952697754, 2.6038999557495117, 2.600399971008301, 2.6003000736236572, 2.5985000133514404, 2.5941998958587646, 2.5889999866485596, 2.5866000652313232, 2.584199905395508, 2.58240008354187, 2.5822999477386475, 2.5643999576568604, 2.5566000938415527, 2.5216000080108643, 2.5011000633239746, 2.3868000507354736, 2.4881999492645264, 2.4256999492645264, 2.4456000328063965, 2.5085999965667725, 1.9987000226974487, 2.0920000076293945, 2.462599992752075, 1.694200038909912, 2.359499931335449, 1.9785000085830688, 1.6131999492645264, 1.687600016593933, 1.9915000200271606, 1.8971999883651733, 1.9127999544143677, 1.517199993133545, 1.0605000257492065, 1.0923000574111938, 1.527999997138977, 1.8795000314712524, 1.6236000061035156, 0.7965999841690063, 1.24590003490448, 0.18799999356269836, 0.8690999746322632, 1.0266000032424927, 0.21369999647140503, 0.9503999948501587, 2.7158000469207764, 2.71560001373291, 2.7109999656677246, 2.710099935531616, 2.7070000171661377, 2.705699920654297, 2.704200029373169, 2.7039999961853027, 2.6989998817443848, 2.697499990463257, 2.6886000633239746, 2.687000036239624, 2.684499979019165, 2.6840999126434326, 2.6835999488830566, 2.6830999851226807, 2.680299997329712, 2.6756999492645264, 2.6747000217437744, 2.6742000579833984, 2.6707000732421875, 2.6705000400543213, 2.6682000160217285, 2.6668999195098877, 2.6603000164031982, 2.660099983215332, 2.6572000980377197, 2.656899929046631, 2.6559998989105225, 2.655400037765503, 2.6510000228881836, 2.631999969482422, 2.6333999633789062, 2.6122000217437744, 2.6317999362945557, 2.5107998847961426, 2.507999897003174, 2.5383999347686768, 2.543299913406372, 2.3991000652313232, 2.3592000007629395, 2.1691999435424805, 2.0280001163482666, 2.1735999584198, 2.353100061416626, 2.143399953842163, 1.715399980545044, 1.1578999757766724, 2.1540000438690186, 1.3884999752044678, 1.5778000354766846, 2.108299970626831, 1.7754000425338745, 0.2685000002384186, 0.6251000165939331, 2.766400098800659, 2.7451999187469482, 2.7376999855041504, 2.73009991645813, 2.726599931716919, 2.722399950027466, 2.720599889755249, 2.7172000408172607, 2.7135000228881836, 2.7123000621795654, 2.70989990234375, 2.7083001136779785, 2.7070999145507812, 2.7046000957489014, 2.694700002670288, 2.6923999786376953, 2.6923000812530518, 2.690700054168701, 2.6865999698638916, 2.6861000061035156, 2.685499906539917, 2.6819000244140625, 2.6810998916625977, 2.6803998947143555, 2.678100109100342, 2.674099922180176, 2.6726999282836914, 2.670799970626831, 2.6695001125335693, 2.668800115585327, 2.6603000164031982, 2.613600015640259, 2.603300094604492, 2.6064999103546143, 2.4458000659942627, 2.228600025177002, 2.319000005722046, 2.160599946975708, 2.101099967956543, 2.4514999389648438, 1.912500023841858, 2.470599889755249, 2.4123001098632812, 1.8042999505996704, 1.3667000532150269, 1.6720000505447388, 1.5549999475479126, 2.3157999515533447, 1.2242000102996826, 0.8102999925613403, 1.8877999782562256, 1.6105999946594238, 0.882099986076355, 1.1439000368118286, 1.3975000381469727, 0.5777000188827515, 1.398900032043457, -0.10719999670982361, 0.6571000218391418, 1.9543999433517456, 0.8187000155448914, 0.3889000117778778, 3.0520999431610107, 3.0457000732421875, 3.0434999465942383, 3.0322000980377197, 3.0292999744415283, 3.0272998809814453, 3.0220000743865967, 3.0192999839782715, 3.0185000896453857, 3.009999990463257, 3.0097999572753906, 3.004199981689453, 3.001300096511841, 2.994800090789795, 2.986299991607666, 2.9827001094818115, 2.977400064468384, 2.976300001144409, 2.973400115966797, 2.966599941253662, 2.962599992752075, 2.9595999717712402, 2.9581000804901123, 2.957200050354004, 2.9546000957489014, 2.953700065612793, 2.9423000812530518, 2.941200017929077, 2.9405999183654785, 2.940200090408325, 2.9260001182556152, 2.89490008354187, 2.7820000648498535, 2.7172999382019043, 2.648099899291992, 2.7985000610351562, 2.6603000164031982, 2.848299980163574, 2.375, 2.605799913406372, 2.6298000812530518, 2.4570000171661377, 2.5871999263763428, 2.7009999752044678, 2.301100015640259, 2.5683000087738037, 2.475100040435791, 2.3666000366210938, 2.7741000652313232, 0.8476999998092651, 0.8730999827384949, 0.7807999849319458, 2.009700059890747, -0.12630000710487366, 3.231300115585327, 3.225100040435791, 3.224900007247925, 3.211899995803833, 3.2109999656677246, 3.2081000804901123, 3.206399917602539, 3.2063000202178955, 3.2044999599456787, 3.1926000118255615, 3.191499948501587, 3.1849000453948975, 3.1842000484466553, 3.1823999881744385, 3.1821000576019287, 3.180799961090088, 3.175299882888794, 3.1744000911712646, 3.1663999557495117, 3.1640000343322754, 3.1593000888824463, 3.1591999530792236, 3.1582999229431152, 3.1561999320983887, 3.155600070953369, 3.154599905014038, 3.1496999263763428, 3.14520001411438, 3.1417999267578125, 3.1401000022888184, 2.9093000888824463, 2.9365999698638916, 2.7242000102996826, 2.8668999671936035, 3.002000093460083, 2.9856998920440674, 3.045300006866455, 2.576200008392334, 2.434299945831299, 2.9351000785827637, 3.0280001163482666, 2.5151000022888184, 2.3808000087738037, 1.5582000017166138, 1.3503999710083008, 1.9163999557495117, 2.402100086212158, 0.05869999900460243, 1.9526000022888184, 2.024899959564209, 0.2475000023841858, 1.9437999725341797, 3.2411000728607178, 3.239799976348877, 3.2383999824523926, 3.229300022125244, 3.2288999557495117, 3.2156999111175537, 3.214600086212158, 3.206899881362915, 3.190000057220459, 3.1874001026153564, 3.1626999378204346, 3.147200107574463, 3.142899990081787, 3.136399984359741, 3.134999990463257, 3.1331000328063965, 3.1312999725341797, 3.13070011138916, 3.1210999488830566, 3.117000102996826, 3.1154000759124756, 3.1015000343322754, 3.0996999740600586, 3.0968000888824463, 3.091099977493286, 3.0910000801086426, 3.0905001163482666, 3.0850000381469727, 3.076200008392334, 3.0703999996185303, 2.9907000064849854, 3.0102999210357666, 2.7618000507354736, 2.8958001136779785, 2.901599884033203, 2.645400047302246, 2.5371999740600586, 2.4209001064300537, 2.8073999881744385, 2.359499931335449, 2.2276999950408936, 2.780100107192993, 2.4026999473571777, 2.520699977874756, 2.5204999446868896, 1.5882999897003174, 2.473599910736084, 1.8259999752044678, 1.062399983406067, 2.2667999267578125, -0.2888000011444092, 1.36080002784729, 3.5662999153137207, 3.561500072479248, 3.547800064086914, 3.533099889755249, 3.5297999382019043, 3.5223000049591064, 3.515700101852417, 3.514899969100952, 3.5125999450683594, 3.5118000507354736, 3.5083000659942627, 3.499799966812134, 3.4988999366760254, 3.496000051498413, 3.4930999279022217, 3.484299898147583, 3.482800006866455, 3.479300022125244, 3.474299907684326, 3.471400022506714, 3.4679999351501465, 3.467400074005127, 3.4595000743865967, 3.4546000957489014, 3.4523000717163086, 3.4488000869750977, 3.447999954223633, 3.4479000568389893, 3.4479000568389893, 3.4463999271392822, 3.2639000415802, 3.193700075149536, 3.151400089263916, 2.994999885559082, 3.207900047302246, 2.8747000694274902, 2.8092000484466553, 2.9279000759124756, 1.9972000122070312, 2.037400007247925, 2.6816999912261963, 1.8729000091552734, 1.4127999544143677, 2.7929000854492188, 1.9983999729156494, 1.0598000288009644, 2.143399953842163, 0.98580002784729, 3.6126999855041504, 3.6005001068115234, 3.593600034713745, 3.5933001041412354, 3.5801000595092773, 3.5801000595092773, 3.558199882507324, 3.558000087738037, 3.547499895095825, 3.5427000522613525, 3.539900064468384, 3.5364999771118164, 3.5274999141693115, 3.522599935531616, 3.5195000171661377, 3.5160999298095703, 3.511399984359741, 3.5055999755859375, 3.504499912261963, 3.501499891281128, 3.4986000061035156, 3.4928998947143555, 3.4890999794006348, 3.486799955368042, 3.4860000610351562, 3.48580002784729, 3.485599994659424, 3.484299898147583, 3.478300094604492, 3.4781999588012695, 3.2132999897003174, 2.891200065612793, 2.93530011177063, 3.001199960708618, 2.300100088119507, 3.253499984741211, 2.5546998977661133, 2.234999895095825, 2.7797000408172607, 2.377000093460083, 2.8842999935150146, 2.8255999088287354, 2.466099977493286, 1.6155999898910522, 2.0202999114990234, 0.9635000228881836, 2.6877999305725098, 1.652899980545044, 1.0370999574661255, 1.9458999633789062, 2.733299970626831, 1.2472000122070312, 3.648699998855591, 3.6338999271392822, 3.6150999069213867, 3.6136999130249023, 3.6113998889923096, 3.5992000102996826, 3.5776000022888184, 3.5543999671936035, 3.553299903869629, 3.5518999099731445, 3.547800064086914, 3.543600082397461, 3.5401999950408936, 3.536600112915039, 3.533400058746338, 3.523900032043457, 3.507499933242798, 3.506500005722046, 3.495500087738037, 3.495500087738037, 3.4932000637054443, 3.490000009536743, 3.488800048828125, 3.482100009918213, 3.4756999015808105, 3.474100112915039, 3.4728000164031982, 3.4723000526428223, 3.4723000526428223, 3.4700000286102295, 3.438800096511841, 3.320199966430664, 3.304500102996826, 3.003200054168701, 3.039099931716919, 2.7462000846862793, 2.2888998985290527, 2.286799907684326, 2.694000005722046, 1.9276000261306763, 3.2392001152038574, 1.9493999481201172, 0.8557000160217285, 2.5743000507354736, 1.2604000568389893, 0.9577000141143799, 0.9531999826431274, 1.412500023841858, 0.7777000069618225, 1.6557999849319458, 3.7690000534057617, 3.741499900817871, 3.738300085067749, 3.7276999950408936, 3.7235000133514404, 3.692500114440918, 3.691800117492676, 3.690999984741211, 3.6909000873565674, 3.6867001056671143, 3.682300090789795, 3.6816999912261963, 3.6793999671936035, 3.67930006980896, 3.677500009536743, 3.6760001182556152, 3.6733999252319336, 3.670099973678589, 3.669600009918213, 3.6689999103546143, 3.668600082397461, 3.6682000160217285, 3.6630001068115234, 3.658900022506714, 3.655100107192993, 3.6547000408172607, 3.6542999744415283, 3.6526999473571777, 3.652100086212158, 3.6466000080108643, 3.5734000205993652, 2.6282999515533447, 3.0571999549865723, 3.4042999744415283, 3.381500005722046, 2.788800001144409, 1.4902000427246094, 2.4842000007629395, 0.8876000046730042, 2.397700071334839, 0.8126999735832214, 1.8716000318527222, 0.9563000202178955, 3.7609000205993652, 3.7476999759674072, 3.735300064086914, 3.7314999103546143, 3.7279999256134033, 3.72760009765625, 3.727099895477295, 3.726099967956543, 3.719099998474121, 3.714400053024292, 3.71370005607605, 3.7100000381469727, 3.7040998935699463, 3.694700002670288, 3.683199882507324, 3.6635000705718994, 3.6438000202178955, 3.638200044631958, 3.635200023651123, 3.633699893951416, 3.61080002784729, 3.608099937438965, 3.6068999767303467, 3.602799892425537, 3.598099946975708, 3.587599992752075, 3.583400011062622, 3.583400011062622, 3.578000068664551, 3.5754001140594482, 3.5689001083374023, 3.522700071334839, 3.507200002670288, 3.374000072479248, 3.3610000610351562, 3.2904000282287598, 2.873300075531006, 3.293299913406372, 3.426800012588501, 3.2653000354766846, 3.0223000049591064, 2.7286999225616455, 2.7291998863220215, 2.3835999965667725, 2.0571000576019287, 1.2831000089645386, 1.0351999998092651, 1.6756000518798828, 3.904099941253662, 3.8926000595092773, 3.8785998821258545, 3.86680006980896, 3.8633999824523926, 3.8585000038146973, 3.851300001144409, 3.8487000465393066, 3.841099977493286, 3.8405001163482666, 3.8345000743865967, 3.831700086593628, 3.831700086593628, 3.829400062561035, 3.829200029373169, 3.824399948120117, 3.820199966430664, 3.81820011138916, 3.8152999877929688, 3.8152999877929688, 3.8048999309539795, 3.793600082397461, 3.7822000980377197, 3.7802999019622803, 3.7802999019622803, 3.7802999019622803, 3.7802999019622803, 3.7790000438690186, 3.777400016784668, 3.773699998855591, 3.5253000259399414, 3.4788999557495117, 3.1468000411987305, 3.268899917602539, 2.077500104904175, 2.9326000213623047, 3.588200092315674, 3.189300060272217, 2.838099956512451, 2.9951000213623047, 2.2764999866485596, 2.5464999675750732, 3.9321000576019287, 3.918299913406372, 3.9077999591827393, 3.901599884033203, 3.880000114440918, 3.877700090408325, 3.859299898147583, 3.8589000701904297, 3.85479998588562, 3.8545000553131104, 3.8515000343322754, 3.851300001144409, 3.849900007247925, 3.8485000133514404, 3.8477001190185547, 3.830899953842163, 3.8296000957489014, 3.8252999782562256, 3.8148000240325928, 3.7969000339508057, 3.7969000339508057, 3.7969000339508057, 3.7969000339508057, 3.7969000339508057, 3.7969000339508057, 3.7969000339508057, 3.7969000339508057, 3.794600009918213, 3.7939000129699707, 3.778599977493286, 3.5797998905181885, 3.5353000164031982, 3.638400077819824, 3.495699882507324, 3.492799997329712, 3.5720999240875244, 3.5903000831604004, 3.603300094604492, 3.241300106048584, 2.974299907684326, 1.933500051498413, 1.631100058555603, 1.7122000455856323, 2.319999933242798, 2.9049999713897705, 2.387200117111206, 2.1164000034332275, 3.9482998847961426, 3.947999954223633, 3.918800115585327, 3.908799886703491, 3.908400058746338, 3.894700050354004, 3.8752999305725098, 3.8596999645233154, 3.8594000339508057, 3.8575000762939453, 3.844099998474121, 3.8433001041412354, 3.8324999809265137, 3.8324999809265137, 3.8276000022888184, 3.8262999057769775, 3.8203999996185303, 3.8134000301361084, 3.8046998977661133, 3.796600103378296, 3.796299934387207, 3.794800043106079, 3.791300058364868, 3.7897000312805176, 3.7860000133514404, 3.78439998626709, 3.7744998931884766, 3.7481000423431396, 3.7481000423431396, 3.738800048828125, 3.4753000736236572, 3.5139000415802, 3.4869000911712646, 3.25819993019104, 3.0262999534606934, 3.13319993019104, 2.1459999084472656, 2.6730000972747803, 2.5097999572753906, 2.066999912261963, 2.223099946975708, 3.489300012588501, 1.0755000114440918, 1.0577000379562378, 0.6064000129699707, 2.001699924468994, -0.492000013589859, 1.507099986076355, 3.9565999507904053, 3.9500999450683594, 3.9402999877929688, 3.9368999004364014, 3.928499937057495, 3.9277000427246094, 3.9196999073028564, 3.9184000492095947, 3.9138998985290527, 3.904599905014038, 3.903899908065796, 3.8998000621795654, 3.8984999656677246, 3.8915998935699463, 3.891200065612793, 3.8894999027252197, 3.887399911880493, 3.871299982070923, 3.869800090789795, 3.8570001125335693, 3.846100091934204, 3.829200029373169, 3.8238000869750977, 3.8222999572753906, 3.8208999633789062, 3.8143999576568604, 3.8039000034332275, 3.800299882888794, 3.7995998859405518, 3.7995998859405518, 3.789099931716919, 3.70169997215271, 3.549099922180176, 3.515000104904175, 3.2925000190734863, 2.9512999057769775, 2.9883999824523926, 3.489799976348877, 2.5118000507354736, 2.746500015258789, 2.9860999584198, 3.0257999897003174, 2.058500051498413, 2.6036999225616455, 4.182400226593018, 4.16949987411499, 4.151500225067139, 4.148200035095215, 4.132800102233887, 4.128399848937988, 4.118599891662598, 4.116000175476074, 4.10830020904541, 4.104899883270264, 4.091000080108643, 4.082499980926514, 4.074100017547607, 4.0671000480651855, 4.066400051116943, 4.064799785614014, 4.053899765014648, 4.052800178527832, 4.048299789428711, 4.048099994659424, 4.026700019836426, 4.019599914550781, 4.014200210571289, 3.9990999698638916, 3.99180006980896, 3.987600088119507, 3.9848999977111816, 3.9781999588012695, 3.977400064468384, 3.976099967956543, 3.976099967956543, 3.8619000911712646, 3.8780999183654785, 3.868799924850464, 3.490299940109253, 3.412400007247925, 3.35260009765625, 2.6284000873565674, 2.0044000148773193, 2.4151999950408936, 0.6067000031471252, 4.7581000328063965, 4.751200199127197, 4.746600151062012, 4.711699962615967, 4.704800128936768, 4.702899932861328, 4.682199954986572, 4.676499843597412, 4.6528000831604, 4.6468000411987305, 4.641900062561035, 4.613100051879883, 4.600500106811523, 4.597799777984619, 4.592100143432617, 4.584799766540527, 4.581900119781494, 4.577600002288818, 4.5731000900268555, 4.551199913024902, 4.5289998054504395, 4.5233001708984375, 4.5030999183654785, 4.5030999183654785, 4.4984002113342285, 4.492599964141846, 4.4918999671936035, 4.484000205993652, 4.484000205993652, 4.472899913787842, 4.407599925994873, 4.393099784851074, 4.3379998207092285, 3.7541000843048096, 4.059299945831299, 3.778599977493286, 3.494999885559082, 3.640000104904175, 2.698199987411499], \"logprob\": [30.0, 29.0, 28.0, 27.0, 26.0, 25.0, 24.0, 23.0, 22.0, 21.0, 20.0, 19.0, 18.0, 17.0, 16.0, 15.0, 14.0, 13.0, 12.0, 11.0, 10.0, 9.0, 8.0, 7.0, 6.0, 5.0, 4.0, 3.0, 2.0, 1.0, -5.551199913024902, -5.629199981689453, -5.696000099182129, -5.738699913024902, -5.748700141906738, -5.894999980926514, -5.9319000244140625, -5.9918999671936035, -5.295599937438965, -5.971700191497803, -6.049300193786621, -6.075799942016602, -6.124499797821045, -6.1605000495910645, -6.178699970245361, -6.204999923706055, -6.312300205230713, -6.271399974822998, -6.335999965667725, -6.376699924468994, -6.396100044250488, -6.416800022125244, -5.793399810791016, -4.6458001136779785, -6.526299953460693, -6.551700115203857, -6.590799808502197, -6.607900142669678, -6.63040018081665, -6.645400047302246, -5.132699966430664, -5.9969000816345215, -3.213099956512451, -4.855100154876709, -5.153800010681152, -4.501800060272217, -5.70959997177124, -5.972799777984619, -4.086599826812744, -4.166299819946289, -4.962600231170654, -5.72629976272583, -3.5127999782562256, -4.144499778747559, -5.25540018081665, -3.899199962615967, -5.320300102233887, -4.9328999519348145, -3.666100025177002, -4.457099914550781, -4.720699787139893, -4.658999919891357, -4.540999889373779, -4.142099857330322, -4.535200119018555, -4.747200012207031, -5.0183000564575195, -5.14139986038208, -4.6778998374938965, -4.4704999923706055, -5.040900230407715, -4.478099822998047, -5.083799839019775, -4.469799995422363, -4.906499862670898, -4.906199932098389, -4.845699787139893, -4.969600200653076, -5.011899948120117, -4.999899864196777, -4.2708001136779785, -4.920199871063232, -4.973700046539307, -5.036600112915039, -5.096199989318848, -5.28439998626709, -5.288700103759766, -5.388500213623047, -5.3958001136779785, -3.9477999210357666, -5.506499767303467, -5.519899845123291, -5.530600070953369, -5.69950008392334, -5.712500095367432, -5.712800025939941, -5.713500022888184, -5.755000114440918, -5.006700038909912, -5.761600017547607, -5.786200046539307, -5.8043999671936035, -5.82450008392334, -5.826700210571289, -5.863100051879883, -5.848599910736084, -4.2453999519348145, -5.9481000900268555, -5.959499835968018, -6.02370023727417, -5.513199806213379, -4.19980001449585, -5.017899990081787, -4.370299816131592, -5.116000175476074, -4.575300216674805, -5.190700054168701, -5.143700122833252, -4.593400001525879, -5.428800106048584, -5.281899929046631, -5.034299850463867, -4.68779993057251, -4.121699810028076, -4.480299949645996, -4.7596001625061035, -4.354000091552734, -4.931399822235107, -4.263899803161621, -4.314000129699707, -4.86299991607666, -4.264699935913086, -5.045499801635742, -4.690800189971924, -4.928199768066406, -4.922800064086914, -4.90339994430542, -5.0524001121521, -5.095699787139893, -4.235099792480469, -4.531499862670898, -4.7718000411987305, -4.9695000648498535, -5.418300151824951, -5.486199855804443, -5.526700019836426, -5.627399921417236, -5.640600204467773, -5.69980001449585, -5.749300003051758, -5.8805999755859375, -5.926700115203857, -5.9618000984191895, -5.97760009765625, -6.000999927520752, -6.03249979019165, -6.036200046539307, -6.054599761962891, -6.0640997886657715, -6.069200038909912, -4.983500003814697, -6.1072001457214355, -6.110099792480469, -6.121200084686279, -6.133200168609619, -6.176000118255615, -6.2220001220703125, -6.229599952697754, -6.23960018157959, -4.331399917602539, -5.051599979400635, -5.651100158691406, -5.313199996948242, -4.1890997886657715, -5.1128997802734375, -4.950300216674805, -5.532199859619141, -4.908699989318848, -4.5152997970581055, -5.251299858093262, -5.1178998947143555, -3.9244000911712646, -4.560100078582764, -5.294300079345703, -5.342100143432617, -4.436399936676025, -4.425300121307373, -3.9881999492645264, -4.497799873352051, -3.797100067138672, -4.60260009765625, -4.975599765777588, -4.926799774169922, -4.745299816131592, -4.699900150299072, -4.99459981918335, -4.610300064086914, -5.065299987792969, -4.891300201416016, -5.027299880981445, -5.013700008392334, -5.035699844360352, -4.154200077056885, -4.584700107574463, -4.801700115203857, -4.93120002746582, -5.1407999992370605, -4.764999866485596, -5.340799808502197, -5.371699810028076, -5.460899829864502, -5.480800151824951, -5.781099796295166, -5.7972002029418945, -5.805799961090088, -5.831399917602539, -5.813399791717529, -5.868899822235107, -5.871600151062012, -5.879199981689453, -5.93310022354126, -5.951099872589111, -5.959400177001953, -5.997600078582764, -6.002099990844727, -6.023099899291992, -6.071400165557861, -6.1265997886657715, -6.151100158691406, -6.176000118255615, -6.1930999755859375, -6.194699764251709, -5.25540018081665, -4.894899845123291, -4.468400001525879, -4.694900035858154, -3.791800022125244, -5.180099964141846, -4.963500022888184, -5.109799861907959, -5.5482001304626465, -3.3884999752044678, -4.068600177764893, -5.44290018081665, -3.2620999813079834, -5.212200164794922, -4.436100006103516, -3.6644999980926514, -3.8980000019073486, -4.560100078582764, -4.524600028991699, -4.579500198364258, -4.029699802398682, -3.5947000980377197, -3.8996999263763428, -4.3881001472473145, -4.896699905395508, -4.779699802398682, -4.371600151062012, -4.628300189971924, -4.28849983215332, -4.572800159454346, -4.732900142669678, -4.797100067138672, -4.924200057983398, -4.76170015335083, -4.672800064086914, -4.9222002029418945, -4.947800159454346, -5.038099765777588, -5.072800159454346, -5.113500118255615, -4.883900165557861, -5.239200115203857, -5.273499965667725, -5.453000068664551, -5.48390007019043, -5.527900218963623, -4.71999979019165, -4.1143999099731445, -5.551199913024902, -5.597799777984619, -5.549200057983398, -5.6855998039245605, -5.693600177764893, -5.74370002746582, -5.7469000816345215, -5.77839994430542, -5.79610013961792, -5.882800102233887, -5.884399890899658, -5.920000076293945, -5.924200057983398, -4.839300155639648, -5.94189977645874, -4.502500057220459, -3.9683001041412354, -4.969200134277344, -4.6041998863220215, -5.341000080108643, -4.054200172424316, -4.878600120544434, -5.087299823760986, -5.117800235748291, -4.432700157165527, -4.315700054168701, -3.978800058364868, -3.84660005569458, -4.2789998054504395, -4.758900165557861, -4.636499881744385, -4.0441999435424805, -3.3185999393463135, -4.696599960327148, -4.139400005340576, -4.509300231933594, -4.857600212097168, -4.780399799346924, -4.709499835968018, -4.93720006942749, -3.7599000930786133, -4.8582000732421875, -5.0725998878479, -5.252099990844727, -5.326200008392334, -5.407700061798096, -5.440800189971924, -5.500999927520752, -4.082799911499023, -5.583399772644043, -5.619900226593018, -5.644899845123291, -5.6620001792907715, -5.698800086975098, -5.831900119781494, -5.806700229644775, -5.861000061035156, -5.880899906158447, -5.928999900817871, -5.935100078582764, -5.942299842834473, -5.9822001457214355, -5.991499900817871, -5.998199939727783, -6.022900104522705, -6.064700126647949, -6.07889986038208, -6.097899913787842, -3.9707999229431152, -6.116499900817871, -5.282599925994873, -4.801400184631348, -5.010900020599365, -5.242499828338623, -4.623499870300293, -3.649899959564209, -4.164599895477295, -3.711400032043457, -3.8225998878479004, -5.17609977722168, -3.5732998847961426, -5.292099952697754, -5.157700061798096, -3.684299945831299, -3.2179999351501465, -3.929500102996826, -4.0721001625061035, -5.203199863433838, -4.03410005569458, -3.6661999225616455, -4.780900001525879, -4.6519999504089355, -4.109899997711182, -4.678299903869629, -4.862100124359131, -4.5904998779296875, -4.865499973297119, -4.559500217437744, -4.905200004577637, -5.1280999183654785, -5.031099796295166, -5.081200122833252, -4.142000198364258, -4.410999774932861, -4.490499973297119, -4.81879997253418, -4.8881001472473145, -4.933800220489502, -5.045499801635742, -5.097700119018555, -4.914999961853027, -5.26230001449585, -5.265399932861328, -5.353400230407715, -5.396599769592285, -5.486299991607666, -5.593200206756592, -5.635200023651123, -5.694799900054932, -5.707099914550781, -5.7382001876831055, -5.807499885559082, -5.846399784088135, -5.133999824523926, -5.888999938964844, -5.89709997177124, -5.920400142669678, -5.928400039672852, -6.0254998207092285, -6.034299850463867, -6.038899898529053, -6.042099952697754, -4.183700084686279, -4.2683000564575195, -4.416800022125244, -4.166399955749512, -3.794800043106079, -4.9446001052856445, -4.271200180053711, -5.293099880218506, -3.1135001182556152, -4.203000068664551, -4.356800079345703, -3.967900037765503, -4.723499774932861, -5.075300216674805, -4.458600044250488, -4.9232001304626465, -4.807700157165527, -5.061500072479248, -5.263999938964844, -4.570899963378906, -4.5970001220703125, -4.747000217437744, -5.106800079345703, -5.104400157928467, -4.2241997718811035, -4.431700229644775, -4.437099933624268, -4.769499778747559, -4.78879976272583, -4.847899913787842, -4.8821001052856445, -4.8850998878479, -4.918600082397461, -5.122900009155273, -5.140999794006348, -5.237500190734863, -5.247200012207031, -5.271900177001953, -5.276400089263916, -5.2941999435424805, -5.365099906921387, -5.376299858093262, -5.470900058746338, -5.497499942779541, -5.548600196838379, -5.549499988555908, -5.559000015258789, -5.580100059509277, -5.586299896240234, -5.59660005569458, -5.645699977874756, -5.688499927520752, -5.719600200653076, -5.734499931335449, -3.3566999435424805, -4.15339994430542, -2.9028000831604004, -4.085000038146973, -4.918499946594238, -4.852099895477295, -5.15880012512207, -4.261600017547607, -4.345600128173828, -5.190199851989746, -5.3582000732421875, -4.869100093841553, -4.8470001220703125, -4.2729997634887695, -4.444499969482422, -4.750899791717529, -5.0233001708984375, -4.417799949645996, -4.986599922180176, -5.046800136566162, -4.763299942016602, -5.066699981689453, -4.067699909210205, -4.119900226593018, -4.173500061035156, -4.473499774932861, -4.484799861907959, -4.804999828338623, -4.827199935913086, -4.973400115966797, -5.236800193786621, -5.272200107574463, -5.561299800872803, -5.710100173950195, -5.748199939727783, -5.803199768066406, -5.814599990844727, -5.829899787902832, -5.84499979019165, -5.849699974060059, -5.923600196838379, -5.953800201416016, -5.9654998779296875, -6.061100006103516, -6.072800159454346, -6.092100143432617, -6.128499984741211, -6.128799915313721, -6.131800174713135, -6.165999889373779, -6.218299865722656, -6.251299858093262, -2.878700017929077, -4.597799777984619, -2.1944000720977783, -4.175899982452393, -4.823699951171875, -3.776400089263916, -3.2499001026153564, -3.4951000213623047, -5.09089994430542, -3.746799945831299, -3.357800006866455, -5.077600002288818, -4.3694000244140625, -4.614699840545654, -4.911399841308594, -4.206600189208984, -5.200900077819824, -4.950300216674805, -4.619200229644775, -5.242300033569336, -4.7652997970581055, -5.241099834442139, -3.444200038909912, -3.7314999103546143, -4.196400165557861, -3.0453999042510986, -4.597799777984619, -4.729300022125244, -4.832200050354004, -4.844399929046631, -4.876500129699707, -4.888800144195557, -4.936200141906738, -5.046000003814697, -5.05620002746582, -5.091800212860107, -5.124599933624268, -5.2204999923706055, -5.2357001304626465, -5.2718000411987305, -5.319699764251709, -5.347099781036377, -5.378200054168701, -5.383699893951416, -5.453100204467773, -5.493500232696533, -5.511899948120117, -5.54010009765625, -5.546500205993652, -5.546800136566162, -5.546800136566162, -5.558899879455566, -3.2516000270843506, -3.5615999698638916, -4.610899925231934, -4.323800086975098, -4.902500152587891, -4.055300235748291, -4.1381001472473145, -4.920499801635742, -4.04610013961792, -4.270599842071533, -4.7754998207092285, -4.2617998123168945, -4.029099941253662, -4.9145002365112305, -4.670300006866455, -4.502500057220459, -4.915900230407715, -5.044000148773193, -3.969599962234497, -4.3043999671936035, -4.4542999267578125, -3.9370999336242676, -4.69789981842041, -4.6981000900268555, -5.003900051116943, -5.005899906158447, -5.1265997886657715, -5.177499771118164, -5.20550012588501, -5.239699840545654, -5.324900150299072, -5.368500232696533, -5.395199775695801, -5.423600196838379, -5.461900234222412, -5.507900238037109, -5.515900135040283, -5.539100170135498, -5.560800075531006, -5.60230016708374, -4.971099853515625, -5.644499778747559, -5.649899959564209, -5.651800155639648, -5.6528000831604, -5.6616997718811035, -5.701499938964844, -5.702600002288818, -4.490600109100342, -3.830699920654297, -4.292600154876709, -4.640900135040283, -3.5741000175476074, -5.277599811553955, -4.292900085449219, -4.17080020904541, -4.835999965667725, -4.445199966430664, -4.950900077819824, -5.031799793243408, -4.795499801635742, -4.253799915313721, -4.544600009918213, -4.028500080108643, -4.978899955749512, -4.649700164794922, -4.4644999504089355, -4.957900047302246, -5.087699890136719, -5.04640007019043, -3.7792000770568848, -4.2266998291015625, -4.607600212097168, -4.63129997253418, -4.668900012969971, -4.848599910736084, -5.10890007019043, -5.332399845123291, -5.3420000076293945, -5.354499816894531, -5.389500141143799, -5.423299789428711, -5.450799942016602, -5.479000091552734, -5.503200054168701, -5.5731000900268555, -5.684000015258789, -5.6905999183654785, -5.758699893951416, -5.759099960327148, -5.772600173950195, -5.791999816894531, -5.798799991607666, -5.837500095367432, -5.8734002113342285, -5.882299900054932, -4.099599838256836, -5.892300128936768, -5.892300128936768, -5.904600143432617, -4.476900100708008, -4.23360013961792, -4.7133002281188965, -3.400099992752075, -4.194699764251709, -3.61899995803833, -2.7030999660491943, -3.979099988937378, -4.665900230407715, -3.9860999584198, -5.5177998542785645, -4.3531999588012695, -3.620800018310547, -5.000199794769287, -4.611599922180176, -4.5279998779296875, -4.925300121307373, -5.080999851226807, -5.091700077056885, -5.367000102996826, -3.0724000930786133, -4.137400150299072, -4.2108001708984375, -4.425099849700928, -4.500400066375732, -4.930099964141846, -4.938399791717529, -4.946899890899658, -4.948699951171875, -4.994900226593018, -5.0406999588012695, -5.047500133514404, -5.070799827575684, -5.072000026702881, -5.089799880981445, -5.104499816894531, -5.129300117492676, -5.1605000495910645, -5.165500164031982, -5.170599937438965, -5.174300193786621, -5.178100109100342, -5.224999904632568, -5.260499954223633, -5.292099952697754, -5.295499801635742, -5.299300193786621, -5.31220006942749, -5.317399978637695, -5.360499858856201, -4.974599838256836, -3.203000068664551, -4.106200218200684, -4.884500026702881, -5.026599884033203, -4.80049991607666, -4.425899982452393, -4.94379997253418, -4.739500045776367, -5.095200061798096, -5.0619001388549805, -5.10260009765625, -5.149899959564209, -4.074900150299072, -4.363900184631348, -4.577000141143799, -4.634200096130371, -4.684800148010254, -4.690700054168701, -4.697500228881836, -4.711699962615967, -4.804299831390381, -4.8618998527526855, -4.869800090789795, -4.912799835205078, -4.979000091552734, -5.075200080871582, -5.183499813079834, -5.347899913787842, -5.491199970245361, -5.528600215911865, -5.548500061035156, -5.558000087738037, -5.69789981842041, -3.2785000801086426, -5.719900131225586, -5.743299961090088, -5.768899917602539, -5.82480001449585, -5.846099853515625, -5.846099853515625, -5.873700141906738, -5.88640022277832, -4.718699932098389, -3.714200019836426, -4.058499813079834, -3.88100004196167, -4.1468000411987305, -4.411900043487549, -2.710700035095215, -4.509799957275391, -5.041399955749512, -4.667699813842773, -4.291900157928467, -4.615799903869629, -4.78980016708374, -4.732900142669678, -4.746300220489502, -4.640600204467773, -4.684999942779541, -4.834799766540527, -3.905100107192993, -4.1645002365112305, -4.411799907684326, -4.584400177001953, -4.628600120544434, -4.690400123596191, -4.774899959564209, -4.803400039672852, -4.884900093078613, -4.8907999992370605, -4.949699878692627, -4.976799964904785, -4.976799964904785, -4.9980998039245605, -5.00029993057251, -5.043399810791016, -5.079599857330322, -5.0970001220703125, -5.1209001541137695, -5.1209001541137695, -5.2042999267578125, -5.288099765777588, -5.3668999671936035, -5.3796000480651855, -5.3796000480651855, -5.3796000480651855, -5.3796000480651855, -5.387899875640869, -5.3983001708984375, -5.422699928283691, -4.172999858856201, -4.081299781799316, -4.147799968719482, -4.512400150299072, -2.933300018310547, -4.293900012969971, -5.178299903869629, -4.85129976272583, -4.654900074005127, -4.903200149536133, -4.992300033569336, -5.080999851226807, -3.8187999725341797, -4.13640022277832, -4.328700065612793, -4.42710018157959, -4.712399959564209, -4.729800224304199, -4.930300235748291, -4.934500217437744, -4.972400188446045, -4.97599983215332, -5.002799987792969, -5.004300117492676, -5.017000198364258, -5.029099941253662, -5.036300182342529, -5.173699855804443, -5.183899879455566, -5.216300010681152, -5.291800022125244, -5.410600185394287, -5.410600185394287, -5.410600185394287, -5.410600185394287, -5.410600185394287, -5.410600185394287, -5.410600185394287, -5.410600185394287, -5.424499988555908, -4.746099948883057, -5.520199775695801, -3.0223000049591064, -2.925800085067749, -4.603499889373779, -4.39709997177124, -4.65749979019165, -5.107500076293945, -5.140600204467773, -5.181700229644775, -4.799200057983398, -4.517099857330322, -3.897700071334839, -3.9544999599456787, -4.137700080871582, -4.787899971008301, -4.952700138092041, -4.866499900817871, -4.918399810791016, -3.441999912261963, -3.4507999420166016, -4.217299938201904, -4.388199806213379, -4.393400192260742, -4.590199947357178, -4.818699836730957, -4.973400115966797, -4.975599765777588, -4.993800163269043, -5.108799934387207, -5.115099906921387, -5.200099945068359, -5.200099945068359, -5.236599922180176, -5.246699810028076, -5.2881999015808105, -5.336400032043457, -5.393700122833252, -5.444799900054932, -5.446800231933594, -5.45550012588501, -5.4766998291015625, -5.486599922180176, -5.508200168609619, -5.517399787902832, -5.573299884796143, -5.711299896240234, -5.711299896240234, -5.743899822235107, -3.9800000190734863, -4.624199867248535, -4.52810001373291, -4.147500038146973, -3.9370999336242676, -4.333000183105469, -3.131700038909912, -4.15880012512207, -4.136499881744385, -3.7202000617980957, -4.111100196838379, -5.194399833679199, -4.394599914550781, -4.526400089263916, -4.5619001388549805, -4.928199768066406, -4.944300174713135, -5.185699939727783, -3.995800018310547, -4.131800174713135, -4.3069000244140625, -4.362800121307373, -4.4878997802734375, -4.498300075531006, -4.604800224304199, -4.620800018310547, -4.675000190734863, -4.779600143432617, -4.787399768829346, -4.8302001953125, -4.842899799346924, -4.910600185394287, -4.914899826049805, -4.349699974060059, -4.950399875640869, -5.089399814605713, -5.1020002365112305, -5.200399875640869, -5.2778000831604, -4.540200233459473, -5.422900199890137, -5.432000160217285, -5.440299987792969, -5.478799819946289, -5.53849983215332, -5.558300018310547, -5.562600135803223, -5.562600135803223, -3.7076001167297363, -4.79010009765625, -4.126999855041504, -4.61929988861084, -4.320300102233887, -4.269700050354004, -4.322299957275391, -5.075799942016602, -4.333899974822998, -4.581099987030029, -4.816999912261963, -4.92140007019043, -4.791800022125244, -4.893199920654297, -3.2885000705718994, -3.6723999977111816, -4.045199871063232, -4.101399898529053, -4.329599857330322, -4.387400150299072, -4.504000186920166, -4.53380012512207, -4.615699768066406, -4.650700092315674, -4.7804999351501465, -4.854300022125244, -4.921899795532227, -4.975200176239014, -4.980299949645996, -4.992499828338623, -5.069799900054932, -5.077899932861328, -5.107999801635742, -5.109300136566162, -5.24399995803833, -5.285900115966797, -5.316199779510498, -5.398399829864502, -5.4359002113342285, -5.456999778747559, -5.470399856567383, -5.503499984741211, -5.5071001052856445, -5.513500213623047, -5.513500213623047, -3.5429999828338623, -4.475599765777588, -4.713600158691406, -3.9154999256134033, -4.629700183868408, -4.738500118255615, -4.760799884796143, -4.843200206756592, -5.0320000648498535, -5.2245001792907715, -3.857800006866455, -3.933199882507324, -3.9814000129699707, -4.28879976272583, -4.340799808502197, -4.354800224304199, -4.496099948883057, -4.532800197601318, -4.672500133514404, -4.705599784851074, -4.731800079345703, -4.875999927520752, -4.934599876403809, -4.946599960327148, -4.971700191497803, -5.003300189971924, -5.015999794006348, -5.034200191497803, -5.052800178527832, -5.139999866485596, -5.223400115966797, -5.243800163269043, -5.314700126647949, -5.314700126647949, -5.330599784851074, -5.349800109863281, -5.352200031280518, -5.378300189971924, -5.378300189971924, -5.414000034332275, -4.71120023727417, -4.773099899291992, -5.104100227355957, -4.380199909210205, -5.0005998611450195, -4.820799827575684, -4.8632001876831055, -5.054200172424316, -4.97790002822876]}, \"token.table\": {\"Topic\": [1, 5, 8, 3, 14, 18, 4, 5, 6, 8, 10, 12, 15, 7, 11, 13, 14, 20, 1, 4, 9, 7, 19, 3, 7, 19, 18, 5, 12, 14, 3, 20, 17, 4, 19, 18, 17, 12, 9, 9, 14, 3, 4, 5, 8, 9, 11, 13, 12, 3, 18, 4, 6, 8, 9, 13, 16, 1, 4, 6, 9, 17, 1, 13, 19, 11, 12, 2, 4, 13, 2, 3, 11, 19, 1, 1, 2, 3, 5, 7, 9, 1, 10, 15, 8, 8, 9, 11, 1, 10, 12, 2, 3, 5, 12, 14, 8, 7, 13, 19, 10, 10, 6, 19, 4, 9, 13, 15, 4, 7, 9, 9, 12, 2, 7, 9, 15, 17, 5, 17, 13, 1, 2, 4, 5, 9, 11, 2, 18, 20, 5, 3, 6, 16, 4, 3, 9, 2, 1, 3, 4, 9, 15, 7, 3, 20, 8, 10, 17, 2, 6, 7, 17, 17, 15, 20, 10, 18, 16, 1, 2, 3, 4, 9, 1, 3, 4, 6, 7, 14, 17, 9, 5, 10, 2, 7, 9, 16, 5, 2, 16, 17, 11, 4, 5, 11, 1, 8, 11, 12, 18, 13, 17, 20, 18, 12, 19, 20, 16, 5, 17, 4, 19, 13, 12, 1, 3, 18, 20, 1, 6, 14, 16, 5, 16, 5, 19, 3, 11, 3, 8, 15, 7, 14, 12, 1, 1, 2, 19, 1, 1, 3, 4, 6, 12, 14, 20, 1, 4, 15, 15, 20, 5, 1, 2, 3, 7, 11, 2, 11, 17, 1, 19, 1, 6, 7, 7, 18, 1, 3, 4, 5, 6, 7, 10, 11, 14, 18, 10, 5, 6, 5, 6, 8, 11, 17, 1, 10, 17, 9, 4, 12, 4, 2, 8, 9, 19, 2, 8, 2, 8, 10, 5, 18, 8, 9, 16, 20, 1, 10, 20, 11, 15, 6, 19, 1, 5, 7, 8, 16, 17, 3, 6, 4, 6, 15, 1, 2, 15, 1, 1, 3, 5, 6, 10, 3, 3, 9, 3, 7, 18, 8, 7, 19, 20, 1, 2, 3, 4, 6, 7, 10, 16, 16, 5, 17, 15, 19, 19, 1, 13, 15, 16, 1, 3, 4, 5, 8, 11, 12, 17, 1, 2, 6, 9, 14, 7, 4, 16, 4, 9, 6, 1, 4, 9, 1, 3, 9, 9, 8, 1, 14, 4, 16, 1, 4, 12, 1, 2, 5, 6, 1, 2, 15, 2, 9, 14, 18, 4, 14, 6, 11, 4, 9, 9, 10, 2, 4, 6, 8, 15, 6, 16, 6, 7, 2, 8, 20, 12, 1, 2, 4, 6, 7, 8, 9, 12, 19, 1, 4, 12, 1, 2, 4, 6, 17, 13, 17, 17, 1, 2, 6, 3, 4, 6, 7, 1, 6, 6, 4, 17, 5, 18, 2, 6, 15, 1, 4, 11, 17, 15, 3, 13, 1, 3, 7, 17, 4, 14, 16, 13, 20, 11, 4, 5, 18, 3, 5, 8, 8, 13, 2, 11, 13, 13, 17, 8, 1, 11, 5, 10, 3, 3, 1, 4, 10, 1, 2, 12, 5, 18, 2, 1, 2, 12, 2, 4, 12, 1, 4, 11, 17, 4, 3, 7, 3, 12, 13, 2, 5, 7, 16, 5, 7, 6, 8, 20, 12, 1, 17, 10, 2, 10, 3, 13, 1, 2, 3, 4, 6, 7, 9, 12, 6, 19, 12, 5, 7, 8, 11, 16, 1, 4, 7, 8, 12, 16, 7, 13, 18, 1, 20, 4, 4, 20, 2, 9, 5, 7, 18, 7, 16, 11, 13, 19, 4, 6, 11, 13, 18, 11, 4, 1, 3, 4, 5, 6, 17, 3, 3, 5, 7, 19, 4, 2, 13, 16, 13, 1, 2, 3, 6, 12, 17, 20, 7, 18, 19, 4, 9, 4, 6, 14, 10, 2, 11, 5, 11, 20, 7, 3, 20, 13, 5, 8, 11, 5, 11, 1, 11, 15, 1, 2, 16, 5, 6, 7, 14, 12, 3, 5, 19, 17, 4, 8, 4, 7, 14, 3, 18, 19, 3, 4, 6, 12, 2, 3, 7, 1, 5, 7, 9, 5, 11, 8, 4, 12, 19, 10, 11, 10, 3, 1, 3, 14, 17, 1, 3, 5, 7, 14, 8, 16, 1, 3, 6, 9, 16, 1, 2, 10, 8, 10, 4, 6, 7, 13, 1, 2, 3, 9, 14, 14, 1, 3, 11, 12, 1, 11, 1, 10, 7, 16, 6, 16, 15, 2, 2, 18, 19, 11, 11, 14, 5, 19, 6, 13, 1, 3, 7, 9, 1, 2, 9, 17, 1, 14, 9, 1, 4, 5, 6, 7, 8, 18, 20, 4, 11, 2, 8, 14, 3, 18, 11, 13, 7, 3, 5, 18, 10, 5, 8, 1, 2, 3, 6, 6, 2, 6, 17, 4, 1, 8, 9, 15, 5, 1, 6, 18, 1, 2, 1, 9, 1, 4, 11, 18, 19, 18, 19, 8, 2, 6, 5, 11, 10, 7, 3, 5, 6, 7, 14, 3, 7, 8, 1, 2, 4, 8, 13, 15, 17, 11, 19, 1, 5, 8, 5, 10, 11, 18, 8, 7, 14, 6, 7, 13, 19, 12, 1, 3, 11, 9, 6, 7, 15, 10, 10, 1, 2, 3, 4, 7, 17, 6, 1, 3, 7, 1, 3, 19, 1, 2, 3, 5, 8, 9, 11, 1, 17, 14, 1, 2, 5, 10, 1, 11, 1, 3, 6, 5, 19, 5, 20, 11, 14, 5, 9, 11, 14, 14, 1, 2, 8, 18, 3, 14, 16, 9, 12, 13, 16, 2, 3, 5, 7, 8, 19, 1, 2, 5, 6, 7, 17, 1, 2, 6, 17, 15, 16, 1, 1, 4, 6, 7, 11, 14, 1, 6, 7, 2, 11, 9, 13, 9, 12, 12, 11, 6, 7, 12, 2, 6, 2, 1, 2, 5, 6, 7, 17, 17, 4, 6, 8, 1, 13, 2, 4, 18, 1, 9, 4, 3, 19, 11, 1, 4, 9, 13, 14, 16, 18, 8, 2, 5, 14, 6, 12, 18, 7, 20, 1, 2, 6, 15, 14, 15, 6, 1, 2, 3, 7, 10, 14, 7, 13, 17, 11, 7, 5, 17, 15, 2, 18, 1, 12, 2, 5, 11, 15, 1, 2, 5, 7, 17, 7, 18, 6, 7, 8, 11, 7, 20, 1, 6, 12, 8, 9, 6, 15, 1, 14, 18, 19, 1, 2, 3, 1, 19, 2, 18, 16, 5, 10, 20, 2, 6, 3, 14, 4, 4, 1, 2, 3, 4, 5, 7, 8, 2, 8, 15, 7, 2, 5, 1, 1, 14, 15, 10, 17, 14, 1, 2, 3, 19, 1, 2, 4, 16, 1, 2, 4, 10, 14, 1, 12, 13, 14, 15, 8, 7, 12, 3, 13, 6, 2, 4, 6, 14, 6, 15, 1, 3, 4, 7, 5, 18, 12, 7, 12, 3, 4, 7, 14, 3, 10, 17, 12, 10, 1, 15, 18, 18, 3, 11, 17, 1, 9, 17, 13, 9, 14, 1, 4, 6, 18, 2, 8, 19, 17, 6, 18, 11, 6, 16, 17, 7, 10, 1, 3, 9, 1, 1, 2, 4, 9, 10, 15, 7, 1, 2, 3, 4, 6, 7, 17, 4, 5, 9, 18, 1, 2, 3, 6, 7, 12, 17, 2, 20, 1, 2, 3, 6, 19, 5, 9, 1, 2, 4, 5, 6, 8, 15, 17, 6, 10, 12, 19, 1, 2, 3, 11, 16, 5, 6, 7, 2, 5, 14, 12, 17, 16, 15, 12, 20, 16, 8, 15, 2, 3, 14, 1, 3, 11, 14, 9, 20, 3, 11, 20, 19, 7, 2, 3, 2, 4, 1, 15, 10, 10, 2, 5, 15, 10, 19, 8, 1, 14, 9, 16, 17, 11, 1, 6, 15, 16, 6, 16, 2, 4, 6, 4, 6, 7, 2, 2, 4, 6, 8, 11, 12, 13, 17, 19, 8, 11, 1, 7, 5, 1, 2, 4, 17, 20, 19, 6, 6, 8, 5, 13, 4, 17, 1, 17, 11, 1, 2, 3, 5, 7, 13, 1, 16, 11, 14, 7, 18, 18, 10, 1, 6, 14, 17, 5, 4, 8, 15, 9, 17, 5, 5, 6, 6, 8, 9, 11, 12, 13, 8, 8, 9, 9, 17, 15, 16, 16, 2, 14, 6, 8, 1, 3, 5, 7, 18, 6, 11, 2, 16, 3, 9, 20, 5, 7, 17, 17, 19, 4, 1, 5, 6, 1, 2, 5, 15, 13, 13, 16, 19, 2, 1, 2, 4, 8, 9, 6, 14, 13, 8, 5, 17, 19, 3, 6, 7, 3, 8, 1, 2, 12, 13, 1, 2, 3, 4, 9, 11, 3, 9, 11, 1, 2, 1, 12, 16, 7, 7, 8, 18, 15, 1, 6, 9, 1, 4, 13, 7, 3, 12, 10, 20, 12, 16, 4, 11, 1, 10, 10, 7, 19, 9, 2, 5, 1, 3, 5, 11, 3, 5, 11, 14, 9, 9, 10, 14, 6, 16, 1, 3, 7, 1, 2, 4, 6, 7, 17, 18, 14, 1, 2, 4, 6, 12, 12, 15, 4, 14, 5, 8, 12, 5, 8, 13, 19, 12, 15, 14, 20, 3, 18, 20, 14, 1, 2, 4, 14, 11, 20, 13, 2, 11, 3, 18, 20, 14, 1, 2, 6, 8, 13, 16, 19, 3, 5, 6, 10, 1, 2, 6, 8, 10, 5, 8, 6, 1, 2, 3, 4, 7, 1, 3, 12, 1, 8, 16, 1, 8, 1, 2, 3, 4, 6, 11, 12, 20, 15, 2, 4, 8, 16, 2, 4, 16, 13, 9, 8, 1, 10, 1, 2, 3, 6, 9, 13, 8, 3, 7, 1, 2, 4, 3, 5, 7, 11, 14, 8, 4, 11, 9, 1, 2, 8, 18, 8, 14, 1, 3, 4, 19, 12, 5, 2, 9, 2, 20, 7, 2, 9, 15, 3, 19, 8, 2, 4, 8, 9, 13, 16, 2, 4, 11, 16, 20, 19, 4, 5, 1, 2, 4, 5, 6, 9, 10, 11, 17, 9, 3, 14, 1, 10, 18, 7, 7, 16, 18, 5, 6, 11, 8, 1, 17, 13, 2, 7, 6, 6, 15, 9, 20, 1, 10, 18, 1, 2, 3, 4, 5, 6, 8, 9, 11, 12, 13, 14, 16, 18, 8, 17, 3, 5, 11, 3, 12, 5, 8, 3, 7, 11, 5, 11, 16, 1, 2, 3, 5, 7, 9, 12, 16, 12, 19], \"Freq\": [0.9815918803215027, 0.910065233707428, 0.07913611084222794, 0.9411238431930542, 0.5802788138389587, 0.33849596977233887, 0.015551839023828506, 0.09331103414297104, 0.40434780716896057, 0.13996654748916626, 0.20217390358448029, 0.04665551707148552, 0.07775919139385223, 0.873832106590271, 0.9182136058807373, 0.15699267387390137, 0.7849633693695068, 0.8438090085983276, 0.26590707898139954, 0.05318141728639603, 0.6381770372390747, 0.964122474193573, 0.7833920121192932, 0.9673655033111572, 0.7339641451835632, 0.1834910362958908, 0.9085476398468018, 0.9496928453445435, 0.8300585746765137, 0.9240318536758423, 0.904803454875946, 0.8477252721786499, 0.9561911821365356, 0.8845850229263306, 0.1020675003528595, 0.8552102446556091, 0.9600237011909485, 0.8128337860107422, 0.9733791947364807, 0.8611754179000854, 0.8404174447059631, 0.21087317168712616, 0.17572763562202454, 0.4920373857021332, 0.028116421774029732, 0.021087316796183586, 0.021087316796183586, 0.04920373857021332, 0.8351328372955322, 0.9374311566352844, 0.06047942861914635, 0.3150586485862732, 0.10257723182439804, 0.043961670249700546, 0.4322897493839264, 0.10257723182439804, 0.007326945196837187, 0.20610372722148895, 0.11593334376811981, 0.04508519172668457, 0.48305562138557434, 0.14813704788684845, 0.9793680906295776, 0.957542896270752, 0.8392622470855713, 0.7670103907585144, 0.8258050084114075, 0.430402934551239, 0.5520385503768921, 0.009356585331261158, 0.43281570076942444, 0.35412195324897766, 0.17706097662448883, 0.7970443964004517, 0.955091118812561, 0.5216245055198669, 0.08693741261959076, 0.04346870630979538, 0.3129746913909912, 0.01738748326897621, 0.01738748326897621, 0.9439893364906311, 0.8454558253288269, 0.9390170574188232, 0.9096632599830627, 0.4080347716808319, 0.08160695433616638, 0.4896417260169983, 0.5816661715507507, 0.4105879068374634, 0.9214008450508118, 0.4035721719264984, 0.062088027596473694, 0.062088027596473694, 0.37252816557884216, 0.062088027596473694, 0.9560257792472839, 0.26564598083496094, 0.7083892822265625, 0.935649037361145, 0.8798707127571106, 0.9265514016151428, 0.4912988245487213, 0.42988646030426025, 0.986290693283081, 0.8676710724830627, 0.8585497140884399, 0.9447047710418701, 0.8850729465484619, 0.0983414351940155, 0.8367913961410522, 0.832567036151886, 0.9351060390472412, 0.9787161946296692, 0.706145703792572, 0.047076381742954254, 0.23538190126419067, 0.816307783126831, 0.37565791606903076, 0.6147129535675049, 0.9796572923660278, 0.40753018856048584, 0.04918467998504639, 0.23889701068401337, 0.007026382721960545, 0.03513191267848015, 0.25997617840766907, 0.9748836755752563, 0.6060784459114075, 0.33671024441719055, 0.9202781915664673, 0.9807568788528442, 0.25817275047302246, 0.6454318761825562, 0.9647863507270813, 0.9162935018539429, 0.06319265812635422, 0.9706038236618042, 0.051952995359897614, 0.25976496934890747, 0.450259268283844, 0.24244730174541473, 0.8563246130943298, 0.9303558468818665, 0.9496240615844727, 0.7333332896232605, 0.8359827995300293, 0.7960686087608337, 0.9212060570716858, 0.07444950193166733, 0.19853201508522034, 0.6576372981071472, 0.062041252851486206, 0.9065244197845459, 0.9288922548294067, 0.8730080127716064, 0.8044677376747131, 0.8953291773796082, 0.9112237095832825, 0.5661263465881348, 0.007548351306468248, 0.294385701417923, 0.06793516129255295, 0.06038681045174599, 0.8764511346817017, 0.0389910563826561, 0.003390526631847024, 0.05594369024038315, 0.006781053263694048, 0.006781053263694048, 0.011866843327879906, 0.8228349089622498, 0.9241299033164978, 0.07108691334724426, 0.07926954329013824, 0.7398490309715271, 0.10569272190332413, 0.052846360951662064, 0.9723346829414368, 0.9857863783836365, 0.7877563834190369, 0.9161148071289062, 0.9331492185592651, 0.9307891130447388, 0.8874619603157043, 0.10757114738225937, 0.4455059766769409, 0.18562749028205872, 0.11137649416923523, 0.01856274902820587, 0.22275298833847046, 0.7073185443878174, 0.23577284812927246, 0.8535350561141968, 0.9163576364517212, 0.25160056352615356, 0.7548016309738159, 0.6792474389076233, 0.8631359934806824, 0.9355268478393555, 0.9508457183837891, 0.7672045826911926, 0.19180114567279816, 0.8736116886138916, 0.8255125880241394, 0.7645559906959534, 0.09323853254318237, 0.14918164908885956, 0.819841206073761, 0.35588985681533813, 0.17794492840766907, 0.44486233592033386, 0.8312208652496338, 0.8390581011772156, 0.16781161725521088, 0.9791516065597534, 0.9349262714385986, 0.03681568801403046, 0.9572078585624695, 0.20019878447055817, 0.7340622544288635, 0.9250554442405701, 0.9052082896232605, 0.06465773284435272, 0.9143236875534058, 0.9758684039115906, 0.8303021192550659, 0.16529162228107452, 0.844538152217865, 0.971009373664856, 0.02144465781748295, 0.10722328722476959, 0.8363416790962219, 0.33038702607154846, 0.05506450682878494, 0.6057095527648926, 0.7581445574760437, 0.26856350898742676, 0.7289581298828125, 0.9446507692337036, 0.5893821120262146, 0.35362929105758667, 0.928615927696228, 0.03280369192361832, 0.22962583601474762, 0.22962583601474762, 0.03280369192361832, 0.4756534993648529, 0.17515093088150024, 0.6568160057067871, 0.13136319816112518, 0.9836812615394592, 0.8908959031105042, 0.27137985825538635, 0.6332196593284607, 0.09045995026826859, 0.6205806732177734, 0.35461753606796265, 0.16459693014621735, 0.4577851891517639, 0.010287308134138584, 0.118304044008255, 0.118304044008255, 0.03600557893514633, 0.08229846507310867, 0.005143654067069292, 0.005143654067069292, 0.9196010231971741, 0.9557698965072632, 0.9355815052986145, 0.8739450573921204, 0.28536340594291687, 0.224214106798172, 0.2649803161621094, 0.14268170297145844, 0.06114930287003517, 0.27851176261901855, 0.6498607993125916, 0.046418625861406326, 0.961667001247406, 0.9637153744697571, 0.9516966938972473, 0.9515217542648315, 0.32241055369377136, 0.1240040510892868, 0.4712153971195221, 0.07440242916345596, 0.9766263961791992, 0.9274333715438843, 0.5516290068626404, 0.18387633562088013, 0.22984540462493896, 0.9167685508728027, 0.05729803442955017, 0.8444250226020813, 0.9377436637878418, 0.8039333820343018, 0.9106107354164124, 0.5273094177246094, 0.4394244849681854, 0.8275705575942993, 0.8167422413825989, 0.9041966199874878, 0.936435878276825, 0.053005803376436234, 0.9686546921730042, 0.01513522956520319, 0.6411532163619995, 0.235089510679245, 0.12823064625263214, 0.8149677515029907, 0.8899772763252258, 0.8766536712646484, 0.9463132619857788, 0.03263149410486221, 0.917477011680603, 0.35317257046699524, 0.27167120575904846, 0.35317257046699524, 0.9819801449775696, 0.309999942779541, 0.26441171765327454, 0.1002940982580185, 0.1276470273733139, 0.18235290050506592, 0.9401158094406128, 0.9284881353378296, 0.8594329357147217, 0.32420629262924194, 0.2971891164779663, 0.35122349858283997, 0.9564393162727356, 0.9448752999305725, 0.7489587664604187, 0.7251330018043518, 0.41830140352249146, 0.05485919862985611, 0.15086279809474945, 0.08228880167007446, 0.1440054029226303, 0.034286998212337494, 0.013714799657464027, 0.10286100208759308, 0.8902785181999207, 0.5523707866668701, 0.4142780900001526, 0.9250554442405701, 0.7772055864334106, 0.783392071723938, 0.9683620929718018, 0.9109598994255066, 0.9390170574188232, 0.7877562642097473, 0.32352009415626526, 0.01078400295227766, 0.053920015692710876, 0.2480320781469345, 0.04313601180911064, 0.14019204676151276, 0.1833280622959137, 0.01078400295227766, 0.7070826292037964, 0.06954911351203918, 0.11011942476034164, 0.11011942476034164, 0.9429470896720886, 0.8474205136299133, 0.22497700154781342, 0.7499232888221741, 0.44955065846443176, 0.5346007943153381, 0.888981282711029, 0.025253010913729668, 0.37037748098373413, 0.6032663583755493, 0.2668854594230652, 0.23352476954460144, 0.4670495390892029, 0.7732946276664734, 0.9190929532051086, 0.9670922160148621, 0.7377865314483643, 0.10103309154510498, 0.8082647323608398, 0.9720112085342407, 0.23974408209323883, 0.7192322611808777, 0.8736739754676819, 0.026079820469021797, 0.09127937257289886, 0.9215294718742371, 0.8301043510437012, 0.13388779759407043, 0.03570341318845749, 0.4677366018295288, 0.4677366018295288, 0.042521510273218155, 0.9336496591567993, 0.3239268660545349, 0.6478537321090698, 0.8406679034233093, 0.12009541690349579, 0.8035339117050171, 0.1607067883014679, 0.9166439175605774, 0.9344061613082886, 0.41877681016921997, 0.5008052587509155, 0.047490157186985016, 0.030221007764339447, 0.8683632612228394, 0.9228540062904358, 0.9425908923149109, 0.8824068903923035, 0.959632933139801, 0.8925628662109375, 0.11157035827636719, 0.8375429511070251, 0.8817270994186401, 0.4812229573726654, 0.07598257064819336, 0.30899578332901, 0.010131008923053741, 0.020262017846107483, 0.040524035692214966, 0.035458531230688095, 0.015196514315903187, 0.005065504461526871, 0.5983344316482544, 0.24376589059829712, 0.13296321034431458, 0.5098618268966675, 0.1907646209001541, 0.149143248796463, 0.11099032312631607, 0.034684475511312485, 0.9197750687599182, 0.9481043815612793, 0.7780497670173645, 0.02229088731110096, 0.9585081338882446, 0.02229088731110096, 0.17890098690986633, 0.14312079548835754, 0.035780198872089386, 0.6261534690856934, 0.10125481337308884, 0.8606659173965454, 0.8628419637680054, 0.9737107753753662, 0.9554818868637085, 0.9629846215248108, 0.9014847278594971, 0.9919049739837646, 0.730262279510498, 0.2434207648038864, 0.6840337514877319, 0.21376053988933563, 0.09619224071502686, 0.010688027366995811, 0.9350810647010803, 0.8915897607803345, 0.8059322237968445, 0.8930080533027649, 0.06244811415672302, 0.03746886923909187, 0.006244811695069075, 0.20529797673225403, 0.13686531782150269, 0.6158939599990845, 0.8859070539474487, 0.7444891929626465, 0.9694468975067139, 0.19131095707416534, 0.7971289753913879, 0.919330358505249, 0.24227210879325867, 0.6783618927001953, 0.04845442250370979, 0.9568480253219604, 0.9312438368797302, 0.9644409418106079, 0.8956587314605713, 0.8929306864738464, 0.33800026774406433, 0.6084004640579224, 0.9313037395477295, 0.5906491875648499, 0.3797030448913574, 0.04263000190258026, 0.9520700573921204, 0.9304863214492798, 0.9775498509407043, 0.6906455755233765, 0.09985237568616867, 0.20802578330039978, 0.07695322483778, 0.5386725664138794, 0.3462895154953003, 0.5584826469421387, 0.390937864780426, 0.9428192973136902, 0.505115807056427, 0.09183923155069351, 0.3903167247772217, 0.1311950832605362, 0.3458779454231262, 0.5128535032272339, 0.4410359263420105, 0.19770576059818268, 0.12166508287191391, 0.2281220257282257, 0.8903765082359314, 0.7383515238761902, 0.25681790709495544, 0.9809578657150269, 0.10185164213180542, 0.8148131370544434, 0.9746480584144592, 0.22770461440086365, 0.774195671081543, 0.7877562642097473, 0.9120833277702332, 0.9298994541168213, 0.50888592004776, 0.4770805537700653, 0.7651618719100952, 0.8744696974754333, 0.9677844643592834, 0.7601081728935242, 0.953839123249054, 0.9910346269607544, 0.9365400671958923, 0.9721483588218689, 0.887772262096405, 0.6831380724906921, 0.04983377829194069, 0.002076407428830862, 0.19518230855464935, 0.022840481251478195, 0.020764075219631195, 0.012458444572985172, 0.010382037609815598, 0.9845693707466125, 0.8778900504112244, 0.7796369194984436, 0.33765557408332825, 0.08441389352083206, 0.16882778704166412, 0.30951762199401855, 0.11255186051130295, 0.6917724609375, 0.09136617928743362, 0.013052310794591904, 0.06526155769824982, 0.10441848635673523, 0.013052310794591904, 0.35977256298065186, 0.11992418766021729, 0.47969675064086914, 0.9664020538330078, 0.7432740926742554, 0.9237398505210876, 0.8974658846855164, 0.8851920366287231, 0.9587507843971252, 0.7975581884384155, 0.8937541842460632, 0.9730973839759827, 0.8474820852279663, 0.31736695766448975, 0.6347339153289795, 0.8685145378112793, 0.9499914646148682, 0.8501032590866089, 0.2744070291519165, 0.3799481987953186, 0.0633247047662735, 0.1477576345205307, 0.126649409532547, 0.7662844061851501, 0.9764177203178406, 0.3136245608329773, 0.01206248253583908, 0.4945617914199829, 0.13268731534481049, 0.03618744760751724, 0.8656942248344421, 0.9436174035072327, 0.33494651317596436, 0.5233539342880249, 0.06280247122049332, 0.06280247122049332, 0.8963661193847656, 0.5076109170913696, 0.3514229357242584, 0.11714097857475281, 0.957491397857666, 0.035055436193943024, 0.01402217522263527, 0.315498948097229, 0.5398537516593933, 0.0911441370844841, 0.007011087611317635, 0.7830846309661865, 0.1779664009809494, 0.8186454176902771, 0.9020732045173645, 0.8029358386993408, 0.16903913021087646, 0.9266343712806702, 0.8898063898086548, 0.055612899363040924, 0.7960686087608337, 0.9767574667930603, 0.9125637412071228, 0.44939202070236206, 0.44939202070236206, 0.04993244633078575, 0.9255526065826416, 0.9288750886917114, 0.8006229400634766, 0.9136916399002075, 0.18960806727409363, 0.7347312569618225, 0.07110302150249481, 0.8910910487174988, 0.8801339268684387, 0.3198932409286499, 0.20356842875480652, 0.4362180829048157, 0.9859394431114197, 0.9854866862297058, 0.8496516346931458, 0.07649455219507217, 0.02549818344414234, 0.8414400815963745, 0.02549818344414234, 0.8648650646209717, 0.8958418369293213, 0.2108229547739029, 0.737880289554596, 0.8369355201721191, 0.8101435303688049, 0.12463746964931488, 0.7926663160324097, 0.18873007595539093, 0.9497907757759094, 0.9721893072128296, 0.9525555968284607, 0.8385079503059387, 0.7024240493774414, 0.02065953053534031, 0.2479143738746643, 0.02065953053534031, 0.0458318293094635, 0.824972927570343, 0.091663658618927, 0.8779050707817078, 0.009754501283168793, 0.07803601026535034, 0.02926350198686123, 0.7990997433662415, 0.19627010822296143, 0.873551607131958, 0.15073587000370026, 0.7159953713417053, 0.11305190622806549, 0.09328772127628326, 0.8395894765853882, 0.92766273021698, 0.9556108713150024, 0.11834725737571716, 0.7988439798355103, 0.02958681434392929, 0.02958681434392929, 0.517715573310852, 0.22567088901996613, 0.013274758122861385, 0.10619806498289108, 0.11947282403707504, 0.9658520817756653, 0.9695800542831421, 0.45844805240631104, 0.1206442266702652, 0.02412884496152401, 0.19303075969219208, 0.19303075969219208, 0.5529356598854065, 0.22767938673496246, 0.21683751046657562, 0.2630120813846588, 0.6575301885604858, 0.9024973511695862, 0.1208595260977745, 0.8701885938644409, 0.8845824599266052, 0.22728337347507477, 0.20980004966259003, 0.47205010056495667, 0.04370834305882454, 0.04370834305882454, 0.9158613681793213, 0.9193099141120911, 0.027579298242926598, 0.009193099103868008, 0.03677239641547203, 0.9415391683578491, 0.043792519718408585, 0.2668512165546417, 0.720498263835907, 0.8241205811500549, 0.8301144242286682, 0.9006847739219666, 0.945636510848999, 0.9390170574188232, 0.9570369720458984, 0.3109801411628723, 0.6219602823257446, 0.9366429448127747, 0.9637156128883362, 0.9260542988777161, 0.9121918082237244, 0.259779155254364, 0.7143926620483398, 0.9285226464271545, 0.8493331074714661, 0.37822631001472473, 0.3200376331806183, 0.13092449307441711, 0.14547166228294373, 0.2708260416984558, 0.5416520833969116, 0.07965471595525742, 0.07965471595525742, 0.9636844396591187, 0.8717217445373535, 0.8501269817352295, 0.5963415503501892, 0.019878050312399864, 0.2584146559238434, 0.019878050312399864, 0.09939025342464447, 0.004969512578099966, 0.8519300222396851, 0.08519300073385239, 0.9606159329414368, 0.9242318272590637, 0.27951714396476746, 0.027951713651418686, 0.6428894400596619, 0.9660974740982056, 0.9335024356842041, 0.7009766697883606, 0.20027905702590942, 0.93709397315979, 0.6981383562088013, 0.25856977701187134, 0.025856977328658104, 0.8735799193382263, 0.17327693104743958, 0.7797461748123169, 0.4736040532588959, 0.060034316033124924, 0.27348965406417847, 0.1934439092874527, 0.925477921962738, 0.06046842783689499, 0.8919093012809753, 0.030234213918447495, 0.9756144285202026, 0.22367918491363525, 0.04473583772778511, 0.7157734036445618, 0.7565214037895203, 0.9675610661506653, 0.957719087600708, 0.024556899443268776, 0.8192983269691467, 0.19690829515457153, 0.7876331806182861, 0.947816789150238, 0.02961927466094494, 0.5021601915359497, 0.0371970497071743, 0.334773451089859, 0.01859852485358715, 0.1115911528468132, 0.9403079152107239, 0.7794573903083801, 0.9686323404312134, 0.8366816639900208, 0.1287202537059784, 0.9380170106887817, 0.05309530347585678, 0.9849713444709778, 0.9266169667243958, 0.2895773947238922, 0.15330567955970764, 0.051101893186569214, 0.4599170386791229, 0.01703396439552307, 0.859898567199707, 0.11725889146327972, 0.8471017479896545, 0.07822078466415405, 0.1694783717393875, 0.4562879204750061, 0.10429438203573227, 0.052147191017866135, 0.06518398970365524, 0.06518398970365524, 0.9265378713607788, 0.7364270687103271, 0.611264705657959, 0.3750942349433899, 0.941843569278717, 0.25440141558647156, 0.6784037947654724, 0.03392019122838974, 0.01696009561419487, 0.8908870220184326, 0.9408360719680786, 0.7542396187782288, 0.19939705729484558, 0.49849262833595276, 0.26586273312568665, 0.9068391919136047, 0.6983434557914734, 0.5695543885231018, 0.3714485168457031, 0.04952646791934967, 0.9254361391067505, 0.7430377006530762, 0.09287971258163452, 0.13931956887245178, 0.9573420882225037, 0.9667757749557495, 0.3876153528690338, 0.08019628375768661, 0.36979395151138306, 0.0445534884929657, 0.10692837834358215, 0.008910697884857655, 0.9150775074958801, 0.3021274507045746, 0.6168435215950012, 0.07553186267614365, 0.518968403339386, 0.45523542165756226, 0.009104708209633827, 0.15543146431446075, 0.02391253411769867, 0.33477547764778137, 0.09565013647079468, 0.059781335294246674, 0.07173760235309601, 0.2391253411769867, 0.9463714361190796, 0.02867792174220085, 0.9216213226318359, 0.6567497849464417, 0.25449055433273315, 0.008209372870624065, 0.07388435304164886, 0.9889557361602783, 0.9296404719352722, 0.12239158153533936, 0.7833061218261719, 0.07343494892120361, 0.9812836050987244, 0.8348208665847778, 0.9748097062110901, 0.8645871877670288, 0.8333958387374878, 0.9002627730369568, 0.10210776329040527, 0.1531616449356079, 0.45948493480682373, 0.3063232898712158, 0.9336516857147217, 0.5691127181053162, 0.08755580335855484, 0.2626674175262451, 0.06566685438156128, 0.9350112676620483, 0.9655794501304626, 0.7877562642097473, 0.9728507399559021, 0.8062102794647217, 0.15356387197971344, 0.8342012763023376, 0.3186311721801758, 0.5546542406082153, 0.04720461741089821, 0.03540346398949623, 0.03540346398949623, 0.8688682317733765, 0.8308123350143433, 0.054274171590805054, 0.05009923502802849, 0.004174936097115278, 0.054274171590805054, 0.004174936097115278, 0.7411618232727051, 0.009675742127001286, 0.2438286989927292, 0.0038702967576682568, 0.8413823843002319, 0.8996807336807251, 0.9572357535362244, 0.26578289270401, 0.007382858078926802, 0.5094172358512878, 0.09597715735435486, 0.029531432315707207, 0.08121144026517868, 0.11944715678691864, 0.3774529993534088, 0.49690017104148865, 0.7071095108985901, 0.2900961935520172, 0.9039713144302368, 0.9543782472610474, 0.7996298670768738, 0.9290884733200073, 0.8812804222106934, 0.8468900918960571, 0.30340006947517395, 0.6674801111221313, 0.020226670429110527, 0.9128882884979248, 0.0380370132625103, 0.9619112610816956, 0.07517437636852264, 0.187935933470726, 0.5638078451156616, 0.03758718818426132, 0.1252906322479248, 0.9682973027229309, 0.8267809748649597, 0.9679074883460999, 0.8527872562408447, 0.13119803369045258, 0.9537973999977112, 0.8726705312728882, 0.957970142364502, 0.9543754458427429, 0.8583667278289795, 0.19894568622112274, 0.7559936046600342, 0.9634935855865479, 0.9454423189163208, 0.8875100016593933, 0.9190474152565002, 0.3544766306877136, 0.1683764010667801, 0.40764814615249634, 0.062033411115407944, 0.00886191613972187, 0.9328773021697998, 0.923247218132019, 0.964901864528656, 0.11602091789245605, 0.05801045894622803, 0.8314832448959351, 0.9495503306388855, 0.9076588153839111, 0.8313273191452026, 0.9758211374282837, 0.6893879771232605, 0.44917699694633484, 0.5220165252685547, 0.012139919213950634, 0.9630588889122009, 0.9493132829666138, 0.8517796397209167, 0.9388147592544556, 0.6746493577957153, 0.036141932010650635, 0.174685999751091, 0.030118275433778763, 0.02409462071955204, 0.060236550867557526, 0.9605595469474792, 0.3499293923377991, 0.5832156538963318, 0.8284556269645691, 0.89378422498703, 0.9091094136238098, 0.07575912028551102, 0.8688007593154907, 0.07478844374418259, 0.8974612951278687, 0.9739387035369873, 0.921792209148407, 0.7669481635093689, 0.04382560774683952, 0.08765121549367905, 0.08765121549367905, 0.05595935881137848, 0.20518431067466736, 0.5595935583114624, 0.16787807643413544, 0.9444305896759033, 0.9459530115127563, 0.8928860425949097, 0.3161342442035675, 0.5460500717163086, 0.057478953152894974, 0.057478953152894974, 0.9329478144645691, 0.897821843624115, 0.9579658508300781, 0.03115336038172245, 0.8487329483032227, 0.9467270970344543, 0.9810118675231934, 0.3048021197319031, 0.6531473994255066, 0.10979995876550674, 0.7685996890068054, 0.10979995876550674, 0.9014374017715454, 0.5526555180549622, 0.012852453626692295, 0.42413097620010376, 0.8129793405532837, 0.16937069594860077, 0.9625301957130432, 0.922885537147522, 0.8551377654075623, 0.9618537425994873, 0.7958196401596069, 0.8862928748130798, 0.9813675284385681, 0.9521079659461975, 0.9763489961624146, 0.7252036929130554, 0.8951063752174377, 0.9164771437644958, 0.4170575737953186, 0.31795477867126465, 0.08671493828296661, 0.06193924322724342, 0.05780996009707451, 0.037163544446229935, 0.01651713065803051, 0.14442268013954163, 0.7943246960639954, 0.8075979351997375, 0.9260527491569519, 0.3129565119743347, 0.6885043382644653, 0.9717877507209778, 0.9367430806159973, 0.9048739075660706, 0.9428417086601257, 0.9232357740402222, 0.8267809748649597, 0.8876837491989136, 0.47349292039871216, 0.01821126602590084, 0.48259854316711426, 0.027316899970173836, 0.15698890388011932, 0.33640480041503906, 0.33640480041503906, 0.15698890388011932, 0.7522886395454407, 0.1805492639541626, 0.04012206196784973, 0.020061030983924866, 0.8780542612075806, 0.9759116768836975, 0.17730367183685303, 0.248225137591362, 0.21276439726352692, 0.31914660334587097, 0.8606923818588257, 0.9525108337402344, 0.7752718925476074, 0.9506421685218811, 0.938928484916687, 0.8972305655479431, 0.621706485748291, 0.03108532354235649, 0.3108532428741455, 0.020723547786474228, 0.3413409888744354, 0.6447551846504211, 0.1245025247335434, 0.3043394982814789, 0.4980100989341736, 0.05533445626497269, 0.9005002975463867, 0.10166938602924347, 0.8535542488098145, 0.927649199962616, 0.956367015838623, 0.2190350592136383, 0.17036059498786926, 0.3407211899757385, 0.24337227642536163, 0.3635045886039734, 0.48467278480529785, 0.14136289060115814, 0.8575221300125122, 0.9497128129005432, 0.5109827518463135, 0.15028904378414154, 0.27052026987075806, 0.9058559536933899, 0.3938252627849579, 0.3938252627849579, 0.19691263139247894, 0.695633590221405, 0.018306147307157516, 0.27459219098091125, 0.891413152217865, 0.9322695136070251, 0.756389856338501, 0.023213831707835197, 0.1392829865217209, 0.7196287512779236, 0.09285532683134079, 0.7752182483673096, 0.2067248672246933, 0.9056412577629089, 0.9499566555023193, 0.9220037460327148, 0.9548845291137695, 0.9349870681762695, 0.9495154023170471, 0.7877562046051025, 0.8591209053993225, 0.9575290679931641, 0.9184005856513977, 0.4311303496360779, 0.1379617154598236, 0.4138851463794708, 0.9400432109832764, 0.629317581653595, 0.07752463221549988, 0.1641698032617569, 0.013680817559361458, 0.11400680989027023, 0.7791160941123962, 0.9637829065322876, 0.12383775413036346, 0.14705733954906464, 0.10835803300142288, 0.34055382013320923, 0.06191887706518173, 0.05417901650071144, 0.16253705322742462, 0.49838635325431824, 0.14239610731601715, 0.07119805365800858, 0.24919317662715912, 0.38593167066574097, 0.09052718430757523, 0.009529177099466324, 0.41928377747535706, 0.02382294274866581, 0.06670423597097397, 0.8438607454299927, 0.5361199378967285, 0.3216719627380371, 0.4760764539241791, 0.005349173676222563, 0.1818719059228897, 0.3316487669944763, 0.005349173676222563, 0.9584287405014038, 0.9623515605926514, 0.43263620138168335, 0.2489139884710312, 0.08297132700681686, 0.005926523357629776, 0.020742831751704216, 0.050375450402498245, 0.15408961474895477, 0.8607730269432068, 0.9694628119468689, 0.12551824748516083, 0.6275912523269653, 0.12551824748516083, 0.7293481826782227, 0.2346598505973816, 0.02536863274872303, 0.012684316374361515, 0.7877562642097473, 0.057846590876579285, 0.23138636350631714, 0.6941590905189514, 0.12148505449295044, 0.8099004030227661, 0.9325789213180542, 0.9731062650680542, 0.760108232498169, 0.9582503437995911, 0.9009761810302734, 0.18023762106895447, 0.7209504842758179, 0.8647546768188477, 0.9824503660202026, 0.7632293701171875, 0.2368767112493515, 0.7106301188468933, 0.8897153735160828, 0.42794090509414673, 0.15283603966236115, 0.06113441288471222, 0.3362392783164978, 0.9416640400886536, 0.7581445574760437, 0.9279853105545044, 0.24903441965579987, 0.49806883931159973, 0.9551466703414917, 0.8300828337669373, 0.05757387354969978, 0.9211819767951965, 0.9657819867134094, 0.8770055174827576, 0.7934867739677429, 0.19837169349193573, 0.9086110591888428, 0.9116935729980469, 0.9670854210853577, 0.025228315964341164, 0.9009761810302734, 0.9171473383903503, 0.7144735455513, 0.9030927419662476, 0.22881269454956055, 0.7627090215682983, 0.6128140687942505, 0.3574748635292053, 0.8275340795516968, 0.8110708594322205, 0.8738600611686707, 0.11096635460853577, 0.49049872159957886, 0.49049872159957886, 0.9741403460502625, 0.7970638871192932, 0.570923924446106, 0.16608695685863495, 0.24913044273853302, 0.9085162878036499, 0.9039258360862732, 0.9225753545761108, 0.968768835067749, 0.831375241279602, 0.1662750542163849, 0.29633358120918274, 0.5871795415878296, 0.010975318029522896, 0.02195063605904579, 0.05487658828496933, 0.01646297611296177, 0.01646297611296177, 0.7612992525100708, 0.1631355583667755, 0.922316312789917, 0.06587973982095718, 0.9134246110916138, 0.10018087923526764, 0.5676916837692261, 0.14470571279525757, 0.1780993491411209, 0.7251330018043518, 0.9713014960289001, 0.9367818236351013, 0.30966275930404663, 0.6812580823898315, 0.9465072751045227, 0.8235223889350891, 0.9538304209709167, 0.8222883939743042, 0.605588436126709, 0.3967648148536682, 0.9167670011520386, 0.28643935918807983, 0.046199895441532135, 0.05543987825512886, 0.5636387467384338, 0.018479958176612854, 0.02771993912756443, 0.2323429435491562, 0.6970288157463074, 0.9041227698326111, 0.7754717469215393, 0.1925608366727829, 0.7702433466911316, 0.8651024699211121, 0.9530362486839294, 0.4993758797645569, 0.04730929434299469, 0.39424413442611694, 0.052565883845090866, 0.9474420547485352, 0.9563037753105164, 0.5850449204444885, 0.372301310300827, 0.9415425658226013, 0.9296222925186157, 0.9438353180885315, 0.713936448097229, 0.27459093928337097, 0.006992925889790058, 0.0209787767380476, 0.7622289061546326, 0.13286559283733368, 0.055943407118320465, 0.0209787767380476, 0.9677104353904724, 0.3025241792201996, 0.6981327533721924, 0.7607835531234741, 0.8921096920967102, 0.9730193018913269, 0.9638229012489319, 0.8406527638435364, 0.9740933179855347, 0.8946198225021362, 0.8728408217430115, 0.932321310043335, 0.02437262050807476, 0.2680988013744354, 0.15842202305793762, 0.5361976027488708, 0.953423023223877, 0.9310991168022156, 0.9313457608222961, 0.9182977676391602, 0.9078353047370911, 0.5054367780685425, 0.16847893595695496, 0.25271838903427124, 0.11954150348901749, 0.23908300697803497, 0.5977075099945068, 0.4874979853630066, 0.4874979853630066, 0.9190434217453003, 0.7742295265197754, 0.011385727673768997, 0.2125335931777954, 0.9228797554969788, 0.06235674023628235, 0.9582491517066956, 0.88107830286026, 0.9604105949401855, 0.9271278381347656, 0.8110853433609009, 0.9318137764930725, 0.9755896329879761, 0.5581873059272766, 0.07788660377264023, 0.02596220001578331, 0.14928264915943146, 0.18822595477104187, 0.6187553405761719, 0.3275763690471649, 0.8995183706283569, 0.8655446171760559, 0.9582901000976562, 0.8533326387405396, 0.9119566679000854, 0.3763773739337921, 0.4469481408596039, 0.1646651029586792, 0.20024694502353668, 0.7509260177612305, 0.32892170548439026, 0.49703726172447205, 0.17542491853237152, 0.8778976798057556, 0.6631653904914856, 0.13553746044635773, 0.04840623587369919, 0.029043739661574364, 0.04840623587369919, 0.07260935008525848, 0.3964342474937439, 0.36039477586746216, 0.21623685956001282, 0.3239787817001343, 0.6695561408996582, 0.12228482961654663, 0.12228482961654663, 0.7337089776992798, 0.9365170001983643, 0.8138620853424072, 0.13564369082450867, 0.9543532729148865, 0.9028651714324951, 0.15319976210594177, 0.6893989443778992, 0.11489982157945633, 0.963285505771637, 0.926216721534729, 0.8545656800270081, 0.9435226321220398, 0.9523091316223145, 0.921792209148407, 0.9118019342422485, 0.6977087259292603, 0.8117831945419312, 0.16235662996768951, 0.9644235968589783, 0.8817427754402161, 0.4170868396759033, 0.566046416759491, 0.987230122089386, 0.5159861445426941, 0.4514878988265991, 0.9022096395492554, 0.9698837995529175, 0.9776479005813599, 0.14609192311763763, 0.4528849720954895, 0.32140225172042847, 0.07304596155881882, 0.9893583059310913, 0.9409463405609131, 0.032446425408124924, 0.7377865314483643, 0.9208888411521912, 0.9621277451515198, 0.8274882435798645, 0.894317626953125, 0.9687298536300659, 0.7877563834190369, 0.9370295405387878, 0.024658672511577606, 0.024658672511577606, 0.6989209055900574, 0.004690744448453188, 0.0328352116048336, 0.09381488710641861, 0.11257787048816681, 0.056288935244083405, 0.9196010231971741, 0.890063464641571, 0.11290784180164337, 0.197588711977005, 0.042340438812971115, 0.5786526799201965, 0.06351065635681152, 0.2534380257129669, 0.7603140473365784, 0.8168289065361023, 0.15809591114521027, 0.041584692895412445, 0.7069397568702698, 0.24950815737247467, 0.2805424928665161, 0.17852704226970673, 0.4845733940601349, 0.025503862649202347, 0.9358190298080444, 0.8821829557418823, 0.7692934274673462, 0.7891788482666016, 0.9704664945602417, 0.9046915173530579, 0.9338905215263367, 0.8093613982200623, 0.7201316952705383, 0.18638703227043152, 0.07624924182891846, 0.008472137153148651, 0.18898403644561768, 0.566952109336853, 0.9457722306251526, 0.9257541298866272, 0.8611968159675598, 0.21293261647224426, 0.6387978196144104, 0.12775956094264984, 0.7619320750236511, 0.22884505987167358, 0.04038441926240921, 0.06730736792087555, 0.18172989785671234, 0.31634461879730225, 0.12788400053977966, 0.02692294679582119, 0.4726046621799469, 0.020548028871417046, 0.04109605774283409, 0.4520566165447235, 0.04800591990351677, 0.7920976877212524, 0.14401775598526, 0.9607442617416382, 0.9145731329917908, 0.5634631514549255, 0.43088358640670776, 0.8717572689056396, 0.7454820275306702, 0.2293790727853775, 0.0028672385960817337, 0.005734477192163467, 0.014336192049086094, 0.10946134477853775, 0.35574936866760254, 0.5199413895606995, 0.6988431811332703, 0.26400741934776306, 0.03105969727039337, 0.47887706756591797, 0.49729543924331665, 0.02326461859047413, 0.011632309295237064, 0.29371580481529236, 0.20356541872024536, 0.15122002363204956, 0.06979385763406754, 0.2500946521759033, 0.7770513892173767, 0.9390169382095337, 0.025271333754062653, 0.17689934372901917, 0.1389923393726349, 0.6444190144538879, 0.10184883326292038, 0.20369766652584076, 0.6838421821594238, 0.9513062834739685, 0.7973883152008057, 0.9063746929168701, 0.9715331196784973, 0.8734067678451538, 0.1509004831314087, 0.6746139526367188, 0.1509004831314087, 0.0088764987885952, 0.0177529975771904, 0.9313880801200867, 0.9486087560653687, 0.7099692821502686, 0.2469458431005478, 0.01905379444360733, 0.23817242681980133, 0.7430979609489441, 0.3914828300476074, 0.28471478819847107, 0.053384020924568176, 0.08897336572408676, 0.17794673144817352, 0.8983049392700195, 0.881411612033844, 0.8491963744163513, 0.8589749932289124, 0.2925150394439697, 0.5293129086494446, 0.15322215855121613, 0.01392928697168827, 0.34974169731140137, 0.6120479702949524, 0.10457275062799454, 0.6901801824569702, 0.1254872977733612, 0.0627436488866806, 0.9018969535827637, 0.9331287145614624, 0.9711472988128662, 0.9131026864051819, 0.9414816498756409, 0.6389821171760559, 0.8535050749778748, 0.18926379084587097, 0.23657973110675812, 0.520475447177887, 0.9573483467102051, 0.8774126172065735, 0.9340609908103943, 0.12635475397109985, 0.36853471398353577, 0.021059125661849976, 0.3527403473854065, 0.03158868849277496, 0.09476606547832489, 0.2791675925254822, 0.4466681480407715, 0.055833518505096436, 0.19541731476783752, 0.8720586895942688, 0.847388505935669, 0.8618599772453308, 0.943618893623352, 0.037591151893138885, 0.26940324902534485, 0.18795575201511383, 0.3571159243583679, 0.06891711056232452, 0.018795575946569443, 0.018795575946569443, 0.018795575946569443, 0.01253038365393877, 0.8831461668014526, 0.2821102440357208, 0.6582571864128113, 0.4553561508655548, 0.5059512853622437, 0.8255886435508728, 0.9627432227134705, 0.6019519567489624, 0.3540893793106079, 0.9016458988189697, 0.9409565925598145, 0.5612570643424988, 0.4409877061843872, 0.9127249717712402, 0.9776477217674255, 0.9428377747535706, 0.9167457222938538, 0.960553765296936, 0.02401384338736534, 0.9504741430282593, 0.9385128617286682, 0.9244871139526367, 0.33985185623168945, 0.5097777843475342, 0.9709078073501587, 0.8234241008758545, 0.9585570096969604, 0.25529658794403076, 0.14588375389575958, 0.01563040353357792, 0.08162543922662735, 0.20493194460868835, 0.14067362248897552, 0.0399443618953228, 0.027787381783127785, 0.012156980112195015, 0.059048186987638474, 0.0017367113614454865, 0.0017367113614454865, 0.0017367113614454865, 0.008683556690812111, 0.9129829406738281, 0.7806953191757202, 0.901015043258667, 0.04581432417035103, 0.04581432417035103, 0.9248113632202148, 0.9026236534118652, 0.5561997294425964, 0.434531033039093, 0.16466720402240753, 0.2881676256656647, 0.5351684093475342, 0.9778674244880676, 0.9330265522003174, 0.7877562642097473, 0.5850164890289307, 0.1261800229549408, 0.12904775142669678, 0.08316410332918167, 0.040148187428712845, 0.020074093714356422, 0.008603183552622795, 0.0028677277732640505, 0.9635692834854126, 0.7570669054985046], \"Term\": [\"ability\", \"academic\", \"academic\", \"accelerate\", \"achievement\", \"achievement\", \"activity\", \"activity\", \"activity\", \"activity\", \"activity\", \"activity\", \"activity\", \"ad\", \"adaptive\", \"addition\", \"addition\", \"adept\", \"advanced\", \"advanced\", \"advanced\", \"advertising\", \"advice\", \"advisor\", \"advisory\", \"advisory\", \"advocacy\", \"affair\", \"affect\", \"african\", \"age\", \"agenda\", \"agent\", \"agile\", \"agile\", \"agricultural\", \"ai\", \"air\", \"algorithm\", \"allocate\", \"almost\", \"also\", \"also\", \"also\", \"also\", \"also\", \"also\", \"also\", \"alternate\", \"always\", \"always\", \"analysis\", \"analysis\", \"analysis\", \"analysis\", \"analysis\", \"analysis\", \"analytic\", \"analytic\", \"analytic\", \"analytic\", \"analytic\", \"analytical\", \"anchor\", \"animal\", \"answer\", \"anywhere\", \"application\", \"application\", \"application\", \"approach\", \"approach\", \"approach\", \"approval\", \"architect\", \"area\", \"area\", \"area\", \"area\", \"area\", \"area\", \"aspect\", \"aspire\", \"assembly\", \"assess\", \"assessment\", \"assessment\", \"assessment\", \"assist\", \"assist\", \"assistance\", \"associate\", \"associate\", \"associate\", \"associate\", \"associate\", \"attendance\", \"attention\", \"attention\", \"attract\", \"audit\", \"audits\", \"author\", \"author\", \"automation\", \"automotive\", \"autosys\", \"availability\", \"available\", \"available\", \"aw\", \"azure\", \"bachelor\", \"back\", \"background\", \"background\", \"background\", \"bag\", \"bank\", \"bank\", \"banking\", \"base\", \"base\", \"base\", \"base\", \"base\", \"base\", \"basis\", \"batch\", \"batch\", \"battery\", \"become\", \"behavior\", \"behavior\", \"behavioral\", \"believe\", \"believe\", \"benefit\", \"big\", \"big\", \"big\", \"big\", \"billing\", \"bioinformatic\", \"bit\", \"blend\", \"blog\", \"boarding\", \"border\", \"brand\", \"brand\", \"brand\", \"brand\", \"branding\", \"breakdown\", \"bridge\", \"brief\", \"btech\", \"bug\", \"build\", \"build\", \"build\", \"build\", \"build\", \"business\", \"business\", \"business\", \"business\", \"business\", \"business\", \"business\", \"calculate\", \"call\", \"call\", \"campaign\", \"campaign\", \"campaign\", \"campaign\", \"campus\", \"candidate\", \"captivate\", \"captive\", \"carbon\", \"card\", \"care\", \"care\", \"career\", \"career\", \"career\", \"career\", \"career\", \"cash\", \"cash\", \"catalyst\", \"cathode\", \"cell\", \"cell\", \"cent\", \"ceremony\", \"certificate\", \"certification\", \"certify\", \"certify\", \"chain\", \"chair\", \"challenge\", \"challenge\", \"challenge\", \"chance\", \"channel\", \"channel\", \"channel\", \"chapter\", \"check\", \"check\", \"chemical\", \"chief\", \"child\", \"child\", \"choice\", \"choice\", \"chute\", \"city\", \"city\", \"classical\", \"classification\", \"client\", \"client\", \"clinical\", \"close\", \"cloud\", \"cloud\", \"cloud\", \"cluster\", \"cluster\", \"cluster\", \"coating\", \"code\", \"code\", \"cognizant\", \"cold\", \"cold\", \"college\", \"com\", \"com\", \"com\", \"com\", \"com\", \"commerce\", \"commerce\", \"commerce\", \"commercial\", \"committee\", \"communication\", \"communication\", \"communication\", \"community\", \"community\", \"company\", \"company\", \"company\", \"company\", \"company\", \"company\", \"company\", \"company\", \"company\", \"compass\", \"compensation\", \"competition\", \"competitor\", \"complete\", \"complete\", \"complete\", \"complete\", \"complete\", \"compliance\", \"compliance\", \"compliance\", \"component\", \"comprehensive\", \"computational\", \"compute\", \"computer\", \"computer\", \"computer\", \"computer\", \"concept\", \"condition\", \"conduct\", \"conduct\", \"conduct\", \"conference\", \"conference\", \"confidence\", \"confident\", \"configure\", \"conglomerate\", \"connect\", \"connect\", \"consensus\", \"consider\", \"construction\", \"consultant\", \"consultant\", \"consulting\", \"consulting\", \"content\", \"content\", \"content\", \"context\", \"continue\", \"contribution\", \"control\", \"control\", \"conveyor\", \"coordinate\", \"coordinate\", \"coordinate\", \"core\", \"corporate\", \"corporate\", \"corporate\", \"corporate\", \"corporate\", \"corporation\", \"could\", \"count\", \"country\", \"country\", \"country\", \"course\", \"cover\", \"crack\", \"crave\", \"create\", \"create\", \"create\", \"create\", \"create\", \"create\", \"create\", \"create\", \"creativity\", \"credit\", \"credit\", \"creo\", \"cricket\", \"crisis\", \"critical\", \"crop\", \"crush\", \"cucumber\", \"currently\", \"currently\", \"currently\", \"currently\", \"currently\", \"currently\", \"currently\", \"currently\", \"customer\", \"customer\", \"customer\", \"customer\", \"customer_satisfaction\", \"dairy\", \"dashboard\", \"dashboard\", \"data\", \"data\", \"dataset\", \"datum\", \"datum\", \"datum\", \"decision\", \"decision\", \"decision\", \"decision_maker\", \"dedicated\", \"deep\", \"default\", \"defect\", \"defect\", \"define\", \"degree\", \"degree\", \"deliver\", \"deliver\", \"deliver\", \"deliverable\", \"delivery\", \"delivery\", \"delivery\", \"demand\", \"demand\", \"demand\", \"demonstrate\", \"demonstrated_history\", \"demonstrated_history\", \"department\", \"department\", \"deploy\", \"deploy\", \"deployment\", \"description\", \"design\", \"design\", \"design\", \"design\", \"designate\", \"designer\", \"designing\", \"desire\", \"desk\", \"detail\", \"detail\", \"determination\", \"determine\", \"develop\", \"develop\", \"develop\", \"develop\", \"develop\", \"develop\", \"develop\", \"develop\", \"develop\", \"developer\", \"developer\", \"developer\", \"development\", \"development\", \"development\", \"development\", \"development\", \"device\", \"devop\", \"diagnostic\", \"different\", \"different\", \"different\", \"digital\", \"digital\", \"digital\", \"digital\", \"director\", \"director\", \"discussion\", \"distribute\", \"distribution\", \"district\", \"diversity\", \"document\", \"documentation\", \"documentation\", \"domain\", \"domain\", \"domain\", \"domain\", \"draft\", \"draw\", \"dream\", \"drive\", \"drive\", \"drive\", \"drive\", \"driver\", \"driver\", \"driver\", \"drop\", \"dsp\", \"early\", \"economic\", \"economic\", \"editor\", \"education\", \"education\", \"education\", \"educational\", \"effect\", \"effectively\", \"elearne\", \"electrochemical\", \"electronic\", \"electronic\", \"embed\", \"emerge\", \"emerge\", \"employee\", \"employee\", \"empower\", \"enable\", \"end\", \"end\", \"end\", \"energy\", \"energy\", \"energy\", \"engage\", \"engage\", \"engine\", \"engineer\", \"engineer\", \"engineer\", \"engineering\", \"engineering\", \"engineering\", \"enterprise\", \"enterprise\", \"enterprise\", \"enterprise\", \"enthusiast\", \"entrepreneur\", \"entrepreneur\", \"entrepreneurial\", \"environmental\", \"environmental\", \"equipment\", \"equity\", \"equity\", \"escape\", \"ethic\", \"european\", \"evaluation\", \"evaluation\", \"ever\", \"evolution\", \"excellent\", \"exclusive\", \"exempt\", \"exist\", \"exit\", \"expand\", \"expect\", \"experience\", \"experience\", \"experience\", \"experience\", \"experience\", \"experience\", \"experience\", \"experience\", \"experienced\", \"experiment\", \"experimental\", \"expert\", \"expert\", \"expert\", \"expert\", \"expert\", \"expertise\", \"expertise\", \"expertise\", \"expertise\", \"expertise\", \"expertise\", \"explore\", \"explore\", \"explore\", \"exposure\", \"extended\", \"extensively\", \"extract\", \"facet\", \"facilitate\", \"facility\", \"faculty\", \"family\", \"farmer\", \"feature\", \"feature\", \"federal\", \"feed\", \"fellow\", \"field\", \"field\", \"field\", \"field\", \"field\", \"figure\", \"file\", \"financial\", \"financial\", \"financial\", \"financial\", \"financial\", \"finserv\", \"fintech\", \"first\", \"first\", \"first\", \"first\", \"fix\", \"flow\", \"flow\", \"flow\", \"fluid\", \"focus\", \"focus\", \"focus\", \"focus\", \"focus\", \"focus\", \"focused\", \"food\", \"food\", \"force\", \"forecast\", \"forecast\", \"forecasting\", \"form\", \"form\", \"formality\", \"format\", \"formation\", \"fortune\", \"fortune\", \"fortune\", \"forum\", \"found\", \"foundation\", \"fracture\", \"framework\", \"framework\", \"framework\", \"front\", \"fuel\", \"full\", \"full\", \"full\", \"function\", \"functional\", \"functionality\", \"fund\", \"fund\", \"fund\", \"fund\", \"fundamental\", \"funding\", \"game\", \"game\", \"gartner\", \"gather\", \"gather\", \"generate\", \"generate\", \"geographical\", \"geography\", \"german\", \"glass\", \"global\", \"global\", \"global\", \"global\", \"globally\", \"globally\", \"globally\", \"good\", \"good\", \"good\", \"good\", \"government\", \"government\", \"grade\", \"graduate\", \"graduate\", \"graduate\", \"grant\", \"grant\", \"grievance\", \"ground\", \"grow\", \"grow\", \"grow\", \"grow\", \"growth\", \"growth\", \"growth\", \"growth\", \"growth\", \"guide\", \"hadoop\", \"hand\", \"hand\", \"hand\", \"hand\", \"hand\", \"handle\", \"handle\", \"handle\", \"handling\", \"handling\", \"hardware\", \"health\", \"health\", \"heat\", \"help\", \"help\", \"help\", \"help\", \"help\", \"hierarchical\", \"high\", \"high\", \"high\", \"high\", \"highly\", \"highly\", \"hire\", \"hire\", \"hit\", \"hive\", \"holder\", \"holistic\", \"hopper\", \"host\", \"hour\", \"hour\", \"hr\", \"http\", \"https_www\", \"hub\", \"human\", \"human\", \"hunt\", \"hybrid\", \"impact\", \"impact\", \"impact\", \"impact\", \"implement\", \"implement\", \"implement\", \"implement\", \"improvement\", \"incentive\", \"incline\", \"include\", \"include\", \"include\", \"include\", \"include\", \"include\", \"inclusion\", \"inclusion\", \"income\", \"incorporate\", \"increase\", \"increase\", \"increase\", \"incubator\", \"indeed\", \"independent\", \"independent\", \"index\", \"indian\", \"indian\", \"indian\", \"induction\", \"industrial\", \"industrial\", \"industry\", \"industry\", \"industry\", \"industry\", \"industry_skille\", \"information\", \"information\", \"information\", \"infrastructure\", \"insight\", \"insight\", \"insight\", \"installation\", \"institution\", \"insurance\", \"insurance\", \"integral\", \"integration\", \"integration\", \"intelligence\", \"intelligence\", \"interest\", \"interest\", \"interest\", \"interest\", \"interest\", \"interested\", \"interior\", \"intern\", \"internal\", \"internal\", \"international\", \"international\", \"interview\", \"invest\", \"investment\", \"investment\", \"investment\", \"investment\", \"investment\", \"investor\", \"investor\", \"invite\", \"involve\", \"involve\", \"involve\", \"involve\", \"involve\", \"involve\", \"involve\", \"iot\", \"iso\", \"issue\", \"issue\", \"java\", \"job\", \"job\", \"job\", \"job\", \"journal\", \"journalist\", \"justice\", \"know\", \"know\", \"know\", \"lab\", \"laboratory\", \"large\", \"large\", \"large\", \"late\", \"launch\", \"launch\", \"launch\", \"law\", \"lawyer\", \"lead\", \"lead\", \"lead\", \"lead\", \"lead\", \"lead\", \"lead_generation\", \"leader\", \"leader\", \"leader\", \"leadership\", \"leadership\", \"leadership\", \"learn\", \"learn\", \"learn\", \"learn\", \"learn\", \"learn\", \"learn\", \"legal\", \"legal\", \"letter\", \"level\", \"level\", \"level\", \"level\", \"leverage\", \"liaison\", \"life\", \"life\", \"life\", \"limited\", \"link\", \"list\", \"livelihood\", \"loading\", \"loan\", \"logistic\", \"logistic\", \"logistic\", \"logistic\", \"long\", \"look\", \"look\", \"look\", \"look\", \"lot\", \"low\", \"ly\", \"machine_learning\", \"madra\", \"madra\", \"maintenance\", \"make\", \"make\", \"make\", \"make\", \"make\", \"man\", \"manage\", \"manage\", \"manage\", \"manage\", \"manage\", \"manage\", \"management\", \"management\", \"management\", \"management\", \"manpower\", \"manual\", \"manufacture\", \"market\", \"market\", \"market\", \"market\", \"market\", \"market\", \"marketing\", \"marketing\", \"marketing\", \"material\", \"material\", \"mathematic\", \"mathematical\", \"measure\", \"measurement\", \"mechanic\", \"mechanism\", \"medium\", \"medium\", \"medium\", \"meet\", \"meet\", \"meeting\", \"member\", \"member\", \"member\", \"member\", \"member\", \"mentor\", \"meter\", \"method\", \"methodology\", \"methodology\", \"metric\", \"microservice\", \"mid\", \"migration\", \"milestone\", \"mining\", \"mining\", \"mis\", \"mission\", \"mobility\", \"mode\", \"model\", \"model\", \"model\", \"model\", \"model\", \"modeling\", \"modern\", \"module\", \"month\", \"month\", \"month\", \"monthly\", \"nanomaterial\", \"nanostructure\", \"national\", \"navigate\", \"need\", \"need\", \"need\", \"negotiate\", \"negotiation\", \"net\", \"networking\", \"new\", \"new\", \"new\", \"new\", \"new\", \"new\", \"news\", \"next\", \"next\", \"ngo\", \"nominate\", \"non\", \"non\", \"norm\", \"novel\", \"novel\", \"objective\", \"occasional\", \"offer\", \"offer\", \"offer\", \"offer\", \"office\", \"office\", \"office\", \"office\", \"officer\", \"official\", \"oil\", \"online\", \"online\", \"online\", \"online\", \"onsite\", \"operating\", \"operation\", \"operation\", \"optic\", \"optimal\", \"optimization\", \"oracle\", \"oracle\", \"order\", \"order\", \"order\", \"organisational\", \"organization\", \"organization\", \"organization\", \"organizational\", \"organizational\", \"organize\", \"orientation\", \"original\", \"outcome\", \"outreach\", \"outstanding\", \"overall\", \"oversee\", \"own\", \"oyo\", \"package\", \"packaging\", \"page\", \"page\", \"page\", \"page\", \"page\", \"page\", \"page\", \"paper\", \"paper\", \"paperwork\", \"parliamentary\", \"part\", \"part\", \"partnership\", \"passion\", \"patient\", \"pay\", \"payroll\", \"pdlc\", \"peacekeeping\", \"people\", \"people\", \"people\", \"people\", \"perform\", \"perform\", \"perform\", \"perform\", \"performance\", \"performance\", \"performance\", \"performance\", \"period\", \"permanent\", \"phase\", \"phase\", \"phase\", \"phase\", \"phd\", \"philanthropy\", \"physics\", \"pioneer\", \"pipeline\", \"placement\", \"plan\", \"plan\", \"plan\", \"plan\", \"plant\", \"plant\", \"platform\", \"platform\", \"platform\", \"platform\", \"policy\", \"policy\", \"politic\", \"political\", \"polymer\", \"portfolio\", \"portfolio\", \"portfolio\", \"portfolio\", \"position\", \"position\", \"position\", \"post_graduate\", \"posting\", \"potential\", \"potential\", \"potential\", \"poverty\", \"power\", \"power\", \"power\", \"practice\", \"practice\", \"practice\", \"predict\", \"prediction\", \"premier\", \"prepare\", \"prepare\", \"prepare\", \"prepare\", \"present\", \"present\", \"presently\", \"previously\", \"price\", \"primarily\", \"principal\", \"print\", \"printer\", \"privacy\", \"private\", \"private_limite\", \"problem\", \"problem\", \"problem\", \"problem_solving\", \"process\", \"process\", \"process\", \"process\", \"process\", \"procure\", \"produce\", \"product\", \"product\", \"product\", \"product\", \"product\", \"product\", \"product\", \"production\", \"production\", \"production\", \"production\", \"professional\", \"professional\", \"professional\", \"professional\", \"professional\", \"professional\", \"professionally\", \"profitability\", \"profitability\", \"program\", \"program\", \"program\", \"program\", \"program\", \"programme\", \"programming\", \"project\", \"project\", \"project\", \"project\", \"project\", \"project\", \"project\", \"promotion\", \"proposal\", \"protein\", \"protein\", \"protein\", \"provide\", \"provide\", \"provide\", \"provide\", \"psingularity\", \"public\", \"public\", \"public\", \"publication\", \"publication\", \"purchase\", \"pursue\", \"pwc\", \"qlikview\", \"qualification\", \"quantum\", \"quantum\", \"query\", \"question\", \"quote\", \"range\", \"range\", \"rank\", \"rate\", \"rate\", \"rate\", \"rate\", \"rating\", \"reactor\", \"ready\", \"reality\", \"reality\", \"receive\", \"recently\", \"recognize\", \"recognize\", \"record\", \"recovery\", \"recruit\", \"recruit\", \"recruiter\", \"recruiting\", \"recruitment\", \"recruitment\", \"reference\", \"referral\", \"reform\", \"regard\", \"region\", \"region\", \"regression\", \"regression\", \"regulatory\", \"relaso\", \"relationship\", \"relationship\", \"release\", \"release\", \"relevant\", \"replication\", \"report\", \"report\", \"report\", \"reporting\", \"representative\", \"reputation\", \"require\", \"requirement\", \"requirement\", \"research\", \"research\", \"research\", \"research\", \"research\", \"research\", \"research\", \"researcher\", \"researcher\", \"resource\", \"resource\", \"respect\", \"responsible\", \"responsible\", \"responsible\", \"responsible\", \"result_oriented\", \"resume\", \"return\", \"review\", \"review\", \"reward\", \"rheology\", \"rich\", \"rinalytic\", \"risk\", \"risk\", \"robotic\", \"role\", \"role\", \"role\", \"role\", \"role\", \"role\", \"root\", \"root\", \"route\", \"rule\", \"rural\", \"rural\", \"safety\", \"salary\", \"sale\", \"sale\", \"sale\", \"sale\", \"say\", \"scalable\", \"schedule\", \"schedule\", \"scheduling\", \"scheme\", \"scholar\", \"school\", \"school\", \"science\", \"science\", \"science\", \"science\", \"science\", \"science\", \"scientific\", \"scientist\", \"scientist\", \"scikit\", \"scorecard\", \"screening\", \"script\", \"scripting\", \"search\", \"second\", \"secondary\", \"section\", \"sector\", \"sector\", \"sector\", \"sector\", \"secure\", \"security\", \"seed\", \"selection\", \"selenium\", \"self\", \"self\", \"self\", \"sell\", \"sell\", \"sell\", \"serve\", \"serve\", \"server\", \"service\", \"service\", \"service\", \"set\", \"set\", \"several\", \"shipping\", \"show\", \"signal\", \"simulate\", \"single\", \"site\", \"skill\", \"skill\", \"skill\", \"skill\", \"skill\", \"skille\", \"skille\", \"slag\", \"sleep\", \"smart\", \"sme\", \"soap\", \"social\", \"social\", \"social\", \"society\", \"society\", \"software\", \"software\", \"software\", \"solar\", \"solution\", \"solution\", \"solution\", \"solution\", \"solution\", \"solution\", \"solve\", \"solve\", \"solve\", \"source\", \"source\", \"spark\", \"spark\", \"spark\", \"speaker\", \"special\", \"special\", \"specialist\", \"specialization\", \"specialtie\", \"specialtie\", \"specialtie\", \"specific\", \"specification\", \"speech\", \"speeche\", \"spend\", \"spirit\", \"sport\", \"spread\", \"spring\", \"spring\", \"sql\", \"stack\", \"staff\", \"staff\", \"staffing\", \"stage\", \"stage\", \"stake\", \"stakeholder\", \"standard\", \"start\", \"start\", \"start\", \"start\", \"startup\", \"state\", \"state\", \"statically\", \"statistic\", \"statistical\", \"statutory\", \"stock\", \"store\", \"storyline\", \"strategic\", \"strategic\", \"strategic\", \"strategy\", \"strategy\", \"strategy\", \"strategy\", \"strategy\", \"strategy\", \"stray\", \"strengthen\", \"strong\", \"strong\", \"strong\", \"strong\", \"strong\", \"structural\", \"structural\", \"structure\", \"structure\", \"student\", \"student\", \"student\", \"study\", \"study\", \"study\", \"study\", \"subject\", \"submission\", \"subscription\", \"subsidiary\", \"success\", \"suitable\", \"supervise\", \"supply\", \"support\", \"support\", \"support\", \"support\", \"surface\", \"surface\", \"surge\", \"survey\", \"sustain\", \"sustainable\", \"sustainable\", \"sustainable\", \"svm\", \"system\", \"system\", \"system\", \"system\", \"system\", \"system\", \"system\", \"talent\", \"talent\", \"talent\", \"talent\", \"target\", \"target\", \"target\", \"task\", \"tax\", \"teach\", \"teach\", \"teacher\", \"team\", \"team\", \"team\", \"team\", \"team\", \"tech\", \"tech\", \"tech\", \"technical\", \"technical\", \"technical\", \"technique\", \"technique\", \"technology\", \"technology\", \"technology\", \"technology\", \"technology\", \"technology\", \"technology\", \"telangana\", \"temporary\", \"test\", \"test\", \"test\", \"test\", \"testing\", \"testing\", \"testing\", \"text\", \"theoretical\", \"thesis\", \"think\", \"tie\", \"time\", \"time\", \"time\", \"time\", \"time\", \"time_serie\", \"title\", \"today\", \"today\", \"tool\", \"tool\", \"tool\", \"top\", \"top\", \"top\", \"top\", \"top\", \"topic\", \"tracking\", \"trading\", \"traffic\", \"training\", \"training\", \"training\", \"training\", \"transfer\", \"transfer\", \"transformation\", \"transformation\", \"transformation\", \"transformation\", \"translational\", \"transportation\", \"travel\", \"tree\", \"try\", \"tube\", \"turn\", \"type\", \"type\", \"type\", \"unique\", \"university\", \"update\", \"use\", \"use\", \"use\", \"use\", \"use\", \"use\", \"user\", \"user\", \"user\", \"user\", \"utility\", \"vaccine\", \"validate\", \"varied\", \"various\", \"various\", \"various\", \"various\", \"various\", \"various\", \"various\", \"various\", \"various\", \"vector\", \"vehicle\", \"vehicle\", \"vendor\", \"vendor\", \"versatile\", \"video\", \"view\", \"view\", \"village\", \"visit\", \"visualization\", \"visualization\", \"walk\", \"warehouse\", \"watch\", \"wave\", \"web\", \"web\", \"website\", \"welfare\", \"well_verse\", \"wide_range\", \"wide_range\", \"wipro\", \"wizsprint\", \"woman\", \"work\", \"work\", \"work\", \"work\", \"work\", \"work\", \"work\", \"work\", \"work\", \"work\", \"work\", \"work\", \"work\", \"work\", \"workflow\", \"workplace\", \"world\", \"world\", \"world\", \"worldwide\", \"would\", \"write\", \"write\", \"writer\", \"writer\", \"writer\", \"writing\", \"www\", \"yantrajaal\", \"year\", \"year\", \"year\", \"year\", \"year\", \"year\", \"year\", \"year\", \"years_month\", \"yet\"]}, \"R\": 30, \"lambda.step\": 0.01, \"plot.opts\": {\"xlab\": \"PC1\", \"ylab\": \"PC2\"}, \"topic.order\": [2, 4, 11, 7, 5, 13, 8, 18, 14, 12, 3, 6, 19, 15, 17, 9, 16, 10, 1, 20]};\n",
              "\n",
              "function LDAvis_load_lib(url, callback){\n",
              "  var s = document.createElement('script');\n",
              "  s.src = url;\n",
              "  s.async = true;\n",
              "  s.onreadystatechange = s.onload = callback;\n",
              "  s.onerror = function(){console.warn(\"failed to load library \" + url);};\n",
              "  document.getElementsByTagName(\"head\")[0].appendChild(s);\n",
              "}\n",
              "\n",
              "if(typeof(LDAvis) !== \"undefined\"){\n",
              "   // already loaded: just create the visualization\n",
              "   !function(LDAvis){\n",
              "       new LDAvis(\"#\" + \"ldavis_el1211398114799066089918417234\", ldavis_el1211398114799066089918417234_data);\n",
              "   }(LDAvis);\n",
              "}else if(typeof define === \"function\" && define.amd){\n",
              "   // require.js is available: use it to load d3/LDAvis\n",
              "   require.config({paths: {d3: \"https://cdnjs.cloudflare.com/ajax/libs/d3/3.5.5/d3.min\"}});\n",
              "   require([\"d3\"], function(d3){\n",
              "      window.d3 = d3;\n",
              "      LDAvis_load_lib(\"https://cdn.rawgit.com/bmabey/pyLDAvis/files/ldavis.v1.0.0.js\", function(){\n",
              "        new LDAvis(\"#\" + \"ldavis_el1211398114799066089918417234\", ldavis_el1211398114799066089918417234_data);\n",
              "      });\n",
              "    });\n",
              "}else{\n",
              "    // require.js not available: dynamically load d3 & LDAvis\n",
              "    LDAvis_load_lib(\"https://cdnjs.cloudflare.com/ajax/libs/d3/3.5.5/d3.min.js\", function(){\n",
              "         LDAvis_load_lib(\"https://cdn.rawgit.com/bmabey/pyLDAvis/files/ldavis.v1.0.0.js\", function(){\n",
              "                 new LDAvis(\"#\" + \"ldavis_el1211398114799066089918417234\", ldavis_el1211398114799066089918417234_data);\n",
              "            })\n",
              "         });\n",
              "}\n",
              "</script>"
            ],
            "text/plain": [
              "PreparedData(topic_coordinates=              x         y  topics  cluster       Freq\n",
              "topic                                                \n",
              "1      0.294811  0.030751       1        1  25.394558\n",
              "3      0.228646 -0.089217       2        1  11.791391\n",
              "10     0.144021  0.175140       3        1   8.855008\n",
              "6      0.175143 -0.202200       4        1   6.788202\n",
              "4      0.073975  0.095393       5        1   6.432961\n",
              "12     0.153390  0.072554       6        1   6.221451\n",
              "7      0.050095  0.181694       7        1   4.627520\n",
              "17    -0.040203 -0.105501       8        1   3.843676\n",
              "13     0.031276 -0.234169       9        1   3.819776\n",
              "11    -0.047763  0.070521      10        1   2.773047\n",
              "2     -0.049058 -0.011566      11        1   2.614376\n",
              "5     -0.042355 -0.030972      12        1   2.533395\n",
              "18    -0.147316 -0.054445      13        1   2.273535\n",
              "14    -0.078779  0.090376      14        1   2.233558\n",
              "16    -0.134946 -0.013689      15        1   1.936957\n",
              "8     -0.117804 -0.075339      16        1   1.887772\n",
              "15    -0.040144  0.018190      17        1   1.879537\n",
              "9     -0.136308  0.045469      18        1   1.827064\n",
              "0     -0.147087  0.017259      19        1   1.483748\n",
              "19    -0.169593  0.019752      20        1   0.782471, topic_info=     Category        Freq           Term       Total  loglift  logprob\n",
              "17    Default  356.000000          datum  356.000000  30.0000  30.0000\n",
              "178   Default  516.000000     management  516.000000  29.0000  29.0000\n",
              "78    Default  343.000000     technology  343.000000  28.0000  28.0000\n",
              "337   Default  337.000000        project  337.000000  27.0000  27.0000\n",
              "433   Default  190.000000           sale  190.000000  26.0000  26.0000\n",
              "...       ...         ...            ...         ...      ...      ...\n",
              "1577  Topic20    2.667719     wide_range    5.884917   4.0593  -5.0006\n",
              "421   Topic20    3.193082  profitability    9.326271   3.7786  -4.8208\n",
              "2315  Topic20    3.060605           self   11.870920   3.4950  -4.8632\n",
              "4216  Topic20    2.528496           cold    8.483460   3.6400  -5.0542\n",
              "774   Topic20    2.729016    sustainable   23.481607   2.6982  -4.9779\n",
              "\n",
              "[1062 rows x 6 columns], token_table=      Topic      Freq         Term\n",
              "term                              \n",
              "563       1  0.981592      ability\n",
              "1383      5  0.910065     academic\n",
              "1383      8  0.079136     academic\n",
              "2617      3  0.941124   accelerate\n",
              "626      14  0.580279  achievement\n",
              "...     ...       ...          ...\n",
              "253       9  0.020074         year\n",
              "253      12  0.008603         year\n",
              "253      16  0.002868         year\n",
              "1127     12  0.963569  years_month\n",
              "3911     19  0.757067          yet\n",
              "\n",
              "[1671 rows x 3 columns], R=30, lambda_step=0.01, plot_opts={'xlab': 'PC1', 'ylab': 'PC2'}, topic_order=[2, 4, 11, 7, 5, 13, 8, 18, 14, 12, 3, 6, 19, 15, 17, 9, 16, 10, 1, 20])"
            ]
          },
          "metadata": {
            "tags": []
          },
          "execution_count": 163
        }
      ]
    },
    {
      "cell_type": "markdown",
      "metadata": {
        "id": "IrvVr67jObdR",
        "colab_type": "text"
      },
      "source": [
        "# **Interpretation of this chart:**\n",
        "\n",
        "Each bubble on the left-hand side plot represents a topic. The larger the bubble, the more prevalent is that topic.\n",
        "A good topic model will have fairly big, non-overlapping bubbles scattered throughout the chart instead of being clustered in one quadrant.\n",
        "A model with too many topics, will typically have many overlaps, small sized bubbles clustered in one region of the chart.\n",
        "If you move the cursor over one of the bubbles, the words and bars on the right-hand side will update. \n",
        "These words are the salient keywords that form the selected topic.\n",
        "So far we have built a model by using 20 as the number of natural topics in the document.\n",
        "Now we will improve upon this model by using Mallet’s version of LDA algorithm and \n",
        "then we will focus on how to arrive at the optimal number of topics given any large corpus of text."
      ]
    },
    {
      "cell_type": "markdown",
      "metadata": {
        "id": "Rc0IFVPZP2Cw",
        "colab_type": "text"
      },
      "source": [
        "# **Building LDA Mallet Model**"
      ]
    },
    {
      "cell_type": "markdown",
      "metadata": {
        "id": "wCUyqkHsQClg",
        "colab_type": "text"
      },
      "source": [
        "Mallet’s version, however, often gives a better quality of topics.\n",
        "Download File: http://mallet.cs.umass.edu/dist/mallet-2.0.8.zip"
      ]
    },
    {
      "cell_type": "code",
      "metadata": {
        "id": "vXBi9xwMNLA-",
        "colab_type": "code",
        "colab": {
          "base_uri": "https://localhost:8080/",
          "height": 217
        },
        "outputId": "ed7d615c-ab0b-4b1c-cc4a-09dd0c7781d0"
      },
      "source": [
        "!wget http://mallet.cs.umass.edu/dist/mallet-2.0.8.zip"
      ],
      "execution_count": 164,
      "outputs": [
        {
          "output_type": "stream",
          "text": [
            "--2020-03-19 14:46:03--  http://mallet.cs.umass.edu/dist/mallet-2.0.8.zip\n",
            "Resolving mallet.cs.umass.edu (mallet.cs.umass.edu)... 128.119.246.70\n",
            "Connecting to mallet.cs.umass.edu (mallet.cs.umass.edu)|128.119.246.70|:80... connected.\n",
            "HTTP request sent, awaiting response... 200 OK\n",
            "Length: 16184794 (15M) [application/zip]\n",
            "Saving to: ‘mallet-2.0.8.zip’\n",
            "\n",
            "mallet-2.0.8.zip    100%[===================>]  15.43M  17.2MB/s    in 0.9s    \n",
            "\n",
            "2020-03-19 14:46:04 (17.2 MB/s) - ‘mallet-2.0.8.zip’ saved [16184794/16184794]\n",
            "\n"
          ],
          "name": "stdout"
        }
      ]
    },
    {
      "cell_type": "code",
      "metadata": {
        "id": "rMvpmn9VModx",
        "colab_type": "code",
        "colab": {}
      },
      "source": [
        "!unzip /content/mallet-2.0.8.zip"
      ],
      "execution_count": 0,
      "outputs": []
    },
    {
      "cell_type": "code",
      "metadata": {
        "id": "WgDOKNdHQsfV",
        "colab_type": "code",
        "colab": {}
      },
      "source": [
        "#/content/mallet-2.0.8/bin/mallet"
      ],
      "execution_count": 0,
      "outputs": []
    },
    {
      "cell_type": "code",
      "metadata": {
        "id": "zZgjifPwSg3S",
        "colab_type": "code",
        "colab": {
          "base_uri": "https://localhost:8080/",
          "height": 35
        },
        "outputId": "aed0a46e-6b73-4550-a782-360a65f46ade"
      },
      "source": [
        "!pwd"
      ],
      "execution_count": 173,
      "outputs": [
        {
          "output_type": "stream",
          "text": [
            "/content\n"
          ],
          "name": "stdout"
        }
      ]
    },
    {
      "cell_type": "code",
      "metadata": {
        "id": "ASPS6acjRCmx",
        "colab_type": "code",
        "colab": {
          "base_uri": "https://localhost:8080/",
          "height": 74
        },
        "outputId": "79278a08-d47e-4ba3-dc58-30b51ac4136f"
      },
      "source": [
        "mallet_path = '/content/mallet-2.0.8/bin/mallet' # update this path\n",
        "ldamallet = gensim.models.wrappers.LdaMallet(mallet_path, corpus=corpus, num_topics=20, id2word=id2word)"
      ],
      "execution_count": 175,
      "outputs": [
        {
          "output_type": "stream",
          "text": [
            "/usr/local/lib/python3.6/dist-packages/smart_open/smart_open_lib.py:402: UserWarning: This function is deprecated, use smart_open.open instead. See the migration notes for details: https://github.com/RaRe-Technologies/smart_open/blob/master/README.rst#migrating-to-the-new-open-function\n",
            "  'See the migration notes for details: %s' % _MIGRATION_NOTES_URL\n"
          ],
          "name": "stderr"
        }
      ]
    },
    {
      "cell_type": "code",
      "metadata": {
        "id": "ITxOUwTQS4Yx",
        "colab_type": "code",
        "colab": {
          "base_uri": "https://localhost:8080/",
          "height": 2054
        },
        "outputId": "3a8c21c3-dbe1-4cbc-cf4e-cdc5373f722d"
      },
      "source": [
        "# Show Topics\n",
        "pprint(ldamallet.show_topics(formatted=False))\n",
        "\n",
        "# Compute Coherence Score\n",
        "coherence_model_ldamallet = CoherenceModel(model=ldamallet, texts=data_lemmatized, dictionary=id2word, coherence='c_v')\n",
        "coherence_ldamallet = coherence_model_ldamallet.get_coherence()\n",
        "print('\\nCoherence Score: ', coherence_ldamallet)"
      ],
      "execution_count": 176,
      "outputs": [
        {
          "output_type": "stream",
          "text": [
            "[(5,\n",
            "  [('program', 0.06776003452740613),\n",
            "   ('training', 0.029779887785930083),\n",
            "   ('development', 0.02762192490289167),\n",
            "   ('support', 0.022442813983599482),\n",
            "   ('service', 0.020716443677168753),\n",
            "   ('impact', 0.01985325852395339),\n",
            "   ('develop', 0.017695295640914977),\n",
            "   ('human', 0.01640051791109193),\n",
            "   ('community', 0.015105740181268883),\n",
            "   ('include', 0.0146741476046612)]),\n",
            " (10,\n",
            "  [('team', 0.08649062380405664),\n",
            "   ('provide', 0.03673938002296211),\n",
            "   ('drive', 0.03176425564485266),\n",
            "   ('performance', 0.024492920015308076),\n",
            "   ('process', 0.022196708763872943),\n",
            "   ('set', 0.02104860313815538),\n",
            "   ('page', 0.02066590126291619),\n",
            "   ('service', 0.020283199387677),\n",
            "   ('ensure', 0.019135093761959432),\n",
            "   ('support', 0.018752391886720246)]),\n",
            " (15,\n",
            "  [('industry', 0.04858757062146893),\n",
            "   ('client', 0.045574387947269306),\n",
            "   ('solution', 0.03465160075329567),\n",
            "   ('leadership', 0.03389830508474576),\n",
            "   ('business', 0.03352165725047081),\n",
            "   ('deliver', 0.026365348399246705),\n",
            "   ('organization', 0.023728813559322035),\n",
            "   ('level', 0.022222222222222223),\n",
            "   ('people', 0.022222222222222223),\n",
            "   ('consulting', 0.021468926553672316)]),\n",
            " (14,\n",
            "  [('financial', 0.04054613156805958),\n",
            "   ('business', 0.03640877120397187),\n",
            "   ('finance', 0.033512618949110465),\n",
            "   ('corporate', 0.031857674803475386),\n",
            "   ('investment', 0.02772031443938767),\n",
            "   ('company', 0.021928009929664875),\n",
            "   ('service', 0.019445593711212246),\n",
            "   ('office', 0.016549441456350848),\n",
            "   ('page', 0.016135705419942078),\n",
            "   ('bank', 0.014894497310715763)]),\n",
            " (4,\n",
            "  [('work', 0.09634551495016612),\n",
            "   ('create', 0.041765543426673),\n",
            "   ('communication', 0.02800189843379212),\n",
            "   ('role', 0.026578073089700997),\n",
            "   ('campaign', 0.023730422401518746),\n",
            "   ('experience', 0.023255813953488372),\n",
            "   ('online', 0.018984337921214997),\n",
            "   ('part', 0.017560512577123873),\n",
            "   ('passionate', 0.01613668723303275),\n",
            "   ('great', 0.015187470336971999)]),\n",
            " (3,\n",
            "  [('student', 0.0611587982832618),\n",
            "   ('year', 0.03272532188841202),\n",
            "   ('school', 0.028433476394849784),\n",
            "   ('write', 0.02467811158798283),\n",
            "   ('give', 0.022532188841201718),\n",
            "   ('content', 0.02145922746781116),\n",
            "   ('graduate', 0.017167381974248927),\n",
            "   ('young', 0.016630901287553648),\n",
            "   ('event', 0.01555793991416309),\n",
            "   ('interest', 0.014484978540772532)]),\n",
            " (11,\n",
            "  [('experience', 0.05582615211689772),\n",
            "   ('test', 0.034095166729112024),\n",
            "   ('tool', 0.0258523791682278),\n",
            "   ('year', 0.023604346197077557),\n",
            "   ('testing', 0.023229674035219184),\n",
            "   ('application', 0.020606968902210566),\n",
            "   ('knowledge', 0.019482952416635443),\n",
            "   ('report', 0.018733608092918696),\n",
            "   ('requirement', 0.018358935931060322),\n",
            "   ('involve', 0.01798426376920195)]),\n",
            " (7,\n",
            "  [('project', 0.04441327723235157),\n",
            "   ('design', 0.043478260869565216),\n",
            "   ('material', 0.02758298270219729),\n",
            "   ('study', 0.022907900888265546),\n",
            "   ('engineering', 0.020102851799906497),\n",
            "   ('flow', 0.015427769985974754),\n",
            "   ('analysis', 0.014025245441795231),\n",
            "   ('field', 0.013557737260402058),\n",
            "   ('chemical', 0.013090229079008883),\n",
            "   ('water', 0.013090229079008883)]),\n",
            " (16,\n",
            "  [('work', 0.06822344322344322),\n",
            "   ('base', 0.04487179487179487),\n",
            "   ('system', 0.039377289377289376),\n",
            "   ('order', 0.022893772893772892),\n",
            "   ('cost', 0.021062271062271064),\n",
            "   ('control', 0.019230769230769232),\n",
            "   ('part', 0.01694139194139194),\n",
            "   ('structure', 0.016483516483516484),\n",
            "   ('group', 0.015567765567765568),\n",
            "   ('document', 0.015567765567765568)]),\n",
            " (8,\n",
            "  [('skill', 0.0782934833567745),\n",
            "   ('work', 0.04922644163150492),\n",
            "   ('learn', 0.04313173933427098),\n",
            "   ('good', 0.0379746835443038),\n",
            "   ('year', 0.033286451007969994),\n",
            "   ('building', 0.027660571964369433),\n",
            "   ('expertise', 0.02625410220346929),\n",
            "   ('challenge', 0.02531645569620253),\n",
            "   ('base', 0.02344116268166901),\n",
            "   ('solution', 0.02297233942803563)])]\n",
            "\n",
            "Coherence Score:  0.41380829686079235\n"
          ],
          "name": "stdout"
        }
      ]
    },
    {
      "cell_type": "markdown",
      "metadata": {
        "id": "dk0hJNwxTMJP",
        "colab_type": "text"
      },
      "source": [
        "By changing the LDA algorithm, we increased the coherence score from 0.3 to 0.4"
      ]
    },
    {
      "cell_type": "markdown",
      "metadata": {
        "id": "R9APp-a3TSCB",
        "colab_type": "text"
      },
      "source": [
        "# **How to find the optimal number of topics for LDA?**"
      ]
    },
    {
      "cell_type": "markdown",
      "metadata": {
        "id": "WiN95_rMThFu",
        "colab_type": "text"
      },
      "source": [
        "Build many LDA models with different values of number of topics (k) and pick the one that gives the highest coherence value"
      ]
    },
    {
      "cell_type": "markdown",
      "metadata": {
        "id": "5e1gAgT_ToQy",
        "colab_type": "text"
      },
      "source": [
        "The compute_coherence_values() function trains multiple LDA models and provides the models and their corresponding coherence scores."
      ]
    },
    {
      "cell_type": "code",
      "metadata": {
        "id": "CTk7_eXLTrxk",
        "colab_type": "code",
        "colab": {}
      },
      "source": [
        "def compute_coherence_values(dictionary, corpus, texts, limit, start=2, step=3):\n",
        "    coherence_values = []\n",
        "    model_list = []\n",
        "    for num_topics in range(start, limit, step):\n",
        "        model = gensim.models.wrappers.LdaMallet(mallet_path, corpus=corpus, num_topics=num_topics, id2word=id2word)\n",
        "        model_list.append(model)\n",
        "        coherencemodel = CoherenceModel(model=model, texts=texts, dictionary=dictionary, coherence='c_v')\n",
        "        coherence_values.append(coherencemodel.get_coherence())\n",
        "\n",
        "    return model_list, coherence_values"
      ],
      "execution_count": 0,
      "outputs": []
    },
    {
      "cell_type": "code",
      "metadata": {
        "id": "dbxmJK-aT_Ve",
        "colab_type": "code",
        "colab": {}
      },
      "source": [
        "model_list, coherence_values = compute_coherence_values(dictionary=id2word, corpus=corpus, texts=data_lemmatized, start=2, limit=40, step=6)"
      ],
      "execution_count": 0,
      "outputs": []
    },
    {
      "cell_type": "code",
      "metadata": {
        "id": "cyYsNE-QUKqV",
        "colab_type": "code",
        "colab": {
          "base_uri": "https://localhost:8080/",
          "height": 279
        },
        "outputId": "1bc15907-983c-46e3-d173-9723152c0c34"
      },
      "source": [
        "# Show graph\n",
        "limit=40; start=2; step=6;\n",
        "x = range(start, limit, step)\n",
        "plt.plot(x, coherence_values)\n",
        "plt.xlabel(\"Num Topics\")\n",
        "plt.ylabel(\"Coherence score\")\n",
        "plt.legend((\"coherence_values\"), loc='best')\n",
        "plt.show()"
      ],
      "execution_count": 180,
      "outputs": [
        {
          "output_type": "display_data",
          "data": {
            "image/png": "[encoded data removed]",
            "text/plain": [
              "<Figure size 432x288 with 1 Axes>"
            ]
          },
          "metadata": {
            "tags": []
          }
        }
      ]
    },
    {
      "cell_type": "code",
      "metadata": {
        "id": "01PnIrX6Vvmv",
        "colab_type": "code",
        "colab": {
          "base_uri": "https://localhost:8080/",
          "height": 145
        },
        "outputId": "b7db9cbf-e65f-4f17-9e1c-06a284c12fa8"
      },
      "source": [
        "# Print the coherence scores\n",
        "for m, cv in zip(x, coherence_values):\n",
        "    print(\"Num Topics =\", m, \" has Coherence Value of\", round(cv, 4))"
      ],
      "execution_count": 181,
      "outputs": [
        {
          "output_type": "stream",
          "text": [
            "Num Topics = 2  has Coherence Value of 0.3792\n",
            "Num Topics = 8  has Coherence Value of 0.4406\n",
            "Num Topics = 14  has Coherence Value of 0.4255\n",
            "Num Topics = 20  has Coherence Value of 0.4437\n",
            "Num Topics = 26  has Coherence Value of 0.4151\n",
            "Num Topics = 32  has Coherence Value of 0.4255\n",
            "Num Topics = 38  has Coherence Value of 0.4198\n"
          ],
          "name": "stdout"
        }
      ]
    },
    {
      "cell_type": "code",
      "metadata": {
        "id": "o3vF08BQV2kp",
        "colab_type": "code",
        "colab": {
          "base_uri": "https://localhost:8080/",
          "height": 599
        },
        "outputId": "de99d7c0-9bdd-41ff-b5db-db2e34212c4e"
      },
      "source": [
        "# Select the model and print the topics\n",
        "optimal_model = model_list[1]\n",
        "model_topics = optimal_model.show_topics(formatted=False)\n",
        "pprint(optimal_model.print_topics(num_words=10))"
      ],
      "execution_count": 182,
      "outputs": [
        {
          "output_type": "stream",
          "text": [
            "[(0,\n",
            "  '0.054*\"project\" + 0.044*\"work\" + 0.029*\"experience\" + 0.023*\"design\" + '\n",
            "  '0.018*\"development\" + 0.017*\"software\" + 0.014*\"system\" + 0.014*\"test\" + '\n",
            "  '0.014*\"involve\" + 0.013*\"team\"'),\n",
            " (1,\n",
            "  '0.031*\"client\" + 0.024*\"management\" + 0.018*\"process\" + 0.017*\"end\" + '\n",
            "  '0.017*\"professional\" + 0.016*\"level\" + 0.014*\"handle\" + 0.013*\"source\" + '\n",
            "  '0.013*\"page\" + 0.013*\"team\"'),\n",
            " (2,\n",
            "  '0.048*\"research\" + 0.041*\"technology\" + 0.022*\"student\" + 0.018*\"work\" + '\n",
            "  '0.018*\"design\" + 0.017*\"engineering\" + 0.015*\"experienced\" + 0.014*\"strong\" '\n",
            "  '+ 0.014*\"system\" + 0.012*\"interest\"'),\n",
            " (3,\n",
            "  '0.039*\"business\" + 0.035*\"lead\" + 0.026*\"service\" + 0.020*\"team\" + '\n",
            "  '0.019*\"corporate\" + 0.019*\"strategy\" + 0.018*\"industry\" + '\n",
            "  '0.017*\"leadership\" + 0.016*\"global\" + 0.016*\"people\"'),\n",
            " (4,\n",
            "  '0.063*\"datum\" + 0.027*\"analytic\" + 0.025*\"model\" + 0.023*\"skill\" + '\n",
            "  '0.021*\"science\" + 0.018*\"experience\" + 0.017*\"domain\" + 0.016*\"customer\" + '\n",
            "  '0.016*\"solution\" + 0.015*\"data\"'),\n",
            " (5,\n",
            "  '0.059*\"year\" + 0.029*\"company\" + 0.018*\"financial\" + 0.018*\"experience\" + '\n",
            "  '0.016*\"work\" + 0.016*\"building\" + 0.016*\"large\" + 0.013*\"focus\" + '\n",
            "  '0.013*\"sector\" + 0.013*\"technology\"'),\n",
            " (6,\n",
            "  '0.057*\"management\" + 0.048*\"business\" + 0.040*\"marketing\" + 0.039*\"product\" '\n",
            "  '+ 0.034*\"sale\" + 0.028*\"market\" + 0.023*\"development\" + 0.022*\"operation\" + '\n",
            "  '0.020*\"strategy\" + 0.017*\"manage\"'),\n",
            " (7,\n",
            "  '0.034*\"work\" + 0.022*\"learn\" + 0.014*\"base\" + 0.014*\"include\" + '\n",
            "  '0.013*\"government\" + 0.013*\"world\" + 0.012*\"impact\" + 0.012*\"program\" + '\n",
            "  '0.011*\"challenge\" + 0.011*\"policy\"')]\n"
          ],
          "name": "stdout"
        }
      ]
    },
    {
      "cell_type": "markdown",
      "metadata": {
        "id": "mnEifz3_XLMy",
        "colab_type": "text"
      },
      "source": [
        "# **Finding the dominant topic in each sentence**"
      ]
    },
    {
      "cell_type": "code",
      "metadata": {
        "id": "HEKfIdssXNNx",
        "colab_type": "code",
        "colab": {
          "base_uri": "https://localhost:8080/",
          "height": 577
        },
        "outputId": "b129a3e0-7e90-4b24-dd78-b3a5d96f2d22"
      },
      "source": [
        "def format_topics_sentences(ldamodel=lda_model, corpus=corpus, texts=data):\n",
        "    # Init output\n",
        "    sent_topics_df = pd.DataFrame()\n",
        "\n",
        "    # Get main topic in each document\n",
        "    for i, row in enumerate(ldamodel[corpus]):\n",
        "        row = sorted(row, key=lambda x: (x[1]), reverse=True)\n",
        "        # Get the Dominant topic, Perc Contribution and Keywords for each document\n",
        "        for j, (topic_num, prop_topic) in enumerate(row):\n",
        "            if j == 0:  # => dominant topic\n",
        "                wp = ldamodel.show_topic(topic_num)\n",
        "                topic_keywords = \", \".join([word for word, prop in wp])\n",
        "                sent_topics_df = sent_topics_df.append(pd.Series([int(topic_num), round(prop_topic,4), topic_keywords]), ignore_index=True)\n",
        "            else:\n",
        "                break\n",
        "    sent_topics_df.columns = ['Dominant_Topic', 'Perc_Contribution', 'Topic_Keywords']\n",
        "\n",
        "    # Add original text to the end of the output\n",
        "    contents = pd.Series(texts)\n",
        "    sent_topics_df = pd.concat([sent_topics_df, contents], axis=1)\n",
        "    return(sent_topics_df)\n",
        "\n",
        "\n",
        "df_topic_sents_keywords = format_topics_sentences(ldamodel=optimal_model, corpus=corpus, texts=data)\n",
        "\n",
        "# Format\n",
        "df_dominant_topic = df_topic_sents_keywords.reset_index()\n",
        "df_dominant_topic.columns = ['Document_No', 'Dominant_Topic', 'Topic_Perc_Contrib', 'Keywords', 'Text']\n",
        "\n",
        "# Show\n",
        "df_dominant_topic.head(10)"
      ],
      "execution_count": 183,
      "outputs": [
        {
          "output_type": "stream",
          "text": [
            "/usr/local/lib/python3.6/dist-packages/smart_open/smart_open_lib.py:402: UserWarning: This function is deprecated, use smart_open.open instead. See the migration notes for details: https://github.com/RaRe-Technologies/smart_open/blob/master/README.rst#migrating-to-the-new-open-function\n",
            "  'See the migration notes for details: %s' % _MIGRATION_NOTES_URL\n"
          ],
          "name": "stderr"
        },
        {
          "output_type": "execute_result",
          "data": {
            "text/html": [
              "<div>\n",
              "<style scoped>\n",
              "    .dataframe tbody tr th:only-of-type {\n",
              "        vertical-align: middle;\n",
              "    }\n",
              "\n",
              "    .dataframe tbody tr th {\n",
              "        vertical-align: top;\n",
              "    }\n",
              "\n",
              "    .dataframe thead th {\n",
              "        text-align: right;\n",
              "    }\n",
              "</style>\n",
              "<table border=\"1\" class=\"dataframe\">\n",
              "  <thead>\n",
              "    <tr style=\"text-align: right;\">\n",
              "      <th></th>\n",
              "      <th>Document_No</th>\n",
              "      <th>Dominant_Topic</th>\n",
              "      <th>Topic_Perc_Contrib</th>\n",
              "      <th>Keywords</th>\n",
              "      <th>Text</th>\n",
              "    </tr>\n",
              "  </thead>\n",
              "  <tbody>\n",
              "    <tr>\n",
              "      <th>0</th>\n",
              "      <td>0</td>\n",
              "      <td>5.0</td>\n",
              "      <td>0.2334</td>\n",
              "      <td>year, company, financial, experience, work, bu...</td>\n",
              "      <td>nan    Keventer Agro    nan</td>\n",
              "    </tr>\n",
              "    <tr>\n",
              "      <th>1</th>\n",
              "      <td>1</td>\n",
              "      <td>6.0</td>\n",
              "      <td>0.1467</td>\n",
              "      <td>management, business, marketing, product, sale...</td>\n",
              "      <td>Top Skills    Entrepreneurship    Seed Capit...</td>\n",
              "    </tr>\n",
              "    <tr>\n",
              "      <th>2</th>\n",
              "      <td>2</td>\n",
              "      <td>3.0</td>\n",
              "      <td>0.3918</td>\n",
              "      <td>business, lead, service, team, corporate, stra...</td>\n",
              "      <td>nan    Responsible for managing Hughes Systiqu...</td>\n",
              "    </tr>\n",
              "    <tr>\n",
              "      <th>3</th>\n",
              "      <td>3</td>\n",
              "      <td>1.0</td>\n",
              "      <td>0.1437</td>\n",
              "      <td>client, management, process, end, professional...</td>\n",
              "      <td>Yashwant Mahadik  Yash  a seasoned global HR...</td>\n",
              "    </tr>\n",
              "    <tr>\n",
              "      <th>4</th>\n",
              "      <td>4</td>\n",
              "      <td>7.0</td>\n",
              "      <td>0.2461</td>\n",
              "      <td>work, learn, base, include, government, world,...</td>\n",
              "      <td>RESUME         Techdata Solutions   India</td>\n",
              "    </tr>\n",
              "    <tr>\n",
              "      <th>5</th>\n",
              "      <td>5</td>\n",
              "      <td>6.0</td>\n",
              "      <td>0.4157</td>\n",
              "      <td>management, business, marketing, product, sale...</td>\n",
              "      <td>Top Skills    Business Development    Start ...</td>\n",
              "    </tr>\n",
              "    <tr>\n",
              "      <th>6</th>\n",
              "      <td>6</td>\n",
              "      <td>6.0</td>\n",
              "      <td>0.2710</td>\n",
              "      <td>management, business, marketing, product, sale...</td>\n",
              "      <td>A senior professional holding P L accountabi...</td>\n",
              "    </tr>\n",
              "    <tr>\n",
              "      <th>7</th>\n",
              "      <td>7</td>\n",
              "      <td>4.0</td>\n",
              "      <td>0.1593</td>\n",
              "      <td>datum, analytic, model, skill, science, experi...</td>\n",
              "      <td>An award winning Marketing Professional  Poo...</td>\n",
              "    </tr>\n",
              "    <tr>\n",
              "      <th>8</th>\n",
              "      <td>8</td>\n",
              "      <td>7.0</td>\n",
              "      <td>0.1541</td>\n",
              "      <td>work, learn, base, include, government, world,...</td>\n",
              "      <td>Top Skills    JavaScript    AJAX    Algorith...</td>\n",
              "    </tr>\n",
              "    <tr>\n",
              "      <th>9</th>\n",
              "      <td>9</td>\n",
              "      <td>6.0</td>\n",
              "      <td>0.3185</td>\n",
              "      <td>management, business, marketing, product, sale...</td>\n",
              "      <td>A school dropout to an IIM graduate  my teme...</td>\n",
              "    </tr>\n",
              "  </tbody>\n",
              "</table>\n",
              "</div>"
            ],
            "text/plain": [
              "   Document_No  ...                                               Text\n",
              "0            0  ...                        nan    Keventer Agro    nan\n",
              "1            1  ...    Top Skills    Entrepreneurship    Seed Capit...\n",
              "2            2  ...  nan    Responsible for managing Hughes Systiqu...\n",
              "3            3  ...    Yashwant Mahadik  Yash  a seasoned global HR...\n",
              "4            4  ...        RESUME         Techdata Solutions   India  \n",
              "5            5  ...    Top Skills    Business Development    Start ...\n",
              "6            6  ...    A senior professional holding P L accountabi...\n",
              "7            7  ...    An award winning Marketing Professional  Poo...\n",
              "8            8  ...    Top Skills    JavaScript    AJAX    Algorith...\n",
              "9            9  ...    A school dropout to an IIM graduate  my teme...\n",
              "\n",
              "[10 rows x 5 columns]"
            ]
          },
          "metadata": {
            "tags": []
          },
          "execution_count": 183
        }
      ]
    },
    {
      "cell_type": "markdown",
      "metadata": {
        "id": "x2ERQyrjXrzE",
        "colab_type": "text"
      },
      "source": [
        "# **Find the most representative document for each topic**"
      ]
    },
    {
      "cell_type": "code",
      "metadata": {
        "id": "uLHBpaO2XGp7",
        "colab_type": "code",
        "colab": {
          "base_uri": "https://localhost:8080/",
          "height": 426
        },
        "outputId": "690d7fce-ebae-46d9-db41-d4d16768130c"
      },
      "source": [
        "# Group top 5 sentences under each topic\n",
        "sent_topics_sorteddf_mallet = pd.DataFrame()\n",
        "\n",
        "sent_topics_outdf_grpd = df_topic_sents_keywords.groupby('Dominant_Topic')\n",
        "\n",
        "for i, grp in sent_topics_outdf_grpd:\n",
        "    sent_topics_sorteddf_mallet = pd.concat([sent_topics_sorteddf_mallet, \n",
        "                                             grp.sort_values(['Perc_Contribution'], ascending=[0]).head(1)], \n",
        "                                            axis=0)\n",
        "\n",
        "# Reset Index    \n",
        "sent_topics_sorteddf_mallet.reset_index(drop=True, inplace=True)\n",
        "\n",
        "# Format\n",
        "sent_topics_sorteddf_mallet.columns = ['Topic_Num', \"Topic_Perc_Contrib\", \"Keywords\", \"Text\"]\n",
        "\n",
        "# Show\n",
        "sent_topics_sorteddf_mallet.head(10)"
      ],
      "execution_count": 187,
      "outputs": [
        {
          "output_type": "execute_result",
          "data": {
            "text/html": [
              "<div>\n",
              "<style scoped>\n",
              "    .dataframe tbody tr th:only-of-type {\n",
              "        vertical-align: middle;\n",
              "    }\n",
              "\n",
              "    .dataframe tbody tr th {\n",
              "        vertical-align: top;\n",
              "    }\n",
              "\n",
              "    .dataframe thead th {\n",
              "        text-align: right;\n",
              "    }\n",
              "</style>\n",
              "<table border=\"1\" class=\"dataframe\">\n",
              "  <thead>\n",
              "    <tr style=\"text-align: right;\">\n",
              "      <th></th>\n",
              "      <th>Topic_Num</th>\n",
              "      <th>Topic_Perc_Contrib</th>\n",
              "      <th>Keywords</th>\n",
              "      <th>Text</th>\n",
              "    </tr>\n",
              "  </thead>\n",
              "  <tbody>\n",
              "    <tr>\n",
              "      <th>0</th>\n",
              "      <td>0.0</td>\n",
              "      <td>0.7680</td>\n",
              "      <td>project, work, experience, design, development...</td>\n",
              "      <td>nan    NoBroker com is world s largest C2C rea...</td>\n",
              "    </tr>\n",
              "    <tr>\n",
              "      <th>1</th>\n",
              "      <td>1.0</td>\n",
              "      <td>0.7596</td>\n",
              "      <td>client, management, process, end, professional...</td>\n",
              "      <td>A designer and marketer who looks for the in...</td>\n",
              "    </tr>\n",
              "    <tr>\n",
              "      <th>2</th>\n",
              "      <td>2.0</td>\n",
              "      <td>0.5910</td>\n",
              "      <td>research, technology, student, work, design, e...</td>\n",
              "      <td>I am a highly accomplished Technical leader ...</td>\n",
              "    </tr>\n",
              "    <tr>\n",
              "      <th>3</th>\n",
              "      <td>3.0</td>\n",
              "      <td>0.5860</td>\n",
              "      <td>business, lead, service, team, corporate, stra...</td>\n",
              "      <td>A seasoned leader in Corporate Strategy and ...</td>\n",
              "    </tr>\n",
              "    <tr>\n",
              "      <th>4</th>\n",
              "      <td>4.0</td>\n",
              "      <td>0.4872</td>\n",
              "      <td>datum, analytic, model, skill, science, experi...</td>\n",
              "      <td>nan    Aviation Services East Africa      The ...</td>\n",
              "    </tr>\n",
              "    <tr>\n",
              "      <th>5</th>\n",
              "      <td>5.0</td>\n",
              "      <td>0.4967</td>\n",
              "      <td>year, company, financial, experience, work, bu...</td>\n",
              "      <td>Multi   dimensional exposure with acumen for...</td>\n",
              "    </tr>\n",
              "    <tr>\n",
              "      <th>6</th>\n",
              "      <td>6.0</td>\n",
              "      <td>0.5512</td>\n",
              "      <td>management, business, marketing, product, sale...</td>\n",
              "      <td>Specialties  With about 25 years of experien...</td>\n",
              "    </tr>\n",
              "    <tr>\n",
              "      <th>7</th>\n",
              "      <td>7.0</td>\n",
              "      <td>0.4766</td>\n",
              "      <td>work, learn, base, include, government, world,...</td>\n",
              "      <td>Professionally and academically trained proj...</td>\n",
              "    </tr>\n",
              "  </tbody>\n",
              "</table>\n",
              "</div>"
            ],
            "text/plain": [
              "   Topic_Num  ...                                               Text\n",
              "0        0.0  ...  nan    NoBroker com is world s largest C2C rea...\n",
              "1        1.0  ...    A designer and marketer who looks for the in...\n",
              "2        2.0  ...    I am a highly accomplished Technical leader ...\n",
              "3        3.0  ...    A seasoned leader in Corporate Strategy and ...\n",
              "4        4.0  ...  nan    Aviation Services East Africa      The ...\n",
              "5        5.0  ...    Multi   dimensional exposure with acumen for...\n",
              "6        6.0  ...    Specialties  With about 25 years of experien...\n",
              "7        7.0  ...    Professionally and academically trained proj...\n",
              "\n",
              "[8 rows x 4 columns]"
            ]
          },
          "metadata": {
            "tags": []
          },
          "execution_count": 187
        }
      ]
    },
    {
      "cell_type": "markdown",
      "metadata": {
        "id": "2kp6MaviZkHh",
        "colab_type": "text"
      },
      "source": [
        "The tabular output above actually has 7 rows, one each for a topic. It has the topic number, the keywords, and the most representative document. The Perc_Contribution column is nothing but the percentage contribution of the topic in the given document"
      ]
    },
    {
      "cell_type": "markdown",
      "metadata": {
        "id": "LeRlGCLQbCQ6",
        "colab_type": "text"
      },
      "source": [
        "# **Topic distribution across documents**"
      ]
    },
    {
      "cell_type": "code",
      "metadata": {
        "id": "65-1Yd6MbPW4",
        "colab_type": "code",
        "colab": {
          "base_uri": "https://localhost:8080/",
          "height": 181
        },
        "outputId": "3eb54a88-fdff-44df-ffba-c89d1025b5d5"
      },
      "source": [
        "# Number of Documents for Each Topic\n",
        "topic_counts = df_topic_sents_keywords['Dominant_Topic'].value_counts()\n",
        "topic_counts"
      ],
      "execution_count": 189,
      "outputs": [
        {
          "output_type": "execute_result",
          "data": {
            "text/plain": [
              "2.0    133\n",
              "4.0     99\n",
              "6.0     83\n",
              "5.0     81\n",
              "7.0     78\n",
              "0.0     67\n",
              "3.0     67\n",
              "1.0     52\n",
              "Name: Dominant_Topic, dtype: int64"
            ]
          },
          "metadata": {
            "tags": []
          },
          "execution_count": 189
        }
      ]
    },
    {
      "cell_type": "code",
      "metadata": {
        "id": "BPuONIFJbpud",
        "colab_type": "code",
        "colab": {
          "base_uri": "https://localhost:8080/",
          "height": 288
        },
        "outputId": "8b2f3a11-b1b5-4402-fbda-30039857fb14"
      },
      "source": [
        "\n",
        "# Percentage of Documents for Each Topic\n",
        "topic_contribution = round(topic_counts/topic_counts.sum(), 4)\n",
        "\n",
        "# Topic Number and Keywords\n",
        "topic_num_keywords = sent_topics_sorteddf_mallet[['Topic_Num', 'Keywords']]\n",
        "\n",
        "# Concatenate Column wise\n",
        "df_dominant_topics = pd.concat([topic_num_keywords, topic_counts, topic_contribution], axis=1)\n",
        "\n",
        "# Change Column names\n",
        "df_dominant_topics.columns = ['Dominant_Topic', 'Topic_Keywords', 'Num_Documents', 'Perc_Documents']\n",
        "\n",
        "# Show\n",
        "df_dominant_topics"
      ],
      "execution_count": 209,
      "outputs": [
        {
          "output_type": "execute_result",
          "data": {
            "text/html": [
              "<div>\n",
              "<style scoped>\n",
              "    .dataframe tbody tr th:only-of-type {\n",
              "        vertical-align: middle;\n",
              "    }\n",
              "\n",
              "    .dataframe tbody tr th {\n",
              "        vertical-align: top;\n",
              "    }\n",
              "\n",
              "    .dataframe thead th {\n",
              "        text-align: right;\n",
              "    }\n",
              "</style>\n",
              "<table border=\"1\" class=\"dataframe\">\n",
              "  <thead>\n",
              "    <tr style=\"text-align: right;\">\n",
              "      <th></th>\n",
              "      <th>Dominant_Topic</th>\n",
              "      <th>Topic_Keywords</th>\n",
              "      <th>Num_Documents</th>\n",
              "      <th>Perc_Documents</th>\n",
              "    </tr>\n",
              "  </thead>\n",
              "  <tbody>\n",
              "    <tr>\n",
              "      <th>0.0</th>\n",
              "      <td>0.0</td>\n",
              "      <td>project, work, experience, design, development...</td>\n",
              "      <td>67</td>\n",
              "      <td>0.1015</td>\n",
              "    </tr>\n",
              "    <tr>\n",
              "      <th>1.0</th>\n",
              "      <td>1.0</td>\n",
              "      <td>client, management, process, end, professional...</td>\n",
              "      <td>52</td>\n",
              "      <td>0.0788</td>\n",
              "    </tr>\n",
              "    <tr>\n",
              "      <th>2.0</th>\n",
              "      <td>2.0</td>\n",
              "      <td>research, technology, student, work, design, e...</td>\n",
              "      <td>133</td>\n",
              "      <td>0.2015</td>\n",
              "    </tr>\n",
              "    <tr>\n",
              "      <th>3.0</th>\n",
              "      <td>3.0</td>\n",
              "      <td>business, lead, service, team, corporate, stra...</td>\n",
              "      <td>67</td>\n",
              "      <td>0.1015</td>\n",
              "    </tr>\n",
              "    <tr>\n",
              "      <th>4.0</th>\n",
              "      <td>4.0</td>\n",
              "      <td>datum, analytic, model, skill, science, experi...</td>\n",
              "      <td>99</td>\n",
              "      <td>0.1500</td>\n",
              "    </tr>\n",
              "    <tr>\n",
              "      <th>5.0</th>\n",
              "      <td>5.0</td>\n",
              "      <td>year, company, financial, experience, work, bu...</td>\n",
              "      <td>81</td>\n",
              "      <td>0.1227</td>\n",
              "    </tr>\n",
              "    <tr>\n",
              "      <th>6.0</th>\n",
              "      <td>6.0</td>\n",
              "      <td>management, business, marketing, product, sale...</td>\n",
              "      <td>83</td>\n",
              "      <td>0.1258</td>\n",
              "    </tr>\n",
              "    <tr>\n",
              "      <th>7.0</th>\n",
              "      <td>7.0</td>\n",
              "      <td>work, learn, base, include, government, world,...</td>\n",
              "      <td>78</td>\n",
              "      <td>0.1182</td>\n",
              "    </tr>\n",
              "  </tbody>\n",
              "</table>\n",
              "</div>"
            ],
            "text/plain": [
              "     Dominant_Topic  ... Perc_Documents\n",
              "0.0             0.0  ...         0.1015\n",
              "1.0             1.0  ...         0.0788\n",
              "2.0             2.0  ...         0.2015\n",
              "3.0             3.0  ...         0.1015\n",
              "4.0             4.0  ...         0.1500\n",
              "5.0             5.0  ...         0.1227\n",
              "6.0             6.0  ...         0.1258\n",
              "7.0             7.0  ...         0.1182\n",
              "\n",
              "[8 rows x 4 columns]"
            ]
          },
          "metadata": {
            "tags": []
          },
          "execution_count": 209
        }
      ]
    }
  ]
}